{
 "cells": [
  {
   "cell_type": "markdown",
   "metadata": {},
   "source": [
    "Extracting daily stock and ETF historical data from IEX. This program replaces get_data_iex.ipynb and pulls data for free from the IEX Cloud web site. Unlike the old API, this requires that the user have an account at IEX Cloud and has used the IEX Cloud dashboard to set a private and public key (token) using SSH technology. The public key must be provided in the query, as shown below.\n",
    "\n",
    "Note: You must have an account with IEX Cloud to use this, BUT, you do not need to be logged in to that account when downloading data.\n",
    "\n",
    "The data to be imported are in JSON format and can be imported into a pandas dataframe."
   ]
  },
  {
   "cell_type": "code",
   "execution_count": null,
   "metadata": {},
   "outputs": [],
   "source": [
    "import pandas as pd"
   ]
  },
  {
   "cell_type": "markdown",
   "metadata": {},
   "source": [
    "IEX Cloud uses a restful API which consists of 4 parts:\n",
    "\n",
    "1 - The base URL 'https://cloud.iexapis.com/\n",
    "2 - The word \"/stable/\" or \"/beta/\" (use stable for default)\n",
    "3 - The code for historical data, including symbol and duration, stock/aapl/chart/1y (or 2y,5y etc).\n",
    "4 - The question mark followed by your token, ?token=\"your public key\"'\n",
    "\n",
    "This approach reads the contents of a JSON file into a pandas dataframe using pd.read_json"
   ]
  },
  {
   "cell_type": "code",
   "execution_count": null,
   "metadata": {},
   "outputs": [],
   "source": [
    "sym = \"TSLA\"  # This is not case-sensitive\n",
    "token = \"pk_3fa705ecaf73464ca39b92ba1ce63f38\"\n",
    "df_temp = pd.read_json('https://cloud.iexapis.com/stable/stock/'+sym+'/chart/1y?token='+token+'')"
   ]
  },
  {
   "cell_type": "code",
   "execution_count": null,
   "metadata": {},
   "outputs": [],
   "source": [
    "df_temp.head(3)"
   ]
  }
 ],
 "metadata": {
  "kernelspec": {
   "display_name": "Python 3",
   "language": "python",
   "name": "python3"
  },
  "language_info": {
   "codemirror_mode": {
    "name": "ipython",
    "version": 3
   },
   "file_extension": ".py",
   "mimetype": "text/x-python",
   "name": "python",
   "nbconvert_exporter": "python",
   "pygments_lexer": "ipython3",
   "version": "3.8.3"
  }
 },
 "nbformat": 4,
 "nbformat_minor": 4
}
