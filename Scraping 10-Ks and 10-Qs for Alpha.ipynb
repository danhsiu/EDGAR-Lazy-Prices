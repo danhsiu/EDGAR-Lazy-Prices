{
 "cells": [
  {
   "cell_type": "markdown",
   "metadata": {},
   "source": [
    "# Scraping 10-Ks and 10-Qs for Alpha (Data Cleaning)"
   ]
  },
  {
   "cell_type": "markdown",
   "metadata": {},
   "source": [
    "## THESIS:\n",
    "Major text changes in 10-K and 10-Q filings over time indicate significant decreases in future returns. We find alpha in shorting the companies with the largest text changes in their filings and buying the companies with the smallest text changes in their filings."
   ]
  },
  {
   "cell_type": "markdown",
   "metadata": {},
   "source": [
    "### Introduction\n",
    "Publicly listed companies in the U.S. are required by law to file \"10-K\" and \"10-Q\" reports with the [Securities and Exchange Commission](https://www.sec.gov/) (SEC). These reports provide both qualitative and quantitative descriptions of the company's performance, from revenue numbers to qualitative risk factors.\n",
    "\n",
    "When companies file 10-Ks and 10-Qs, they are required to disclose certain pieces of information. For example, companies are required to report information about [\"significant pending lawsuits or other legal proceedings\"](https://www.sec.gov/fast-answers/answersreada10khtm.html). As such, 10-Ks and 10-Qs often hold valuable insights into a company's performance.\n",
    "\n",
    "These insights, however, can be difficult to access. The average 10-K was [42,000 words long](https://www.wsj.com/articles/the-109-894-word-annual-report-1433203762) in 2013; put in perspective, that's roughly one-fifth of the length of Moby-Dick. Beyond the sheer length, dense language and lots of boilerplate can further obfuscate true meaning for many investors.\n",
    "\n",
    "The good news? We might not need to read companies' 10-Ks and 10-Qs from cover-to-cover in order derive value from the information they contain. Specifically, Lauren Cohen, Christopher Malloy and Quoc Nguyen argue in their [recent paper](https://papers.ssrn.com/sol3/papers.cfm?abstract_id=1658471) that we can simply analyze textual changes in 10-Ks and 10-Qs to predict companies' future stock returns.\n",
    "\n",
    "In this investigation, we attempt to replicate their results on Quantopian.\n",
    "\n",
    "(For an overview of this paper from Lauren Cohen himself, see [the Lazy Prices interview](https://www.youtube.com/watch?v=g96gROyc3wE) from QuantCon 2018.)"
   ]
  },
  {
   "cell_type": "markdown",
   "metadata": {},
   "source": [
    "### Hypothesis\n",
    "Companies make major textual changes to their 10-Ks and 10-Qs when major things happen to their business. Thus, we expect that textual changes to 10-Ks and 10-Qs are a signal of future stock price movement.\n",
    "\n",
    "Since the vast majority (86%) of textual changes have negative sentiment, we generally expect that major textual changes signal a decrease in stock price (Cohen et al. 2018).\n",
    "\n",
    "Thus, we expect to find alpha by shorting companies with large textual changes in their 10-Ks and 10-Qs."
   ]
  },
  {
   "cell_type": "markdown",
   "metadata": {},
   "source": [
    "### Methodology\n",
    "1. Scrape every publicly traded company's 10-Ks and 10-Qs from the [SEC EDGAR database](https://www.sec.gov/edgar/searchedgar/companysearch.html). Remove extraneous content from the 10-Ks and 10-Qs (numerical tables, HTML tags, XBRL tags, etc).\n",
    "2. For each company, compute [cosine similarity](http://scikit-learn.org/stable/modules/metrics.html#cosine-similarity) and [Jaccard similarity](http://scikit-learn.org/stable/modules/model_evaluation.html#jaccard-similarity-score) scores over the sequence of its 10-Ks and 10-Qs. Each 10-K is compared to the previous year's 10-K; each 10-Q is compared to the 10-Q from the same quarter of the previous year.\n",
    "3. Compile these scores into one dataset.\n",
    "4. Upload the data to Quantopian using [Self-Serve Data](https://www.quantopian.com/posts/upload-your-custom-datasets-and-signals-with-self-serve-data), then use [Alphalens](http://quantopian.github.io/alphalens/) to analyze the performance of 10-K and 10-Q text changes as an alpha factor.\n",
    "\n",
    "This notebook covers steps 1-3. For step 4, see the [Alphalens study](https://www.quantopian.com/posts/analyzing-alpha-in-10-ks-and-10-qs) notebook."
   ]
  },
  {
   "cell_type": "markdown",
   "metadata": {},
   "source": [
    "## 0. Running This Notebook"
   ]
  },
  {
   "cell_type": "markdown",
   "metadata": {},
   "source": [
    "This notebook is intended to be run locally (on your own computer), *not* within the Quantopian Research environment. We run it locally in order to generate the .csv file for upload into the Self-Serve Data feature.\n",
    "\n",
    "In order to run this notebook, you will need to have Python 3 and the following packages installed:  \n",
    "\n",
    "- **jupyter notebook**\n",
    "- **pandas** (version 0.23.0)\n",
    "- **numpy**\n",
    "- **requests**\n",
    "- **scikit-learn**\n",
    "- **BeautifulSoup**\n",
    "- **lxml**\n",
    "- **tqdm**\n",
    "\n",
    "All of these packages can be installed using conda or pip. For detailed installation instructions, see the installation documentation for each package ([jupyter](http://jupyter.org/install), [pandas](https://pandas.pydata.org/pandas-docs/stable/install.html), [numpy](https://scipy.org/install.html), [Requests](http://docs.python-requests.org/en/master/user/install/#install), [scikit-learn](http://scikit-learn.org/stable/install.html), [BeautifulSoup](https://www.crummy.com/software/BeautifulSoup/bs4/doc/#installing-beautiful-soup), [lxml](https://lxml.de/installation.html), [tqdm](https://pypi.org/project/tqdm/#installation)).\n",
    "\n",
    "To run this notebook:\n",
    "\n",
    "1. Clone it into your own Quantopian account and open it in your research environment.\n",
    "2. Download it as a .ipynb file (Notebook > Download as > Notebook (.ipynb))\n",
    "3. Move the .ipynb notebook file to the desired directory on your local machine.\n",
    "4. Open a command line window.\n",
    "5. Use `cd` in the command line to navigate to the directory containing the notebook file.\n",
    "6. Run `jupyter notebook` in the command line to start a jupyter notebook session.\n",
    "7. A window should open in your default web browser displaying the contents of your current directory. Click the name of the .ipynb notebook file to open it.\n",
    "8. Run the cells just as you would in the Quantopian Research environment."
   ]
  },
  {
   "cell_type": "code",
   "execution_count": 9,
   "metadata": {},
   "outputs": [
    {
     "name": "stdout",
     "output_type": "stream",
     "text": [
      "Requirement already satisfied: pandas in /Users/daniel/opt/anaconda3/envs/ipykernel_py2/lib/python3.8/site-packages (1.0.5)\n",
      "Requirement already satisfied: numpy>=1.13.3 in /Users/daniel/opt/anaconda3/envs/ipykernel_py2/lib/python3.8/site-packages (from pandas) (1.18.5)\n",
      "Requirement already satisfied: python-dateutil>=2.6.1 in /Users/daniel/opt/anaconda3/envs/ipykernel_py2/lib/python3.8/site-packages (from pandas) (2.8.1)\n",
      "Requirement already satisfied: pytz>=2017.2 in /Users/daniel/opt/anaconda3/envs/ipykernel_py2/lib/python3.8/site-packages (from pandas) (2020.1)\n",
      "Requirement already satisfied: six>=1.5 in /Users/daniel/opt/anaconda3/envs/ipykernel_py2/lib/python3.8/site-packages (from python-dateutil>=2.6.1->pandas) (1.15.0)\n",
      "Requirement already satisfied: requests in /Users/daniel/opt/anaconda3/envs/ipykernel_py2/lib/python3.8/site-packages (2.24.0)\n",
      "Requirement already satisfied: chardet<4,>=3.0.2 in /Users/daniel/opt/anaconda3/envs/ipykernel_py2/lib/python3.8/site-packages (from requests) (3.0.4)\n",
      "Requirement already satisfied: certifi>=2017.4.17 in /Users/daniel/opt/anaconda3/envs/ipykernel_py2/lib/python3.8/site-packages (from requests) (2020.4.5.2)\n",
      "Requirement already satisfied: idna<3,>=2.5 in /Users/daniel/opt/anaconda3/envs/ipykernel_py2/lib/python3.8/site-packages (from requests) (2.9)\n",
      "Requirement already satisfied: urllib3!=1.25.0,!=1.25.1,<1.26,>=1.21.1 in /Users/daniel/opt/anaconda3/envs/ipykernel_py2/lib/python3.8/site-packages (from requests) (1.25.9)\n",
      "Requirement already up-to-date: scikit-learn in /Users/daniel/opt/anaconda3/envs/ipykernel_py2/lib/python3.8/site-packages (0.23.1)\n",
      "Requirement already satisfied, skipping upgrade: numpy>=1.13.3 in /Users/daniel/opt/anaconda3/envs/ipykernel_py2/lib/python3.8/site-packages (from scikit-learn) (1.18.5)\n",
      "Requirement already satisfied, skipping upgrade: joblib>=0.11 in /Users/daniel/opt/anaconda3/envs/ipykernel_py2/lib/python3.8/site-packages (from scikit-learn) (0.15.1)\n",
      "Requirement already satisfied, skipping upgrade: threadpoolctl>=2.0.0 in /Users/daniel/opt/anaconda3/envs/ipykernel_py2/lib/python3.8/site-packages (from scikit-learn) (2.1.0)\n",
      "Requirement already satisfied, skipping upgrade: scipy>=0.19.1 in /Users/daniel/opt/anaconda3/envs/ipykernel_py2/lib/python3.8/site-packages (from scikit-learn) (1.4.1)\n"
     ]
    }
   ],
   "source": [
    "import sys\n",
    "!{sys.executable} -m pip install pandas\n",
    "!{sys.executable} -m pip install requests\n",
    "!{sys.executable} -m pip install -U scikit-learn"
   ]
  },
  {
   "cell_type": "code",
   "execution_count": 1,
   "metadata": {
    "pycharm": {
     "is_executing": false
    }
   },
   "outputs": [],
   "source": [
    "# Importing built-in libraries (no need to install these)\n",
    "import re\n",
    "import os\n",
    "from time import gmtime, strftime\n",
    "from datetime import datetime, timedelta\n",
    "import unicodedata\n",
    "\n",
    "# Importing libraries you need to install\n",
    "import pandas as pd\n",
    "import numpy as np\n",
    "from sklearn.metrics.pairwise import cosine_similarity\n",
    "import requests\n",
    "import bs4 as bs\n",
    "from lxml import html\n",
    "from tqdm import tqdm"
   ]
  },
  {
   "cell_type": "markdown",
   "metadata": {},
   "source": [
    "## 1. Data Scraping"
   ]
  },
  {
   "cell_type": "markdown",
   "metadata": {},
   "source": [
    "We need to know what we want to scrape, so we'll begin by compiling a complete* list of U.S. stock tickers.\n",
    "\n",
    "*for our purposes, \"complete\" = everything traded on NASDAQ, NYSE, or AMEX."
   ]
  },
  {
   "cell_type": "code",
   "execution_count": 3,
   "metadata": {
    "pycharm": {
     "is_executing": false
    }
   },
   "outputs": [],
   "source": [
    "# Get lists of tickers from NASDAQ, NYSE, AMEX\n",
    "nasdaq_tickers = pd.read_csv('https://old.nasdaq.com/screening/companies-by-name.aspx?letter=0&exchange=nasdaq&render=download')\n",
    "nyse_tickers = pd.read_csv('https://old.nasdaq.com/screening/companies-by-name.aspx?letter=0&exchange=nyse&render=download')\n",
    "amex_tickers = pd.read_csv('https://old.nasdaq.com/screening/companies-by-name.aspx?letter=0&exchange=amex&render=download')\n",
    "\n",
    "# Drop irrelevant cols\n",
    "nasdaq_tickers.drop(labels='Unnamed: 8', axis='columns', inplace=True)\n",
    "nyse_tickers.drop(labels='Unnamed: 8', axis='columns', inplace=True)\n",
    "amex_tickers.drop(labels='Unnamed: 8', axis='columns', inplace=True)\n",
    "\n",
    "# Create full list of tickers/names across all 3 exchanges\n",
    "tickers = list(set(list(nasdaq_tickers['Symbol']) + list(nyse_tickers['Symbol']) + list(amex_tickers['Symbol'])))"
   ]
  },
  {
   "cell_type": "code",
   "execution_count": 4,
   "metadata": {},
   "outputs": [
    {
     "data": {
      "text/html": [
       "<div>\n",
       "<style scoped>\n",
       "    .dataframe tbody tr th:only-of-type {\n",
       "        vertical-align: middle;\n",
       "    }\n",
       "\n",
       "    .dataframe tbody tr th {\n",
       "        vertical-align: top;\n",
       "    }\n",
       "\n",
       "    .dataframe thead th {\n",
       "        text-align: right;\n",
       "    }\n",
       "</style>\n",
       "<table border=\"1\" class=\"dataframe\">\n",
       "  <thead>\n",
       "    <tr style=\"text-align: right;\">\n",
       "      <th></th>\n",
       "      <th>Symbol</th>\n",
       "      <th>Name</th>\n",
       "      <th>LastSale</th>\n",
       "      <th>MarketCap</th>\n",
       "      <th>IPOyear</th>\n",
       "      <th>Sector</th>\n",
       "      <th>industry</th>\n",
       "      <th>Summary Quote</th>\n",
       "    </tr>\n",
       "  </thead>\n",
       "  <tbody>\n",
       "    <tr>\n",
       "      <th>0</th>\n",
       "      <td>TXG</td>\n",
       "      <td>10x Genomics, Inc.</td>\n",
       "      <td>88.14</td>\n",
       "      <td>$8.67B</td>\n",
       "      <td>2019.0</td>\n",
       "      <td>Capital Goods</td>\n",
       "      <td>Biotechnology: Laboratory Analytical Instruments</td>\n",
       "      <td>https://old.nasdaq.com/symbol/txg</td>\n",
       "    </tr>\n",
       "    <tr>\n",
       "      <th>1</th>\n",
       "      <td>YI</td>\n",
       "      <td>111, Inc.</td>\n",
       "      <td>6.86</td>\n",
       "      <td>$564.99M</td>\n",
       "      <td>2018.0</td>\n",
       "      <td>Health Care</td>\n",
       "      <td>Medical/Nursing Services</td>\n",
       "      <td>https://old.nasdaq.com/symbol/yi</td>\n",
       "    </tr>\n",
       "    <tr>\n",
       "      <th>2</th>\n",
       "      <td>PIH</td>\n",
       "      <td>1347 Property Insurance Holdings, Inc.</td>\n",
       "      <td>4.53</td>\n",
       "      <td>$27.49M</td>\n",
       "      <td>2014.0</td>\n",
       "      <td>Finance</td>\n",
       "      <td>Property-Casualty Insurers</td>\n",
       "      <td>https://old.nasdaq.com/symbol/pih</td>\n",
       "    </tr>\n",
       "    <tr>\n",
       "      <th>3</th>\n",
       "      <td>PIHPP</td>\n",
       "      <td>1347 Property Insurance Holdings, Inc.</td>\n",
       "      <td>25.30</td>\n",
       "      <td>NaN</td>\n",
       "      <td>NaN</td>\n",
       "      <td>Finance</td>\n",
       "      <td>Property-Casualty Insurers</td>\n",
       "      <td>https://old.nasdaq.com/symbol/pihpp</td>\n",
       "    </tr>\n",
       "    <tr>\n",
       "      <th>4</th>\n",
       "      <td>TURN</td>\n",
       "      <td>180 Degree Capital Corp.</td>\n",
       "      <td>1.86</td>\n",
       "      <td>$57.89M</td>\n",
       "      <td>NaN</td>\n",
       "      <td>Finance</td>\n",
       "      <td>Finance/Investors Services</td>\n",
       "      <td>https://old.nasdaq.com/symbol/turn</td>\n",
       "    </tr>\n",
       "    <tr>\n",
       "      <th>...</th>\n",
       "      <td>...</td>\n",
       "      <td>...</td>\n",
       "      <td>...</td>\n",
       "      <td>...</td>\n",
       "      <td>...</td>\n",
       "      <td>...</td>\n",
       "      <td>...</td>\n",
       "      <td>...</td>\n",
       "    </tr>\n",
       "    <tr>\n",
       "      <th>3622</th>\n",
       "      <td>ZS</td>\n",
       "      <td>Zscaler, Inc.</td>\n",
       "      <td>108.57</td>\n",
       "      <td>$14.17B</td>\n",
       "      <td>2018.0</td>\n",
       "      <td>Technology</td>\n",
       "      <td>EDP Services</td>\n",
       "      <td>https://old.nasdaq.com/symbol/zs</td>\n",
       "    </tr>\n",
       "    <tr>\n",
       "      <th>3623</th>\n",
       "      <td>ZUMZ</td>\n",
       "      <td>Zumiez Inc.</td>\n",
       "      <td>26.74</td>\n",
       "      <td>$680.02M</td>\n",
       "      <td>2005.0</td>\n",
       "      <td>Consumer Services</td>\n",
       "      <td>Clothing/Shoe/Accessory Stores</td>\n",
       "      <td>https://old.nasdaq.com/symbol/zumz</td>\n",
       "    </tr>\n",
       "    <tr>\n",
       "      <th>3624</th>\n",
       "      <td>ZYNE</td>\n",
       "      <td>Zynerba Pharmaceuticals, Inc.</td>\n",
       "      <td>6.04</td>\n",
       "      <td>$150.7M</td>\n",
       "      <td>2015.0</td>\n",
       "      <td>Health Care</td>\n",
       "      <td>Major Pharmaceuticals</td>\n",
       "      <td>https://old.nasdaq.com/symbol/zyne</td>\n",
       "    </tr>\n",
       "    <tr>\n",
       "      <th>3625</th>\n",
       "      <td>ZYXI</td>\n",
       "      <td>Zynex, Inc.</td>\n",
       "      <td>24.06</td>\n",
       "      <td>$798.61M</td>\n",
       "      <td>NaN</td>\n",
       "      <td>Health Care</td>\n",
       "      <td>Biotechnology: Electromedical &amp; Electrotherape...</td>\n",
       "      <td>https://old.nasdaq.com/symbol/zyxi</td>\n",
       "    </tr>\n",
       "    <tr>\n",
       "      <th>3626</th>\n",
       "      <td>ZNGA</td>\n",
       "      <td>Zynga Inc.</td>\n",
       "      <td>9.29</td>\n",
       "      <td>$8.89B</td>\n",
       "      <td>2011.0</td>\n",
       "      <td>Technology</td>\n",
       "      <td>EDP Services</td>\n",
       "      <td>https://old.nasdaq.com/symbol/znga</td>\n",
       "    </tr>\n",
       "  </tbody>\n",
       "</table>\n",
       "<p>3627 rows × 8 columns</p>\n",
       "</div>"
      ],
      "text/plain": [
       "     Symbol                                    Name  LastSale MarketCap  \\\n",
       "0       TXG                      10x Genomics, Inc.     88.14    $8.67B   \n",
       "1        YI                               111, Inc.      6.86  $564.99M   \n",
       "2       PIH  1347 Property Insurance Holdings, Inc.      4.53   $27.49M   \n",
       "3     PIHPP  1347 Property Insurance Holdings, Inc.     25.30       NaN   \n",
       "4      TURN                180 Degree Capital Corp.      1.86   $57.89M   \n",
       "...     ...                                     ...       ...       ...   \n",
       "3622     ZS                           Zscaler, Inc.    108.57   $14.17B   \n",
       "3623   ZUMZ                             Zumiez Inc.     26.74  $680.02M   \n",
       "3624   ZYNE           Zynerba Pharmaceuticals, Inc.      6.04   $150.7M   \n",
       "3625   ZYXI                             Zynex, Inc.     24.06  $798.61M   \n",
       "3626   ZNGA                              Zynga Inc.      9.29    $8.89B   \n",
       "\n",
       "      IPOyear             Sector  \\\n",
       "0      2019.0      Capital Goods   \n",
       "1      2018.0        Health Care   \n",
       "2      2014.0            Finance   \n",
       "3         NaN            Finance   \n",
       "4         NaN            Finance   \n",
       "...       ...                ...   \n",
       "3622   2018.0         Technology   \n",
       "3623   2005.0  Consumer Services   \n",
       "3624   2015.0        Health Care   \n",
       "3625      NaN        Health Care   \n",
       "3626   2011.0         Technology   \n",
       "\n",
       "                                               industry  \\\n",
       "0      Biotechnology: Laboratory Analytical Instruments   \n",
       "1                              Medical/Nursing Services   \n",
       "2                            Property-Casualty Insurers   \n",
       "3                            Property-Casualty Insurers   \n",
       "4                            Finance/Investors Services   \n",
       "...                                                 ...   \n",
       "3622                                       EDP Services   \n",
       "3623                     Clothing/Shoe/Accessory Stores   \n",
       "3624                              Major Pharmaceuticals   \n",
       "3625  Biotechnology: Electromedical & Electrotherape...   \n",
       "3626                                       EDP Services   \n",
       "\n",
       "                            Summary Quote  \n",
       "0       https://old.nasdaq.com/symbol/txg  \n",
       "1        https://old.nasdaq.com/symbol/yi  \n",
       "2       https://old.nasdaq.com/symbol/pih  \n",
       "3     https://old.nasdaq.com/symbol/pihpp  \n",
       "4      https://old.nasdaq.com/symbol/turn  \n",
       "...                                   ...  \n",
       "3622     https://old.nasdaq.com/symbol/zs  \n",
       "3623   https://old.nasdaq.com/symbol/zumz  \n",
       "3624   https://old.nasdaq.com/symbol/zyne  \n",
       "3625   https://old.nasdaq.com/symbol/zyxi  \n",
       "3626   https://old.nasdaq.com/symbol/znga  \n",
       "\n",
       "[3627 rows x 8 columns]"
      ]
     },
     "execution_count": 4,
     "metadata": {},
     "output_type": "execute_result"
    }
   ],
   "source": [
    "nasdaq_tickers\n"
   ]
  },
  {
   "cell_type": "markdown",
   "metadata": {},
   "source": [
    "Unfortunately, the SEC indexes company filings by its own internal identifier, the \"Central Index Key\" (CIK). We'll need to translate tickers into CIKs in order to search for company filings on EDGAR.\n",
    "\n",
    "(The code below is an edited version of [this gist](https://gist.github.com/dougvk/8499335).)"
   ]
  },
  {
   "cell_type": "code",
   "execution_count": 5,
   "metadata": {
    "pycharm": {
     "is_executing": false
    }
   },
   "outputs": [],
   "source": [
    "# simplify this code to just use the ticker/cik pairings from the sec: https://www.sec.gov/include/ticker.txt\n",
    "\n",
    "def MapTickerToCik(tickers):\n",
    "    url = 'http://www.sec.gov/cgi-bin/browse-edgar?CIK={}&Find=Search&owner=exclude&action=getcompany'\n",
    "    cik_re = re.compile(r'.*CIK=(\\d{10}).*')\n",
    "\n",
    "    cik_dict = {}\n",
    "    for ticker in tqdm(tickers): # Use tqdm lib for progress bar\n",
    "        results = cik_re.findall(requests.get(url.format(ticker)).text)\n",
    "        if len(results):\n",
    "            cik_dict[str(ticker).lower()] = str(results[0])\n",
    "    \n",
    "    return cik_dict"
   ]
  },
  {
   "cell_type": "code",
   "execution_count": 6,
   "metadata": {
    "pycharm": {
     "is_executing": false
    },
    "scrolled": true
   },
   "outputs": [
    {
     "name": "stderr",
     "output_type": "stream",
     "text": [
      "100%|██████████| 7009/7009 [24:16<00:00,  4.81it/s]\n"
     ]
    }
   ],
   "source": [
    "cik_dict = MapTickerToCik(tickers)"
   ]
  },
  {
   "cell_type": "code",
   "execution_count": 11,
   "metadata": {},
   "outputs": [],
   "source": [
    "cik_dict"
   ]
  },
  {
   "cell_type": "code",
   "execution_count": 12,
   "metadata": {
    "pycharm": {
     "is_executing": false
    }
   },
   "outputs": [],
   "source": [
    "# Clean up the ticker-CIK mapping as a DataFrame\n",
    "ticker_cik_df = pd.DataFrame.from_dict(data=cik_dict, orient='index')\n",
    "ticker_cik_df.reset_index(inplace=True)\n",
    "ticker_cik_df.columns = ['ticker', 'cik']\n",
    "ticker_cik_df['cik'] = [str(cik) for cik in ticker_cik_df['cik']]"
   ]
  },
  {
   "cell_type": "markdown",
   "metadata": {},
   "source": [
    "Our ultimate goal is to link each ticker to a unique CIK.\n",
    "\n",
    "However, some CIKs might be linked to multiple tickers. For example, different [share classes](https://www.investopedia.com/terms/s/share_class.asp) within the same company would all be linked to the same CIK. Let's get rid of these duplicate mappings."
   ]
  },
  {
   "cell_type": "code",
   "execution_count": 13,
   "metadata": {
    "pycharm": {
     "is_executing": false
    }
   },
   "outputs": [
    {
     "name": "stdout",
     "output_type": "stream",
     "text": [
      "Number of ticker-cik pairings: 5205\n",
      "Number of unique tickers: 5205\n",
      "Number of unique CIKs: 4854\n"
     ]
    }
   ],
   "source": [
    "# Check for duplicated tickers/CIKs\n",
    "print(\"Number of ticker-cik pairings:\", len(ticker_cik_df))\n",
    "print(\"Number of unique tickers:\", len(set(ticker_cik_df['ticker'])))\n",
    "print(\"Number of unique CIKs:\", len(set(ticker_cik_df['cik'])))"
   ]
  },
  {
   "cell_type": "markdown",
   "metadata": {},
   "source": [
    "It looks like about 200 (4.5%) CIKs are linked to multiple tickers. To eliminate the duplicate mappings, we'll simply keep the ticker that comes first in the alphabet. In most cases, this means we'll keep the class A shares of the stock. \n",
    "\n",
    "It's certainly possible to eliminate duplicates using other methods; for the sake of simplicity, we'll stick with alphabetizing for now. As long as we apply it uniformly across all stocks, it shouldn't introduce any bias."
   ]
  },
  {
   "cell_type": "code",
   "execution_count": 14,
   "metadata": {
    "pycharm": {
     "is_executing": false
    }
   },
   "outputs": [],
   "source": [
    "# Keep first ticker alphabetically for duplicated CIKs\n",
    "ticker_cik_df = ticker_cik_df.sort_values(by='ticker')\n",
    "ticker_cik_df.drop_duplicates(subset='cik', keep='first', inplace=True)"
   ]
  },
  {
   "cell_type": "code",
   "execution_count": null,
   "metadata": {},
   "outputs": [],
   "source": [
    "ticker_cik_df"
   ]
  },
  {
   "cell_type": "code",
   "execution_count": 15,
   "metadata": {
    "pycharm": {
     "is_executing": false
    },
    "scrolled": true
   },
   "outputs": [
    {
     "name": "stdout",
     "output_type": "stream",
     "text": [
      "Number of ticker-cik pairings: 4854\n",
      "Number of unique tickers: 4854\n",
      "Number of unique CIKs: 4854\n"
     ]
    }
   ],
   "source": [
    "# Check that we've eliminated duplicate tickers/CIKs\n",
    "print(\"Number of ticker-cik pairings:\", len(ticker_cik_df))\n",
    "print(\"Number of unique tickers:\", len(set(ticker_cik_df['ticker'])))\n",
    "print(\"Number of unique CIKs:\", len(set(ticker_cik_df['cik'])))"
   ]
  },
  {
   "cell_type": "markdown",
   "metadata": {},
   "source": [
    "At this point, we have a list of the CIKs for which we want to obtain 10-Ks and 10-Qs. We can now begin scraping from EDGAR.\n",
    "\n",
    "As with many web scraping projects, we'll need to keep some technical considerations in mind:\n",
    "\n",
    "- We're scraping a lot of data, so it's unlikely that we'll be able to do it all in one session without something breaking (most likely scenario: the WiFI disconnects briefly or your laptop goes to sleep). As such, we should make sure that our scraper can easily pick up where it left off without having to re-scrape anything.\n",
    "- We also probably want to log warnings/errors and save that log, just in case we need to reference it later.\n",
    "- The SEC limits users to [10 requests per second](https://www.sec.gov/developer), so we need to make sure we're not making requests too quickly."
   ]
  },
  {
   "cell_type": "code",
   "execution_count": 17,
   "metadata": {
    "pycharm": {
     "is_executing": false
    }
   },
   "outputs": [],
   "source": [
    "def WriteLogFile(log_file_name, text):\n",
    "    \n",
    "    '''\n",
    "    Helper function.\n",
    "    Writes a log file with all notes and\n",
    "    error messages from a scraping \"session\".\n",
    "    \n",
    "    Parameters\n",
    "    ----------\n",
    "    log_file_name : str\n",
    "        Name of the log file (should be a .txt file).\n",
    "    text : str\n",
    "        Text to write to the log file.\n",
    "        \n",
    "    Returns\n",
    "    -------\n",
    "    None.\n",
    "    \n",
    "    '''\n",
    "    \n",
    "    with open(log_file_name, \"a\") as log_file:\n",
    "        log_file.write(text)\n",
    "\n",
    "    return"
   ]
  },
  {
   "cell_type": "markdown",
   "metadata": {},
   "source": [
    "The function below scrapes all 10-Ks and 10-K405s one particular CIK. Our web scraper primarily depends on the [`requests`](http://docs.python-requests.org/en/master/) and [`BeautifulSoup`](https://www.crummy.com/software/BeautifulSoup/bs4/doc/) libraries.\n",
    "\n",
    "Note that the scraper creates a different directory for each CIK, and puts all the filings for that CIK within that directory. After scraping, your file structure should look like this:\n",
    "\n",
    "\n",
    "```\n",
    "- 10Ks\n",
    "    - CIK1\n",
    "        - 10K #1\n",
    "        - 10K #2\n",
    "        ...\n",
    "    - CIK2\n",
    "        - 10K #1\n",
    "        - 10K #2\n",
    "        ...\n",
    "    - CIK3\n",
    "        - 10K #1\n",
    "        - 10K #2\n",
    "        ...\n",
    "    ...\n",
    "- 10Qs\n",
    "    - CIK1\n",
    "        - 10Q #1\n",
    "        - 10Q #2\n",
    "        ...\n",
    "    - CIK2\n",
    "        - 10Q #1\n",
    "        - 10Q #2\n",
    "        ...\n",
    "    - CIK3\n",
    "        - 10Q #1\n",
    "        - 10Q #2\n",
    "        ...\n",
    "    ...\n",
    "```\n",
    "\n",
    "The scraper will create the directory for each CIK. However, we need to create different directories to hold our 10-K and 10-Q files. The exact pathname depends on your local setup, so you'll need to fill in the correct `pathname_10k` and `pathname_10q` for your machine."
   ]
  },
  {
   "cell_type": "code",
   "execution_count": 18,
   "metadata": {
    "pycharm": {
     "is_executing": false
    }
   },
   "outputs": [],
   "source": [
    "pathname_10k = '/Volumes/xpg/scrapingEarnings/10-Ks'\n",
    "pathname_10q = '/Volumes/xpg/scrapingEarnings/10-Qs'"
   ]
  },
  {
   "cell_type": "code",
   "execution_count": 19,
   "metadata": {
    "pycharm": {
     "is_executing": false
    }
   },
   "outputs": [],
   "source": [
    "def Scrape10K(browse_url_base, filing_url_base, doc_url_base, cik, log_file_name):\n",
    "    \n",
    "    '''\n",
    "    Scrapes all 10-Ks and 10-K405s for a particular \n",
    "    CIK from EDGAR.\n",
    "    \n",
    "    Parameters\n",
    "    ----------\n",
    "    browse_url_base : str\n",
    "        Base URL for browsing EDGAR.\n",
    "    filing_url_base : str\n",
    "        Base URL for filings listings on EDGAR.\n",
    "    doc_url_base : str\n",
    "        Base URL for one filing's document tables\n",
    "        page on EDGAR.\n",
    "    cik : str\n",
    "        Central Index Key.\n",
    "    log_file_name : str\n",
    "        Name of the log file (should be a .txt file).\n",
    "        \n",
    "    Returns\n",
    "    -------\n",
    "    None.\n",
    "    \n",
    "    '''\n",
    "    \n",
    "    # Check if we've already scraped this CIK\n",
    "    try:\n",
    "        os.mkdir(cik)\n",
    "    except OSError:\n",
    "        print(\"Already scraped CIK\", cik)\n",
    "        return\n",
    "    \n",
    "    # If we haven't, go into the directory for that CIK\n",
    "    os.chdir(cik)\n",
    "    \n",
    "    print('Scraping CIK', cik)\n",
    "    \n",
    "    # Request list of 10-K filings\n",
    "    res = requests.get(browse_url_base % cik)\n",
    "    \n",
    "    # If the request failed, log the failure and exit\n",
    "    if res.status_code != 200:\n",
    "        os.chdir('..')\n",
    "        os.rmdir(cik) # remove empty dir\n",
    "        text = \"Request failed with error code \" + str(res.status_code) + \\\n",
    "               \"\\nFailed URL: \" + (browse_url_base % cik) + '\\n'\n",
    "        WriteLogFile(log_file_name, text)\n",
    "        return\n",
    "\n",
    "    # If the request doesn't fail, continue...\n",
    "    \n",
    "    # Parse the response HTML using BeautifulSoup\n",
    "    soup = bs.BeautifulSoup(res.text, \"lxml\")\n",
    "\n",
    "    # Extract all tables from the response\n",
    "    html_tables = soup.find_all('table')\n",
    "    \n",
    "    # Check that the table we're looking for exists\n",
    "    # If it doesn't, exit\n",
    "    if len(html_tables)<3:\n",
    "        os.chdir('..')\n",
    "        return\n",
    "    \n",
    "    # Parse the Filings table\n",
    "    filings_table = pd.read_html(str(html_tables[2]), header=0)[0]\n",
    "    filings_table['Filings'] = [str(x) for x in filings_table['Filings']]\n",
    "\n",
    "    # Get only 10-K and 10-K405 document filings\n",
    "    filings_table = filings_table[(filings_table['Filings'] == '10-K') | (filings_table['Filings'] == '10-K405')]\n",
    "\n",
    "    # If filings table doesn't have any\n",
    "    # 10-Ks or 10-K405s, exit\n",
    "    if len(filings_table)==0:\n",
    "        os.chdir('..')\n",
    "        return\n",
    "    \n",
    "    # Get accession number for each 10-K and 10-K405 filing\n",
    "    filings_table['Acc_No'] = [x.replace('\\xa0',' ')\n",
    "                               .split('Acc-no: ')[1]\n",
    "                               .split(' ')[0] for x in filings_table['Description']]\n",
    "\n",
    "    # Iterate through each filing and \n",
    "    # scrape the corresponding document...\n",
    "    for index, row in filings_table.iterrows():\n",
    "        \n",
    "        # Get the accession number for the filing\n",
    "        acc_no = str(row['Acc_No'])\n",
    "        \n",
    "        # Navigate to the page for the filing\n",
    "        docs_page = requests.get(filing_url_base % (cik, acc_no))\n",
    "        \n",
    "        # If request fails, log the failure\n",
    "        # and skip to the next filing\n",
    "        if docs_page.status_code != 200:\n",
    "            os.chdir('..')\n",
    "            text = \"Request failed with error code \" + str(docs_page.status_code) + \\\n",
    "                   \"\\nFailed URL: \" + (filing_url_base % (cik, acc_no)) + '\\n'\n",
    "            WriteLogFile(log_file_name, text)\n",
    "            os.chdir(cik)\n",
    "            continue\n",
    "\n",
    "        # If request succeeds, keep going...\n",
    "        \n",
    "        # Parse the table of documents for the filing\n",
    "        docs_page_soup = bs.BeautifulSoup(docs_page.text, 'lxml')\n",
    "        docs_html_tables = docs_page_soup.find_all('table')\n",
    "        if len(docs_html_tables)==0:\n",
    "            continue\n",
    "        docs_table = pd.read_html(str(docs_html_tables[0]), header=0)[0]\n",
    "        docs_table['Type'] = [str(x) for x in docs_table['Type']]\n",
    "        \n",
    "        # Get the 10-K and 10-K405 entries for the filing\n",
    "        docs_table = docs_table[(docs_table['Type'] == '10-K') | (docs_table['Type'] == '10-K405')]\n",
    "        \n",
    "        # If there aren't any 10-K or 10-K405 entries,\n",
    "        # skip to the next filing\n",
    "        if len(docs_table)==0:\n",
    "            continue\n",
    "        # If there are 10-K or 10-K405 entries,\n",
    "        # grab the first document\n",
    "        elif len(docs_table)>0:\n",
    "            docs_table = docs_table.iloc[0]\n",
    "        \n",
    "        docname = docs_table['Document']\n",
    "        \n",
    "        # If that first entry is unavailable,\n",
    "        # log the failure and exit\n",
    "        if str(docname) == 'nan':\n",
    "            os.chdir('..')\n",
    "            text = 'File with CIK: %s and Acc_No: %s is unavailable' % (cik, acc_no) + '\\n'\n",
    "            WriteLogFile(log_file_name, text)\n",
    "            os.chdir(cik)\n",
    "            continue       \n",
    "        \n",
    "        # If it is available, continue...\n",
    "        \n",
    "        # Request the file\n",
    "        file = requests.get(doc_url_base % (cik, acc_no.replace('-', ''), docname))\n",
    "        \n",
    "        # If the request fails, log the failure and exit\n",
    "        if file.status_code != 200:\n",
    "            os.chdir('..')\n",
    "            text = \"Request failed with error code \" + str(file.status_code) + \\\n",
    "                   \"\\nFailed URL: \" + (doc_url_base % (cik, acc_no.replace('-', ''), docname)) + '\\n'\n",
    "            WriteLogFile(log_file_name, text)\n",
    "            os.chdir(cik)\n",
    "            continue\n",
    "        \n",
    "        # If it succeeds, keep going...\n",
    "        \n",
    "        # Save the file in appropriate format\n",
    "        if '.txt' in docname:\n",
    "            # Save text as TXT\n",
    "            date = str(row['Filing Date'])\n",
    "            filename = cik + '_' + date + '.txt'\n",
    "            html_file = open(filename, 'a')\n",
    "            html_file.write(file.text)\n",
    "            html_file.close()\n",
    "        else:\n",
    "            # Save text as HTML\n",
    "            date = str(row['Filing Date'])\n",
    "            filename = cik + '_' + date + '.html'\n",
    "            html_file = open(filename, 'a')\n",
    "            html_file.write(file.text)\n",
    "            html_file.close()\n",
    "        \n",
    "    # Move back to the main 10-K directory\n",
    "    os.chdir('..')\n",
    "        \n",
    "    return"
   ]
  },
  {
   "cell_type": "code",
   "execution_count": 20,
   "metadata": {
    "pycharm": {
     "is_executing": false
    }
   },
   "outputs": [],
   "source": [
    "def Scrape10Q(browse_url_base, filing_url_base, doc_url_base, cik, log_file_name):\n",
    "    \n",
    "    '''\n",
    "    Scrapes all 10-Qs for a particular CIK from EDGAR.\n",
    "    \n",
    "    Parameters\n",
    "    ----------\n",
    "    browse_url_base : str\n",
    "        Base URL for browsing EDGAR.\n",
    "    filing_url_base : str\n",
    "        Base URL for filings listings on EDGAR.\n",
    "    doc_url_base : str\n",
    "        Base URL for one filing's document tables\n",
    "        page on EDGAR.\n",
    "    cik : str\n",
    "        Central Index Key.\n",
    "    log_file_name : str\n",
    "        Name of the log file (should be a .txt file).\n",
    "        \n",
    "    Returns\n",
    "    -------\n",
    "    None.\n",
    "    \n",
    "    '''\n",
    "    \n",
    "    # Check if we've already scraped this CIK\n",
    "    try:\n",
    "        os.mkdir(cik)\n",
    "    except OSError:\n",
    "        print(\"Already scraped CIK\", cik)\n",
    "        return\n",
    "    \n",
    "    # If we haven't, go into the directory for that CIK\n",
    "    os.chdir(cik)\n",
    "    \n",
    "    print('Scraping CIK', cik)\n",
    "    \n",
    "    # Request list of 10-Q filings\n",
    "    res = requests.get(browse_url_base % cik)\n",
    "    \n",
    "    # If the request failed, log the failure and exit\n",
    "    if res.status_code != 200:\n",
    "        os.chdir('..')\n",
    "        os.rmdir(cik) # remove empty dir\n",
    "        text = \"Request failed with error code \" + str(res.status_code) + \\\n",
    "               \"\\nFailed URL: \" + (browse_url_base % cik) + '\\n'\n",
    "        WriteLogFile(log_file_name, text)\n",
    "        return\n",
    "    \n",
    "    # If the request doesn't fail, continue...\n",
    "\n",
    "    # Parse the response HTML using BeautifulSoup\n",
    "    soup = bs.BeautifulSoup(res.text, \"lxml\")\n",
    "\n",
    "    # Extract all tables from the response\n",
    "    html_tables = soup.find_all('table')\n",
    "    \n",
    "    # Check that the table we're looking for exists\n",
    "    # If it doesn't, exit\n",
    "    if len(html_tables)<3:\n",
    "        print(\"table too short\")\n",
    "        os.chdir('..')\n",
    "        return\n",
    "    \n",
    "    # Parse the Filings table\n",
    "    filings_table = pd.read_html(str(html_tables[2]), header=0)[0]\n",
    "    filings_table['Filings'] = [str(x) for x in filings_table['Filings']]\n",
    "\n",
    "    # Get only 10-Q document filings\n",
    "    filings_table = filings_table[filings_table['Filings'] == '10-Q']\n",
    "\n",
    "    # If filings table doesn't have any\n",
    "    # 10-Ks or 10-K405s, exit\n",
    "    if len(filings_table)==0:\n",
    "        os.chdir('..')\n",
    "        return\n",
    "    \n",
    "    # Get accession number for each 10-K and 10-K405 filing\n",
    "    filings_table['Acc_No'] = [x.replace('\\xa0',' ')\n",
    "                               .split('Acc-no: ')[1]\n",
    "                               .split(' ')[0] for x in filings_table['Description']]\n",
    "\n",
    "    # Iterate through each filing and \n",
    "    # scrape the corresponding document...\n",
    "    for index, row in filings_table.iterrows():\n",
    "        \n",
    "        # Get the accession number for the filing\n",
    "        acc_no = str(row['Acc_No'])\n",
    "        \n",
    "        # Navigate to the page for the filing\n",
    "        docs_page = requests.get(filing_url_base % (cik, acc_no))\n",
    "        \n",
    "        # If request fails, log the failure\n",
    "        # and skip to the next filing    \n",
    "        if docs_page.status_code != 200:\n",
    "            os.chdir('..')\n",
    "            text = \"Request failed with error code \" + str(docs_page.status_code) + \\\n",
    "                   \"\\nFailed URL: \" + (filing_url_base % (cik, acc_no)) + '\\n'\n",
    "            WriteLogFile(log_file_name, text)\n",
    "            os.chdir(cik)\n",
    "            continue\n",
    "            \n",
    "        # If request succeeds, keep going...\n",
    "        \n",
    "        # Parse the table of documents for the filing\n",
    "        docs_page_soup = bs.BeautifulSoup(docs_page.text, 'lxml')\n",
    "        docs_html_tables = docs_page_soup.find_all('table')\n",
    "        if len(docs_html_tables)==0:\n",
    "            continue\n",
    "        docs_table = pd.read_html(str(docs_html_tables[0]), header=0)[0]\n",
    "        docs_table['Type'] = [str(x) for x in docs_table['Type']]\n",
    "        \n",
    "        # Get the 10-K and 10-K405 entries for the filing\n",
    "        docs_table = docs_table[docs_table['Type'] == '10-Q']\n",
    "        \n",
    "        # If there aren't any 10-K or 10-K405 entries,\n",
    "        # skip to the next filing\n",
    "        if len(docs_table)==0:\n",
    "            continue\n",
    "        # If there are 10-K or 10-K405 entries,\n",
    "        # grab the first document\n",
    "        elif len(docs_table)>0:\n",
    "            docs_table = docs_table.iloc[0]\n",
    "        \n",
    "        docname = docs_table['Document']\n",
    "        \n",
    "        # If that first entry is unavailable,\n",
    "        # log the failure and exit\n",
    "        if str(docname) == 'nan':\n",
    "            os.chdir('..')\n",
    "            text = 'File with CIK: %s and Acc_No: %s is unavailable' % (cik, acc_no) + '\\n'\n",
    "            WriteLogFile(log_file_name, text)\n",
    "            os.chdir(cik)\n",
    "            continue       \n",
    "        \n",
    "        # If it is available, continue...\n",
    "        \n",
    "        # Request the file\n",
    "        file = requests.get(doc_url_base % (cik, acc_no.replace('-', ''), docname))\n",
    "        \n",
    "        # If the request fails, log the failure and exit\n",
    "        if file.status_code != 200:\n",
    "            os.chdir('..')\n",
    "            text = \"Request failed with error code \" + str(file.status_code) + \\\n",
    "                   \"\\nFailed URL: \" + (doc_url_base % (cik, acc_no.replace('-', ''), docname)) + '\\n'\n",
    "            WriteLogFile(log_file_name, text)\n",
    "            os.chdir(cik)\n",
    "            continue\n",
    "            \n",
    "        # If it succeeds, keep going...\n",
    "        \n",
    "        # Save the file in appropriate format\n",
    "        if '.txt' in docname:\n",
    "            # Save text as TXT\n",
    "            date = str(row['Filing Date'])\n",
    "            filename = cik + '_' + date + '.txt'\n",
    "            html_file = open(filename, 'a')\n",
    "            html_file.write(file.text)\n",
    "            html_file.close()\n",
    "        else:\n",
    "            # Save text as HTML\n",
    "            date = str(row['Filing Date'])\n",
    "            filename = cik + '_' + date + '.html'\n",
    "            html_file = open(filename, 'a')\n",
    "            html_file.write(file.text)\n",
    "            html_file.close()\n",
    "        \n",
    "    # Move back to the main 10-Q directory\n",
    "    os.chdir('..')\n",
    "        \n",
    "    return"
   ]
  },
  {
   "cell_type": "markdown",
   "metadata": {},
   "source": [
    "Now that we've defined our scraper functions, let's scrape. \n",
    "\n",
    "(A note from the future: we're scraping a lot of data, which takes *time* and *space*. For reference, these functions ultimately scraped 170 GB of 10-Qs and 125 GB of 10-Ks; the scraping took roughly 20 hours total.)"
   ]
  },
  {
   "cell_type": "code",
   "execution_count": 25,
   "metadata": {
    "pycharm": {
     "is_executing": false
    },
    "scrolled": true
   },
   "outputs": [
    {
     "name": "stderr",
     "output_type": "stream",
     "text": [
      " 21%|██        | 996/4854 [00:00<00:00, 5185.61it/s]"
     ]
    },
    {
     "name": "stdout",
     "output_type": "stream",
     "text": [
      "Already scraped CIK 0001090872\n",
      "Already scraped CIK 0001675149\n",
      "Already scraped CIK 0001420529\n",
      "Already scraped CIK 0000006201\n",
      "Already scraped CIK 0001555074\n",
      "Already scraped CIK 0000008177\n",
      "Already scraped CIK 0000706688\n",
      "Already scraped CIK 0001158114\n",
      "Already scraped CIK 0000824142\n",
      "Already scraped CIK 0001158449\n",
      "Already scraped CIK 0000320193\n",
      "Already scraped CIK 0001500217\n",
      "Already scraped CIK 0001015647\n",
      "Already scraped CIK 0001135185\n",
      "Already scraped CIK 0001069183\n",
      "Already scraped CIK 0000825313\n",
      "Already scraped CIK 0001091587\n",
      "Already scraped CIK 0001551152\n",
      "Already scraped CIK 0001140859\n",
      "Already scraped CIK 0000351569\n",
      "Already scraped CIK 0000318306\n",
      "Already scraped CIK 0001565025\n",
      "Already scraped CIK 0001144980\n",
      "Already scraped CIK 0000907654\n",
      "Already scraped CIK 0000771497\n",
      "Already scraped CIK 0000815094\n",
      "Already scraped CIK 0001253986\n",
      "Already scraped CIK 0000001800\n",
      "Already scraped CIK 0001642081\n",
      "Already scraped CIK 0001447028\n",
      "Already scraped CIK 0001642122\n",
      "Already scraped CIK 0001739445\n",
      "Already scraped CIK 0001070494\n",
      "Already scraped CIK 0001759008\n",
      "Already scraped CIK 0001683541\n",
      "Already scraped CIK 0001461755\n",
      "Already scraped CIK 0001283630\n",
      "Already scraped CIK 0000712034\n",
      "Already scraped CIK 0001698991\n",
      "Already scraped CIK 0001069308\n",
      "Already scraped CIK 0000947484\n",
      "Already scraped CIK 0001161611\n",
      "Already scraped CIK 0001520697\n",
      "Already scraped CIK 0000949858\n",
      "Already scraped CIK 0001651235\n",
      "Already scraped CIK 0001651625\n",
      "Already scraped CIK 0000935036\n",
      "Already scraped CIK 0001113232\n",
      "Already scraped CIK 0000868857\n",
      "Already scraped CIK 0001680062\n",
      "Already scraped CIK 0001467373\n",
      "Already scraped CIK 0000715579\n",
      "Already scraped CIK 0001008848\n",
      "Already scraped CIK 0001529377\n",
      "Already scraped CIK 0001557746\n",
      "Already scraped CIK 0001427925\n",
      "Already scraped CIK 0001444192\n",
      "Already scraped CIK 0000934549\n",
      "Already scraped CIK 0001753706\n",
      "Already scraped CIK 0000002098\n",
      "Already scraped CIK 0001036848\n",
      "Already scraped CIK 0001621227\n",
      "Already scraped CIK 0000796343\n",
      "Already scraped CIK 0000917251\n",
      "Already scraped CIK 0001771910\n",
      "Already scraped CIK 0001515156\n",
      "Already scraped CIK 0000006281\n",
      "Already scraped CIK 0001513525\n",
      "Already scraped CIK 0000007084\n",
      "Already scraped CIK 0001368514\n",
      "Already scraped CIK 0000887247\n",
      "Already scraped CIK 0001328143\n",
      "Already scraped CIK 0001670541\n",
      "Already scraped CIK 0000008670\n",
      "Already scraped CIK 0001478320\n",
      "Already scraped CIK 0001435049\n",
      "Already scraped CIK 0001101215\n",
      "Already scraped CIK 0000769397\n",
      "Already scraped CIK 0001585790\n",
      "Already scraped CIK 0001703056\n",
      "Already scraped CIK 0000926282\n",
      "Already scraped CIK 0001726711\n",
      "Already scraped CIK 0001468328\n",
      "Already scraped CIK 0001501756\n",
      "Already scraped CIK 0001574232\n",
      "Already scraped CIK 0001100397\n",
      "Already scraped CIK 0000002178\n",
      "Already scraped CIK 0001002910\n",
      "Already scraped CIK 0000769218\n",
      "Already scraped CIK 0000353020\n",
      "Already scraped CIK 0001040470\n",
      "Already scraped CIK 0000927003\n",
      "Already scraped CIK 0001039828\n",
      "Already scraped CIK 0000002809\n",
      "Already scraped CIK 0000882291\n",
      "Already scraped CIK 0000919012\n",
      "Already scraped CIK 0000004904\n",
      "Already scraped CIK 0001378789\n",
      "Already scraped CIK 0001337553\n",
      "Already scraped CIK 0000874761\n",
      "Already scraped CIK 0001708341\n",
      "Already scraped CIK 0000874292\n",
      "Already scraped CIK 0001362190\n",
      "Already scraped CIK 0001113423\n",
      "Already scraped CIK 0001287750\n",
      "Already scraped CIK 0001042046\n",
      "Already scraped CIK 0001539894\n",
      "Already scraped CIK 0001655075\n",
      "Already scraped CIK 0001568162\n",
      "Already scraped CIK 0000004977\n",
      "Already scraped CIK 0001608390\n",
      "Already scraped CIK 0001771007\n",
      "Already scraped CIK 0001308648\n",
      "Already scraped CIK 0001769624\n",
      "Already scraped CIK 0000880266\n",
      "Already scraped CIK 0001708599\n",
      "Already scraped CIK 0001098972\n",
      "Already scraped CIK 0001592016\n",
      "Already scraped CIK 0001178819\n",
      "Already scraped CIK 0001439222\n",
      "Already scraped CIK 0001636282\n",
      "Already scraped CIK 0000845877\n",
      "Already scraped CIK 0001705402\n",
      "Already scraped CIK 0001423689\n",
      "Already scraped CIK 0001273813\n",
      "Already scraped CIK 0001634997\n",
      "Already scraped CIK 0001499505\n",
      "Already scraped CIK 0001261249\n",
      "Already scraped CIK 0001593548\n",
      "Already scraped CIK 0001273636\n",
      "Already scraped CIK 0000100591\n",
      "Already scraped CIK 0000078749\n",
      "Already scraped CIK 0001413898\n",
      "Already scraped CIK 0001725255\n",
      "Already scraped CIK 0001569187\n",
      "Already scraped CIK 0001614824\n",
      "Already scraped CIK 0000874710\n",
      "Already scraped CIK 0001232582\n",
      "Already scraped CIK 0001209028\n",
      "Already scraped CIK 0000005272\n",
      "Already scraped CIK 0001757143\n",
      "Already scraped CIK 0001711012\n",
      "Already scraped CIK 0000012239\n",
      "Already scraped CIK 0000946644\n",
      "Already scraped CIK 0001374535\n",
      "Already scraped CIK 0001631650\n",
      "Already scraped CIK 0000819793\n",
      "Already scraped CIK 0001604738\n",
      "Already scraped CIK 0001278752\n",
      "Already scraped CIK 0000817135\n",
      "Already scraped CIK 0000001750\n",
      "Already scraped CIK 0001272842\n",
      "Already scraped CIK 0001009891\n",
      "Already scraped CIK 0000353184\n",
      "Already scraped CIK 0001760001\n",
      "Already scraped CIK 0000109563\n",
      "Already scraped CIK 0000922864\n",
      "Already scraped CIK 0001267238\n",
      "Already scraped CIK 0000354190\n",
      "Already scraped CIK 0000040888\n",
      "Already scraped CIK 0001614806\n",
      "Already scraped CIK 0001086222\n",
      "Already scraped CIK 0001517022\n",
      "Already scraped CIK 0001662524\n",
      "Already scraped CIK 0001321834\n",
      "Already scraped CIK 0000899629\n",
      "Already scraped CIK 0001744659\n",
      "Already scraped CIK 0001584754\n",
      "Already scraped CIK 0001541157\n",
      "Already scraped CIK 0001487712\n",
      "Already scraped CIK 0001748621\n",
      "Already scraped CIK 0000915913\n",
      "Already scraped CIK 0001322505\n",
      "Already scraped CIK 0001167379\n",
      "Already scraped CIK 0000003545\n",
      "Already scraped CIK 0001341235\n",
      "Already scraped CIK 0000066756\n",
      "Already scraped CIK 0001653087\n",
      "Already scraped CIK 0001545654\n",
      "Already scraped CIK 0000897077\n",
      "Already scraped CIK 0001097149\n",
      "Already scraped CIK 0001362468\n",
      "Already scraped CIK 0001267602\n",
      "Already scraped CIK 0001438731\n",
      "Already scraped CIK 0000766421\n",
      "Already scraped CIK 0001520262\n",
      "Already scraped CIK 0000899051\n",
      "Already scraped CIK 0001579241\n",
      "Already scraped CIK 0001564824\n",
      "Already scraped CIK 0001737287\n",
      "Already scraped CIK 0001365767\n",
      "Already scraped CIK 0000040729\n",
      "Already scraped CIK 0001624658\n",
      "Already scraped CIK 0001178670\n",
      "Already scraped CIK 0001502154\n",
      "Already scraped CIK 0000008146\n",
      "Already scraped CIK 0001626199\n",
      "Already scraped CIK 0001459200\n",
      "Already scraped CIK 0001420565\n",
      "Already scraped CIK 0000903419\n",
      "Already scraped CIK 0001089511\n",
      "Already scraped CIK 0001411207\n",
      "Already scraped CIK 0001326190\n",
      "Already scraped CIK 0001759824\n",
      "Already scraped CIK 0001692787\n",
      "Already scraped CIK 0001701732\n",
      "Already scraped CIK 0001781115\n",
      "Already scraped CIK 0001034670\n",
      "Already scraped CIK 0000003499\n",
      "Already scraped CIK 0000899866\n",
      "Already scraped CIK 0001734520\n",
      "Already scraped CIK 0001623925\n",
      "Already scraped CIK 0000792977\n",
      "Already scraped CIK 0000006951\n",
      "Already scraped CIK 0001280263\n",
      "Already scraped CIK 0000874501\n",
      "Already scraped CIK 0001494558\n",
      "Already scraped CIK 0001411579\n",
      "Already scraped CIK 0001744494\n",
      "Already scraped CIK 0001748790\n",
      "Already scraped CIK 0001514991\n",
      "Already scraped CIK 0000002488\n",
      "Already scraped CIK 0001037868\n",
      "Already scraped CIK 0000896262\n",
      "Already scraped CIK 0001083446\n",
      "Already scraped CIK 0001004434\n",
      "Already scraped CIK 0000318154\n",
      "Already scraped CIK 0001562401\n",
      "Already scraped CIK 0001788028\n",
      "Already scraped CIK 0001591587\n",
      "Already scraped CIK 0001047127\n",
      "Already scraped CIK 0001142750\n",
      "Already scraped CIK 0000741516\n",
      "Already scraped CIK 0000046129\n",
      "Already scraped CIK 0001129137\n",
      "Already scraped CIK 0000820027\n",
      "Already scraped CIK 0001411906\n",
      "Already scraped CIK 0001297184\n",
      "Already scraped CIK 0001533924\n",
      "Already scraped CIK 0001108236\n",
      "Already scraped CIK 0001488139\n",
      "Already scraped CIK 0000890821\n",
      "Already scraped CIK 0001591588\n",
      "Already scraped CIK 0000897448\n",
      "Already scraped CIK 0001365916\n",
      "Already scraped CIK 0001723128\n",
      "Already scraped CIK 0000744825\n",
      "Already scraped CIK 0000880807\n",
      "Already scraped CIK 0001018979\n",
      "Already scraped CIK 0000713425\n",
      "Already scraped CIK 0001053507\n",
      "Already scraped CIK 0001734342\n",
      "Already scraped CIK 0001173431\n",
      "Already scraped CIK 0001801777\n",
      "Already scraped CIK 0000738214\n",
      "Already scraped CIK 0000794619\n",
      "Already scraped CIK 0001018724\n",
      "Already scraped CIK 0000350698\n",
      "Already scraped CIK 0001370053\n",
      "Already scraped CIK 0000904163\n",
      "Already scraped CIK 0001534248\n",
      "Already scraped CIK 0001691936\n",
      "Already scraped CIK 0000821026\n",
      "Already scraped CIK 0001596532\n",
      "Already scraped CIK 0001018840\n",
      "Already scraped CIK 0001705110\n",
      "Already scraped CIK 0001275187\n",
      "Already scraped CIK 0001047884\n",
      "Already scraped CIK 0000898437\n",
      "Already scraped CIK 0001023024\n",
      "Already scraped CIK 0000715446\n",
      "Already scraped CIK 0001786511\n",
      "Already scraped CIK 0001013462\n",
      "Already scraped CIK 0001413745\n",
      "Already scraped CIK 0001156039\n",
      "Already scraped CIK 0001477845\n",
      "Already scraped CIK 0001591956\n",
      "Already scraped CIK 0000315293\n",
      "Already scraped CIK 0000091142\n",
      "Already scraped CIK 0001387467\n",
      "Already scraped CIK 0000006176\n",
      "Already scraped CIK 0000006769\n",
      "Already scraped CIK 0001517302\n",
      "Already scraped CIK 0000002969\n",
      "Already scraped CIK 0000744452\n",
      "Already scraped CIK 0001201792\n",
      "Already scraped CIK 0001251769\n",
      "Already scraped CIK 0000844161\n",
      "Already scraped CIK 0001796209\n",
      "Already scraped CIK 0000820313\n",
      "Already scraped CIK 0001733418\n",
      "Already scraped CIK 0001418121\n",
      "Already scraped CIK 0001492422\n",
      "Already scraped CIK 0001697532\n",
      "Already scraped CIK 0001734005\n",
      "Already scraped CIK 0001411494\n",
      "Already scraped CIK 0000006845\n",
      "Already scraped CIK 0001671502\n",
      "Already scraped CIK 0001433195\n",
      "Already scraped CIK 0001441683\n",
      "Already scraped CIK 0000317788\n",
      "Already scraped CIK 0001781983\n",
      "Already scraped CIK 0001701114\n",
      "Already scraped CIK 0000884269\n",
      "Already scraped CIK 0000882361\n",
      "Already scraped CIK 0001481832\n",
      "Already scraped CIK 0001521332\n",
      "Already scraped CIK 0001674365\n",
      "Already scraped CIK 0001671584\n",
      "Already scraped CIK 0001026980\n",
      "Already scraped CIK 0001777921\n",
      "Already scraped CIK 0000719135\n",
      "Already scraped CIK 0001603978\n",
      "Already scraped CIK 0001621832\n",
      "Already scraped CIK 0001174169\n",
      "Already scraped CIK 0001398733\n",
      "Already scraped CIK 0001604643\n",
      "Already scraped CIK 0001433270\n",
      "Already scraped CIK 0001498068\n",
      "Already scraped CIK 0001513818\n",
      "Already scraped CIK 0001138723\n",
      "Already scraped CIK 0001305168\n",
      "Already scraped CIK 0000894405\n",
      "Already scraped CIK 0001740594\n",
      "Already scraped CIK 0001037676\n",
      "Already scraped CIK 0001508478\n",
      "Already scraped CIK 0001768224\n",
      "Already scraped CIK 0001689662\n",
      "Already scraped CIK 0001614067\n",
      "Already scraped CIK 0001437402\n",
      "Already scraped CIK 0001035443\n",
      "Already scraped CIK 0001590715\n",
      "Already scraped CIK 0001176948\n",
      "Already scraped CIK 0001091748\n",
      "Already scraped CIK 0001697862\n",
      "Already scraped CIK 0001467760\n",
      "Already scraped CIK 0000779544\n",
      "Already scraped CIK 0001102238\n",
      "Already scraped CIK 0001736946\n",
      "Already scraped CIK 0001086600\n",
      "Already scraped CIK 0001584509\n",
      "Already scraped CIK 0000921114\n",
      "Already scraped CIK 0001080709\n",
      "Already scraped CIK 0001790982\n",
      "Already scraped CIK 0001389050\n",
      "Already scraped CIK 0000717538\n",
      "Already scraped CIK 0001422142\n",
      "Already scraped CIK 0001787306\n",
      "Already scraped CIK 0001428205\n",
      "Already scraped CIK 0001621221\n",
      "Already scraped CIK 0000863110\n",
      "Already scraped CIK 0000007623\n",
      "Already scraped CIK 0001655759\n",
      "Already scraped CIK 0000007536\n",
      "Already scraped CIK 0000879407\n",
      "Already scraped CIK 0001746037\n",
      "Already scraped CIK 0001805387\n",
      "Already scraped CIK 0000007789\n",
      "Already scraped CIK 0001577437\n",
      "Already scraped CIK 0001001258\n",
      "Already scraped CIK 0000890564\n",
      "Already scraped CIK 0001674862\n",
      "Already scraped CIK 0001673985\n",
      "Already scraped CIK 0001722926\n",
      "Already scraped CIK 0000316888\n",
      "Already scraped CIK 0001426800\n",
      "Already scraped CIK 0000937966\n",
      "Already scraped CIK 0001498301\n",
      "Already scraped CIK 0001612042\n",
      "Already scraped CIK 0001145986\n",
      "Already scraped CIK 0001462418\n",
      "Already scraped CIK 0001487198\n",
      "Already scraped CIK 0001123452\n",
      "Already scraped CIK 0001808665\n",
      "Already scraped CIK 0000707605\n",
      "Already scraped CIK 0001001907\n",
      "Already scraped CIK 0000792987\n",
      "Already scraped CIK 0000884144\n",
      "Already scraped CIK 0001122411\n",
      "Already scraped CIK 0000720500\n",
      "Already scraped CIK 0001419242\n",
      "Already scraped CIK 0001059142\n",
      "Already scraped CIK 0001794846\n",
      "Already scraped CIK 0001751143\n",
      "Already scraped CIK 0001350653\n",
      "Already scraped CIK 0001580808\n",
      "Already scraped CIK 0001304492\n",
      "Already scraped CIK 0000730464\n",
      "Already scraped CIK 0001527469\n",
      "Already scraped CIK 0001131343\n",
      "Already scraped CIK 0001527636\n",
      "Already scraped CIK 0001368148\n",
      "Already scraped CIK 0001018963\n",
      "Already scraped CIK 0001755058\n",
      "Already scraped CIK 0001666138\n",
      "Already scraped CIK 0001464343\n",
      "Already scraped CIK 0001132651\n",
      "Already scraped CIK 0000879585\n",
      "Already scraped CIK 0001388320\n",
      "Already scraped CIK 0001300699\n",
      "Already scraped CIK 0000731802\n",
      "Already scraped CIK 0001420520\n",
      "Already scraped CIK 0001488039\n",
      "Already scraped CIK 0000896622\n",
      "Already scraped CIK 0001604464\n",
      "Already scraped CIK 0001323885\n",
      "Already scraped CIK 0000701288\n",
      "Already scraped CIK 0000008063\n",
      "Already scraped CIK 0001016169\n",
      "Already scraped CIK 0000894081\n",
      "Already scraped CIK 0001606457\n",
      "Already scraped CIK 0001702780\n",
      "Already scraped CIK 0001365742\n",
      "Already scraped CIK 0000718877\n",
      "Already scraped CIK 0001644963\n",
      "Already scraped CIK 0001067428\n",
      "Already scraped CIK 0000883948\n",
      "Already scraped CIK 0000750574\n",
      "Already scraped CIK 0001086434\n",
      "Already scraped CIK 0001514597\n",
      "Already scraped CIK 0001011509\n",
      "Already scraped CIK 0001600620\n",
      "Already scraped CIK 0001730463\n",
      "Already scraped CIK 0001023364\n",
      "Already scraped CIK 0001264089\n",
      "Already scraped CIK 0000104918\n",
      "Already scraped CIK 0001504764\n",
      "Already scraped CIK 0001368622\n",
      "Already scraped CIK 0000915912\n",
      "Already scraped CIK 0001704760\n",
      "Already scraped CIK 0000005981\n",
      "Already scraped CIK 0001012477\n",
      "Already scraped CIK 0001325879\n",
      "Already scraped CIK 0001730168\n",
      "Already scraped CIK 0001506928\n",
      "Already scraped CIK 0000896841\n",
      "Already scraped CIK 0001348036\n",
      "Already scraped CIK 0001606498\n",
      "Already scraped CIK 0001377789\n",
      "Already scraped CIK 0001681087\n",
      "Already scraped CIK 0000008858\n",
      "Already scraped CIK 0001722482\n",
      "Already scraped CIK 0001314052\n",
      "Already scraped CIK 0000008818\n",
      "Already scraped CIK 0001418100\n",
      "Already scraped CIK 0000926617\n",
      "Already scraped CIK 0000007431\n",
      "Already scraped CIK 0001410636\n",
      "Already scraped CIK 0001056903\n",
      "Already scraped CIK 0001015739\n",
      "Already scraped CIK 0001061069\n",
      "Already scraped CIK 0001299709\n",
      "Already scraped CIK 0000867665\n",
      "Already scraped CIK 0000727207\n",
      "Already scraped CIK 0000052795\n",
      "Already scraped CIK 0000805928\n",
      "Already scraped CIK 0001636050\n",
      "Already scraped CIK 0001062231\n",
      "Already scraped CIK 0001633070\n",
      "Already scraped CIK 0001603756\n",
      "Already scraped CIK 0000004962\n",
      "Already scraped CIK 0000006207\n",
      "Already scraped CIK 0001214816\n",
      "Already scraped CIK 0001579428\n",
      "Already scraped CIK 0001616862\n",
      "Already scraped CIK 0001051627\n",
      "Already scraped CIK 0001364128\n",
      "Already scraped CIK 0001601072\n",
      "Already scraped CIK 0001144215\n",
      "Already scraped CIK 0001797336\n",
      "Already scraped CIK 0001086745\n",
      "Already scraped CIK 0001385818\n",
      "Already scraped CIK 0001689923\n",
      "Already scraped CIK 0001782754\n",
      "Already scraped CIK 0000901832\n",
      "Already scraped CIK 0000866787\n",
      "Already scraped CIK 0000929940\n",
      "Already scraped CIK 0001633438\n",
      "Already scraped CIK 0001604191\n",
      "Already scraped CIK 0001432364\n",
      "Already scraped CIK 0000008947\n",
      "Already scraped CIK 0000009984\n",
      "Already scraped CIK 0000012927\n",
      "Already scraped CIK 0001577552\n",
      "Already scraped CIK 0000070858\n",
      "Already scraped CIK 0001443646\n",
      "Already scraped CIK 0001071438\n",
      "Already scraped CIK 0001001085\n",
      "Already scraped CIK 0001169770\n",
      "Already scraped CIK 0001514416\n",
      "Already scraped CIK 0000760498\n",
      "Already scraped CIK 0000946673\n",
      "Already scraped CIK 0001001290\n",
      "Already scraped CIK 0000720154\n",
      "Already scraped CIK 0001282648\n",
      "Already scraped CIK 0001560385\n",
      "Already scraped CIK 0000010456\n",
      "Already scraped CIK 0001070235\n",
      "Already scraped CIK 0000913059\n",
      "Already scraped CIK 0000886158\n",
      "Already scraped CIK 0001703956\n",
      "Already scraped CIK 0001160330\n",
      "Already scraped CIK 0001099160\n",
      "Already scraped CIK 0000819050\n",
      "Already scraped CIK 0001743881\n",
      "Already scraped CIK 0001171264\n",
      "Already scraped CIK 0001021270\n",
      "Already scraped CIK 0000902791\n",
      "Already scraped CIK 0001654795\n",
      "Already scraped CIK 0000842180\n",
      "Already scraped CIK 0001113809\n",
      "Already scraped CIK 0000315858\n",
      "Already scraped CIK 0000764478\n",
      "Already scraped CIK 0000014930\n",
      "Already scraped CIK 0001228454\n",
      "Already scraped CIK 0001328581\n",
      "Already scraped CIK 0000925741\n",
      "Already scraped CIK 0000718940\n",
      "Already scraped CIK 0001509589\n",
      "Already scraped CIK 0001532346\n",
      "Already scraped CIK 0001161125\n",
      "Already scraped CIK 0001137883\n",
      "Already scraped CIK 0001730984\n",
      "Already scraped CIK 0000078890\n",
      "Already scraped CIK 0001402606\n",
      "Already scraped CIK 0001068875\n",
      "Already scraped CIK 0001313275\n",
      "Already scraped CIK 0001751692\n",
      "Already scraped CIK 0000009326\n",
      "Already scraped CIK 0000882796\n",
      "Already scraped CIK 0000312069\n",
      "Already scraped CIK 0001655050\n",
      "Already scraped CIK 0001668340\n",
      "Already scraped CIK 0001761612\n",
      "Already scraped CIK 0000913142\n",
      "Already scraped CIK 0000846617\n",
      "Already scraped CIK 0000012040\n",
      "Already scraped CIK 0000790816\n",
      "Already scraped CIK 0001000683\n",
      "Already scraped CIK 0001103021\n",
      "Already scraped CIK 0001701541\n",
      "Already scraped CIK 0000010795\n",
      "Already scraped CIK 0001664703\n",
      "Already scraped CIK 0001745999\n",
      "Already scraped CIK 0001574774\n",
      "Already scraped CIK 0001124941\n",
      "Already scraped CIK 0001696355\n",
      "Already scraped CIK 0000729580\n",
      "Already scraped CIK 0000038777\n",
      "Already scraped CIK 0001533232\n",
      "Already scraped CIK 0001378992\n",
      "Already scraped CIK 0001709505\n",
      "Already scraped CIK 0001437578\n",
      "Already scraped CIK 0001746109\n",
      "Already scraped CIK 0001303942\n",
      "Already scraped CIK 0001712641\n",
      "Already scraped CIK 0000907254\n",
      "Already scraped CIK 0001624322\n",
      "Already scraped CIK 0001561387\n",
      "Already scraped CIK 0001144519\n",
      "Already scraped CIK 0001094831\n",
      "Already scraped CIK 0001156388\n",
      "Already scraped CIK 0000014195\n",
      "Already scraped CIK 0001179821\n",
      "Already scraped CIK 0001651308\n",
      "Already scraped CIK 0001278027\n",
      "Already scraped CIK 0001474903\n",
      "Already scraped CIK 0001726173\n",
      "Already scraped CIK 0001759136\n",
      "Already scraped CIK 0000743367\n",
      "Already scraped CIK 0000885590\n",
      "Already scraped CIK 0000863436\n",
      "Already scraped CIK 0001685040\n",
      "Already scraped CIK 0001108134\n",
      "Already scraped CIK 0000811809\n",
      "Already scraped CIK 0001574085\n",
      "Already scraped CIK 0001590383\n",
      "Already scraped CIK 0001689813\n",
      "Already scraped CIK 0001329099\n",
      "Already scraped CIK 0000768835\n",
      "Already scraped CIK 0000875045\n",
      "Already scraped CIK 0001723690\n",
      "Already scraped CIK 0001786352\n",
      "Already scraped CIK 0001213660\n",
      "Already scraped CIK 0000012208\n",
      "Already scraped CIK 0001044378\n",
      "Already scraped CIK 0000811240\n",
      "Already scraped CIK 0001769484\n",
      "Already scraped CIK 0001406234\n",
      "Already scraped CIK 0001788348\n",
      "Already scraped CIK 0001499781\n",
      "Already scraped CIK 0001580149\n",
      "Already scraped CIK 0001531152\n",
      "Already scraped CIK 0001013488\n",
      "Already scraped CIK 0001390777\n",
      "Already scraped CIK 0001326003\n",
      "Already scraped CIK 0001332349\n",
      "Already scraped CIK 0000885245\n",
      "Already scraped CIK 0001392091\n",
      "Already scraped CIK 0001130464\n",
      "Already scraped CIK 0001627014\n",
      "Already scraped CIK 0001075531\n",
      "Already scraped CIK 0001701605\n",
      "Already scraped CIK 0001007273\n",
      "Already scraped CIK 0000002186\n",
      "Already scraped CIK 0001504008\n",
      "Already scraped CIK 0001019034\n",
      "Already scraped CIK 0001666134\n",
      "Already scraped CIK 0001589526\n",
      "Already scraped CIK 0001358403\n",
      "Already scraped CIK 0001633931\n",
      "Already scraped CIK 0001453015\n",
      "Already scraped CIK 0001316835\n",
      "Already scraped CIK 0000834365\n",
      "Already scraped CIK 0001378590\n",
      "Already scraped CIK 0001364742\n",
      "Already scraped CIK 0001280058\n",
      "Already scraped CIK 0000009389\n",
      "Already scraped CIK 0001546417\n",
      "Already scraped CIK 0001429764\n",
      "Already scraped CIK 0001600132\n",
      "Already scraped CIK 0001498403\n",
      "Already scraped CIK 0001259942\n",
      "Already scraped CIK 0001293971\n",
      "Already scraped CIK 0000890541\n",
      "Already scraped CIK 0001347426\n",
      "Already scraped CIK 0001574815\n",
      "Already scraped CIK 0000009092\n",
      "Already scraped CIK 0000927971\n",
      "Already scraped CIK 0000073290\n",
      "Already scraped CIK 0001403475\n",
      "Already scraped CIK 0001805077\n",
      "Already scraped CIK 0001048477\n",
      "Already scraped CIK 0000802681\n",
      "Already scraped CIK 0000014272\n",
      "Already scraped CIK 0001634117\n",
      "Already scraped CIK 0001576169\n",
      "Already scraped CIK 0001411690\n",
      "Already scraped CIK 0001792267\n",
      "Already scraped CIK 0000009631\n",
      "Already scraped CIK 0000846546\n",
      "Already scraped CIK 0001808898\n",
      "Already scraped CIK 0001776985\n",
      "Already scraped CIK 0000702513\n",
      "Already scraped CIK 0000046195\n",
      "Already scraped CIK 0000875357\n",
      "Already scraped CIK 0001494582\n",
      "Already scraped CIK 0000034067\n",
      "Already scraped CIK 0001610250\n",
      "Already scraped CIK 0001715497\n",
      "Already scraped CIK 0001005516\n",
      "Already scraped CIK 0001275101\n",
      "Already scraped CIK 0001372612\n",
      "Already scraped CIK 0001624512\n",
      "Already scraped CIK 0000313807\n",
      "Already scraped CIK 0000821127\n",
      "Already scraped CIK 0001597264\n",
      "Already scraped CIK 0001708301\n",
      "Already scraped CIK 0000763901\n",
      "Already scraped CIK 0000850033\n",
      "Already scraped CIK 0001133818\n",
      "Already scraped CIK 0001545772\n",
      "Already scraped CIK 0001496048\n",
      "Already scraped CIK 0001383312\n",
      "Already scraped CIK 0001772016\n",
      "Already scraped CIK 0000842717\n",
      "Already scraped CIK 0000746598\n",
      "Already scraped CIK 0000892222\n",
      "Already scraped CIK 0001122491\n",
      "Already scraped CIK 0001442626\n",
      "Already scraped CIK 0000014177\n",
      "Already scraped CIK 0001049782\n",
      "Already scraped CIK 0001109354\n",
      "Already scraped CIK 0000933974\n",
      "Already scraped CIK 0001784797\n",
      "Already scraped CIK 0000010048\n",
      "Already scraped CIK 0000079282\n",
      "Already scraped CIK 0001774983\n",
      "Already scraped CIK 0001781755\n",
      "Already scraped CIK 0001719406\n",
      "Already scraped CIK 0001650575\n",
      "Already scraped CIK 0000014846\n",
      "Already scraped CIK 0001581068\n",
      "Already scraped CIK 0001705873\n",
      "Already scraped CIK 0001748824\n",
      "Already scraped CIK 0001027552\n",
      "Already scraped CIK 0001787414\n",
      "Already scraped CIK 0001471055\n",
      "Already scraped CIK 0000010329\n",
      "Already scraped CIK 0001530766\n",
      "Already scraped CIK 0001621434\n",
      "Already scraped CIK 0001698287\n",
      "Already scraped CIK 0001054721\n",
      "Already scraped CIK 0001130144\n",
      "Already scraped CIK 0000875622\n",
      "Already scraped CIK 0001746129\n",
      "Already scraped CIK 0000885725\n",
      "Already scraped CIK 0001720893\n",
      "Already scraped CIK 0001279495\n",
      "Already scraped CIK 0001429937\n",
      "Already scraped CIK 0001303523\n",
      "Already scraped CIK 0000946454\n",
      "Already scraped CIK 0001064728\n",
      "Already scraped CIK 0001668717\n",
      "Already scraped CIK 0001579298\n",
      "Already scraped CIK 0000314489\n",
      "Already scraped CIK 0001734713\n",
      "Already scraped CIK 0001013131\n",
      "Already scraped CIK 0001611747\n",
      "Already scraped CIK 0001630805\n",
      "Already scraped CIK 0000908255\n",
      "Already scraped CIK 0001505065\n",
      "Already scraped CIK 0001341317\n",
      "Already scraped CIK 0001120370\n",
      "Already scraped CIK 0001505732\n",
      "Already scraped CIK 0001788257\n",
      "Already scraped CIK 0001486957\n",
      "Already scraped CIK 0001393818\n",
      "Already scraped CIK 0001301787\n",
      "Already scraped CIK 0000778946\n",
      "Already scraped CIK 0001061630\n",
      "Already scraped CIK 0001037540\n",
      "Already scraped CIK 0001780097\n",
      "Already scraped CIK 0000701853\n",
      "Already scraped CIK 0001702750\n",
      "Already scraped CIK 0000906553\n",
      "Already scraped CIK 0001001171\n",
      "Already scraped CIK 0001655210\n",
      "Already scraped CIK 0001677940\n",
      "Already scraped CIK 0000915840\n",
      "Already scraped CIK 0001625414\n",
      "Already scraped CIK 0000831001\n",
      "Already scraped CIK 0001717393\n",
      "Already scraped CIK 0001157762\n",
      "Already scraped CIK 0001759138\n",
      "Already scraped CIK 0001632127\n",
      "Already scraped CIK 0000750686\n",
      "Already scraped CIK 0000885550\n",
      "Already scraped CIK 0000016058\n",
      "Already scraped CIK 0001614184\n",
      "Already scraped CIK 0001173382\n",
      "Already scraped CIK 0000023217\n",
      "Already scraped CIK 0000721371\n",
      "Already scraped CIK 0001388430\n",
      "Already scraped CIK 0000016988\n",
      "Already scraped CIK 0000887596\n",
      "Already scraped CIK 0000014707\n",
      "Already scraped CIK 0001496671\n",
      "Already scraped CIK 0001752036\n",
      "Already scraped CIK 0000016160\n",
      "Already scraped CIK 0001795579\n",
      "Already scraped CIK 0001406666\n",
      "Already scraped CIK 0000730255\n",
      "Already scraped CIK 0001109138\n",
      "Already scraped CIK 0001780652\n",
      "Already scraped CIK 0001536196\n",
      "Already scraped CIK 0001725123\n",
      "Already scraped CIK 0001538849\n",
      "Already scraped CIK 0001133869\n",
      "Already scraped CIK 0000723612\n",
      "Already scraped CIK 0001346830\n",
      "Already scraped CIK 0001494259\n",
      "Already scraped CIK 0001783180\n",
      "Already scraped CIK 0001683606\n",
      "Already scraped CIK 0001016178\n",
      "Already scraped CIK 0001333835\n",
      "Already scraped CIK 0000907471\n",
      "Already scraped CIK 0000895051\n",
      "Already scraped CIK 0000708781\n",
      "Already scraped CIK 0000726958\n",
      "Already scraped CIK 0000018230\n",
      "Already scraped CIK 0001454789\n",
      "Already scraped CIK 0000711772\n",
      "Already scraped CIK 0001671013\n",
      "Already scraped CIK 0000018255\n",
      "Already scraped CIK 0001136174\n",
      "Already scraped CIK 0000861842\n",
      "Already scraped CIK 0000896159\n",
      "Already scraped CIK 0000711669\n",
      "Already scraped CIK 0001117171\n",
      "Already scraped CIK 0001042074\n",
      "Already scraped CIK 0000716133\n",
      "Already scraped CIK 0001038572\n",
      "Already scraped CIK 0001605301\n",
      "Already scraped CIK 0001124105\n",
      "Already scraped CIK 0000910612\n",
      "Already scraped CIK 0001318641\n",
      "Already scraped CIK 0001742089\n",
      "Already scraped CIK 0001378624\n",
      "Already scraped CIK 0001419536\n",
      "Already scraped CIK 0001374310\n",
      "Already scraped CIK 0001369868\n",
      "Already scraped CIK 0001138118\n",
      "Already scraped CIK 0001067294\n",
      "Already scraped CIK 0000022356\n",
      "Already scraped CIK 0000016040\n",
      "Already scraped CIK 0000723188\n",
      "Already scraped CIK 0000944148\n",
      "Already scraped CIK 0001627223\n",
      "Already scraped CIK 0001794621\n",
      "Already scraped CIK 0001633336\n",
      "Already scraped CIK 0001437958\n",
      "Already scraped CIK 0000726601\n",
      "Already scraped CIK 0001764046\n",
      "Already scraped CIK 0001470683\n",
      "Already scraped CIK 0001650107\n",
      "Already scraped CIK 0000830524\n",
      "Already scraped CIK 0001739566\n",
      "Already scraped CIK 0001051470\n",
      "Already scraped CIK 0001009001\n",
      "Already scraped CIK 0001219601\n",
      "Already scraped CIK 0000815097\n",
      "Already scraped CIK 0001449488\n",
      "Already scraped CIK 0001472072\n",
      "Already scraped CIK 0001102934\n",
      "Already scraped CIK 0001641398\n",
      "Already scraped CIK 0000736772\n",
      "Already scraped CIK 0001334978\n",
      "Already scraped CIK 0001158324\n",
      "Already scraped CIK 0001637558\n",
      "Already scraped CIK 0001620664\n",
      "Already scraped CIK 0001141103\n",
      "Already scraped CIK 0001576940\n",
      "Already scraped CIK 0000888746\n",
      "Already scraped CIK 0001774675\n",
      "Already scraped CIK 0001340652\n",
      "Already scraped CIK 0001793229\n",
      "Already scraped CIK 0001166691\n",
      "Already scraped CIK 0001725057\n",
      "Already scraped CIK 0000215466\n",
      "Already scraped CIK 0001658566\n",
      "Already scraped CIK 0001609702\n",
      "Already scraped CIK 0001666071\n",
      "Already scraped CIK 0000704562\n",
      "Already scraped CIK 0001217234\n",
      "Already scraped CIK 0000813672\n",
      "Already scraped CIK 0000929545\n",
      "Already scraped CIK 0000761648\n",
      "Already scraped CIK 0001610618\n",
      "Already scraped CIK 0001402057\n",
      "Already scraped CIK 0001386570\n",
      "Already scraped CIK 0001200375\n",
      "Already scraped CIK 0000727273\n",
      "Already scraped CIK 0001306830\n",
      "Already scraped CIK 0001030475\n",
      "Already scraped CIK 0000003197\n",
      "Already scraped CIK 0001309082\n",
      "Already scraped CIK 0001710366\n",
      "Already scraped CIK 0001385145\n",
      "Already scraped CIK 0001603454\n",
      "Already scraped CIK 0001341766\n",
      "Already scraped CIK 0001587246\n",
      "Already scraped CIK 0001092662\n",
      "Already scraped CIK 0000887733\n",
      "Already scraped CIK 0000949157\n",
      "Already scraped CIK 0001095595\n",
      "Already scraped CIK 0001717161\n",
      "Already scraped CIK 0001136352\n",
      "Already scraped CIK 0001534120\n",
      "Already scraped CIK 0000804753\n",
      "Already scraped CIK 0001020214\n",
      "Already scraped CIK 0000925645\n",
      "Already scraped CIK 0001435064\n",
      "Already scraped CIK 0001173489\n",
      "Already scraped CIK 0001324404\n",
      "Already scraped CIK 0001458412\n",
      "Already scraped CIK 0001691507\n",
      "Already scraped CIK 0001070680\n",
      "Already scraped CIK 0001728041\n",
      "Already scraped CIK 0000913341\n",
      "Already scraped CIK 0001490906\n",
      "Already scraped CIK 0000759944\n",
      "Already scraped CIK 0001305773\n",
      "Already scraped CIK 0000039263\n",
      "Already scraped CIK 0001478069\n",
      "Already scraped CIK 0001420800\n",
      "Already scraped CIK 0001527166\n",
      "Already scraped CIK 0000857949\n",
      "Already scraped CIK 0001737927\n",
      "Already scraped CIK 0001119774\n",
      "Already scraped CIK 0001349929\n",
      "Already scraped CIK 0000851205\n",
      "Already scraped CIK 0001799611\n",
      "Already scraped CIK 0001191255\n",
      "Already scraped CIK 0001346980\n",
      "Already scraped CIK 0001299969\n",
      "Already scraped CIK 0000726854\n",
      "Already scraped CIK 0001631569\n",
      "Already scraped CIK 0000313927\n",
      "Already scraped CIK 0000020212\n",
      "Already scraped CIK 0000019584\n",
      "Already scraped CIK 0001517175\n",
      "Already scraped CIK 0001610590\n",
      "Already scraped CIK 0001506492\n",
      "Already scraped CIK 0001364954\n",
      "Already scraped CIK 0001046311\n",
      "Already scraped CIK 0000895126\n",
      "Already scraped CIK 0001015922\n",
      "Already scraped CIK 0001117795\n",
      "Already scraped CIK 0001339469\n",
      "Already scraped CIK 0000763563\n",
      "Already scraped CIK 0001571776\n",
      "Already scraped CIK 0001756497\n",
      "Already scraped CIK 0000793628\n",
      "Already scraped CIK 0001785041\n",
      "Already scraped CIK 0001730346\n",
      "Already scraped CIK 0001512762\n",
      "Already scraped CIK 0001043277\n",
      "Already scraped CIK 0000897429\n",
      "Already scraped CIK 0000823277\n",
      "Already scraped CIK 0001132924\n",
      "Already scraped CIK 0001091667\n",
      "Already scraped CIK 0001113866\n",
      "Already scraped CIK 0001524931\n",
      "Already scraped CIK 0001766502\n",
      "Already scraped CIK 0001723089\n",
      "Already scraped CIK 0001739940\n",
      "Already scraped CIK 0000024090\n",
      "Already scraped CIK 0001071371\n",
      "Already scraped CIK 0001173204\n",
      "Already scraped CIK 0000936395\n",
      "Already scraped CIK 0001157557\n",
      "Already scraped CIK 0000913353\n",
      "Already scraped CIK 0001749797\n",
      "Already scraped CIK 0001789760\n",
      "Already scraped CIK 0001409493\n",
      "Already scraped CIK 0000020286\n",
      "Already scraped CIK 0001575051\n",
      "Already scraped CIK 0001593222\n",
      "Already scraped CIK 0001091883\n",
      "Already scraped CIK 0001171825\n",
      "Already scraped CIK 0000944745\n",
      "Already scraped CIK 0001049606\n",
      "Already scraped CIK 0001075706\n",
      "Already scraped CIK 0001413263\n",
      "Already scraped CIK 0000859598\n",
      "Already scraped CIK 0001651407\n",
      "Already scraped CIK 0000352955\n",
      "Already scraped CIK 0000021665\n",
      "Already scraped CIK 0000913277\n",
      "Already scraped CIK 0001000229\n",
      "Already scraped CIK 0001723596\n",
      "Already scraped CIK 0000320017\n",
      "Already scraped CIK 0001089143\n",
      "Already scraped CIK 0000774569\n",
      "Already scraped CIK 0001535379\n",
      "Already scraped CIK 0001476045\n",
      "Already scraped CIK 0000744218\n",
      "Already scraped CIK 0001775085\n",
      "Already scraped CIK 0000764065\n",
      "Already scraped CIK 0000796505\n",
      "Already scraped CIK 0001631487\n",
      "Already scraped CIK 0000036047\n",
      "Already scraped CIK 0000822818\n",
      "Already scraped CIK 0000924901\n",
      "Already scraped CIK 0001434524\n",
      "Already scraped CIK 0001627281\n",
      "Already scraped CIK 0001340122\n",
      "Already scraped CIK 0001717547\n",
      "Already scraped CIK 0001368265\n",
      "Already scraped CIK 0001679688\n",
      "Already scraped CIK 0001649096\n",
      "Already scraped CIK 0001724542\n",
      "Already scraped CIK 0001285550\n",
      "Already scraped CIK 0000732834\n",
      "Already scraped CIK 0001279704\n",
      "Already scraped CIK 0000840715\n",
      "Already scraped CIK 0001030894\n",
      "Already scraped CIK 0001539029\n",
      "Already scraped CIK 0000827876\n",
      "Already scraped CIK 0000749647\n",
      "Already scraped CIK 0001281774\n",
      "Already scraped CIK 0001466301\n",
      "Already scraped CIK 0001441236\n",
      "Already scraped CIK 0001026662\n",
      "Already scraped CIK 0000021076\n",
      "Already scraped CIK 0001705843\n",
      "Already scraped CIK 0001045520\n",
      "Already scraped CIK 0000028412\n",
      "Already scraped CIK 0001738177\n",
      "Already scraped CIK 0000022444\n",
      "Already scraped CIK 0000766011\n",
      "Already scraped CIK 0001597835\n",
      "Already scraped CIK 0001005229\n",
      "Already scraped CIK 0000908311\n",
      "Already scraped CIK 0000019446\n",
      "Already scraped CIK 0001156375\n",
      "Already scraped CIK 0001578348\n",
      "Already scraped CIK 0001058090\n",
      "Already scraped CIK 0000026172\n",
      "Already scraped CIK 0001058623\n",
      "Already scraped CIK 0000766701\n",
      "Already scraped CIK 0001227654\n",
      "Already scraped CIK 0001262976\n",
      "Already scraped CIK 0001503584\n",
      "Already scraped CIK 0001117480\n"
     ]
    },
    {
     "name": "stderr",
     "output_type": "stream",
     "text": [
      " 26%|██▌       | 1243/4854 [00:00<00:01, 3384.37it/s]"
     ]
    },
    {
     "name": "stdout",
     "output_type": "stream",
     "text": [
      "Already scraped CIK 0000811156\n",
      "Already scraped CIK 0001026655\n",
      "Already scraped CIK 0000023197\n",
      "Already scraped CIK 0000021175\n",
      "Already scraped CIK 0000812348\n",
      "Already scraped CIK 0001071739\n",
      "Already scraped CIK 0001367920\n",
      "Already scraped CIK 0001677703\n",
      "Already scraped CIK 0001376321\n",
      "Already scraped CIK 0001733868\n",
      "Already scraped CIK 0001502292\n",
      "Already scraped CIK 0001567094\n",
      "Already scraped CIK 0000016868\n",
      "Already scraped CIK 0001385280\n",
      "Already scraped CIK 0000816956\n",
      "Already scraped CIK 0001787005\n",
      "Already scraped CIK 0001704720\n",
      "Already scraped CIK 0001224608\n",
      "Already scraped CIK 0000712771\n",
      "Already scraped CIK 0001130310\n",
      "Already scraped CIK 0001017413\n",
      "Already scraped CIK 0000883902\n",
      "Already scraped CIK 0001284812\n",
      "Already scraped CIK 0001304421\n",
      "Already scraped CIK 0001729427\n",
      "Already scraped CIK 0001434418\n",
      "Already scraped CIK 0001757097\n",
      "Already scraped CIK 0000911147\n",
      "Already scraped CIK 0001070412\n",
      "Already scraped CIK 0001610418\n",
      "Already scraped CIK 0001050377\n",
      "Already scraped CIK 0001467808\n",
      "Already scraped CIK 0001412486\n",
      "Already scraped CIK 0001334325\n",
      "Already scraped CIK 0001345126\n",
      "Already scraped CIK 0001692415\n",
      "Already scraped CIK 0001659494\n",
      "Already scraped CIK 0000927628\n",
      "Already scraped CIK 0000803164\n",
      "Already scraped CIK 0000858470\n",
      "Already scraped CIK 0001270436\n",
      "Already scraped CIK 0000021510\n",
      "Already scraped CIK 0000021535\n",
      "Already scraped CIK 0000317540\n",
      "Already scraped CIK 0000887343\n",
      "Already scraped CIK 0001455863\n",
      "Already scraped CIK 0001267565\n",
      "Already scraped CIK 0001050797\n",
      "Already scraped CIK 0001517228\n",
      "Already scraped CIK 0001553023\n",
      "Already scraped CIK 0001223389\n",
      "Already scraped CIK 0000711404\n",
      "Already scraped CIK 0000933136\n",
      "Already scraped CIK 0001163165\n",
      "Already scraped CIK 0001490892\n",
      "Already scraped CIK 0001318084\n",
      "Already scraped CIK 0001347652\n",
      "Already scraped CIK 0001088856\n",
      "Already scraped CIK 0000909832\n",
      "Already scraped CIK 0001024305\n",
      "Already scraped CIK 0001385867\n",
      "Already scraped CIK 0001466538\n",
      "Already scraped CIK 0000016875\n",
      "Already scraped CIK 0001345105\n",
      "Already scraped CIK 0001776661\n",
      "Already scraped CIK 0001221029\n",
      "Already scraped CIK 0001236997\n",
      "Already scraped CIK 0000016732\n",
      "Already scraped CIK 0000928022\n",
      "Already scraped CIK 0000701347\n",
      "Already scraped CIK 0001545851\n",
      "Already scraped CIK 0001672909\n",
      "Already scraped CIK 0001106644\n",
      "Already scraped CIK 0001087294\n",
      "Already scraped CIK 0000019745\n",
      "Already scraped CIK 0001707178\n",
      "Already scraped CIK 0001392326\n",
      "Already scraped CIK 0001530721\n",
      "Already scraped CIK 0000900075\n",
      "Already scraped CIK 0001369568\n",
      "Already scraped CIK 0001320461\n",
      "Already scraped CIK 0000814676\n",
      "Already scraped CIK 0001169445\n",
      "Already scraped CIK 0000889609\n",
      "Already scraped CIK 0001009759\n",
      "Already scraped CIK 0000906345\n",
      "Already scraped CIK 0001571329\n",
      "Already scraped CIK 0001383650\n",
      "Already scraped CIK 0000025445\n",
      "Already scraped CIK 0001053706\n",
      "Already scraped CIK 0001595097\n",
      "Already scraped CIK 0001609253\n",
      "Already scraped CIK 0001213037\n",
      "Already scraped CIK 0000895419\n",
      "Already scraped CIK 0000721693\n",
      "Already scraped CIK 0001034957\n",
      "Already scraped CIK 0001356093\n",
      "Already scraped CIK 0000849395\n",
      "Already scraped CIK 0001461119\n",
      "Already scraped CIK 0001060822\n",
      "Already scraped CIK 0001108205\n",
      "Already scraped CIK 0000023194\n",
      "Already scraped CIK 0001100682\n",
      "Already scraped CIK 0001108524\n",
      "Already scraped CIK 0001410098\n",
      "Already scraped CIK 0000799850\n",
      "Already scraped CIK 0001768267\n",
      "Already scraped CIK 0001119769\n",
      "Already scraped CIK 0001658247\n",
      "Already scraped CIK 0001656472\n",
      "Already scraped CIK 0001334036\n",
      "Already scraped CIK 0000017843\n",
      "Already scraped CIK 0001723648\n",
      "Already scraped CIK 0001674416\n",
      "Already scraped CIK 0000881787\n",
      "Already scraped CIK 0001576427\n",
      "Already scraped CIK 0001662774\n",
      "Already scraped CIK 0000772406\n",
      "Already scraped CIK 0000874866\n",
      "Already scraped CIK 0001626971\n",
      "Already scraped CIK 0001535527\n",
      "Already scraped CIK 0000025895\n",
      "Already scraped CIK 0000784199\n",
      "Already scraped CIK 0001159510\n",
      "Already scraped CIK 0000771856\n",
      "Already scraped CIK 0000858877\n",
      "Already scraped CIK 0001057352\n",
      "Already scraped CIK 0001005757\n",
      "Already scraped CIK 0001180145\n",
      "Already scraped CIK 0001375877\n",
      "Already scraped CIK 0000790051\n",
      "Already scraped CIK 0001433714\n",
      "Already scraped CIK 0001401680\n",
      "Already scraped CIK 0000356037\n",
      "Already scraped CIK 0001598674\n",
      "Already scraped CIK 0001679063\n",
      "Already scraped CIK 0001504379\n",
      "Already scraped CIK 0001447362\n",
      "Already scraped CIK 0001563411\n",
      "Already scraped CIK 0001676479\n",
      "Already scraped CIK 0001043000\n",
      "Already scraped CIK 0001016281\n",
      "Already scraped CIK 0000017313\n",
      "Already scraped CIK 0001624794\n",
      "Already scraped CIK 0000277948\n",
      "Already scraped CIK 0000723254\n",
      "Already scraped CIK 0000024491\n",
      "Already scraped CIK 0000350852\n",
      "Already scraped CIK 0001011432\n",
      "Already scraped CIK 0000023111\n",
      "Already scraped CIK 0001015155\n",
      "Already scraped CIK 0001042187\n",
      "Already scraped CIK 0000891293\n",
      "Already scraped CIK 0001734262\n",
      "Already scraped CIK 0000018926\n",
      "Already scraped CIK 0001596783\n",
      "Already scraped CIK 0001501989\n",
      "Already scraped CIK 0000023795\n",
      "Already scraped CIK 0001704715\n",
      "Already scraped CIK 0001590717\n",
      "Already scraped CIK 0001720161\n",
      "Already scraped CIK 0001318484\n",
      "Already scraped CIK 0000026058\n",
      "Already scraped CIK 0001058290\n",
      "Already scraped CIK 0001175151\n",
      "Already scraped CIK 0001341141\n",
      "Already scraped CIK 0001755672\n",
      "Already scraped CIK 0001506251\n",
      "Already scraped CIK 0000877890\n",
      "Already scraped CIK 0000068622\n",
      "Already scraped CIK 0000026076\n",
      "Already scraped CIK 0001298675\n",
      "Already scraped CIK 0001488813\n",
      "Already scraped CIK 0001645460\n",
      "Already scraped CIK 0001125259\n",
      "Already scraped CIK 0000723603\n",
      "Already scraped CIK 0001711291\n",
      "Already scraped CIK 0001162461\n",
      "Already scraped CIK 0000025232\n",
      "Already scraped CIK 0000225648\n",
      "Already scraped CIK 0000354647\n",
      "Already scraped CIK 0000278166\n",
      "Already scraped CIK 0001127371\n",
      "Already scraped CIK 0001475260\n",
      "Already scraped CIK 0001590584\n",
      "Already scraped CIK 0001752836\n",
      "Already scraped CIK 0001290900\n",
      "Already scraped CIK 0001133470\n",
      "Already scraped CIK 0001376139\n",
      "Already scraped CIK 0001722287\n",
      "Already scraped CIK 0001169561\n",
      "Already scraped CIK 0000806279\n",
      "Already scraped CIK 0000725363\n",
      "Already scraped CIK 0001690820\n",
      "Already scraped CIK 0000019871\n",
      "Already scraped CIK 0000064803\n",
      "Already scraped CIK 0000928658\n",
      "Already scraped CIK 0000889348\n",
      "Already scraped CIK 0000766792\n",
      "Already scraped CIK 0000093410\n",
      "Already scraped CIK 0000026324\n",
      "Already scraped CIK 0001051343\n",
      "Already scraped CIK 0000928340\n",
      "Already scraped CIK 0001567683\n",
      "Already scraped CIK 0001669779\n",
      "Already scraped CIK 0001628369\n",
      "Already scraped CIK 0000911177\n",
      "Already scraped CIK 0001035201\n",
      "Already scraped CIK 0001076378\n",
      "Already scraped CIK 0001353970\n",
      "Already scraped CIK 0001358071\n",
      "Already scraped CIK 0001252849\n",
      "Already scraped CIK 0001070985\n",
      "Already scraped CIK 0001637890\n",
      "Already scraped CIK 0000768408\n",
      "Already scraped CIK 0000768411\n",
      "Already scraped CIK 0001598110\n",
      "Already scraped CIK 0001130166\n",
      "Already scraped CIK 0001755237\n",
      "Already scraped CIK 0000932695\n",
      "Already scraped CIK 0001108109\n",
      "Already scraped CIK 0001084577\n",
      "Already scraped CIK 0001124524\n",
      "Already scraped CIK 0001061983\n",
      "Already scraped CIK 0000810958\n",
      "Already scraped CIK 0000858339\n",
      "Already scraped CIK 0001367859\n",
      "Already scraped CIK 0001402902\n",
      "Already scraped CIK 0000715957\n",
      "Already scraped CIK 0001369241\n",
      "Already scraped CIK 0001793862\n",
      "Already scraped CIK 0000351998\n",
      "Already scraped CIK 0000915779\n",
      "Already scraped CIK 0000027904\n",
      "Already scraped CIK 0000026780\n",
      "Already scraped CIK 0001781753\n",
      "Already scraped CIK 0000916540\n",
      "Already scraped CIK 0001401914\n",
      "Already scraped CIK 0001656081\n",
      "Already scraped CIK 0001159508\n",
      "Already scraped CIK 0000832090\n",
      "Already scraped CIK 0000028823\n",
      "Already scraped CIK 0001319947\n",
      "Already scraped CIK 0001613780\n",
      "Already scraped CIK 0001467623\n",
      "Already scraped CIK 0000029644\n",
      "Already scraped CIK 0000030305\n",
      "Already scraped CIK 0001005409\n",
      "Already scraped CIK 0001338065\n",
      "Already scraped CIK 0001654151\n",
      "Already scraped CIK 0000872912\n",
      "Already scraped CIK 0001666700\n",
      "Already scraped CIK 0000910638\n",
      "Already scraped CIK 0001561550\n",
      "Already scraped CIK 0000028917\n",
      "Already scraped CIK 0000315189\n",
      "Already scraped CIK 0001622194\n",
      "Already scraped CIK 0000910521\n",
      "Already scraped CIK 0001364250\n",
      "Already scraped CIK 0001571996\n",
      "Already scraped CIK 0000852772\n",
      "Already scraped CIK 0000835403\n",
      "Already scraped CIK 0001703141\n",
      "Already scraped CIK 0001053691\n",
      "Already scraped CIK 0001669811\n",
      "Already scraped CIK 0001777946\n",
      "Already scraped CIK 0001799191\n",
      "Already scraped CIK 0001393612\n",
      "Already scraped CIK 0000312070\n",
      "Already scraped CIK 0000029534\n",
      "Already scraped CIK 0000800457\n",
      "Already scraped CIK 0000854775\n",
      "Already scraped CIK 0001342958\n",
      "Already scraped CIK 0001022079\n",
      "Already scraped CIK 0001075415\n",
      "Already scraped CIK 0000882184\n",
      "Already scraped CIK 0000909108\n",
      "Already scraped CIK 0000313616\n",
      "Already scraped CIK 0001331284\n",
      "Already scraped CIK 0001393883\n",
      "Already scraped CIK 0000049754\n",
      "Already scraped CIK 0000029002\n",
      "Already scraped CIK 0001744489\n",
      "Already scraped CIK 0001437107\n",
      "Already scraped CIK 0001001082\n",
      "Already scraped CIK 0000928465\n",
      "Already scraped CIK 0000783412\n",
      "Already scraped CIK 0001694426\n",
      "Already scraped CIK 0001552797\n",
      "Already scraped CIK 0001772757\n",
      "Already scraped CIK 0001089063\n",
      "Already scraped CIK 0001438644\n",
      "Already scraped CIK 0001101396\n",
      "Already scraped CIK 0001308547\n",
      "Already scraped CIK 0000785557\n",
      "Already scraped CIK 0001578453\n",
      "Already scraped CIK 0001707092\n",
      "Already scraped CIK 0001282224\n",
      "Already scraped CIK 0001297996\n",
      "Already scraped CIK 0001649744\n",
      "Already scraped CIK 0000935703\n",
      "Already scraped CIK 0000027996\n",
      "Already scraped CIK 0001401040\n",
      "Already scraped CIK 0001172358\n",
      "Already scraped CIK 0001498382\n",
      "Already scraped CIK 0001438231\n",
      "Already scraped CIK 0001651944\n",
      "Already scraped CIK 0001793659\n",
      "Already scraped CIK 0001710350\n",
      "Already scraped CIK 0001785154\n",
      "Already scraped CIK 0001357204\n",
      "Already scraped CIK 0001714899\n",
      "Already scraped CIK 0001063259\n",
      "Already scraped CIK 0001599617\n",
      "Already scraped CIK 0000945764\n",
      "Already scraped CIK 0001574540\n",
      "Already scraped CIK 0001261333\n",
      "Already scraped CIK 0001707303\n",
      "Already scraped CIK 0001505952\n",
      "Already scraped CIK 0001748797\n",
      "Already scraped CIK 0000893691\n",
      "Already scraped CIK 0000868780\n",
      "Already scraped CIK 0000029905\n",
      "Already scraped CIK 0001751788\n",
      "Already scraped CIK 0001062579\n",
      "Already scraped CIK 0001762417\n",
      "Already scraped CIK 0001759546\n",
      "Already scraped CIK 0000896493\n",
      "Already scraped CIK 0001286681\n",
      "Already scraped CIK 0001477641\n",
      "Already scraped CIK 0000707388\n",
      "Already scraped CIK 0001023512\n",
      "Already scraped CIK 0000783280\n",
      "Already scraped CIK 0001298946\n",
      "Already scraped CIK 0000940944\n",
      "Already scraped CIK 0001533998\n",
      "Already scraped CIK 0001399529\n",
      "Already scraped CIK 0001042893\n",
      "Already scraped CIK 0001082038\n",
      "Already scraped CIK 0001340476\n",
      "Already scraped CIK 0001175483\n",
      "Already scraped CIK 0001050140\n",
      "Already scraped CIK 0001642453\n",
      "Already scraped CIK 0001053092\n",
      "Already scraped CIK 0000915778\n",
      "Already scraped CIK 0000771999\n",
      "Already scraped CIK 0001761940\n",
      "Already scraped CIK 0000946936\n",
      "Already scraped CIK 0001318885\n",
      "Already scraped CIK 0001773383\n",
      "Already scraped CIK 0000936340\n",
      "Already scraped CIK 0001627606\n",
      "Already scraped CIK 0001357874\n",
      "Already scraped CIK 0001631282\n",
      "Already scraped CIK 0001326160\n",
      "Already scraped CIK 0001750593\n",
      "Already scraped CIK 0001396536\n",
      "Already scraped CIK 0000927066\n",
      "Already scraped CIK 0001029142\n",
      "Already scraped CIK 0001017673\n",
      "Already scraped CIK 0001090012\n",
      "Already scraped CIK 0000799165\n",
      "Already scraped CIK 0000826675\n",
      "Already scraped CIK 0001688568\n",
      "Already scraped CIK 0001093557\n",
      "Already scraped CIK 0001499494\n",
      "Already scraped CIK 0000813298\n",
      "Already scraped CIK 0001020710\n",
      "Already scraped CIK 0000029332\n",
      "Already scraped CIK 0000067215\n",
      "Already scraped CIK 0001213809\n",
      "Already scraped CIK 0000720875\n",
      "Already scraped CIK 0001101680\n",
      "Already scraped CIK 0001002242\n",
      "Already scraped CIK 0000712515\n",
      "Already scraped CIK 0000007323\n",
      "Already scraped CIK 0000931148\n",
      "Already scraped CIK 0001560672\n",
      "Already scraped CIK 0001601936\n",
      "Already scraped CIK 0001534708\n",
      "Already scraped CIK 0000703351\n",
      "Already scraped CIK 0001475115\n",
      "Already scraped CIK 0001065088\n",
      "Already scraped CIK 0000033002\n",
      "Already scraped CIK 0000814549\n",
      "Already scraped CIK 0001478454\n",
      "Already scraped CIK 0001439124\n",
      "Already scraped CIK 0001367644\n",
      "Already scraped CIK 0001600125\n",
      "Already scraped CIK 0001018399\n",
      "Already scraped CIK 0001444406\n",
      "Already scraped CIK 0001426945\n",
      "Already scraped CIK 0000031462\n",
      "Already scraped CIK 0001783400\n",
      "Already scraped CIK 0001169652\n",
      "Already scraped CIK 0001560258\n",
      "Already scraped CIK 0001084961\n",
      "Already scraped CIK 0001487798\n",
      "Already scraped CIK 0001047862\n",
      "Already scraped CIK 0001041934\n",
      "Already scraped CIK 0001650664\n"
     ]
    },
    {
     "name": "stderr",
     "output_type": "stream",
     "text": [
      " 40%|████      | 1955/4854 [00:00<00:00, 3209.35it/s]"
     ]
    },
    {
     "name": "stdout",
     "output_type": "stream",
     "text": [
      "Already scraped CIK 0001395213\n",
      "Already scraped CIK 0001717556\n",
      "Already scraped CIK 0001731388\n",
      "Already scraped CIK 0001540159\n",
      "Already scraped CIK 0001372920\n",
      "Already scraped CIK 0000031667\n",
      "Already scraped CIK 0000031978\n",
      "Already scraped CIK 0001029199\n",
      "Already scraped CIK 0001579214\n",
      "Already scraped CIK 0001411342\n",
      "Already scraped CIK 0000924168\n",
      "Already scraped CIK 0001025835\n",
      "Already scraped CIK 0000033185\n",
      "Already scraped CIK 0001066194\n",
      "Already scraped CIK 0001050441\n",
      "Already scraped CIK 0001023731\n",
      "Already scraped CIK 0001322439\n",
      "Already scraped CIK 0000918608\n",
      "Already scraped CIK 0001065332\n",
      "Already scraped CIK 0000049600\n",
      "Already scraped CIK 0000827871\n",
      "Already scraped CIK 0000894627\n",
      "Already scraped CIK 0001759783\n",
      "Already scraped CIK 0000785161\n",
      "Already scraped CIK 0001333493\n",
      "Already scraped CIK 0001731831\n",
      "Already scraped CIK 0001379041\n",
      "Already scraped CIK 0001237746\n",
      "Already scraped CIK 0001305253\n",
      "Already scraped CIK 0000827052\n",
      "Already scraped CIK 0001549084\n",
      "Already scraped CIK 0001001250\n",
      "Already scraped CIK 0000701719\n",
      "Already scraped CIK 0001739104\n",
      "Already scraped CIK 0001348952\n",
      "Already scraped CIK 0001600033\n",
      "Already scraped CIK 0001013606\n",
      "Already scraped CIK 0000946394\n",
      "Already scraped CIK 0001488917\n",
      "Already scraped CIK 0001035354\n",
      "Already scraped CIK 0001041792\n",
      "Already scraped CIK 0000895417\n",
      "Already scraped CIK 0000351789\n",
      "Already scraped CIK 0001024672\n",
      "Already scraped CIK 0001651094\n",
      "Already scraped CIK 0000837465\n",
      "Already scraped CIK 0001046995\n",
      "Already scraped CIK 0000858800\n",
      "Already scraped CIK 0000105634\n",
      "Already scraped CIK 0000808326\n",
      "Already scraped CIK 0000031107\n",
      "Already scraped CIK 0000915389\n",
      "Already scraped CIK 0000066901\n",
      "Already scraped CIK 0000032604\n",
      "Already scraped CIK 0001285786\n",
      "Already scraped CIK 0000895728\n",
      "Already scraped CIK 0001591763\n",
      "Already scraped CIK 0001593034\n",
      "Already scraped CIK 0000933738\n",
      "Already scraped CIK 0000912505\n",
      "Already scraped CIK 0001659939\n",
      "Already scraped CIK 0000071508\n",
      "Already scraped CIK 0001592000\n",
      "Already scraped CIK 0001596812\n",
      "Already scraped CIK 0001527728\n",
      "Already scraped CIK 0001463101\n",
      "Already scraped CIK 0001632790\n",
      "Already scraped CIK 0001289308\n",
      "Already scraped CIK 0001125376\n",
      "Already scraped CIK 0000319458\n",
      "Already scraped CIK 0001512077\n",
      "Already scraped CIK 0001177648\n",
      "Already scraped CIK 0001101302\n",
      "Already scraped CIK 0001638097\n",
      "Already scraped CIK 0001337619\n",
      "Already scraped CIK 0001529864\n",
      "Already scraped CIK 0000316253\n",
      "Already scraped CIK 0000821189\n",
      "Already scraped CIK 0001570562\n",
      "Already scraped CIK 0000006955\n",
      "Already scraped CIK 0001352010\n",
      "Already scraped CIK 0001073349\n",
      "Already scraped CIK 0001096752\n",
      "Already scraped CIK 0001061219\n",
      "Already scraped CIK 0001633932\n",
      "Already scraped CIK 0001006655\n",
      "Already scraped CIK 0001045450\n",
      "Already scraped CIK 0001728951\n",
      "Already scraped CIK 0001726126\n",
      "Already scraped CIK 0001571498\n",
      "Already scraped CIK 0001746466\n",
      "Already scraped CIK 0001227500\n",
      "Already scraped CIK 0000803649\n",
      "Already scraped CIK 0001333986\n",
      "Already scraped CIK 0001101239\n",
      "Already scraped CIK 0001140625\n",
      "Already scraped CIK 0000906107\n",
      "Already scraped CIK 0000878932\n",
      "Already scraped CIK 0000033213\n",
      "Already scraped CIK 0001756607\n",
      "Already scraped CIK 0001126874\n",
      "Already scraped CIK 0001590895\n",
      "Already scraped CIK 0000717826\n",
      "Already scraped CIK 0000922621\n",
      "Already scraped CIK 0001421517\n",
      "Already scraped CIK 0001355444\n",
      "Already scraped CIK 0001532981\n",
      "Already scraped CIK 0001624422\n",
      "Already scraped CIK 0000072741\n",
      "Already scraped CIK 0000033488\n",
      "Already scraped CIK 0000866706\n",
      "Already scraped CIK 0001341170\n",
      "Already scraped CIK 0001363829\n",
      "Already scraped CIK 0001590714\n",
      "Already scraped CIK 0001027664\n",
      "Already scraped CIK 0001448893\n",
      "Already scraped CIK 0000033533\n",
      "Already scraped CIK 0001434868\n",
      "Already scraped CIK 0001531031\n",
      "Already scraped CIK 0001541401\n",
      "Already scraped CIK 0000920522\n",
      "Already scraped CIK 0001382230\n",
      "Already scraped CIK 0001760683\n",
      "Already scraped CIK 0001688757\n",
      "Already scraped CIK 0001707753\n",
      "Already scraped CIK 0000010254\n",
      "Already scraped CIK 0001323648\n",
      "Already scraped CIK 0001276187\n",
      "Already scraped CIK 0001015780\n",
      "Already scraped CIK 0000896156\n",
      "Already scraped CIK 0001067837\n",
      "Already scraped CIK 0001551182\n",
      "Already scraped CIK 0001785173\n",
      "Already scraped CIK 0001710340\n",
      "Already scraped CIK 0000065984\n",
      "Already scraped CIK 0001747009\n",
      "Already scraped CIK 0001370637\n",
      "Already scraped CIK 0001724344\n",
      "Already scraped CIK 0001604481\n",
      "Already scraped CIK 0000350797\n",
      "Already scraped CIK 0001592057\n",
      "Already scraped CIK 0001437352\n",
      "Already scraped CIK 0000842518\n",
      "Already scraped CIK 0001109116\n",
      "Already scraped CIK 0001640428\n",
      "Already scraped CIK 0001618835\n",
      "Already scraped CIK 0001574565\n",
      "Already scraped CIK 0001628908\n",
      "Already scraped CIK 0000065312\n",
      "Already scraped CIK 0000943184\n",
      "Already scraped CIK 0001694665\n",
      "Already scraped CIK 0001403708\n",
      "Already scraped CIK 0001052054\n",
      "Already scraped CIK 0001704596\n",
      "Already scraped CIK 0001360901\n",
      "Already scraped CIK 0001711269\n",
      "Already scraped CIK 0001318568\n",
      "Already scraped CIK 0001398805\n",
      "Already scraped CIK 0001559865\n",
      "Already scraped CIK 0001099800\n",
      "Already scraped CIK 0001069157\n",
      "Already scraped CIK 0001124140\n",
      "Already scraped CIK 0001109357\n",
      "Already scraped CIK 0000939767\n",
      "Already scraped CIK 0001116284\n",
      "Already scraped CIK 0001277866\n",
      "Already scraped CIK 0001297989\n",
      "Already scraped CIK 0000918646\n",
      "Already scraped CIK 0001779128\n",
      "Already scraped CIK 0000746515\n",
      "Already scraped CIK 0001324424\n",
      "Already scraped CIK 0001495932\n",
      "Already scraped CIK 0000851520\n",
      "Already scraped CIK 0001483510\n",
      "Already scraped CIK 0001289490\n",
      "Already scraped CIK 0001635881\n",
      "Already scraped CIK 0001078271\n",
      "Already scraped CIK 0001710155\n",
      "Already scraped CIK 0001372514\n",
      "Already scraped CIK 0001682639\n",
      "Already scraped CIK 0001266806\n",
      "Already scraped CIK 0001314102\n",
      "Already scraped CIK 0000876523\n",
      "Already scraped CIK 0001427437\n",
      "Already scraped CIK 0000037996\n",
      "Already scraped CIK 0001472787\n",
      "Already scraped CIK 0001701261\n",
      "Already scraped CIK 0001539838\n",
      "Already scraped CIK 0001413855\n",
      "Already scraped CIK 0000034563\n",
      "Already scraped CIK 0000917491\n",
      "Already scraped CIK 0000815556\n",
      "Already scraped CIK 0001705012\n",
      "Already scraped CIK 0001434316\n",
      "Already scraped CIK 0001326801\n",
      "Already scraped CIK 0001033012\n",
      "Already scraped CIK 0001519751\n",
      "Already scraped CIK 0001429260\n",
      "Already scraped CIK 0001521951\n",
      "Already scraped CIK 0001649749\n",
      "Already scraped CIK 0001688941\n",
      "Already scraped CIK 0000947559\n",
      "Already scraped CIK 0000811589\n",
      "Already scraped CIK 0001057706\n",
      "Already scraped CIK 0001419041\n",
      "Already scraped CIK 0001083643\n",
      "Already scraped CIK 0000886206\n",
      "Already scraped CIK 0001070296\n",
      "Already scraped CIK 0001605484\n",
      "Already scraped CIK 0000859070\n",
      "Already scraped CIK 0001716697\n",
      "Already scraped CIK 0000932781\n",
      "Already scraped CIK 0001141807\n",
      "Already scraped CIK 0000886128\n",
      "Already scraped CIK 0000712537\n",
      "Already scraped CIK 0000840489\n",
      "Already scraped CIK 0000887936\n",
      "Already scraped CIK 0000798941\n",
      "Already scraped CIK 0001650132\n",
      "Already scraped CIK 0000831259\n",
      "Already scraped CIK 0001098151\n",
      "Already scraped CIK 0000946647\n",
      "Already scraped CIK 0001047340\n",
      "Already scraped CIK 0001013237\n",
      "Already scraped CIK 0001513363\n",
      "Already scraped CIK 0001048911\n",
      "Already scraped CIK 0001031296\n",
      "Already scraped CIK 0001801661\n",
      "Already scraped CIK 0001709819\n",
      "Already scraped CIK 0000039020\n",
      "Already scraped CIK 0000038725\n",
      "Already scraped CIK 0001211583\n",
      "Already scraped CIK 0001509646\n",
      "Already scraped CIK 0001401257\n",
      "Already scraped CIK 0001370880\n",
      "Already scraped CIK 0001337298\n",
      "Already scraped CIK 0000708955\n",
      "Already scraped CIK 0001787384\n",
      "Already scraped CIK 0001012771\n",
      "Already scraped CIK 0001381074\n",
      "Already scraped CIK 0000923139\n",
      "Already scraped CIK 0000036029\n",
      "Already scraped CIK 0001048695\n",
      "Already scraped CIK 0001401564\n",
      "Already scraped CIK 0001413837\n",
      "Already scraped CIK 0001408534\n",
      "Already scraped CIK 0000921299\n",
      "Already scraped CIK 0000036377\n",
      "Already scraped CIK 0001056288\n",
      "Already scraped CIK 0000036966\n",
      "Already scraped CIK 0001575828\n",
      "Already scraped CIK 0000860413\n",
      "Already scraped CIK 0000814547\n",
      "Already scraped CIK 0001691445\n",
      "Already scraped CIK 0001136893\n",
      "Already scraped CIK 0000862831\n",
      "Already scraped CIK 0000798354\n",
      "Already scraped CIK 0001447599\n",
      "Already scraped CIK 0000035527\n",
      "Already scraped CIK 0001177609\n",
      "Already scraped CIK 0001288847\n",
      "Already scraped CIK 0001035983\n",
      "Already scraped CIK 0001661998\n",
      "Already scraped CIK 0000069891\n",
      "Already scraped CIK 0000850209\n",
      "Already scraped CIK 0001162194\n",
      "Already scraped CIK 0000866374\n",
      "Already scraped CIK 0001674930\n",
      "Already scraped CIK 0000740663\n",
      "Already scraped CIK 0000354908\n",
      "Already scraped CIK 0000891482\n",
      "Already scraped CIK 0001703785\n",
      "Already scraped CIK 0001772253\n",
      "Already scraped CIK 0001460329\n",
      "Already scraped CIK 0001128928\n",
      "Already scraped CIK 0001641991\n",
      "Already scraped CIK 0001124198\n",
      "Already scraped CIK 0001787462\n",
      "Already scraped CIK 0000030625\n",
      "Already scraped CIK 0001175454\n",
      "Already scraped CIK 0001083743\n",
      "Already scraped CIK 0001084869\n",
      "Already scraped CIK 0001419600\n",
      "Already scraped CIK 0000037472\n",
      "Already scraped CIK 0001407298\n",
      "Already scraped CIK 0000792966\n",
      "Already scraped CIK 0000700565\n",
      "Already scraped CIK 0000702325\n",
      "Already scraped CIK 0000037785\n",
      "Already scraped CIK 0001741231\n",
      "Already scraped CIK 0000709337\n",
      "Already scraped CIK 0001333141\n",
      "Already scraped CIK 0001538927\n",
      "Already scraped CIK 0001061736\n",
      "Already scraped CIK 0001408710\n",
      "Already scraped CIK 0000037808\n",
      "Already scraped CIK 0001035976\n",
      "Already scraped CIK 0001507079\n",
      "Already scraped CIK 0001331875\n",
      "Already scraped CIK 0001069996\n",
      "Already scraped CIK 0001366340\n",
      "Already scraped CIK 0001704711\n",
      "Already scraped CIK 0000765207\n",
      "Already scraped CIK 0001456346\n",
      "Already scraped CIK 0001556727\n",
      "Already scraped CIK 0001651052\n",
      "Already scraped CIK 0000035214\n",
      "Already scraped CIK 0001178879\n",
      "Already scraped CIK 0000355019\n",
      "Already scraped CIK 0001406587\n",
      "Already scraped CIK 0000038264\n",
      "Already scraped CIK 0001637921\n",
      "Already scraped CIK 0001039399\n",
      "Already scraped CIK 0001023313\n",
      "Already scraped CIK 0001045986\n",
      "Already scraped CIK 0000883569\n",
      "Already scraped CIK 0001794669\n",
      "Already scraped CIK 0001754301\n",
      "Already scraped CIK 0001424929\n",
      "Already scraped CIK 0001735858\n",
      "Already scraped CIK 0001397047\n",
      "Already scraped CIK 0001574197\n",
      "Already scraped CIK 0001591670\n",
      "Already scraped CIK 0001175505\n",
      "Already scraped CIK 0000921825\n",
      "Already scraped CIK 0000723646\n",
      "Already scraped CIK 0001399935\n",
      "Already scraped CIK 0000834285\n",
      "Already scraped CIK 0000039092\n",
      "Already scraped CIK 0001703647\n",
      "Already scraped CIK 0001528930\n",
      "Already scraped CIK 0001534992\n",
      "Already scraped CIK 0000924805\n",
      "Already scraped CIK 0000712534\n",
      "Already scraped CIK 0000913290\n",
      "Already scraped CIK 0000844059\n",
      "Already scraped CIK 0001611647\n",
      "Already scraped CIK 0001691221\n",
      "Already scraped CIK 0000034903\n",
      "Already scraped CIK 0001678463\n",
      "Already scraped CIK 0001407067\n",
      "Already scraped CIK 0001530249\n",
      "Already scraped CIK 0001145057\n",
      "Already scraped CIK 0001769267\n",
      "Already scraped CIK 0001435508\n",
      "Already scraped CIK 0001069394\n",
      "Already scraped CIK 0001422183\n",
      "Already scraped CIK 0001525759\n",
      "Already scraped CIK 0001274494\n",
      "Already scraped CIK 0001517413\n",
      "Already scraped CIK 0001341335\n",
      "Already scraped CIK 0001031316\n",
      "Already scraped CIK 0001785424\n",
      "Already scraped CIK 0000277509\n",
      "Already scraped CIK 0000352825\n",
      "Already scraped CIK 0001637810\n",
      "Already scraped CIK 0001729756\n",
      "Already scraped CIK 0001590364\n",
      "Already scraped CIK 0001740915\n",
      "Already scraped CIK 0001727263\n",
      "Already scraped CIK 0000846913\n",
      "Already scraped CIK 0001066923\n",
      "Already scraped CIK 0001681459\n",
      "Already scraped CIK 0000928054\n",
      "Already scraped CIK 0001262039\n",
      "Already scraped CIK 0001666175\n",
      "Already scraped CIK 0001529463\n",
      "Already scraped CIK 0001659166\n",
      "Already scraped CIK 0000039368\n",
      "Already scraped CIK 0001680581\n",
      "Already scraped CIK 0000700564\n",
      "Already scraped CIK 0000811532\n",
      "Already scraped CIK 0000763907\n",
      "Already scraped CIK 0000717806\n",
      "Already scraped CIK 0001754581\n",
      "Already scraped CIK 0001558583\n",
      "Already scraped CIK 0001159281\n",
      "Already scraped CIK 0001762301\n",
      "Already scraped CIK 0001604924\n",
      "Already scraped CIK 0000912728\n",
      "Already scraped CIK 0000719402\n",
      "Already scraped CIK 0001398659\n",
      "Already scraped CIK 0000714395\n",
      "Already scraped CIK 0001089872\n",
      "Already scraped CIK 0001321741\n",
      "Already scraped CIK 0001133416\n",
      "Already scraped CIK 0001799332\n",
      "Already scraped CIK 0001328919\n",
      "Already scraped CIK 0000040211\n",
      "Already scraped CIK 0001377757\n",
      "Already scraped CIK 0000868671\n",
      "Already scraped CIK 0001476765\n",
      "Already scraped CIK 0001733294\n",
      "Already scraped CIK 0001060349\n",
      "Already scraped CIK 0001494904\n",
      "Already scraped CIK 0000105744\n",
      "Already scraped CIK 0001629137\n",
      "Already scraped CIK 0000923120\n",
      "Already scraped CIK 0001444363\n",
      "Already scraped CIK 0001070524\n",
      "Already scraped CIK 0001579684\n",
      "Already scraped CIK 0000018498\n",
      "Already scraped CIK 0001644440\n",
      "Already scraped CIK 0000040533\n",
      "Already scraped CIK 0001609711\n",
      "Already scraped CIK 0001071255\n",
      "Already scraped CIK 0001386278\n",
      "Already scraped CIK 0000943861\n",
      "Already scraped CIK 0001526125\n",
      "Already scraped CIK 0001743725\n",
      "Already scraped CIK 0000040545\n",
      "Already scraped CIK 0001082506\n",
      "Already scraped CIK 0001675033\n",
      "Already scraped CIK 0000043920\n",
      "Already scraped CIK 0001022321\n",
      "Already scraped CIK 0001351051\n",
      "Already scraped CIK 0000064472\n",
      "Already scraped CIK 0001166272\n",
      "Already scraped CIK 0000923796\n",
      "Already scraped CIK 0001001115\n",
      "Already scraped CIK 0000886744\n",
      "Already scraped CIK 0000912463\n",
      "Already scraped CIK 0001392380\n",
      "Already scraped CIK 0001046203\n",
      "Already scraped CIK 0000050725\n",
      "Already scraped CIK 0001172724\n",
      "Already scraped CIK 0001780232\n",
      "Already scraped CIK 0001342287\n",
      "Already scraped CIK 0001114700\n",
      "Already scraped CIK 0001073404\n",
      "Already scraped CIK 0000042888\n",
      "Already scraped CIK 0001576280\n",
      "Already scraped CIK 0000104889\n",
      "Already scraped CIK 0001724755\n",
      "Already scraped CIK 0001783398\n",
      "Already scraped CIK 0001282977\n",
      "Already scraped CIK 0000716314\n",
      "Already scraped CIK 0001642375\n",
      "Already scraped CIK 0001061574\n",
      "Already scraped CIK 0001031623\n",
      "Already scraped CIK 0001105101\n",
      "Already scraped CIK 0000821002\n",
      "Already scraped CIK 0001061894\n",
      "Already scraped CIK 0000882095\n",
      "Already scraped CIK 0000897322\n",
      "Already scraped CIK 0000040704\n",
      "Already scraped CIK 0001770141\n",
      "Already scraped CIK 0001192448\n",
      "Already scraped CIK 0000320335\n",
      "Already scraped CIK 0001143513\n",
      "Already scraped CIK 0001499780\n",
      "Already scraped CIK 0000890066\n",
      "Already scraped CIK 0001372020\n",
      "Already scraped CIK 0001784851\n",
      "Already scraped CIK 0001556266\n",
      "Already scraped CIK 0000808461\n",
      "Already scraped CIK 0001595353\n",
      "Already scraped CIK 0001207179\n",
      "Already scraped CIK 0001557860\n",
      "Already scraped CIK 0001534126\n",
      "Already scraped CIK 0001598655\n",
      "Already scraped CIK 0001323468\n",
      "Already scraped CIK 0001421876\n",
      "Already scraped CIK 0001575965\n",
      "Already scraped CIK 0001385613\n",
      "Already scraped CIK 0000041719\n",
      "Already scraped CIK 0001366246\n",
      "Already scraped CIK 0000024741\n",
      "Already scraped CIK 0001253689\n",
      "Already scraped CIK 0001467858\n",
      "Already scraped CIK 0001434265\n",
      "Already scraped CIK 0001451448\n",
      "Already scraped CIK 0001600847\n",
      "Already scraped CIK 0001326380\n",
      "Already scraped CIK 0001237831\n",
      "Already scraped CIK 0001758057\n",
      "Already scraped CIK 0001415916\n",
      "Already scraped CIK 0001275229\n",
      "Already scraped CIK 0001533615\n",
      "Already scraped CIK 0001600438\n",
      "Already scraped CIK 0001502034\n",
      "Already scraped CIK 0001457612\n",
      "Already scraped CIK 0001528356\n",
      "Already scraped CIK 0001757064\n",
      "Already scraped CIK 0001326200\n",
      "Already scraped CIK 0001526113\n",
      "Already scraped CIK 0001743745\n",
      "Already scraped CIK 0001487371\n",
      "Already scraped CIK 0001595248\n",
      "Already scraped CIK 0001474735\n",
      "Already scraped CIK 0001790665\n",
      "Already scraped CIK 0000924383\n",
      "Already scraped CIK 0000355811\n",
      "Already scraped CIK 0001058867\n",
      "Already scraped CIK 0001355848\n",
      "Already scraped CIK 0001276520\n",
      "Already scraped CIK 0001771515\n",
      "Already scraped CIK 0001029145\n",
      "Already scraped CIK 0001537054\n",
      "Already scraped CIK 0001291733\n",
      "Already scraped CIK 0000756894\n",
      "Already scraped CIK 0001672013\n",
      "Already scraped CIK 0001234006\n",
      "Already scraped CIK 0001652044\n",
      "Already scraped CIK 0001690511\n",
      "Already scraped CIK 0001160791\n",
      "Already scraped CIK 0001728117\n",
      "Already scraped CIK 0001708176\n",
      "Already scraped CIK 0000040987\n",
      "Already scraped CIK 0001031203\n",
      "Already scraped CIK 0000041091\n",
      "Already scraped CIK 0001408075\n",
      "Already scraped CIK 0001300050\n",
      "Already scraped CIK 0001703644\n",
      "Already scraped CIK 0001123360\n",
      "Already scraped CIK 0000874499\n",
      "Already scraped CIK 0001635650\n",
      "Already scraped CIK 0001309402\n",
      "Already scraped CIK 0001464591\n",
      "Already scraped CIK 0001500435\n",
      "Already scraped CIK 0000039911\n",
      "Already scraped CIK 0000070415\n",
      "Already scraped CIK 0001045309\n",
      "Already scraped CIK 0001745317\n",
      "Already scraped CIK 0001572621\n",
      "Already scraped CIK 0001373670\n",
      "Already scraped CIK 0000042682\n",
      "Already scraped CIK 0001438569\n",
      "Already scraped CIK 0001037390\n",
      "Already scraped CIK 0001701756\n",
      "Already scraped CIK 0001725293\n",
      "Already scraped CIK 0001121788\n",
      "Already scraped CIK 0001597846\n",
      "Already scraped CIK 0001788841\n",
      "Already scraped CIK 0000754811\n",
      "Already scraped CIK 0001490281\n",
      "Already scraped CIK 0001656634\n",
      "Already scraped CIK 0001563577\n",
      "Already scraped CIK 0001594109\n",
      "Already scraped CIK 0001313310\n",
      "Already scraped CIK 0001604868\n",
      "Already scraped CIK 0000886982\n",
      "Already scraped CIK 0001366868\n",
      "Already scraped CIK 0001112920\n",
      "Already scraped CIK 0000854560\n",
      "Already scraped CIK 0001572694\n",
      "Already scraped CIK 0001012139\n",
      "Already scraped CIK 0001726978\n",
      "Already scraped CIK 0001126741\n",
      "Already scraped CIK 0001131399\n",
      "Already scraped CIK 0001712923\n",
      "Already scraped CIK 0001430725\n",
      "Already scraped CIK 0001639877\n",
      "Already scraped CIK 0001738758\n",
      "Already scraped CIK 0000903571\n",
      "Already scraped CIK 0001647338\n",
      "Already scraped CIK 0001321847\n",
      "Already scraped CIK 0001768259\n",
      "Already scraped CIK 0000042582\n",
      "Already scraped CIK 0001273441\n",
      "Already scraped CIK 0001735041\n",
      "Already scraped CIK 0001718512\n",
      "Already scraped CIK 0001782594\n",
      "Already scraped CIK 0001560241\n",
      "Already scraped CIK 0000825324\n",
      "Already scraped CIK 0000892553\n",
      "Already scraped CIK 0000043196\n",
      "Already scraped CIK 0001171662\n",
      "Already scraped CIK 0001315255\n",
      "Already scraped CIK 0001735707\n",
      "Already scraped CIK 0001052752\n",
      "Already scraped CIK 0001682325\n",
      "Already scraped CIK 0000885462\n",
      "Already scraped CIK 0000042316\n",
      "Already scraped CIK 0000861459\n",
      "Already scraped CIK 0000944480\n",
      "Already scraped CIK 0001613665\n",
      "Already scraped CIK 0001522690\n",
      "Already scraped CIK 0001351288\n",
      "Already scraped CIK 0001528396\n",
      "Already scraped CIK 0001434728\n",
      "Already scraped CIK 0000277135\n",
      "Already scraped CIK 0001752828\n",
      "Already scraped CIK 0001589061\n",
      "Already scraped CIK 0001468174\n",
      "Already scraped CIK 0001172222\n",
      "Already scraped CIK 0000313143\n",
      "Already scraped CIK 0001109242\n",
      "Already scraped CIK 0000910406\n",
      "Already scraped CIK 0000045012\n",
      "Already scraped CIK 0000819913\n",
      "Already scraped CIK 0001159036\n",
      "Already scraped CIK 0001751876\n",
      "Already scraped CIK 0001708493\n",
      "Already scraped CIK 0000046080\n",
      "Already scraped CIK 0001561894\n",
      "Already scraped CIK 0000858655\n",
      "Already scraped CIK 0000049196\n",
      "Already scraped CIK 0001709164\n",
      "Already scraped CIK 0001436425\n",
      "Already scraped CIK 0001359841\n",
      "Already scraped CIK 0001123494\n",
      "Already scraped CIK 0001322422\n",
      "Already scraped CIK 0001390162\n",
      "Already scraped CIK 0000706129\n",
      "Already scraped CIK 0001093082\n",
      "Already scraped CIK 0000775215\n",
      "Already scraped CIK 0000860730\n",
      "Already scraped CIK 0001750153\n",
      "Already scraped CIK 0001636422\n",
      "Already scraped CIK 0001691303\n",
      "Already scraped CIK 0001736874\n",
      "Already scraped CIK 0001403431\n",
      "Already scraped CIK 0001791091\n",
      "Already scraped CIK 0001547546\n",
      "Already scraped CIK 0001006837\n",
      "Already scraped CIK 0001400810\n",
      "Already scraped CIK 0001057379\n",
      "Already scraped CIK 0001648257\n",
      "Already scraped CIK 0001549848\n",
      "Already scraped CIK 0000731012\n",
      "Already scraped CIK 0001280784\n",
      "Already scraped CIK 0000354950\n",
      "Already scraped CIK 0001144967\n",
      "Already scraped CIK 0001573097\n"
     ]
    },
    {
     "name": "stderr",
     "output_type": "stream",
     "text": [
      " 54%|█████▍    | 2613/4854 [00:00<00:00, 3127.49it/s]"
     ]
    },
    {
     "name": "stdout",
     "output_type": "stream",
     "text": [
      "Already scraped CIK 0000925528\n",
      "Already scraped CIK 0000354707\n",
      "Already scraped CIK 0001493761\n",
      "Already scraped CIK 0001603993\n",
      "Already scraped CIK 0001803901\n",
      "Already scraped CIK 0001339605\n",
      "Already scraped CIK 0000046619\n",
      "Already scraped CIK 0000916789\n",
      "Already scraped CIK 0001283140\n",
      "Already scraped CIK 0001583771\n",
      "Already scraped CIK 0000004447\n",
      "Already scraped CIK 0001789832\n",
      "Already scraped CIK 0001690947\n",
      "Already scraped CIK 0001500375\n",
      "Already scraped CIK 0000048039\n",
      "Already scraped CIK 0001680873\n",
      "Already scraped CIK 0001046025\n",
      "Already scraped CIK 0000874766\n",
      "Already scraped CIK 0001158420\n",
      "Already scraped CIK 0001674168\n",
      "Already scraped CIK 0001498828\n",
      "Already scraped CIK 0001721181\n",
      "Already scraped CIK 0000045919\n",
      "Already scraped CIK 0001747661\n",
      "Already scraped CIK 0001417398\n",
      "Already scraped CIK 0001017480\n",
      "Already scraped CIK 0001026785\n",
      "Already scraped CIK 0001501585\n",
      "Already scraped CIK 0001287808\n",
      "Already scraped CIK 0001342338\n",
      "Already scraped CIK 0000921082\n",
      "Already scraped CIK 0001661053\n",
      "Already scraped CIK 0001769731\n",
      "Already scraped CIK 0000719413\n",
      "Already scraped CIK 0001180262\n",
      "Already scraped CIK 0001596964\n",
      "Already scraped CIK 0001302215\n",
      "Already scraped CIK 0001024795\n",
      "Already scraped CIK 0000851310\n",
      "Already scraped CIK 0001433642\n",
      "Already scraped CIK 0001585689\n",
      "Already scraped CIK 0000866829\n",
      "Already scraped CIK 0000715153\n",
      "Already scraped CIK 0000311817\n",
      "Already scraped CIK 0001580156\n",
      "Already scraped CIK 0001720446\n",
      "Already scraped CIK 0001603016\n",
      "Already scraped CIK 0000850141\n",
      "Already scraped CIK 0000921183\n",
      "Already scraped CIK 0001518715\n",
      "Already scraped CIK 0001196501\n",
      "Already scraped CIK 0001567345\n",
      "Already scraped CIK 0001023514\n",
      "Already scraped CIK 0000722723\n",
      "Already scraped CIK 0000048287\n",
      "Already scraped CIK 0001145255\n",
      "Already scraped CIK 0000929058\n",
      "Already scraped CIK 0000788965\n",
      "Already scraped CIK 0001077688\n",
      "Already scraped CIK 0000793952\n",
      "Already scraped CIK 0001357450\n",
      "Already scraped CIK 0000859737\n",
      "Already scraped CIK 0001331520\n",
      "Already scraped CIK 0001646228\n",
      "Already scraped CIK 0000773840\n",
      "Already scraped CIK 0001668224\n",
      "Already scraped CIK 0001760542\n",
      "Already scraped CIK 0001128361\n",
      "Already scraped CIK 0001711786\n",
      "Already scraped CIK 0000357294\n",
      "Already scraped CIK 0000046765\n",
      "Already scraped CIK 0001645590\n",
      "Already scraped CIK 0001482512\n",
      "Already scraped CIK 0000047217\n",
      "Already scraped CIK 0001725526\n",
      "Already scraped CIK 0001140102\n",
      "Already scraped CIK 0001428336\n",
      "Already scraped CIK 0000899749\n",
      "Already scraped CIK 0000012659\n",
      "Already scraped CIK 0000047518\n",
      "Already scraped CIK 0001364479\n",
      "Already scraped CIK 0000048465\n",
      "Already scraped CIK 0001360214\n",
      "Already scraped CIK 0001598665\n",
      "Already scraped CIK 0000818033\n",
      "Already scraped CIK 0001089113\n",
      "Already scraped CIK 0000045876\n",
      "Already scraped CIK 0001610853\n",
      "Already scraped CIK 0001000228\n",
      "Already scraped CIK 0001066605\n",
      "Already scraped CIK 0001038133\n",
      "Already scraped CIK 0001210708\n",
      "Already scraped CIK 0001070750\n",
      "Already scraped CIK 0001095565\n",
      "Already scraped CIK 0001383701\n",
      "Already scraped CIK 0000047111\n",
      "Already scraped CIK 0001063344\n",
      "Already scraped CIK 0001360604\n",
      "Already scraped CIK 0001538263\n",
      "Already scraped CIK 0001053352\n",
      "Already scraped CIK 0001476963\n",
      "Already scraped CIK 0001169987\n",
      "Already scraped CIK 0001265131\n",
      "Already scraped CIK 0001483994\n",
      "Already scraped CIK 0001561032\n",
      "Already scraped CIK 0000799233\n",
      "Already scraped CIK 0000920112\n",
      "Already scraped CIK 0001657853\n",
      "Already scraped CIK 0000048898\n",
      "Already scraped CIK 0000940942\n",
      "Already scraped CIK 0001404655\n",
      "Already scraped CIK 0001714368\n",
      "Already scraped CIK 0001771885\n",
      "Already scraped CIK 0001778982\n",
      "Already scraped CIK 0000049071\n",
      "Already scraped CIK 0001307954\n",
      "Already scraped CIK 0000315374\n",
      "Already scraped CIK 0001289848\n",
      "Already scraped CIK 0001156041\n",
      "Already scraped CIK 0001687542\n",
      "Already scraped CIK 0001728190\n",
      "Already scraped CIK 0001594555\n",
      "Already scraped CIK 0000216085\n",
      "Already scraped CIK 0000893847\n",
      "Already scraped CIK 0000750577\n",
      "Already scraped CIK 0001356949\n",
      "Already scraped CIK 0000046250\n",
      "Already scraped CIK 0000004281\n",
      "Already scraped CIK 0001702318\n",
      "Already scraped CIK 0000717605\n",
      "Already scraped CIK 0001173514\n",
      "Already scraped CIK 0001771908\n",
      "Already scraped CIK 0001718405\n",
      "Already scraped CIK 0001713832\n",
      "Already scraped CIK 0001637655\n",
      "Already scraped CIK 0001492426\n",
      "Already scraped CIK 0001057060\n",
      "Already scraped CIK 0001745041\n",
      "Already scraped CIK 0000891103\n",
      "Already scraped CIK 0001203464\n",
      "Already scraped CIK 0000917520\n",
      "Already scraped CIK 0001044896\n",
      "Already scraped CIK 0000039311\n",
      "Already scraped CIK 0001420720\n",
      "Already scraped CIK 0000933141\n",
      "Already scraped CIK 0001381197\n",
      "Already scraped CIK 0000051143\n",
      "Already scraped CIK 0001103838\n",
      "Already scraped CIK 0000315709\n",
      "Already scraped CIK 0001580905\n",
      "Already scraped CIK 0001564618\n",
      "Already scraped CIK 0000749660\n",
      "Already scraped CIK 0001470205\n",
      "Already scraped CIK 0000811641\n",
      "Already scraped CIK 0001681903\n",
      "Already scraped CIK 0001537028\n",
      "Already scraped CIK 0001571949\n",
      "Already scraped CIK 0001362004\n",
      "Already scraped CIK 0001652535\n",
      "Already scraped CIK 0000941221\n",
      "Already scraped CIK 0001697818\n",
      "Already scraped CIK 0001060955\n",
      "Already scraped CIK 0000857737\n",
      "Already scraped CIK 0001270073\n",
      "Already scraped CIK 0000883984\n",
      "Already scraped CIK 0001057877\n",
      "Already scraped CIK 0001405495\n",
      "Already scraped CIK 0000837852\n",
      "Already scraped CIK 0001040896\n",
      "Already scraped CIK 0000861838\n",
      "Already scraped CIK 0001005731\n",
      "Already scraped CIK 0001054102\n",
      "Already scraped CIK 0000874716\n",
      "Already scraped CIK 0001676725\n",
      "Already scraped CIK 0001652362\n",
      "Already scraped CIK 0000049728\n",
      "Already scraped CIK 0000813762\n",
      "Already scraped CIK 0001048268\n",
      "Already scraped CIK 0000832101\n",
      "Already scraped CIK 0000051253\n",
      "Already scraped CIK 0001681941\n",
      "Already scraped CIK 0001708688\n",
      "Already scraped CIK 0001615903\n",
      "Already scraped CIK 0001326205\n",
      "Already scraped CIK 0001794338\n",
      "Already scraped CIK 0001496323\n",
      "Already scraped CIK 0001619762\n",
      "Already scraped CIK 0000701869\n",
      "Already scraped CIK 0000858446\n",
      "Already scraped CIK 0001400891\n",
      "Already scraped CIK 0000082473\n",
      "Already scraped CIK 0001371489\n",
      "Already scraped CIK 0000764401\n",
      "Already scraped CIK 0001728688\n",
      "Already scraped CIK 0000088790\n",
      "Already scraped CIK 0001677576\n",
      "Already scraped CIK 0000820318\n",
      "Already scraped CIK 0001083301\n",
      "Already scraped CIK 0001110803\n",
      "Already scraped CIK 0001717307\n",
      "Already scraped CIK 0001778016\n",
      "Already scraped CIK 0001729944\n",
      "Already scraped CIK 0000921582\n",
      "Already scraped CIK 0000870826\n",
      "Already scraped CIK 0000855654\n",
      "Already scraped CIK 0001000298\n",
      "Already scraped CIK 0000050493\n",
      "Already scraped CIK 0001506184\n",
      "Already scraped CIK 0001058811\n",
      "Already scraped CIK 0000722830\n",
      "Already scraped CIK 0000049938\n",
      "Already scraped CIK 0001123134\n",
      "Already scraped CIK 0001672619\n",
      "Already scraped CIK 0001660046\n",
      "Already scraped CIK 0001668438\n",
      "Already scraped CIK 0001280776\n",
      "Already scraped CIK 0001734768\n",
      "Already scraped CIK 0001764013\n",
      "Already scraped CIK 0001683695\n",
      "Already scraped CIK 0001562463\n",
      "Already scraped CIK 0000879169\n",
      "Already scraped CIK 0000776901\n",
      "Already scraped CIK 0001757840\n",
      "Already scraped CIK 0001113148\n",
      "Already scraped CIK 0001138639\n",
      "Already scraped CIK 0001598014\n",
      "Already scraped CIK 0001337013\n",
      "Already scraped CIK 0001067491\n",
      "Already scraped CIK 0001039765\n",
      "Already scraped CIK 0001294133\n",
      "Already scraped CIK 0001046257\n",
      "Already scraped CIK 0001711754\n",
      "Already scraped CIK 0001742692\n",
      "Already scraped CIK 0001497645\n",
      "Already scraped CIK 0001055726\n",
      "Already scraped CIK 0000903651\n",
      "Already scraped CIK 0001619954\n",
      "Already scraped CIK 0001529113\n",
      "Already scraped CIK 0000320340\n",
      "Already scraped CIK 0001615063\n",
      "Already scraped CIK 0001022652\n",
      "Already scraped CIK 0001104506\n",
      "Already scraped CIK 0001609550\n",
      "Already scraped CIK 0001679049\n",
      "Already scraped CIK 0000789460\n",
      "Already scraped CIK 0000050863\n",
      "Already scraped CIK 0000069422\n",
      "Already scraped CIK 0000913760\n",
      "Already scraped CIK 0001036262\n",
      "Already scraped CIK 0000896878\n",
      "Already scraped CIK 0000829323\n",
      "Already scraped CIK 0001080014\n",
      "Already scraped CIK 0001036044\n",
      "Already scraped CIK 0001687229\n",
      "Already scraped CIK 0001350381\n",
      "Already scraped CIK 0000866609\n",
      "Already scraped CIK 0000874015\n",
      "Already scraped CIK 0000949961\n",
      "Already scraped CIK 0001054905\n",
      "Already scraped CIK 0001395848\n",
      "Already scraped CIK 0001425205\n",
      "Already scraped CIK 0000051434\n",
      "Already scraped CIK 0000822663\n",
      "Already scraped CIK 0001546296\n",
      "Already scraped CIK 0000051644\n",
      "Already scraped CIK 0001111928\n",
      "Already scraped CIK 0001598599\n",
      "Already scraped CIK 0001160958\n",
      "Already scraped CIK 0001421461\n",
      "Already scraped CIK 0000052485\n",
      "Already scraped CIK 0001789029\n",
      "Already scraped CIK 0001507957\n",
      "Already scraped CIK 0001722608\n",
      "Already scraped CIK 0001478242\n",
      "Already scraped CIK 0001699150\n",
      "Already scraped CIK 0001159167\n",
      "Already scraped CIK 0001128173\n",
      "Already scraped CIK 0001418819\n",
      "Already scraped CIK 0000798359\n",
      "Already scraped CIK 0001006045\n",
      "Already scraped CIK 0001020569\n",
      "Already scraped CIK 0001325618\n",
      "Already scraped CIK 0001514743\n",
      "Already scraped CIK 0000933267\n",
      "Already scraped CIK 0001466085\n",
      "Already scraped CIK 0001388658\n",
      "Already scraped CIK 0001446847\n",
      "Already scraped CIK 0001594012\n",
      "Already scraped CIK 0000843006\n",
      "Already scraped CIK 0001410939\n",
      "Already scraped CIK 0000875355\n",
      "Already scraped CIK 0000943034\n",
      "Already scraped CIK 0000728387\n",
      "Already scraped CIK 0001035267\n",
      "Already scraped CIK 0000836690\n",
      "Already scraped CIK 0001602658\n",
      "Already scraped CIK 0000749251\n",
      "Already scraped CIK 0001276671\n",
      "Already scraped CIK 0001567514\n",
      "Already scraped CIK 0001114483\n",
      "Already scraped CIK 0000350868\n",
      "Already scraped CIK 0000720858\n",
      "Already scraped CIK 0001613170\n",
      "Already scraped CIK 0001358190\n",
      "Already scraped CIK 0000780571\n",
      "Already scraped CIK 0001659323\n",
      "Already scraped CIK 0001337117\n",
      "Already scraped CIK 0000216228\n",
      "Already scraped CIK 0001132597\n",
      "Already scraped CIK 0000049826\n",
      "Already scraped CIK 0001001902\n",
      "Already scraped CIK 0000742112\n",
      "Already scraped CIK 0001437071\n",
      "Already scraped CIK 0000914208\n",
      "Already scraped CIK 0001070304\n",
      "Already scraped CIK 0001495231\n",
      "Already scraped CIK 0000052988\n",
      "Already scraped CIK 0000807882\n",
      "Already scraped CIK 0001585608\n",
      "Already scraped CIK 0001009829\n",
      "Already scraped CIK 0000862861\n",
      "Already scraped CIK 0001617227\n",
      "Already scraped CIK 0001232524\n",
      "Already scraped CIK 0001689796\n",
      "Already scraped CIK 0000728535\n",
      "Already scraped CIK 0000898293\n",
      "Already scraped CIK 0001158463\n",
      "Already scraped CIK 0000880117\n",
      "Already scraped CIK 0001433660\n",
      "Already scraped CIK 0001622353\n",
      "Already scraped CIK 0000833444\n",
      "Already scraped CIK 0001084048\n",
      "Already scraped CIK 0000022701\n",
      "Already scraped CIK 0000885307\n",
      "Already scraped CIK 0001549802\n",
      "Already scraped CIK 0001538789\n",
      "Already scraped CIK 0000096223\n",
      "Already scraped CIK 0001674335\n",
      "Already scraped CIK 0001743102\n",
      "Already scraped CIK 0001753648\n",
      "Already scraped CIK 0001619544\n",
      "Already scraped CIK 0001737339\n",
      "Already scraped CIK 0001274173\n",
      "Already scraped CIK 0001159152\n",
      "Already scraped CIK 0001787791\n",
      "Already scraped CIK 0001687932\n",
      "Already scraped CIK 0000785956\n",
      "Already scraped CIK 0000779152\n",
      "Already scraped CIK 0001481513\n",
      "Already scraped CIK 0001037976\n",
      "Already scraped CIK 0001756708\n",
      "Already scraped CIK 0001302350\n",
      "Already scraped CIK 0001640455\n",
      "Already scraped CIK 0000200406\n",
      "Already scraped CIK 0001043604\n",
      "Already scraped CIK 0000040570\n",
      "Already scraped CIK 0001295484\n",
      "Already scraped CIK 0000745308\n",
      "Already scraped CIK 0000788329\n",
      "Already scraped CIK 0001616291\n",
      "Already scraped CIK 0000019617\n",
      "Already scraped CIK 0001297830\n",
      "Already scraped CIK 0001696558\n",
      "Already scraped CIK 0001620459\n",
      "Already scraped CIK 0001713923\n",
      "Already scraped CIK 0001007019\n",
      "Already scraped CIK 0000072333\n",
      "Already scraped CIK 0001612630\n",
      "Already scraped CIK 0000055067\n",
      "Already scraped CIK 0000886346\n",
      "Already scraped CIK 0001479419\n",
      "Already scraped CIK 0000811596\n",
      "Already scraped CIK 0001348911\n",
      "Already scraped CIK 0000054381\n",
      "Already scraped CIK 0001395942\n",
      "Already scraped CIK 0001445930\n",
      "Already scraped CIK 0000055772\n",
      "Already scraped CIK 0000795266\n",
      "Already scraped CIK 0001690080\n",
      "Already scraped CIK 0001357615\n",
      "Already scraped CIK 0001546383\n",
      "Already scraped CIK 0001795589\n",
      "Already scraped CIK 0001557142\n",
      "Already scraped CIK 0001418135\n",
      "Already scraped CIK 0001606757\n",
      "Already scraped CIK 0000055135\n",
      "Already scraped CIK 0001611005\n",
      "Already scraped CIK 0000887225\n",
      "Already scraped CIK 0000055529\n",
      "Already scraped CIK 0001755953\n",
      "Already scraped CIK 0000056047\n",
      "Already scraped CIK 0000091576\n",
      "Already scraped CIK 0001601046\n",
      "Already scraped CIK 0001297341\n",
      "Already scraped CIK 0000930420\n",
      "Already scraped CIK 0001072627\n",
      "Already scraped CIK 0000056679\n",
      "Already scraped CIK 0000701818\n",
      "Already scraped CIK 0001089531\n",
      "Already scraped CIK 0001637459\n",
      "Already scraped CIK 0001425450\n",
      "Already scraped CIK 0000879101\n",
      "Already scraped CIK 0001561743\n",
      "Already scraped CIK 0000033992\n",
      "Already scraped CIK 0001161814\n",
      "Already scraped CIK 0001056285\n",
      "Already scraped CIK 0001404912\n",
      "Already scraped CIK 0001713443\n",
      "Already scraped CIK 0000319201\n",
      "Already scraped CIK 0001751299\n",
      "Already scraped CIK 0000056978\n",
      "Already scraped CIK 0001719489\n",
      "Already scraped CIK 0001738827\n",
      "Already scraped CIK 0000055785\n",
      "Already scraped CIK 0001567529\n",
      "Already scraped CIK 0001506307\n",
      "Already scraped CIK 0000860748\n",
      "Already scraped CIK 0000055242\n",
      "Already scraped CIK 0001170010\n",
      "Already scraped CIK 0001587523\n",
      "Already scraped CIK 0001316517\n",
      "Already scraped CIK 0001011570\n",
      "Already scraped CIK 0001564180\n",
      "Already scraped CIK 0001730430\n",
      "Already scraped CIK 0001669162\n",
      "Already scraped CIK 0001492691\n",
      "Already scraped CIK 0000021344\n",
      "Already scraped CIK 0001468748\n",
      "Already scraped CIK 0000031235\n",
      "Already scraped CIK 0000910631\n",
      "Already scraped CIK 0001315257\n",
      "Already scraped CIK 0000771266\n",
      "Already scraped CIK 0001509991\n",
      "Already scraped CIK 0000056701\n",
      "Already scraped CIK 0001503802\n",
      "Already scraped CIK 0000056873\n",
      "Already scraped CIK 0001321646\n",
      "Already scraped CIK 0001025996\n",
      "Already scraped CIK 0001631596\n",
      "Already scraped CIK 0001286043\n",
      "Already scraped CIK 0001779476\n",
      "Already scraped CIK 0000704440\n",
      "Already scraped CIK 0001625791\n",
      "Already scraped CIK 0001617242\n",
      "Already scraped CIK 0001257640\n",
      "Already scraped CIK 0001664710\n",
      "Already scraped CIK 0001657788\n",
      "Already scraped CIK 0001771917\n",
      "Already scraped CIK 0001772177\n",
      "Already scraped CIK 0001711279\n",
      "Already scraped CIK 0000885639\n",
      "Already scraped CIK 0000054480\n",
      "Already scraped CIK 0000892450\n",
      "Already scraped CIK 0001760965\n",
      "Already scraped CIK 0000719733\n",
      "Already scraped CIK 0001069258\n",
      "Already scraped CIK 0001614744\n",
      "Already scraped CIK 0001422143\n",
      "Already scraped CIK 0001007587\n",
      "Already scraped CIK 0001408100\n",
      "Already scraped CIK 0000081362\n",
      "Already scraped CIK 0001713539\n",
      "Already scraped CIK 0001075880\n",
      "Already scraped CIK 0001645666\n",
      "Already scraped CIK 0000060086\n",
      "Already scraped CIK 0001440972\n",
      "Already scraped CIK 0001716947\n",
      "Already scraped CIK 0001023128\n",
      "Already scraped CIK 0001577670\n",
      "Already scraped CIK 0001742056\n",
      "Already scraped CIK 0000798081\n",
      "Already scraped CIK 0001090425\n",
      "Already scraped CIK 0000057515\n",
      "Already scraped CIK 0001495240\n",
      "Already scraped CIK 0001141688\n",
      "Already scraped CIK 0001124796\n",
      "Already scraped CIK 0001766146\n",
      "Already scraped CIK 0000912766\n",
      "Already scraped CIK 0000703604\n",
      "Already scraped CIK 0001311370\n",
      "Already scraped CIK 0001721741\n",
      "Already scraped CIK 0000701985\n",
      "Already scraped CIK 0000846901\n",
      "Already scraped CIK 0001475348\n",
      "Already scraped CIK 0001611983\n",
      "Already scraped CIK 0001694028\n",
      "Already scraped CIK 0001570585\n",
      "Already scraped CIK 0001409970\n",
      "Already scraped CIK 0001768012\n",
      "Already scraped CIK 0000057725\n",
      "Already scraped CIK 0000763744\n",
      "Already scraped CIK 0001074902\n",
      "Already scraped CIK 0000876343\n",
      "Already scraped CIK 0000874396\n",
      "Already scraped CIK 0000060977\n",
      "Already scraped CIK 0001336920\n",
      "Already scraped CIK 0000799288\n",
      "Already scraped CIK 0000842162\n",
      "Already scraped CIK 0001365038\n",
      "Already scraped CIK 0000059527\n",
      "Already scraped CIK 0001333822\n",
      "Already scraped CIK 0000058361\n",
      "Already scraped CIK 0000058492\n",
      "Already scraped CIK 0001436208\n",
      "Already scraped CIK 0001801198\n",
      "Already scraped CIK 0001596856\n",
      "Already scraped CIK 0000920760\n",
      "Already scraped CIK 0001065059\n",
      "Already scraped CIK 0000094845\n",
      "Already scraped CIK 0001412707\n",
      "Already scraped CIK 0001721386\n",
      "Already scraped CIK 0001268896\n",
      "Already scraped CIK 0000889331\n",
      "Already scraped CIK 0000849146\n",
      "Already scraped CIK 0001698113\n",
      "Already scraped CIK 0001806524\n",
      "Already scraped CIK 0001580670\n",
      "Already scraped CIK 0000061004\n",
      "Already scraped CIK 0000886163\n",
      "Already scraped CIK 0000920148\n",
      "Already scraped CIK 0001725134\n",
      "Already scraped CIK 0001303313\n",
      "Already scraped CIK 0000202058\n",
      "Already scraped CIK 0001339970\n",
      "Already scraped CIK 0001069202\n",
      "Already scraped CIK 0001712184\n",
      "Already scraped CIK 0001707925\n",
      "Already scraped CIK 0001286613\n",
      "Already scraped CIK 0001512499\n",
      "Already scraped CIK 0001770883\n",
      "Already scraped CIK 0001307579\n",
      "Already scraped CIK 0001523836\n",
      "Already scraped CIK 0001633978\n",
      "Already scraped CIK 0001045742\n",
      "Already scraped CIK 0001790625\n",
      "Already scraped CIK 0001639691\n",
      "Already scraped CIK 0001491419\n",
      "Already scraped CIK 0001783407\n",
      "Already scraped CIK 0000920465\n",
      "Already scraped CIK 0001767582\n",
      "Already scraped CIK 0001487839\n",
      "Already scraped CIK 0000721994\n",
      "Already scraped CIK 0001065696\n",
      "Already scraped CIK 0001396033\n",
      "Already scraped CIK 0001437557\n",
      "Already scraped CIK 0001474627\n",
      "Already scraped CIK 0001391127\n",
      "Already scraped CIK 0000059478\n",
      "Already scraped CIK 0000704051\n",
      "Already scraped CIK 0001158895\n",
      "Already scraped CIK 0001606163\n",
      "Already scraped CIK 0001640384\n",
      "Already scraped CIK 0001351172\n",
      "Already scraped CIK 0001342423\n",
      "Already scraped CIK 0001033905\n",
      "Already scraped CIK 0001731727\n",
      "Already scraped CIK 0001615346\n",
      "Already scraped CIK 0001358356\n",
      "Already scraped CIK 0000936468\n",
      "Already scraped CIK 0001611820\n",
      "Already scraped CIK 0000059558\n",
      "Already scraped CIK 0001499849\n",
      "Already scraped CIK 0001005286\n",
      "Already scraped CIK 0000003570\n",
      "Already scraped CIK 0000836157\n",
      "Already scraped CIK 0000352541\n",
      "Already scraped CIK 0001521036\n",
      "Already scraped CIK 0001743858\n",
      "Already scraped CIK 0001779020\n",
      "Already scraped CIK 0001080340\n",
      "Already scraped CIK 0001462120\n",
      "Already scraped CIK 0001606366\n",
      "Already scraped CIK 0001120970\n",
      "Already scraped CIK 0001664106\n",
      "Already scraped CIK 0001032975\n",
      "Already scraped CIK 0001420302\n",
      "Already scraped CIK 0001711375\n",
      "Already scraped CIK 0001661920\n",
      "Already scraped CIK 0001504678\n",
      "Already scraped CIK 0001434588\n",
      "Already scraped CIK 0001006269\n",
      "Already scraped CIK 0001705338\n",
      "Already scraped CIK 0001701758\n",
      "Already scraped CIK 0000060667\n",
      "Already scraped CIK 0001535955\n",
      "Already scraped CIK 0001596993\n",
      "Already scraped CIK 0001528129\n",
      "Already scraped CIK 0001290109\n",
      "Already scraped CIK 0001397911\n",
      "Already scraped CIK 0001806201\n",
      "Already scraped CIK 0001102993\n",
      "Already scraped CIK 0000889971\n",
      "Already scraped CIK 0001509745\n",
      "Already scraped CIK 0000060519\n",
      "Already scraped CIK 0001330436\n",
      "Already scraped CIK 0001235468\n",
      "Already scraped CIK 0000707549\n",
      "Already scraped CIK 0001374690\n",
      "Already scraped CIK 0001157408\n",
      "Already scraped CIK 0001796129\n",
      "Already scraped CIK 0001341318\n",
      "Already scraped CIK 0000855658\n",
      "Already scraped CIK 0000944314\n",
      "Already scraped CIK 0000853816\n",
      "Already scraped CIK 0001084554\n",
      "Already scraped CIK 0000887905\n",
      "Already scraped CIK 0001742924\n",
      "Already scraped CIK 0001763950\n",
      "Already scraped CIK 0001606745\n",
      "Already scraped CIK 0001114925\n",
      "Already scraped CIK 0000016099\n",
      "Already scraped CIK 0001397187\n",
      "Already scraped CIK 0001126234\n",
      "Already scraped CIK 0001239819\n",
      "Already scraped CIK 0000092380\n",
      "Already scraped CIK 0001639225\n",
      "Already scraped CIK 0001300514\n",
      "Already scraped CIK 0001679273\n",
      "Already scraped CIK 0000814586\n",
      "Already scraped CIK 0001708259\n",
      "Already scraped CIK 0001096056\n",
      "Already scraped CIK 0000910108\n",
      "Already scraped CIK 0001062822\n",
      "Already scraped CIK 0000060714\n",
      "Already scraped CIK 0001489393\n",
      "Already scraped CIK 0001759509\n",
      "Already scraped CIK 0001160106\n",
      "Already scraped CIK 0001682241\n",
      "Already scraped CIK 0001327273\n",
      "Already scraped CIK 0000763532\n",
      "Already scraped CIK 0001335258\n",
      "Already scraped CIK 0000057131\n",
      "Already scraped CIK 0000794367\n",
      "Already scraped CIK 0001141391\n",
      "Already scraped CIK 0000912595\n",
      "Already scraped CIK 0000912242\n",
      "Already scraped CIK 0001274792\n",
      "Already scraped CIK 0001230992\n",
      "Already scraped CIK 0000896494\n",
      "Already scraped CIK 0000871763\n",
      "Already scraped CIK 0001056696\n",
      "Already scraped CIK 0000892537\n",
      "Already scraped CIK 0001549107\n",
      "Already scraped CIK 0001048286\n",
      "Already scraped CIK 0001507605\n",
      "Already scraped CIK 0001368365\n",
      "Already scraped CIK 0000062362\n",
      "Already scraped CIK 0000062996\n",
      "Already scraped CIK 0000937556\n",
      "Already scraped CIK 0000063276\n",
      "Already scraped CIK 0000063296\n",
      "Already scraped CIK 0000003453\n",
      "Already scraped CIK 0001121142\n",
      "Already scraped CIK 0000054187\n",
      "Already scraped CIK 0000836147\n",
      "Already scraped CIK 0000814585\n",
      "Already scraped CIK 0001441693\n",
      "Already scraped CIK 0001629019\n",
      "Already scraped CIK 0001680048\n",
      "Already scraped CIK 0000883975\n",
      "Already scraped CIK 0001659617\n",
      "Already scraped CIK 0001115837\n",
      "Already scraped CIK 0001590976\n",
      "Already scraped CIK 0001042729\n",
      "Already scraped CIK 0001596967\n",
      "Already scraped CIK 0001803914\n",
      "Already scraped CIK 0001476034\n",
      "Already scraped CIK 0001053584\n",
      "Already scraped CIK 0001747068\n",
      "Already scraped CIK 0001490349\n",
      "Already scraped CIK 0000063908\n",
      "Already scraped CIK 0001527709\n",
      "Already scraped CIK 0001071993\n",
      "Already scraped CIK 0001638290\n",
      "Already scraped CIK 0000827054\n",
      "Already scraped CIK 0001224133\n",
      "Already scraped CIK 0000927653\n",
      "Already scraped CIK 0001785592\n",
      "Already scraped CIK 0001059556\n",
      "Already scraped CIK 0001609809\n",
      "Already scraped CIK 0000907242\n",
      "Already scraped CIK 0000062234\n",
      "Already scraped CIK 0000064996\n",
      "Already scraped CIK 0000893949\n",
      "Already scraped CIK 0001441816\n",
      "Already scraped CIK 0000773141\n",
      "Already scraped CIK 0000876883\n",
      "Already scraped CIK 0001157601\n",
      "Already scraped CIK 0001618500\n",
      "Already scraped CIK 0001784254\n",
      "Already scraped CIK 0001741534\n",
      "Already scraped CIK 0001540184\n",
      "Already scraped CIK 0001536577\n",
      "Already scraped CIK 0001611110\n",
      "Already scraped CIK 0001103982\n",
      "Already scraped CIK 0000065011\n",
      "Already scraped CIK 0001654595\n",
      "Already scraped CIK 0001124804\n",
      "Already scraped CIK 0001613103\n",
      "Already scraped CIK 0000067716\n",
      "Already scraped CIK 0001593984\n",
      "Already scraped CIK 0001766368\n",
      "Already scraped CIK 0000910329\n"
     ]
    },
    {
     "name": "stderr",
     "output_type": "stream",
     "text": [
      " 68%|██████▊   | 3312/4854 [00:00<00:00, 3308.03it/s]"
     ]
    },
    {
     "name": "stdout",
     "output_type": "stream",
     "text": [
      "Already scraped CIK 0001668397\n",
      "Already scraped CIK 0001382574\n",
      "Already scraped CIK 0001078099\n",
      "Already scraped CIK 0000065270\n",
      "Already scraped CIK 0001262104\n",
      "Already scraped CIK 0001099590\n",
      "Already scraped CIK 0000886977\n",
      "Already scraped CIK 0001333274\n",
      "Already scraped CIK 0000810332\n",
      "Already scraped CIK 0001345099\n",
      "Already scraped CIK 0001099219\n",
      "Already scraped CIK 0001687187\n",
      "Already scraped CIK 0001796514\n",
      "Already scraped CIK 0001055160\n",
      "Already scraped CIK 0001725872\n",
      "Already scraped CIK 0001086888\n",
      "Already scraped CIK 0001335730\n",
      "Already scraped CIK 0001527762\n",
      "Already scraped CIK 0001000209\n",
      "Already scraped CIK 0000036506\n",
      "Already scraped CIK 0001436126\n",
      "Already scraped CIK 0000749098\n",
      "Already scraped CIK 0001161728\n",
      "Already scraped CIK 0001590750\n",
      "Already scraped CIK 0001273931\n",
      "Already scraped CIK 0000876779\n",
      "Already scraped CIK 0000019411\n",
      "Already scraped CIK 0000789570\n",
      "Already scraped CIK 0001125345\n",
      "Already scraped CIK 0001656936\n",
      "Already scraped CIK 0000835011\n",
      "Already scraped CIK 0000752714\n",
      "Already scraped CIK 0001690585\n",
      "Already scraped CIK 0001735438\n",
      "Already scraped CIK 0001698990\n",
      "Already scraped CIK 0001337068\n",
      "Already scraped CIK 0001437226\n",
      "Already scraped CIK 0000851968\n",
      "Already scraped CIK 0001412100\n",
      "Already scraped CIK 0000799292\n",
      "Already scraped CIK 0001289790\n",
      "Already scraped CIK 0000854800\n",
      "Already scraped CIK 0000769520\n",
      "Already scraped CIK 0001593936\n",
      "Already scraped CIK 0001644675\n",
      "Already scraped CIK 0000926423\n",
      "Already scraped CIK 0000911109\n",
      "Already scraped CIK 0001759425\n",
      "Already scraped CIK 0001408443\n",
      "Already scraped CIK 0000807863\n",
      "Already scraped CIK 0001696396\n",
      "Already scraped CIK 0001514281\n",
      "Already scraped CIK 0001576914\n",
      "Already scraped CIK 0001626853\n",
      "Already scraped CIK 0000063754\n",
      "Already scraped CIK 0001758736\n",
      "Already scraped CIK 0001372183\n",
      "Already scraped CIK 0001096343\n",
      "Already scraped CIK 0001049502\n",
      "Already scraped CIK 0001278021\n",
      "Already scraped CIK 0000724004\n",
      "Already scraped CIK 0001381640\n",
      "Already scraped CIK 0000066382\n",
      "Already scraped CIK 0000089439\n",
      "Already scraped CIK 0000916076\n",
      "Already scraped CIK 0001544227\n",
      "Already scraped CIK 0000063330\n",
      "Already scraped CIK 0000924822\n",
      "Already scraped CIK 0000855683\n",
      "Already scraped CIK 0001550603\n",
      "Already scraped CIK 0001003201\n",
      "Already scraped CIK 0000062709\n",
      "Already scraped CIK 0001578732\n",
      "Already scraped CIK 0001176334\n",
      "Already scraped CIK 0000066740\n",
      "Already scraped CIK 0001126975\n",
      "Already scraped CIK 0001032220\n",
      "Already scraped CIK 0000856982\n",
      "Already scraped CIK 0001773250\n",
      "Already scraped CIK 0001495153\n",
      "Already scraped CIK 0001524223\n",
      "Already scraped CIK 0001754170\n",
      "Already scraped CIK 0001119083\n",
      "Already scraped CIK 0001567892\n",
      "Already scraped CIK 0000899460\n",
      "Already scraped CIK 0001566044\n",
      "Already scraped CIK 0001226616\n",
      "Already scraped CIK 0001645469\n",
      "Already scraped CIK 0000067625\n",
      "Already scraped CIK 0001745797\n",
      "Already scraped CIK 0000876427\n",
      "Already scraped CIK 0001693577\n",
      "Already scraped CIK 0000865752\n",
      "Already scraped CIK 0001235010\n",
      "Already scraped CIK 0001302028\n",
      "Already scraped CIK 0000764180\n",
      "Already scraped CIK 0001470099\n",
      "Already scraped CIK 0000067347\n",
      "Already scraped CIK 0001118417\n",
      "Already scraped CIK 0001412665\n",
      "Already scraped CIK 0001602842\n",
      "Already scraped CIK 0001743971\n",
      "Already scraped CIK 0001179929\n",
      "Already scraped CIK 0001763197\n",
      "Already scraped CIK 0001610601\n",
      "Already scraped CIK 0001340243\n",
      "Already scraped CIK 0001289419\n",
      "Already scraped CIK 0001285785\n",
      "Already scraped CIK 0000890394\n",
      "Already scraped CIK 0001686850\n",
      "Already scraped CIK 0000072573\n",
      "Already scraped CIK 0001516805\n",
      "Already scraped CIK 0000918251\n",
      "Already scraped CIK 0000879635\n",
      "Already scraped CIK 0001510295\n",
      "Already scraped CIK 0001552000\n",
      "Already scraped CIK 0001287865\n",
      "Already scraped CIK 0001280452\n",
      "Already scraped CIK 0001129155\n",
      "Already scraped CIK 0001600470\n",
      "Already scraped CIK 0001438423\n",
      "Already scraped CIK 0001750735\n",
      "Already scraped CIK 0001439095\n",
      "Already scraped CIK 0001512931\n",
      "Already scraped CIK 0001049521\n",
      "Already scraped CIK 0001719714\n",
      "Already scraped CIK 0001389002\n",
      "Already scraped CIK 0000310158\n",
      "Already scraped CIK 0001094038\n",
      "Already scraped CIK 0001260968\n",
      "Already scraped CIK 0001682852\n",
      "Already scraped CIK 0001267813\n",
      "Already scraped CIK 0000101778\n",
      "Already scraped CIK 0001442836\n",
      "Already scraped CIK 0000799167\n",
      "Already scraped CIK 0001576263\n",
      "Already scraped CIK 0001651311\n",
      "Already scraped CIK 0001058057\n",
      "Already scraped CIK 0000895421\n",
      "Already scraped CIK 0000066570\n",
      "Already scraped CIK 0000065172\n",
      "Already scraped CIK 0001635261\n",
      "Already scraped CIK 0001466026\n",
      "Already scraped CIK 0001713334\n",
      "Already scraped CIK 0001408198\n",
      "Already scraped CIK 0000066004\n",
      "Already scraped CIK 0000789019\n",
      "Already scraped CIK 0001795250\n",
      "Already scraped CIK 0001469372\n",
      "Already scraped CIK 0001636519\n",
      "Already scraped CIK 0000068505\n",
      "Already scraped CIK 0001003078\n",
      "Already scraped CIK 0000032621\n",
      "Already scraped CIK 0000880432\n",
      "Already scraped CIK 0001050446\n",
      "Already scraped CIK 0001734875\n",
      "Already scraped CIK 0001243429\n",
      "Already scraped CIK 0001722606\n",
      "Already scraped CIK 0000036270\n",
      "Already scraped CIK 0001582982\n",
      "Already scraped CIK 0001742518\n",
      "Already scraped CIK 0001575189\n",
      "Already scraped CIK 0001037646\n",
      "Already scraped CIK 0001520006\n",
      "Already scraped CIK 0001183765\n",
      "Already scraped CIK 0001056358\n",
      "Already scraped CIK 0000876437\n",
      "Already scraped CIK 0000833079\n",
      "Already scraped CIK 0001302362\n",
      "Already scraped CIK 0001091223\n",
      "Already scraped CIK 0000812011\n",
      "Already scraped CIK 0001113256\n",
      "Already scraped CIK 0001643918\n",
      "Already scraped CIK 0000313364\n",
      "Already scraped CIK 0001104657\n",
      "Already scraped CIK 0000866273\n",
      "Already scraped CIK 0000068709\n",
      "Already scraped CIK 0001493594\n",
      "Already scraped CIK 0001025561\n",
      "Already scraped CIK 0000061986\n",
      "Already scraped CIK 0000891014\n",
      "Already scraped CIK 0000015615\n",
      "Already scraped CIK 0000723125\n",
      "Already scraped CIK 0000067088\n",
      "Already scraped CIK 0000717423\n",
      "Already scraped CIK 0001573516\n",
      "Already scraped CIK 0000314203\n",
      "Already scraped CIK 0001277902\n",
      "Already scraped CIK 0001099941\n",
      "Already scraped CIK 0000065770\n",
      "Already scraped CIK 0001371782\n",
      "Already scraped CIK 0001350593\n",
      "Already scraped CIK 0001757715\n",
      "Already scraped CIK 0001325702\n",
      "Already scraped CIK 0000066418\n",
      "Already scraped CIK 0000743316\n",
      "Already scraped CIK 0001288469\n",
      "Already scraped CIK 0000069488\n",
      "Already scraped CIK 0001327607\n",
      "Already scraped CIK 0000899923\n",
      "Already scraped CIK 0001623613\n",
      "Already scraped CIK 0001369290\n",
      "Already scraped CIK 0001552451\n",
      "Already scraped CIK 0001402479\n",
      "Already scraped CIK 0001679082\n",
      "Already scraped CIK 0000700923\n",
      "Already scraped CIK 0001211805\n",
      "Already scraped CIK 0001543268\n",
      "Already scraped CIK 0000787253\n",
      "Already scraped CIK 0001164771\n",
      "Already scraped CIK 0001707919\n",
      "Already scraped CIK 0001326706\n",
      "Already scraped CIK 0001531048\n",
      "Already scraped CIK 0001000177\n",
      "Already scraped CIK 0000069733\n",
      "Already scraped CIK 0000935494\n",
      "Already scraped CIK 0000275053\n",
      "Already scraped CIK 0000808450\n",
      "Already scraped CIK 0000810509\n",
      "Already scraped CIK 0001593538\n",
      "Already scraped CIK 0001780262\n",
      "Already scraped CIK 0001579823\n",
      "Already scraped CIK 0001475841\n",
      "Already scraped CIK 0000914475\n",
      "Already scraped CIK 0000072207\n",
      "Already scraped CIK 0001647513\n",
      "Already scraped CIK 0000811831\n",
      "Already scraped CIK 0001163739\n",
      "Already scraped CIK 0001641640\n",
      "Already scraped CIK 0001173281\n",
      "Already scraped CIK 0000790359\n",
      "Already scraped CIK 0001389545\n",
      "Already scraped CIK 0000789933\n",
      "Already scraped CIK 0001174850\n",
      "Already scraped CIK 0001513761\n",
      "Already scraped CIK 0001377630\n",
      "Already scraped CIK 0001709626\n",
      "Already scraped CIK 0000070866\n",
      "Already scraped CIK 0001692427\n",
      "Already scraped CIK 0001296774\n",
      "Already scraped CIK 0001120193\n",
      "Already scraped CIK 0001275158\n",
      "Already scraped CIK 0001681682\n",
      "Already scraped CIK 0000072331\n",
      "Already scraped CIK 0001458891\n",
      "Already scraped CIK 0000753308\n",
      "Already scraped CIK 0001164727\n",
      "Already scraped CIK 0000746514\n",
      "Already scraped CIK 0001077183\n",
      "Already scraped CIK 0000711377\n",
      "Already scraped CIK 0000087050\n",
      "Already scraped CIK 0001467652\n",
      "Already scraped CIK 0001603145\n",
      "Already scraped CIK 0001196298\n",
      "Already scraped CIK 0001401395\n",
      "Already scraped CIK 0001598646\n",
      "Already scraped CIK 0001403853\n",
      "Already scraped CIK 0001698514\n",
      "Already scraped CIK 0001477333\n",
      "Already scraped CIK 0001499961\n",
      "Already scraped CIK 0001282637\n",
      "Already scraped CIK 0001726189\n",
      "Already scraped CIK 0001678022\n",
      "Already scraped CIK 0001448056\n",
      "Already scraped CIK 0001587987\n",
      "Already scraped CIK 0001688476\n",
      "Already scraped CIK 0001713930\n",
      "Already scraped CIK 0001612720\n",
      "Already scraped CIK 0001493225\n",
      "Already scraped CIK 0001749723\n",
      "Already scraped CIK 0000070145\n",
      "Already scraped CIK 0001737422\n",
      "Already scraped CIK 0001776903\n",
      "Already scraped CIK 0001065280\n",
      "Already scraped CIK 0001173420\n",
      "Already scraped CIK 0000800166\n",
      "Already scraped CIK 0001004315\n",
      "Already scraped CIK 0001578735\n",
      "Already scraped CIK 0001504461\n",
      "Already scraped CIK 0001426332\n",
      "Already scraped CIK 0001084991\n",
      "Already scraped CIK 0001547459\n",
      "Already scraped CIK 0001653477\n",
      "Already scraped CIK 0001566469\n",
      "Already scraped CIK 0001047335\n",
      "Already scraped CIK 0000877860\n",
      "Already scraped CIK 0001023844\n",
      "Already scraped CIK 0000912061\n",
      "Already scraped CIK 0001111711\n",
      "Already scraped CIK 0001003935\n",
      "Already scraped CIK 0001000045\n",
      "Already scraped CIK 0001532286\n",
      "Already scraped CIK 0001736541\n",
      "Already scraped CIK 0001744781\n",
      "Already scraped CIK 0000356309\n",
      "Already scraped CIK 0001326110\n",
      "Already scraped CIK 0000320187\n",
      "Already scraped CIK 0001731289\n",
      "Already scraped CIK 0000796534\n",
      "Already scraped CIK 0000906709\n",
      "Already scraped CIK 0000072162\n",
      "Already scraped CIK 0000849399\n",
      "Already scraped CIK 0001078207\n",
      "Already scraped CIK 0001492633\n",
      "Already scraped CIK 0001404644\n",
      "Already scraped CIK 0001043219\n",
      "Already scraped CIK 0001333172\n",
      "Already scraped CIK 0001707210\n",
      "Already scraped CIK 0001496099\n",
      "Already scraped CIK 0001547903\n",
      "Already scraped CIK 0001415921\n",
      "Already scraped CIK 0001163653\n",
      "Already scraped CIK 0001602078\n",
      "Already scraped CIK 0001690680\n",
      "Already scraped CIK 0001551986\n",
      "Already scraped CIK 0001437260\n",
      "Already scraped CIK 0000918541\n",
      "Already scraped CIK 0001643303\n",
      "Already scraped CIK 0001258602\n",
      "Already scraped CIK 0000751364\n",
      "Already scraped CIK 0001379006\n",
      "Already scraped CIK 0001368519\n",
      "Already scraped CIK 0001499543\n",
      "Already scraped CIK 0001133421\n",
      "Already scraped CIK 0001681206\n",
      "Already scraped CIK 0001104485\n",
      "Already scraped CIK 0000924613\n",
      "Already scraped CIK 0001651717\n",
      "Already scraped CIK 0001021860\n",
      "Already scraped CIK 0001772695\n",
      "Already scraped CIK 0001467154\n",
      "Already scraped CIK 0001807707\n",
      "Already scraped CIK 0001076930\n",
      "Already scraped CIK 0001373715\n",
      "Already scraped CIK 0001296435\n",
      "Already scraped CIK 0001780312\n",
      "Already scraped CIK 0000080172\n",
      "Already scraped CIK 0001164863\n",
      "Already scraped CIK 0001227025\n",
      "Already scraped CIK 0000071829\n",
      "Already scraped CIK 0001638287\n",
      "Already scraped CIK 0000070487\n",
      "Already scraped CIK 0001786248\n",
      "Already scraped CIK 0001013871\n",
      "Already scraped CIK 0001163370\n",
      "Already scraped CIK 0001171486\n",
      "Already scraped CIK 0000072633\n",
      "Already scraped CIK 0000070502\n",
      "Already scraped CIK 0001556593\n",
      "Already scraped CIK 0001110805\n",
      "Already scraped CIK 0001618563\n",
      "Already scraped CIK 0000702165\n",
      "Already scraped CIK 0001709682\n",
      "Already scraped CIK 0000865058\n",
      "Already scraped CIK 0000932696\n",
      "Already scraped CIK 0001000753\n",
      "Already scraped CIK 0001433607\n",
      "Already scraped CIK 0000069633\n",
      "Already scraped CIK 0001401708\n",
      "Already scraped CIK 0000722313\n",
      "Already scraped CIK 0001002047\n",
      "Already scraped CIK 0001653242\n",
      "Already scraped CIK 0001776967\n",
      "Already scraped CIK 0001078075\n",
      "Already scraped CIK 0001638381\n",
      "Already scraped CIK 0001110646\n",
      "Already scraped CIK 0001122904\n",
      "Already scraped CIK 0000875582\n",
      "Already scraped CIK 0001065078\n",
      "Already scraped CIK 0001652130\n",
      "Already scraped CIK 0000748592\n",
      "Already scraped CIK 0001618732\n",
      "Already scraped CIK 0000829365\n",
      "Already scraped CIK 0001725964\n",
      "Already scraped CIK 0001604821\n",
      "Already scraped CIK 0001513856\n",
      "Already scraped CIK 0000073124\n",
      "Already scraped CIK 0000878526\n",
      "Already scraped CIK 0001039280\n",
      "Already scraped CIK 0000900391\n",
      "Already scraped CIK 0001002517\n",
      "Already scraped CIK 0000073309\n",
      "Already scraped CIK 0001289850\n",
      "Already scraped CIK 0001021561\n",
      "Already scraped CIK 0001142596\n",
      "Already scraped CIK 0001527613\n",
      "Already scraped CIK 0001000694\n",
      "Already scraped CIK 0001399708\n",
      "Already scraped CIK 0001645113\n",
      "Already scraped CIK 0001045810\n",
      "Already scraped CIK 0000724910\n",
      "Already scraped CIK 0001532961\n",
      "Already scraped CIK 0001473334\n",
      "Already scraped CIK 0001581804\n",
      "Already scraped CIK 0001292519\n",
      "Already scraped CIK 0001109345\n",
      "Already scraped CIK 0000353278\n",
      "Already scraped CIK 0000906163\n",
      "Already scraped CIK 0001444380\n",
      "Already scraped CIK 0001114448\n",
      "Already scraped CIK 0001757073\n",
      "Already scraped CIK 0001720635\n",
      "Already scraped CIK 0001501134\n",
      "Already scraped CIK 0001404281\n",
      "Already scraped CIK 0001471265\n",
      "Already scraped CIK 0000073088\n",
      "Already scraped CIK 0001013272\n",
      "Already scraped CIK 0001080319\n",
      "Already scraped CIK 0001574596\n",
      "Already scraped CIK 0000814453\n",
      "Already scraped CIK 0001635984\n",
      "Already scraped CIK 0001733998\n",
      "Already scraped CIK 0001001385\n",
      "Already scraped CIK 0001564708\n",
      "Already scraped CIK 0001423221\n",
      "Already scraped CIK 0001698535\n",
      "Already scraped CIK 0000708818\n",
      "Already scraped CIK 0001413447\n",
      "Already scraped CIK 0001620393\n",
      "Already scraped CIK 0001142417\n",
      "Already scraped CIK 0001661059\n",
      "Already scraped CIK 0001566826\n",
      "Already scraped CIK 0000910073\n",
      "Already scraped CIK 0001273685\n",
      "Already scraped CIK 0001018735\n",
      "Already scraped CIK 0000071691\n",
      "Already scraped CIK 0000726728\n",
      "Already scraped CIK 0001773751\n",
      "Already scraped CIK 0001486159\n",
      "Already scraped CIK 0001077618\n",
      "Already scraped CIK 0000350737\n",
      "Already scraped CIK 0000746210\n",
      "Already scraped CIK 0001427570\n",
      "Already scraped CIK 0001516912\n",
      "Already scraped CIK 0001685316\n",
      "Already scraped CIK 0001370946\n",
      "Already scraped CIK 0001000230\n",
      "Already scraped CIK 0001004702\n",
      "Already scraped CIK 0001780531\n",
      "Already scraped CIK 0001372299\n",
      "Already scraped CIK 0000873860\n",
      "Already scraped CIK 0001577791\n",
      "Already scraped CIK 0001414932\n",
      "Already scraped CIK 0001393434\n",
      "Already scraped CIK 0001642380\n",
      "Already scraped CIK 0000074046\n",
      "Already scraped CIK 0000878927\n",
      "Already scraped CIK 0000800240\n",
      "Already scraped CIK 0001717452\n",
      "Already scraped CIK 0001609804\n",
      "Already scraped CIK 0001108967\n",
      "Already scraped CIK 0001409375\n",
      "Already scraped CIK 0000860546\n",
      "Already scraped CIK 0001501078\n",
      "Already scraped CIK 0001030469\n",
      "Already scraped CIK 0000884624\n",
      "Already scraped CIK 0001317945\n",
      "Already scraped CIK 0001487918\n",
      "Already scraped CIK 0001021635\n",
      "Already scraped CIK 0001174940\n",
      "Already scraped CIK 0001620737\n",
      "Already scraped CIK 0001587732\n",
      "Already scraped CIK 0000888491\n",
      "Already scraped CIK 0000812074\n",
      "Already scraped CIK 0000073756\n",
      "Already scraped CIK 0001095348\n",
      "Already scraped CIK 0001121484\n",
      "Already scraped CIK 0001039684\n",
      "Already scraped CIK 0001660134\n",
      "Already scraped CIK 0001005284\n",
      "Already scraped CIK 0001639300\n",
      "Already scraped CIK 0000074303\n",
      "Already scraped CIK 0000712770\n",
      "Already scraped CIK 0001378239\n",
      "Already scraped CIK 0000029989\n",
      "Already scraped CIK 0000926326\n",
      "Already scraped CIK 0001285819\n",
      "Already scraped CIK 0000798528\n",
      "Already scraped CIK 0001584207\n",
      "Already scraped CIK 0000075252\n",
      "Already scraped CIK 0001652133\n",
      "Already scraped CIK 0001097864\n",
      "Already scraped CIK 0000707179\n",
      "Already scraped CIK 0001444307\n",
      "Already scraped CIK 0001260990\n",
      "Already scraped CIK 0001129928\n",
      "Already scraped CIK 0001420811\n",
      "Already scraped CIK 0001722380\n",
      "Already scraped CIK 0001404123\n",
      "Already scraped CIK 0001772921\n",
      "Already scraped CIK 0000704532\n",
      "Already scraped CIK 0001130598\n",
      "Already scraped CIK 0001497253\n",
      "Already scraped CIK 0001327688\n",
      "Already scraped CIK 0001722010\n",
      "Already scraped CIK 0001014739\n",
      "Already scraped CIK 0001723580\n",
      "Already scraped CIK 0001293818\n",
      "Already scraped CIK 0001288855\n",
      "Already scraped CIK 0001456772\n",
      "Already scraped CIK 0000944809\n",
      "Already scraped CIK 0001385508\n",
      "Already scraped CIK 0000740971\n",
      "Already scraped CIK 0001737450\n",
      "Already scraped CIK 0001538716\n",
      "Already scraped CIK 0001448431\n",
      "Already scraped CIK 0001494650\n",
      "Already scraped CIK 0001378140\n",
      "Already scraped CIK 0000791963\n",
      "Already scraped CIK 0001627272\n",
      "Already scraped CIK 0001296445\n",
      "Already scraped CIK 0001038143\n",
      "Already scraped CIK 0001361983\n",
      "Already scraped CIK 0001518621\n",
      "Already scraped CIK 0001655888\n",
      "Already scraped CIK 0001341439\n",
      "Already scraped CIK 0001661181\n",
      "Already scraped CIK 0001460602\n",
      "Already scraped CIK 0000074260\n",
      "Already scraped CIK 0001796280\n",
      "Already scraped CIK 0000898173\n",
      "Already scraped CIK 0001176309\n",
      "Already scraped CIK 0001402829\n",
      "Already scraped CIK 0000826154\n",
      "Already scraped CIK 0001770251\n",
      "Already scraped CIK 0001748907\n",
      "Already scraped CIK 0000877365\n",
      "Already scraped CIK 0000357173\n",
      "Already scraped CIK 0000075208\n",
      "Already scraped CIK 0001039065\n",
      "Already scraped CIK 0000775158\n",
      "Already scraped CIK 0001739426\n",
      "Already scraped CIK 0001485538\n",
      "Already scraped CIK 0001044777\n",
      "Already scraped CIK 0001394056\n",
      "Already scraped CIK 0001130713\n",
      "Already scraped CIK 0001116463\n",
      "Already scraped CIK 0001758488\n",
      "Already scraped CIK 0001288359\n",
      "Already scraped CIK 0001002638\n",
      "Already scraped CIK 0001493566\n",
      "Already scraped CIK 0001781335\n",
      "Already scraped CIK 0001649989\n",
      "Already scraped CIK 0001466593\n",
      "Already scraped CIK 0001675192\n",
      "Already scraped CIK 0001579877\n",
      "Already scraped CIK 0000894671\n",
      "Already scraped CIK 0001636651\n",
      "Already scraped CIK 0001431567\n",
      "Already scraped CIK 0001792580\n",
      "Already scraped CIK 0001584831\n",
      "Already scraped CIK 0001586049\n",
      "Already scraped CIK 0000075288\n",
      "Already scraped CIK 0001259429\n",
      "Already scraped CIK 0000797468\n",
      "Already scraped CIK 0001720725\n",
      "Already scraped CIK 0001070423\n",
      "Already scraped CIK 0000771992\n",
      "Already scraped CIK 0001347557\n",
      "Already scraped CIK 0001299130\n",
      "Already scraped CIK 0001517342\n",
      "Already scraped CIK 0001712463\n",
      "Already scraped CIK 0001726293\n",
      "Already scraped CIK 0001102112\n",
      "Already scraped CIK 0001720821\n",
      "Already scraped CIK 0001019849\n",
      "Already scraped CIK 0001581990\n",
      "Already scraped CIK 0001712807\n",
      "Already scraped CIK 0001069899\n",
      "Already scraped CIK 0001469395\n",
      "Already scraped CIK 0001606909\n",
      "Already scraped CIK 0001327567\n",
      "Already scraped CIK 0000708821\n",
      "Already scraped CIK 0000821483\n",
      "Already scraped CIK 0001787297\n",
      "Already scraped CIK 0001616741\n",
      "Already scraped CIK 0000076605\n",
      "Already scraped CIK 0001624326\n",
      "Already scraped CIK 0001590955\n",
      "Already scraped CIK 0001496443\n",
      "Already scraped CIK 0000723531\n",
      "Already scraped CIK 0001068851\n",
      "Already scraped CIK 0001546066\n",
      "Already scraped CIK 0001287032\n",
      "Already scraped CIK 0001378946\n",
      "Already scraped CIK 0001534504\n",
      "Already scraped CIK 0001769663\n",
      "Already scraped CIK 0001582568\n",
      "Already scraped CIK 0001295947\n",
      "Already scraped CIK 0001609065\n",
      "Already scraped CIK 0000078814\n",
      "Already scraped CIK 0000830656\n",
      "Already scraped CIK 0001578776\n",
      "Already scraped CIK 0001195734\n",
      "Already scraped CIK 0001119639\n",
      "Already scraped CIK 0000319654\n",
      "Already scraped CIK 0001754323\n",
      "Already scraped CIK 0001401667\n",
      "Already scraped CIK 0000075362\n",
      "Already scraped CIK 0001423869\n",
      "Already scraped CIK 0001004980\n",
      "Already scraped CIK 0001338749\n",
      "Already scraped CIK 0001204413\n",
      "Already scraped CIK 0001800347\n",
      "Already scraped CIK 0001396814\n",
      "Already scraped CIK 0001691337\n",
      "Already scraped CIK 0001057083\n",
      "Already scraped CIK 0001591698\n",
      "Already scraped CIK 0001649094\n",
      "Already scraped CIK 0000050471\n",
      "Already scraped CIK 0000276720\n",
      "Already scraped CIK 0001568100\n",
      "Already scraped CIK 0000077877\n",
      "Already scraped CIK 0000891024\n",
      "Already scraped CIK 0001737806\n",
      "Already scraped CIK 0000788920\n",
      "Already scraped CIK 0001120914\n",
      "Already scraped CIK 0001703489\n",
      "Already scraped CIK 0000882104\n",
      "Already scraped CIK 0001042776\n",
      "Already scraped CIK 0001013605\n",
      "Already scraped CIK 0001472091\n",
      "Already scraped CIK 0001594466\n",
      "Already scraped CIK 0000765880\n",
      "Already scraped CIK 0001474098\n",
      "Already scraped CIK 0001093672\n",
      "Already scraped CIK 0000318300\n",
      "Already scraped CIK 0001634447\n",
      "Already scraped CIK 0001141197\n",
      "Already scraped CIK 0001355839\n",
      "Already scraped CIK 0000788784\n",
      "Already scraped CIK 0001013857\n",
      "Already scraped CIK 0000077281\n",
      "Already scraped CIK 0000778164\n",
      "Already scraped CIK 0001321732\n",
      "Already scraped CIK 0000921738\n",
      "Already scraped CIK 0000077476\n",
      "Already scraped CIK 0001521168\n",
      "Already scraped CIK 0001338940\n",
      "Already scraped CIK 0000891532\n",
      "Already scraped CIK 0001668673\n",
      "Already scraped CIK 0001040130\n",
      "Already scraped CIK 0001684425\n",
      "Already scraped CIK 0000887919\n",
      "Already scraped CIK 0000078003\n",
      "Already scraped CIK 0001126328\n",
      "Already scraped CIK 0001618673\n",
      "Already scraped CIK 0001630856\n",
      "Already scraped CIK 0001289636\n",
      "Already scraped CIK 0000075340\n",
      "Already scraped CIK 0001056943\n",
      "Already scraped CIK 0001504619\n",
      "Already scraped CIK 0001550695\n",
      "Already scraped CIK 0001478121\n",
      "Already scraped CIK 0001212458\n",
      "Already scraped CIK 0001178970\n",
      "Already scraped CIK 0001745916\n",
      "Already scraped CIK 0001095315\n",
      "Already scraped CIK 0000080424\n",
      "Already scraped CIK 0001050743\n",
      "Already scraped CIK 0001356090\n",
      "Already scraped CIK 0000835887\n",
      "Already scraped CIK 0001551306\n",
      "Already scraped CIK 0000080661\n",
      "Already scraped CIK 0001605607\n",
      "Already scraped CIK 0001354327\n",
      "Already scraped CIK 0000076334\n",
      "Already scraped CIK 0001169245\n",
      "Already scraped CIK 0001783183\n",
      "Already scraped CIK 0001729089\n",
      "Already scraped CIK 0000313216\n",
      "Already scraped CIK 0001739174\n",
      "Already scraped CIK 0000078150\n",
      "Already scraped CIK 0001533040\n",
      "Already scraped CIK 0000822416\n",
      "Already scraped CIK 0001412408\n",
      "Already scraped CIK 0001665300\n"
     ]
    },
    {
     "name": "stderr",
     "output_type": "stream",
     "text": [
      " 75%|███████▌  | 3646/4854 [00:01<00:00, 3317.27it/s]"
     ]
    },
    {
     "name": "stdout",
     "output_type": "stream",
     "text": [
      "Already scraped CIK 0000315131\n",
      "Already scraped CIK 0001114995\n",
      "Already scraped CIK 0001772720\n",
      "Already scraped CIK 0000830122\n",
      "Already scraped CIK 0001591890\n",
      "Already scraped CIK 0000931015\n",
      "Already scraped CIK 0001577916\n",
      "Already scraped CIK 0001786117\n",
      "Already scraped CIK 0001679826\n",
      "Already scraped CIK 0001506293\n",
      "Already scraped CIK 0001230245\n",
      "Already scraped CIK 0001583648\n",
      "Already scraped CIK 0001675634\n",
      "Already scraped CIK 0001137774\n",
      "Already scraped CIK 0001626115\n",
      "Already scraped CIK 0001617406\n",
      "Already scraped CIK 0001315399\n",
      "Already scraped CIK 0000076267\n",
      "Already scraped CIK 0000075677\n",
      "Already scraped CIK 0000031791\n",
      "Already scraped CIK 0000076282\n",
      "Already scraped CIK 0000889132\n",
      "Already scraped CIK 0000810136\n",
      "Already scraped CIK 0001117057\n",
      "Already scraped CIK 0001540755\n",
      "Already scraped CIK 0001525769\n",
      "Already scraped CIK 0001168455\n",
      "Already scraped CIK 0001041859\n",
      "Already scraped CIK 0001045609\n",
      "Already scraped CIK 0001095052\n",
      "Already scraped CIK 0001735556\n",
      "Already scraped CIK 0001728205\n",
      "Already scraped CIK 0000866028\n",
      "Already scraped CIK 0001761312\n",
      "Already scraped CIK 0001637207\n",
      "Already scraped CIK 0001287213\n",
      "Already scraped CIK 0000080035\n",
      "Already scraped CIK 0001746473\n",
      "Already scraped CIK 0001625101\n",
      "Already scraped CIK 0000914025\n",
      "Already scraped CIK 0001093691\n",
      "Already scraped CIK 0001022408\n",
      "Already scraped CIK 0001006281\n",
      "Already scraped CIK 0001497504\n",
      "Already scraped CIK 0000785786\n",
      "Already scraped CIK 0001692412\n",
      "Already scraped CIK 0001515816\n",
      "Already scraped CIK 0001413329\n",
      "Already scraped CIK 0001109546\n",
      "Already scraped CIK 0000806517\n",
      "Already scraped CIK 0001517130\n",
      "Already scraped CIK 0001464423\n",
      "Already scraped CIK 0001098146\n",
      "Already scraped CIK 0000713676\n",
      "Already scraped CIK 0001115055\n",
      "Already scraped CIK 0001108426\n",
      "Already scraped CIK 0001383414\n",
      "Already scraped CIK 0000077360\n",
      "Already scraped CIK 0000056868\n",
      "Already scraped CIK 0001766400\n",
      "Already scraped CIK 0000764622\n",
      "Already scraped CIK 0001446159\n",
      "Already scraped CIK 0001145197\n",
      "Already scraped CIK 0001122976\n",
      "Already scraped CIK 0001622345\n",
      "Already scraped CIK 0000945841\n",
      "Already scraped CIK 0000784977\n",
      "Already scraped CIK 0001530950\n",
      "Already scraped CIK 0000833640\n",
      "Already scraped CIK 0000080420\n",
      "Already scraped CIK 0001028918\n",
      "Already scraped CIK 0000802481\n",
      "Already scraped CIK 0001793294\n",
      "Already scraped CIK 0000079879\n",
      "Already scraped CIK 0001752039\n",
      "Already scraped CIK 0000914122\n",
      "Already scraped CIK 0000922224\n",
      "Already scraped CIK 0001449792\n",
      "Already scraped CIK 0001708035\n",
      "Already scraped CIK 0001127703\n",
      "Already scraped CIK 0001185348\n",
      "Already scraped CIK 0001613859\n",
      "Already scraped CIK 0000887226\n",
      "Already scraped CIK 0001046568\n",
      "Already scraped CIK 0001085869\n",
      "Already scraped CIK 0001585364\n",
      "Already scraped CIK 0000876167\n",
      "Already scraped CIK 0001007330\n",
      "Already scraped CIK 0001475922\n",
      "Already scraped CIK 0001361538\n",
      "Already scraped CIK 0000805676\n",
      "Already scraped CIK 0001443669\n",
      "Already scraped CIK 0000884713\n",
      "Already scraped CIK 0001510487\n",
      "Already scraped CIK 0001392972\n",
      "Already scraped CIK 0001628808\n",
      "Already scraped CIK 0001580063\n",
      "Already scraped CIK 0001634038\n",
      "Already scraped CIK 0001010470\n",
      "Already scraped CIK 0000868278\n",
      "Already scraped CIK 0001643953\n",
      "Already scraped CIK 0001043961\n",
      "Already scraped CIK 0001612940\n",
      "Already scraped CIK 0001220754\n",
      "Already scraped CIK 0001724670\n",
      "Already scraped CIK 0001724009\n",
      "Already scraped CIK 0001559053\n",
      "Already scraped CIK 0001653558\n",
      "Already scraped CIK 0001178711\n",
      "Already scraped CIK 0001378950\n",
      "Already scraped CIK 0001592058\n",
      "Already scraped CIK 0001695357\n",
      "Already scraped CIK 0001714798\n",
      "Already scraped CIK 0001725579\n",
      "Already scraped CIK 0001393311\n",
      "Already scraped CIK 0000866368\n",
      "Already scraped CIK 0001481241\n",
      "Already scraped CIK 0001041803\n",
      "Already scraped CIK 0000275880\n",
      "Already scraped CIK 0001527753\n",
      "Already scraped CIK 0000938323\n",
      "Already scraped CIK 0001474432\n",
      "Already scraped CIK 0001158780\n",
      "Already scraped CIK 0001759774\n",
      "Already scraped CIK 0001095981\n",
      "Already scraped CIK 0001597659\n",
      "Already scraped CIK 0001534701\n",
      "Already scraped CIK 0001572910\n",
      "Already scraped CIK 0001716338\n",
      "Already scraped CIK 0001784535\n",
      "Already scraped CIK 0000857005\n",
      "Already scraped CIK 0001070081\n",
      "Already scraped CIK 0001076682\n",
      "Already scraped CIK 0000889900\n",
      "Already scraped CIK 0001377121\n",
      "Already scraped CIK 0001445283\n",
      "Already scraped CIK 0001269021\n",
      "Already scraped CIK 0001372807\n",
      "Already scraped CIK 0000911216\n",
      "Already scraped CIK 0001096691\n",
      "Already scraped CIK 0001639825\n",
      "Already scraped CIK 0001108329\n",
      "Already scraped CIK 0000798287\n",
      "Already scraped CIK 0000009346\n",
      "Already scraped CIK 0001636286\n",
      "Already scraped CIK 0001116578\n",
      "Already scraped CIK 0001574235\n",
      "Already scraped CIK 0001680247\n",
      "Already scraped CIK 0001750264\n",
      "Already scraped CIK 0000077159\n",
      "Already scraped CIK 0001778784\n",
      "Already scraped CIK 0001508844\n",
      "Already scraped CIK 0000078239\n",
      "Already scraped CIK 0001520048\n",
      "Already scraped CIK 0001532619\n",
      "Already scraped CIK 0001774170\n",
      "Already scraped CIK 0000716605\n",
      "Already scraped CIK 0001050915\n",
      "Already scraped CIK 0001038357\n",
      "Already scraped CIK 0001040161\n",
      "Already scraped CIK 0001640043\n",
      "Already scraped CIK 0001611842\n",
      "Already scraped CIK 0001633917\n",
      "Already scraped CIK 0001629210\n",
      "Already scraped CIK 0001399249\n",
      "Already scraped CIK 0000901491\n",
      "Already scraped CIK 0001036188\n",
      "Already scraped CIK 0000804328\n",
      "Already scraped CIK 0000906465\n",
      "Already scraped CIK 0001692705\n",
      "Already scraped CIK 0000353569\n",
      "Already scraped CIK 0001108827\n",
      "Already scraped CIK 0001704235\n",
      "Already scraped CIK 0001741530\n",
      "Already scraped CIK 0001015820\n",
      "Already scraped CIK 0001561566\n",
      "Already scraped CIK 0001769256\n",
      "Already scraped CIK 0001460702\n",
      "Already scraped CIK 0001107843\n",
      "Already scraped CIK 0000709283\n",
      "Already scraped CIK 0001117297\n",
      "Already scraped CIK 0001442236\n",
      "Already scraped CIK 0001355096\n",
      "Already scraped CIK 0001604778\n",
      "Already scraped CIK 0001618756\n",
      "Already scraped CIK 0001596946\n",
      "Already scraped CIK 0001503274\n",
      "Already scraped CIK 0001577368\n",
      "Already scraped CIK 0001733298\n",
      "Already scraped CIK 0001410384\n",
      "Already scraped CIK 0001481792\n",
      "Already scraped CIK 0000882508\n",
      "Already scraped CIK 0000892482\n",
      "Already scraped CIK 0001115128\n",
      "Already scraped CIK 0001590560\n",
      "Already scraped CIK 0001254699\n",
      "Already scraped CIK 0000085961\n",
      "Already scraped CIK 0001648416\n",
      "Already scraped CIK 0000084129\n",
      "Already scraped CIK 0000761238\n",
      "Already scraped CIK 0001320854\n",
      "Already scraped CIK 0000733269\n",
      "Already scraped CIK 0000081955\n",
      "Already scraped CIK 0001673772\n",
      "Already scraped CIK 0001515673\n",
      "Already scraped CIK 0000718332\n",
      "Already scraped CIK 0000082166\n",
      "Already scraped CIK 0001046102\n",
      "Already scraped CIK 0001499422\n",
      "Already scraped CIK 0001708055\n",
      "Already scraped CIK 0000082811\n",
      "Already scraped CIK 0000921557\n",
      "Already scraped CIK 0001410172\n",
      "Already scraped CIK 0001751783\n",
      "Already scraped CIK 0001606440\n",
      "Already scraped CIK 0000844150\n",
      "Already scraped CIK 0001527590\n",
      "Already scraped CIK 0001762303\n",
      "Already scraped CIK 0000733099\n",
      "Already scraped CIK 0000933036\n",
      "Already scraped CIK 0001281895\n",
      "Already scraped CIK 0000895456\n",
      "Already scraped CIK 0000884887\n",
      "Already scraped CIK 0001472595\n",
      "Already scraped CIK 0000700841\n",
      "Already scraped CIK 0001442620\n",
      "Already scraped CIK 0001724521\n",
      "Already scraped CIK 0001016838\n",
      "Already scraped CIK 0001382821\n",
      "Already scraped CIK 0001553846\n",
      "Already scraped CIK 0000716634\n",
      "Already scraped CIK 0000890926\n",
      "Already scraped CIK 0000790526\n",
      "Already scraped CIK 0001428522\n",
      "Already scraped CIK 0001720116\n",
      "Already scraped CIK 0001094366\n",
      "Already scraped CIK 0001135951\n",
      "Already scraped CIK 0001095073\n",
      "Already scraped CIK 0001573221\n",
      "Already scraped CIK 0001712178\n",
      "Already scraped CIK 0001140215\n",
      "Already scraped CIK 0000793524\n",
      "Already scraped CIK 0000910606\n",
      "Already scraped CIK 0001463258\n",
      "Already scraped CIK 0000872589\n",
      "Already scraped CIK 0001384195\n",
      "Already scraped CIK 0000355948\n",
      "Already scraped CIK 0000768710\n",
      "Already scraped CIK 0000929869\n",
      "Already scraped CIK 0001509223\n",
      "Already scraped CIK 0001588972\n",
      "Already scraped CIK 0001737953\n",
      "Already scraped CIK 0000742278\n",
      "Already scraped CIK 0001555039\n",
      "Already scraped CIK 0001579910\n",
      "Already scraped CIK 0001358762\n",
      "Already scraped CIK 0001687277\n",
      "Already scraped CIK 0000887921\n",
      "Already scraped CIK 0001687221\n",
      "Already scraped CIK 0000744187\n",
      "Already scraped CIK 0001228627\n",
      "Already scraped CIK 0001571283\n",
      "Already scraped CIK 0001786431\n",
      "Already scraped CIK 0001740332\n",
      "Already scraped CIK 0001281761\n",
      "Already scraped CIK 0000740664\n",
      "Already scraped CIK 0001713863\n",
      "Already scraped CIK 0001393066\n",
      "Already scraped CIK 0000898174\n",
      "Already scraped CIK 0001069533\n",
      "Already scraped CIK 0000730272\n",
      "Already scraped CIK 0000085535\n",
      "Already scraped CIK 0001505512\n",
      "Already scraped CIK 0001590877\n",
      "Already scraped CIK 0001084765\n",
      "Already scraped CIK 0000095029\n",
      "Already scraped CIK 0000716643\n",
      "Already scraped CIK 0001528849\n",
      "Already scraped CIK 0001004724\n",
      "Already scraped CIK 0000315213\n",
      "Already scraped CIK 0001040829\n",
      "Already scraped CIK 0001063537\n",
      "Already scraped CIK 0000935419\n",
      "Already scraped CIK 0001451505\n",
      "Already scraped CIK 0001034842\n",
      "Already scraped CIK 0001464790\n",
      "Already scraped CIK 0000863064\n",
      "Already scraped CIK 0001167419\n",
      "Already scraped CIK 0001590799\n",
      "Already scraped CIK 0000720005\n",
      "Already scraped CIK 0001469443\n",
      "Already scraped CIK 0001037038\n",
      "Already scraped CIK 0001171155\n",
      "Already scraped CIK 0001398987\n",
      "Already scraped CIK 0001052595\n",
      "Already scraped CIK 0000084246\n",
      "Already scraped CIK 0001511337\n",
      "Already scraped CIK 0001553643\n",
      "Already scraped CIK 0001519401\n",
      "Already scraped CIK 0001581091\n",
      "Already scraped CIK 0001767837\n",
      "Already scraped CIK 0001596961\n",
      "Already scraped CIK 0000917273\n",
      "Already scraped CIK 0001616262\n",
      "Already scraped CIK 0000943819\n",
      "Already scraped CIK 0001716621\n",
      "Already scraped CIK 0001757932\n",
      "Already scraped CIK 0001635282\n",
      "Already scraped CIK 0001644378\n",
      "Already scraped CIK 0001041024\n",
      "Already scraped CIK 0001599901\n",
      "Already scraped CIK 0001667161\n",
      "Already scraped CIK 0001162112\n",
      "Already scraped CIK 0001384905\n",
      "Already scraped CIK 0001699039\n",
      "Already scraped CIK 0000913144\n",
      "Already scraped CIK 0000715072\n",
      "Already scraped CIK 0001046327\n",
      "Already scraped CIK 0001718227\n",
      "Already scraped CIK 0001796303\n",
      "Already scraped CIK 0000912562\n",
      "Already scraped CIK 0000084748\n",
      "Already scraped CIK 0001407623\n",
      "Already scraped CIK 0001024478\n",
      "Already scraped CIK 0001428439\n",
      "Already scraped CIK 0000084839\n",
      "Already scraped CIK 0001324948\n",
      "Already scraped CIK 0000882835\n",
      "Already scraped CIK 0001659122\n",
      "Already scraped CIK 0000745732\n",
      "Already scraped CIK 0001538822\n",
      "Already scraped CIK 0001286225\n",
      "Already scraped CIK 0001222840\n",
      "Already scraped CIK 0001720592\n",
      "Already scraped CIK 0001560327\n",
      "Already scraped CIK 0001763731\n",
      "Already scraped CIK 0000110621\n",
      "Already scraped CIK 0001802768\n",
      "Already scraped CIK 0000842183\n",
      "Already scraped CIK 0001808158\n",
      "Already scraped CIK 0001071236\n",
      "Already scraped CIK 0000315852\n",
      "Already scraped CIK 0000029669\n",
      "Already scraped CIK 0001171759\n",
      "Already scraped CIK 0001653653\n",
      "Already scraped CIK 0000861884\n",
      "Already scraped CIK 0001060391\n",
      "Already scraped CIK 0001386301\n",
      "Already scraped CIK 0001351285\n",
      "Already scraped CIK 0001760173\n",
      "Already scraped CIK 0001748773\n",
      "Already scraped CIK 0001438533\n",
      "Already scraped CIK 0001211351\n",
      "Already scraped CIK 0000101829\n",
      "Already scraped CIK 0001595974\n",
      "Already scraped CIK 0001709401\n",
      "Already scraped CIK 0001753268\n",
      "Already scraped CIK 0001469367\n",
      "Already scraped CIK 0001012019\n",
      "Already scraped CIK 0001324272\n",
      "Already scraped CIK 0001735184\n",
      "Already scraped CIK 0001746618\n",
      "Already scraped CIK 0001628171\n",
      "Already scraped CIK 0001479290\n",
      "Already scraped CIK 0000946563\n",
      "Already scraped CIK 0001041368\n",
      "Already scraped CIK 0001607962\n",
      "Already scraped CIK 0000930236\n",
      "Already scraped CIK 0001439288\n",
      "Already scraped CIK 0001000275\n",
      "Already scraped CIK 0001038683\n",
      "Already scraped CIK 0001597672\n",
      "Already scraped CIK 0001708441\n",
      "Already scraped CIK 0001552448\n",
      "Already scraped CIK 0001481582\n",
      "Already scraped CIK 0000052827\n",
      "Already scraped CIK 0001649904\n",
      "Already scraped CIK 0001231346\n",
      "Already scraped CIK 0001597033\n",
      "Already scraped CIK 0001682220\n",
      "Already scraped CIK 0001377936\n",
      "Already scraped CIK 0001688852\n",
      "Already scraped CIK 0000812128\n",
      "Already scraped CIK 0001172052\n",
      "Already scraped CIK 0001597553\n",
      "Already scraped CIK 0001043509\n",
      "Already scraped CIK 0001177702\n",
      "Already scraped CIK 0001571123\n",
      "Already scraped CIK 0001627857\n",
      "Already scraped CIK 0001060219\n",
      "Already scraped CIK 0001050606\n",
      "Already scraped CIK 0001587264\n",
      "Already scraped CIK 0000949870\n",
      "Already scraped CIK 0001754824\n",
      "Already scraped CIK 0001549966\n",
      "Already scraped CIK 0000891478\n",
      "Already scraped CIK 0001434614\n",
      "Already scraped CIK 0000897723\n",
      "Already scraped CIK 0001477246\n",
      "Already scraped CIK 0001000184\n",
      "Already scraped CIK 0001776909\n",
      "Already scraped CIK 0000824410\n",
      "Already scraped CIK 0001415404\n",
      "Already scraped CIK 0001069530\n",
      "Already scraped CIK 0001498710\n",
      "Already scraped CIK 0001434754\n",
      "Already scraped CIK 0001034054\n",
      "Already scraped CIK 0001483934\n",
      "Already scraped CIK 0001634432\n",
      "Already scraped CIK 0001028954\n",
      "Already scraped CIK 0000730708\n",
      "Already scraped CIK 0000767405\n",
      "Already scraped CIK 0000912752\n",
      "Already scraped CIK 0001368458\n",
      "Already scraped CIK 0001386716\n",
      "Already scraped CIK 0000351817\n",
      "Already scraped CIK 0001566373\n",
      "Already scraped CIK 0000710752\n",
      "Already scraped CIK 0001492298\n",
      "Already scraped CIK 0001170858\n",
      "Already scraped CIK 0000705432\n",
      "Already scraped CIK 0001786909\n",
      "Already scraped CIK 0001680379\n",
      "Already scraped CIK 0000829224\n",
      "Already scraped CIK 0001580608\n",
      "Already scraped CIK 0001001838\n",
      "Already scraped CIK 0000866729\n",
      "Already scraped CIK 0000912603\n",
      "Already scraped CIK 0000316709\n",
      "Already scraped CIK 0000089089\n",
      "Already scraped CIK 0000944075\n",
      "Already scraped CIK 0000094049\n",
      "Already scraped CIK 0000895665\n",
      "Already scraped CIK 0001158172\n",
      "Already scraped CIK 0001764301\n",
      "Already scraped CIK 0001604950\n",
      "Already scraped CIK 0001760717\n",
      "Already scraped CIK 0001050825\n",
      "Scraping CIK 0000918965\n",
      "Scraping CIK 0001403256\n",
      "Scraping CIK 0000895447\n"
     ]
    },
    {
     "name": "stderr",
     "output_type": "stream",
     "text": [
      " 79%|███████▉  | 3844/4854 [00:25<01:08, 14.69it/s]  "
     ]
    },
    {
     "name": "stdout",
     "output_type": "stream",
     "text": [
      "Scraping CIK 0001794717\n",
      "Scraping CIK 0001468666\n"
     ]
    },
    {
     "name": "stderr",
     "output_type": "stream",
     "text": [
      " 79%|███████▉  | 3845/4854 [00:27<11:39,  1.44it/s]"
     ]
    },
    {
     "name": "stdout",
     "output_type": "stream",
     "text": [
      "Scraping CIK 0000093676\n"
     ]
    },
    {
     "name": "stderr",
     "output_type": "stream",
     "text": [
      " 79%|███████▉  | 3846/4854 [00:39<1:08:04,  4.05s/it]"
     ]
    },
    {
     "name": "stdout",
     "output_type": "stream",
     "text": [
      "Scraping CIK 0001178253\n"
     ]
    },
    {
     "name": "stderr",
     "output_type": "stream",
     "text": [
      " 79%|███████▉  | 3847/4854 [00:42<1:05:11,  3.88s/it]"
     ]
    },
    {
     "name": "stdout",
     "output_type": "stream",
     "text": [
      "Scraping CIK 0001349436\n"
     ]
    },
    {
     "name": "stderr",
     "output_type": "stream",
     "text": [
      " 79%|███████▉  | 3848/4854 [00:50<1:25:21,  5.09s/it]"
     ]
    },
    {
     "name": "stdout",
     "output_type": "stream",
     "text": [
      "Scraping CIK 0001775625\n"
     ]
    },
    {
     "name": "stderr",
     "output_type": "stream",
     "text": [
      " 79%|███████▉  | 3849/4854 [00:51<1:02:10,  3.71s/it]"
     ]
    },
    {
     "name": "stdout",
     "output_type": "stream",
     "text": [
      "Scraping CIK 0001490978\n"
     ]
    },
    {
     "name": "stderr",
     "output_type": "stream",
     "text": [
      " 79%|███████▉  | 3850/4854 [00:51<46:44,  2.79s/it]  "
     ]
    },
    {
     "name": "stdout",
     "output_type": "stream",
     "text": [
      "Scraping CIK 0000911649\n"
     ]
    },
    {
     "name": "stderr",
     "output_type": "stream",
     "text": [
      " 79%|███████▉  | 3851/4854 [01:03<1:31:11,  5.46s/it]"
     ]
    },
    {
     "name": "stdout",
     "output_type": "stream",
     "text": [
      "Scraping CIK 0001600422\n"
     ]
    },
    {
     "name": "stderr",
     "output_type": "stream",
     "text": [
      " 79%|███████▉  | 3853/4854 [01:07<57:39,  3.46s/it]  "
     ]
    },
    {
     "name": "stdout",
     "output_type": "stream",
     "text": [
      "Scraping CIK 0001737706\n",
      "Scraping CIK 0001703399\n"
     ]
    },
    {
     "name": "stderr",
     "output_type": "stream",
     "text": [
      " 79%|███████▉  | 3854/4854 [01:07<41:00,  2.46s/it]"
     ]
    },
    {
     "name": "stdout",
     "output_type": "stream",
     "text": [
      "Scraping CIK 0001019671\n"
     ]
    },
    {
     "name": "stderr",
     "output_type": "stream",
     "text": [
      " 79%|███████▉  | 3855/4854 [01:19<1:29:22,  5.37s/it]"
     ]
    },
    {
     "name": "stdout",
     "output_type": "stream",
     "text": [
      "Scraping CIK 0001564902\n"
     ]
    },
    {
     "name": "stderr",
     "output_type": "stream",
     "text": [
      " 79%|███████▉  | 3856/4854 [01:24<1:29:17,  5.37s/it]"
     ]
    },
    {
     "name": "stdout",
     "output_type": "stream",
     "text": [
      "Scraping CIK 0000088121\n"
     ]
    },
    {
     "name": "stderr",
     "output_type": "stream",
     "text": [
      " 79%|███████▉  | 3858/4854 [01:36<1:23:29,  5.03s/it]"
     ]
    },
    {
     "name": "stdout",
     "output_type": "stream",
     "text": [
      "Scraping CIK 0001633441\n",
      "Scraping CIK 0001419612\n"
     ]
    },
    {
     "name": "stderr",
     "output_type": "stream",
     "text": [
      " 80%|███████▉  | 3859/4854 [01:39<1:15:35,  4.56s/it]"
     ]
    },
    {
     "name": "stdout",
     "output_type": "stream",
     "text": [
      "Scraping CIK 0001012100\n"
     ]
    },
    {
     "name": "stderr",
     "output_type": "stream",
     "text": [
      " 80%|███████▉  | 3861/4854 [01:51<1:18:35,  4.75s/it]"
     ]
    },
    {
     "name": "stdout",
     "output_type": "stream",
     "text": [
      "Scraping CIK 0001321851\n",
      "Scraping CIK 0001017491\n"
     ]
    },
    {
     "name": "stderr",
     "output_type": "stream",
     "text": [
      " 80%|███████▉  | 3862/4854 [02:00<1:39:05,  5.99s/it]"
     ]
    },
    {
     "name": "stdout",
     "output_type": "stream",
     "text": [
      "Scraping CIK 0000350894\n"
     ]
    },
    {
     "name": "stderr",
     "output_type": "stream",
     "text": [
      " 80%|███████▉  | 3863/4854 [02:11<2:04:08,  7.52s/it]"
     ]
    },
    {
     "name": "stdout",
     "output_type": "stream",
     "text": [
      "Scraping CIK 0001453687\n"
     ]
    },
    {
     "name": "stderr",
     "output_type": "stream",
     "text": [
      " 80%|███████▉  | 3864/4854 [02:13<1:36:22,  5.84s/it]"
     ]
    },
    {
     "name": "stdout",
     "output_type": "stream",
     "text": [
      "Scraping CIK 0001031235\n"
     ]
    },
    {
     "name": "stderr",
     "output_type": "stream",
     "text": [
      " 80%|███████▉  | 3865/4854 [02:15<1:19:17,  4.81s/it]"
     ]
    },
    {
     "name": "stdout",
     "output_type": "stream",
     "text": [
      "Scraping CIK 0001320414\n"
     ]
    },
    {
     "name": "stderr",
     "output_type": "stream",
     "text": [
      " 80%|███████▉  | 3866/4854 [02:22<1:28:24,  5.37s/it]"
     ]
    },
    {
     "name": "stdout",
     "output_type": "stream",
     "text": [
      "Scraping CIK 0000088948\n"
     ]
    },
    {
     "name": "stderr",
     "output_type": "stream",
     "text": [
      " 80%|███████▉  | 3867/4854 [02:33<1:55:18,  7.01s/it]"
     ]
    },
    {
     "name": "stdout",
     "output_type": "stream",
     "text": [
      "Scraping CIK 0001616543\n"
     ]
    },
    {
     "name": "stderr",
     "output_type": "stream",
     "text": [
      " 80%|███████▉  | 3868/4854 [02:37<1:41:07,  6.15s/it]"
     ]
    },
    {
     "name": "stdout",
     "output_type": "stream",
     "text": [
      "Scraping CIK 0001428875\n"
     ]
    },
    {
     "name": "stderr",
     "output_type": "stream",
     "text": [
      " 80%|███████▉  | 3869/4854 [02:41<1:31:09,  5.55s/it]"
     ]
    },
    {
     "name": "stdout",
     "output_type": "stream",
     "text": [
      "Scraping CIK 0001485003\n"
     ]
    },
    {
     "name": "stderr",
     "output_type": "stream",
     "text": [
      " 80%|███████▉  | 3870/4854 [02:46<1:26:01,  5.24s/it]"
     ]
    },
    {
     "name": "stdout",
     "output_type": "stream",
     "text": [
      "Scraping CIK 0000720672\n"
     ]
    },
    {
     "name": "stderr",
     "output_type": "stream",
     "text": [
      " 80%|███████▉  | 3871/4854 [02:59<2:05:47,  7.68s/it]"
     ]
    },
    {
     "name": "stdout",
     "output_type": "stream",
     "text": [
      "Scraping CIK 0001541119\n"
     ]
    },
    {
     "name": "stderr",
     "output_type": "stream",
     "text": [
      " 80%|███████▉  | 3872/4854 [03:05<1:54:36,  7.00s/it]"
     ]
    },
    {
     "name": "stdout",
     "output_type": "stream",
     "text": [
      "Scraping CIK 0001430723\n"
     ]
    },
    {
     "name": "stderr",
     "output_type": "stream",
     "text": [
      " 80%|███████▉  | 3873/4854 [03:13<2:00:44,  7.39s/it]"
     ]
    },
    {
     "name": "stdout",
     "output_type": "stream",
     "text": [
      "Scraping CIK 0000086115\n"
     ]
    },
    {
     "name": "stderr",
     "output_type": "stream",
     "text": [
      " 80%|███████▉  | 3874/4854 [03:26<2:28:59,  9.12s/it]"
     ]
    },
    {
     "name": "stdout",
     "output_type": "stream",
     "text": [
      "Scraping CIK 0001725332\n"
     ]
    },
    {
     "name": "stderr",
     "output_type": "stream",
     "text": [
      " 80%|███████▉  | 3875/4854 [03:26<1:45:39,  6.48s/it]"
     ]
    },
    {
     "name": "stdout",
     "output_type": "stream",
     "text": [
      "Scraping CIK 0001576942\n"
     ]
    },
    {
     "name": "stderr",
     "output_type": "stream",
     "text": [
      " 80%|███████▉  | 3877/4854 [03:28<56:39,  3.48s/it]  "
     ]
    },
    {
     "name": "stdout",
     "output_type": "stream",
     "text": [
      "Scraping CIK 0001289877\n",
      "Scraping CIK 0001575515\n"
     ]
    },
    {
     "name": "stderr",
     "output_type": "stream",
     "text": [
      " 80%|███████▉  | 3878/4854 [03:32<1:00:19,  3.71s/it]"
     ]
    },
    {
     "name": "stdout",
     "output_type": "stream",
     "text": [
      "Scraping CIK 0000090498\n"
     ]
    },
    {
     "name": "stderr",
     "output_type": "stream",
     "text": [
      " 80%|███████▉  | 3879/4854 [03:47<1:57:08,  7.21s/it]"
     ]
    },
    {
     "name": "stdout",
     "output_type": "stream",
     "text": [
      "Scraping CIK 0001090009\n"
     ]
    },
    {
     "name": "stderr",
     "output_type": "stream",
     "text": [
      " 80%|███████▉  | 3880/4854 [04:00<2:22:32,  8.78s/it]"
     ]
    },
    {
     "name": "stdout",
     "output_type": "stream",
     "text": [
      "Scraping CIK 0001753539\n"
     ]
    },
    {
     "name": "stderr",
     "output_type": "stream",
     "text": [
      " 80%|███████▉  | 3882/4854 [04:01<1:13:10,  4.52s/it]"
     ]
    },
    {
     "name": "stdout",
     "output_type": "stream",
     "text": [
      "Scraping CIK 0001294404\n",
      "Scraping CIK 0001744894\n"
     ]
    },
    {
     "name": "stderr",
     "output_type": "stream",
     "text": [
      " 80%|███████▉  | 3883/4854 [04:03<1:01:36,  3.81s/it]"
     ]
    },
    {
     "name": "stdout",
     "output_type": "stream",
     "text": [
      "Scraping CIK 0000886136\n"
     ]
    },
    {
     "name": "stderr",
     "output_type": "stream",
     "text": [
      " 80%|████████  | 3884/4854 [04:16<1:45:19,  6.51s/it]"
     ]
    },
    {
     "name": "stdout",
     "output_type": "stream",
     "text": [
      "Scraping CIK 0001023994\n"
     ]
    },
    {
     "name": "stderr",
     "output_type": "stream",
     "text": [
      " 80%|████████  | 3885/4854 [04:21<1:41:32,  6.29s/it]"
     ]
    },
    {
     "name": "stdout",
     "output_type": "stream",
     "text": [
      "Scraping CIK 0000095574\n"
     ]
    },
    {
     "name": "stderr",
     "output_type": "stream",
     "text": [
      " 80%|████████  | 3886/4854 [04:34<2:10:02,  8.06s/it]"
     ]
    },
    {
     "name": "stdout",
     "output_type": "stream",
     "text": [
      "Scraping CIK 0001060736\n"
     ]
    },
    {
     "name": "stderr",
     "output_type": "stream",
     "text": [
      " 80%|████████  | 3887/4854 [04:44<2:23:14,  8.89s/it]"
     ]
    },
    {
     "name": "stdout",
     "output_type": "stream",
     "text": [
      "Scraping CIK 0001616533\n"
     ]
    },
    {
     "name": "stderr",
     "output_type": "stream",
     "text": [
      " 80%|████████  | 3888/4854 [04:47<1:50:12,  6.85s/it]"
     ]
    },
    {
     "name": "stdout",
     "output_type": "stream",
     "text": [
      "Scraping CIK 0000788611\n"
     ]
    },
    {
     "name": "stderr",
     "output_type": "stream",
     "text": [
      " 80%|████████  | 3889/4854 [04:54<1:50:40,  6.88s/it]"
     ]
    },
    {
     "name": "stdout",
     "output_type": "stream",
     "text": [
      "Scraping CIK 0000915358\n"
     ]
    },
    {
     "name": "stderr",
     "output_type": "stream",
     "text": [
      " 80%|████████  | 3890/4854 [05:06<2:16:12,  8.48s/it]"
     ]
    },
    {
     "name": "stdout",
     "output_type": "stream",
     "text": [
      "Scraping CIK 0001001233\n"
     ]
    },
    {
     "name": "stderr",
     "output_type": "stream",
     "text": [
      " 80%|████████  | 3891/4854 [05:17<2:30:33,  9.38s/it]"
     ]
    },
    {
     "name": "stdout",
     "output_type": "stream",
     "text": [
      "Scraping CIK 0000750004\n"
     ]
    },
    {
     "name": "stderr",
     "output_type": "stream",
     "text": [
      " 80%|████████  | 3892/4854 [05:32<2:53:58, 10.85s/it]"
     ]
    },
    {
     "name": "stdout",
     "output_type": "stream",
     "text": [
      "Scraping CIK 0001412095\n"
     ]
    },
    {
     "name": "stderr",
     "output_type": "stream",
     "text": [
      " 80%|████████  | 3893/4854 [05:33<2:07:59,  7.99s/it]"
     ]
    },
    {
     "name": "stdout",
     "output_type": "stream",
     "text": [
      "Scraping CIK 0001004989\n"
     ]
    },
    {
     "name": "stderr",
     "output_type": "stream",
     "text": [
      " 80%|████████  | 3894/4854 [05:47<2:36:31,  9.78s/it]"
     ]
    },
    {
     "name": "stdout",
     "output_type": "stream",
     "text": [
      "Scraping CIK 0001638833\n"
     ]
    },
    {
     "name": "stderr",
     "output_type": "stream",
     "text": [
      " 80%|████████  | 3895/4854 [05:51<2:08:38,  8.05s/it]"
     ]
    },
    {
     "name": "stdout",
     "output_type": "stream",
     "text": [
      "Scraping CIK 0001002590\n"
     ]
    },
    {
     "name": "stderr",
     "output_type": "stream",
     "text": [
      " 80%|████████  | 3896/4854 [06:04<2:31:29,  9.49s/it]"
     ]
    },
    {
     "name": "stdout",
     "output_type": "stream",
     "text": [
      "Scraping CIK 0001620533\n"
     ]
    },
    {
     "name": "stderr",
     "output_type": "stream",
     "text": [
      " 80%|████████  | 3897/4854 [06:08<2:06:06,  7.91s/it]"
     ]
    },
    {
     "name": "stdout",
     "output_type": "stream",
     "text": [
      "Scraping CIK 0001035092\n"
     ]
    },
    {
     "name": "stderr",
     "output_type": "stream",
     "text": [
      " 80%|████████  | 3898/4854 [06:23<2:39:25, 10.01s/it]"
     ]
    },
    {
     "name": "stdout",
     "output_type": "stream",
     "text": [
      "Scraping CIK 0000354963\n"
     ]
    },
    {
     "name": "stderr",
     "output_type": "stream",
     "text": [
      " 80%|████████  | 3900/4854 [06:36<2:02:50,  7.73s/it]"
     ]
    },
    {
     "name": "stdout",
     "output_type": "stream",
     "text": [
      "Scraping CIK 0001263043\n",
      "Scraping CIK 0000908732\n"
     ]
    },
    {
     "name": "stderr",
     "output_type": "stream",
     "text": [
      " 80%|████████  | 3902/4854 [06:36<1:01:09,  3.85s/it]"
     ]
    },
    {
     "name": "stdout",
     "output_type": "stream",
     "text": [
      "Scraping CIK 0001448397\n",
      "Scraping CIK 0001759631\n"
     ]
    },
    {
     "name": "stderr",
     "output_type": "stream",
     "text": [
      " 80%|████████  | 3903/4854 [06:37<46:08,  2.91s/it]  "
     ]
    },
    {
     "name": "stdout",
     "output_type": "stream",
     "text": [
      "Scraping CIK 0000904979\n"
     ]
    },
    {
     "name": "stderr",
     "output_type": "stream",
     "text": [
      " 80%|████████  | 3904/4854 [06:49<1:27:15,  5.51s/it]"
     ]
    },
    {
     "name": "stdout",
     "output_type": "stream",
     "text": [
      "Scraping CIK 0001610466\n"
     ]
    },
    {
     "name": "stderr",
     "output_type": "stream",
     "text": [
      " 80%|████████  | 3905/4854 [06:52<1:18:14,  4.95s/it]"
     ]
    },
    {
     "name": "stdout",
     "output_type": "stream",
     "text": [
      "Scraping CIK 0001295810\n"
     ]
    },
    {
     "name": "stderr",
     "output_type": "stream",
     "text": [
      " 80%|████████  | 3906/4854 [07:02<1:41:17,  6.41s/it]"
     ]
    },
    {
     "name": "stdout",
     "output_type": "stream",
     "text": [
      "Scraping CIK 0000913241\n"
     ]
    },
    {
     "name": "stderr",
     "output_type": "stream",
     "text": [
      " 81%|████████  | 3908/4854 [07:15<1:30:42,  5.75s/it]"
     ]
    },
    {
     "name": "stdout",
     "output_type": "stream",
     "text": [
      "Scraping CIK 0001594805\n",
      "Scraping CIK 0001506439\n"
     ]
    },
    {
     "name": "stderr",
     "output_type": "stream",
     "text": [
      " 81%|████████  | 3909/4854 [07:20<1:30:47,  5.76s/it]"
     ]
    },
    {
     "name": "stdout",
     "output_type": "stream",
     "text": [
      "Scraping CIK 0000089800\n"
     ]
    },
    {
     "name": "stderr",
     "output_type": "stream",
     "text": [
      " 81%|████████  | 3910/4854 [07:32<1:59:23,  7.59s/it]"
     ]
    },
    {
     "name": "stdout",
     "output_type": "stream",
     "text": [
      "Scraping CIK 0000743238\n"
     ]
    },
    {
     "name": "stderr",
     "output_type": "stream",
     "text": [
      " 81%|████████  | 3911/4854 [07:46<2:27:26,  9.38s/it]"
     ]
    },
    {
     "name": "stdout",
     "output_type": "stream",
     "text": [
      "Scraping CIK 0001312109\n"
     ]
    },
    {
     "name": "stderr",
     "output_type": "stream",
     "text": [
      " 81%|████████  | 3912/4854 [07:46<1:45:18,  6.71s/it]"
     ]
    },
    {
     "name": "stdout",
     "output_type": "stream",
     "text": [
      "Scraping CIK 0001459839\n"
     ]
    },
    {
     "name": "stderr",
     "output_type": "stream",
     "text": [
      " 81%|████████  | 3913/4854 [07:47<1:19:36,  5.08s/it]"
     ]
    },
    {
     "name": "stdout",
     "output_type": "stream",
     "text": [
      "Scraping CIK 0001723866\n"
     ]
    },
    {
     "name": "stderr",
     "output_type": "stream",
     "text": [
      " 81%|████████  | 3915/4854 [07:49<44:06,  2.82s/it]  "
     ]
    },
    {
     "name": "stdout",
     "output_type": "stream",
     "text": [
      "Scraping CIK 0001049659\n",
      "Scraping CIK 0000065596\n"
     ]
    },
    {
     "name": "stderr",
     "output_type": "stream",
     "text": [
      " 81%|████████  | 3916/4854 [07:59<1:19:45,  5.10s/it]"
     ]
    },
    {
     "name": "stdout",
     "output_type": "stream",
     "text": [
      "Scraping CIK 0001551693\n"
     ]
    },
    {
     "name": "stderr",
     "output_type": "stream",
     "text": [
      " 81%|████████  | 3917/4854 [08:03<1:14:07,  4.75s/it]"
     ]
    },
    {
     "name": "stdout",
     "output_type": "stream",
     "text": [
      "Scraping CIK 0000090168\n"
     ]
    },
    {
     "name": "stderr",
     "output_type": "stream",
     "text": [
      " 81%|████████  | 3919/4854 [08:16<1:17:19,  4.96s/it]"
     ]
    },
    {
     "name": "stdout",
     "output_type": "stream",
     "text": [
      "Scraping CIK 0001094324\n",
      "Scraping CIK 0000832988\n"
     ]
    },
    {
     "name": "stderr",
     "output_type": "stream",
     "text": [
      " 81%|████████  | 3920/4854 [08:23<1:27:19,  5.61s/it]"
     ]
    },
    {
     "name": "stdout",
     "output_type": "stream",
     "text": [
      "Scraping CIK 0001010086\n"
     ]
    },
    {
     "name": "stderr",
     "output_type": "stream",
     "text": [
      " 81%|████████  | 3921/4854 [08:31<1:37:13,  6.25s/it]"
     ]
    },
    {
     "name": "stdout",
     "output_type": "stream",
     "text": [
      "Scraping CIK 0000230557\n"
     ]
    },
    {
     "name": "stderr",
     "output_type": "stream",
     "text": [
      " 81%|████████  | 3923/4854 [08:44<1:31:20,  5.89s/it]"
     ]
    },
    {
     "name": "stdout",
     "output_type": "stream",
     "text": [
      "Scraping CIK 0000916793\n",
      "Scraping CIK 0001397702\n"
     ]
    },
    {
     "name": "stderr",
     "output_type": "stream",
     "text": [
      " 81%|████████  | 3925/4854 [08:45<47:12,  3.05s/it]  "
     ]
    },
    {
     "name": "stdout",
     "output_type": "stream",
     "text": [
      "Scraping CIK 0001659520\n",
      "Scraping CIK 0000887153\n"
     ]
    },
    {
     "name": "stderr",
     "output_type": "stream",
     "text": [
      " 81%|████████  | 3927/4854 [08:45<24:18,  1.57s/it]"
     ]
    },
    {
     "name": "stdout",
     "output_type": "stream",
     "text": [
      "Scraping CIK 0001329394\n",
      "Scraping CIK 0001094005\n"
     ]
    },
    {
     "name": "stderr",
     "output_type": "stream",
     "text": [
      " 81%|████████  | 3928/4854 [08:49<34:52,  2.26s/it]"
     ]
    },
    {
     "name": "stdout",
     "output_type": "stream",
     "text": [
      "Scraping CIK 0001422892\n"
     ]
    },
    {
     "name": "stderr",
     "output_type": "stream",
     "text": [
      " 81%|████████  | 3929/4854 [08:56<57:02,  3.70s/it]"
     ]
    },
    {
     "name": "stdout",
     "output_type": "stream",
     "text": [
      "Scraping CIK 0001269026\n"
     ]
    },
    {
     "name": "stderr",
     "output_type": "stream",
     "text": [
      " 81%|████████  | 3930/4854 [09:01<1:00:40,  3.94s/it]"
     ]
    },
    {
     "name": "stdout",
     "output_type": "stream",
     "text": [
      "Scraping CIK 0000908937\n"
     ]
    },
    {
     "name": "stderr",
     "output_type": "stream",
     "text": [
      " 81%|████████  | 3931/4854 [09:13<1:41:25,  6.59s/it]"
     ]
    },
    {
     "name": "stdout",
     "output_type": "stream",
     "text": [
      "Scraping CIK 0000894315\n"
     ]
    },
    {
     "name": "stderr",
     "output_type": "stream",
     "text": [
      " 81%|████████  | 3932/4854 [09:28<2:20:09,  9.12s/it]"
     ]
    },
    {
     "name": "stdout",
     "output_type": "stream",
     "text": [
      "Scraping CIK 0001650729\n"
     ]
    },
    {
     "name": "stderr",
     "output_type": "stream",
     "text": [
      " 81%|████████  | 3933/4854 [09:31<1:49:10,  7.11s/it]"
     ]
    },
    {
     "name": "stdout",
     "output_type": "stream",
     "text": [
      "Scraping CIK 0001451809\n"
     ]
    },
    {
     "name": "stderr",
     "output_type": "stream",
     "text": [
      " 81%|████████  | 3934/4854 [09:32<1:20:06,  5.22s/it]"
     ]
    },
    {
     "name": "stdout",
     "output_type": "stream",
     "text": [
      "Scraping CIK 0000719739\n"
     ]
    },
    {
     "name": "stderr",
     "output_type": "stream",
     "text": [
      " 81%|████████  | 3935/4854 [09:46<2:02:47,  8.02s/it]"
     ]
    },
    {
     "name": "stdout",
     "output_type": "stream",
     "text": [
      "Scraping CIK 0000701374\n"
     ]
    },
    {
     "name": "stderr",
     "output_type": "stream",
     "text": [
      " 81%|████████  | 3936/4854 [09:58<2:21:02,  9.22s/it]"
     ]
    },
    {
     "name": "stdout",
     "output_type": "stream",
     "text": [
      "Scraping CIK 0001753673\n"
     ]
    },
    {
     "name": "stderr",
     "output_type": "stream",
     "text": [
      " 81%|████████  | 3937/4854 [09:59<1:44:35,  6.84s/it]"
     ]
    },
    {
     "name": "stdout",
     "output_type": "stream",
     "text": [
      "Scraping CIK 0000091928\n"
     ]
    },
    {
     "name": "stderr",
     "output_type": "stream",
     "text": [
      " 81%|████████  | 3938/4854 [10:14<2:21:12,  9.25s/it]"
     ]
    },
    {
     "name": "stdout",
     "output_type": "stream",
     "text": [
      "Scraping CIK 0000091419\n"
     ]
    },
    {
     "name": "stderr",
     "output_type": "stream",
     "text": [
      " 81%|████████  | 3940/4854 [10:27<1:51:13,  7.30s/it]"
     ]
    },
    {
     "name": "stdout",
     "output_type": "stream",
     "text": [
      "Scraping CIK 0000932872\n",
      "Scraping CIK 0000319655\n"
     ]
    },
    {
     "name": "stderr",
     "output_type": "stream",
     "text": [
      " 81%|████████  | 3941/4854 [10:38<2:05:30,  8.25s/it]"
     ]
    },
    {
     "name": "stdout",
     "output_type": "stream",
     "text": [
      "Scraping CIK 0000766829\n"
     ]
    },
    {
     "name": "stderr",
     "output_type": "stream",
     "text": [
      " 81%|████████  | 3943/4854 [10:50<1:40:14,  6.60s/it]"
     ]
    },
    {
     "name": "stdout",
     "output_type": "stream",
     "text": [
      "Scraping CIK 0001015650\n",
      "Scraping CIK 0000899715\n"
     ]
    },
    {
     "name": "stderr",
     "output_type": "stream",
     "text": [
      " 81%|████████▏ | 3944/4854 [11:03<2:09:21,  8.53s/it]"
     ]
    },
    {
     "name": "stdout",
     "output_type": "stream",
     "text": [
      "Scraping CIK 0001065837\n"
     ]
    },
    {
     "name": "stderr",
     "output_type": "stream",
     "text": [
      " 81%|████████▏ | 3945/4854 [11:15<2:23:00,  9.44s/it]"
     ]
    },
    {
     "name": "stdout",
     "output_type": "stream",
     "text": [
      "Scraping CIK 0000090896\n"
     ]
    },
    {
     "name": "stderr",
     "output_type": "stream",
     "text": [
      " 81%|████████▏ | 3947/4854 [11:25<1:43:55,  6.87s/it]"
     ]
    },
    {
     "name": "stdout",
     "output_type": "stream",
     "text": [
      "Scraping CIK 0001594124\n",
      "Scraping CIK 0000793733\n"
     ]
    },
    {
     "name": "stderr",
     "output_type": "stream",
     "text": [
      " 81%|████████▏ | 3948/4854 [11:37<2:05:44,  8.33s/it]"
     ]
    },
    {
     "name": "stdout",
     "output_type": "stream",
     "text": [
      "Scraping CIK 0001038074\n"
     ]
    },
    {
     "name": "stderr",
     "output_type": "stream",
     "text": [
      " 81%|████████▏ | 3949/4854 [11:47<2:14:40,  8.93s/it]"
     ]
    },
    {
     "name": "stdout",
     "output_type": "stream",
     "text": [
      "Scraping CIK 0000087347\n"
     ]
    },
    {
     "name": "stderr",
     "output_type": "stream",
     "text": [
      " 81%|████████▏ | 3950/4854 [11:59<2:25:58,  9.69s/it]"
     ]
    },
    {
     "name": "stdout",
     "output_type": "stream",
     "text": [
      "Scraping CIK 0001524741\n"
     ]
    },
    {
     "name": "stderr",
     "output_type": "stream",
     "text": [
      " 81%|████████▏ | 3951/4854 [12:04<2:04:33,  8.28s/it]"
     ]
    },
    {
     "name": "stdout",
     "output_type": "stream",
     "text": [
      "Scraping CIK 0001263762\n"
     ]
    },
    {
     "name": "stderr",
     "output_type": "stream",
     "text": [
      " 81%|████████▏ | 3952/4854 [12:13<2:06:52,  8.44s/it]"
     ]
    },
    {
     "name": "stdout",
     "output_type": "stream",
     "text": [
      "Scraping CIK 0001707502\n"
     ]
    },
    {
     "name": "stderr",
     "output_type": "stream",
     "text": [
      " 81%|████████▏ | 3954/4854 [12:15<1:09:24,  4.63s/it]"
     ]
    },
    {
     "name": "stdout",
     "output_type": "stream",
     "text": [
      "Scraping CIK 0001097362\n",
      "Scraping CIK 0001040971\n"
     ]
    },
    {
     "name": "stderr",
     "output_type": "stream",
     "text": [
      " 81%|████████▏ | 3955/4854 [12:41<2:46:13, 11.09s/it]"
     ]
    },
    {
     "name": "stdout",
     "output_type": "stream",
     "text": [
      "Scraping CIK 0001621672\n"
     ]
    },
    {
     "name": "stderr",
     "output_type": "stream",
     "text": [
      " 82%|████████▏ | 3957/4854 [12:42<1:24:23,  5.64s/it]"
     ]
    },
    {
     "name": "stdout",
     "output_type": "stream",
     "text": [
      "Scraping CIK 0001684693\n",
      "Scraping CIK 0000849869\n"
     ]
    },
    {
     "name": "stderr",
     "output_type": "stream",
     "text": [
      " 82%|████████▏ | 3958/4854 [12:54<1:51:26,  7.46s/it]"
     ]
    },
    {
     "name": "stdout",
     "output_type": "stream",
     "text": [
      "Scraping CIK 0001032033\n"
     ]
    },
    {
     "name": "stderr",
     "output_type": "stream",
     "text": [
      " 82%|████████▏ | 3959/4854 [13:07<2:18:20,  9.27s/it]"
     ]
    },
    {
     "name": "stdout",
     "output_type": "stream",
     "text": [
      "Scraping CIK 0001484565\n"
     ]
    },
    {
     "name": "stderr",
     "output_type": "stream",
     "text": [
      " 82%|████████▏ | 3960/4854 [13:12<1:57:42,  7.90s/it]"
     ]
    },
    {
     "name": "stdout",
     "output_type": "stream",
     "text": [
      "Scraping CIK 0001023459\n"
     ]
    },
    {
     "name": "stderr",
     "output_type": "stream",
     "text": [
      " 82%|████████▏ | 3962/4854 [13:19<1:20:40,  5.43s/it]"
     ]
    },
    {
     "name": "stdout",
     "output_type": "stream",
     "text": [
      "Scraping CIK 0001794783\n",
      "Scraping CIK 0001418076\n"
     ]
    },
    {
     "name": "stderr",
     "output_type": "stream",
     "text": [
      " 82%|████████▏ | 3963/4854 [13:26<1:25:08,  5.73s/it]"
     ]
    },
    {
     "name": "stdout",
     "output_type": "stream",
     "text": [
      "Scraping CIK 0001615219\n"
     ]
    },
    {
     "name": "stderr",
     "output_type": "stream",
     "text": [
      " 82%|████████▏ | 3964/4854 [13:30<1:18:02,  5.26s/it]"
     ]
    },
    {
     "name": "stdout",
     "output_type": "stream",
     "text": [
      "Scraping CIK 0001390478\n"
     ]
    },
    {
     "name": "stderr",
     "output_type": "stream",
     "text": [
      " 82%|████████▏ | 3965/4854 [13:37<1:24:38,  5.71s/it]"
     ]
    },
    {
     "name": "stdout",
     "output_type": "stream",
     "text": [
      "Scraping CIK 0000893538\n"
     ]
    },
    {
     "name": "stderr",
     "output_type": "stream",
     "text": [
      " 82%|████████▏ | 3966/4854 [13:51<2:01:40,  8.22s/it]"
     ]
    },
    {
     "name": "stdout",
     "output_type": "stream",
     "text": [
      "Scraping CIK 0001366561\n"
     ]
    },
    {
     "name": "stderr",
     "output_type": "stream",
     "text": [
      " 82%|████████▏ | 3967/4854 [13:52<1:30:55,  6.15s/it]"
     ]
    },
    {
     "name": "stdout",
     "output_type": "stream",
     "text": [
      "Scraping CIK 0000916907\n"
     ]
    },
    {
     "name": "stderr",
     "output_type": "stream",
     "text": [
      " 82%|████████▏ | 3968/4854 [14:04<1:56:15,  7.87s/it]"
     ]
    },
    {
     "name": "stdout",
     "output_type": "stream",
     "text": [
      "Scraping CIK 0001038773\n"
     ]
    },
    {
     "name": "stderr",
     "output_type": "stream",
     "text": [
      " 82%|████████▏ | 3969/4854 [14:14<2:06:03,  8.55s/it]"
     ]
    },
    {
     "name": "stdout",
     "output_type": "stream",
     "text": [
      "Scraping CIK 0001375365\n"
     ]
    },
    {
     "name": "stderr",
     "output_type": "stream",
     "text": [
      " 82%|████████▏ | 3970/4854 [14:22<2:03:12,  8.36s/it]"
     ]
    },
    {
     "name": "stdout",
     "output_type": "stream",
     "text": [
      "Scraping CIK 0000898770\n"
     ]
    },
    {
     "name": "stderr",
     "output_type": "stream",
     "text": [
      " 82%|████████▏ | 3972/4854 [14:30<1:24:23,  5.74s/it]"
     ]
    },
    {
     "name": "stdout",
     "output_type": "stream",
     "text": [
      "Scraping CIK 0001022837\n",
      "Scraping CIK 0000825542\n"
     ]
    },
    {
     "name": "stderr",
     "output_type": "stream",
     "text": [
      " 82%|████████▏ | 3973/4854 [14:42<1:53:54,  7.76s/it]"
     ]
    },
    {
     "name": "stdout",
     "output_type": "stream",
     "text": [
      "Scraping CIK 0001690334\n"
     ]
    },
    {
     "name": "stderr",
     "output_type": "stream",
     "text": [
      " 82%|████████▏ | 3974/4854 [14:44<1:29:29,  6.10s/it]"
     ]
    },
    {
     "name": "stdout",
     "output_type": "stream",
     "text": [
      "Scraping CIK 0000922612\n"
     ]
    },
    {
     "name": "stderr",
     "output_type": "stream",
     "text": [
      " 82%|████████▏ | 3975/4854 [14:56<1:52:23,  7.67s/it]"
     ]
    },
    {
     "name": "stdout",
     "output_type": "stream",
     "text": [
      "Scraping CIK 0001549922\n"
     ]
    },
    {
     "name": "stderr",
     "output_type": "stream",
     "text": [
      " 82%|████████▏ | 3976/4854 [15:00<1:38:47,  6.75s/it]"
     ]
    },
    {
     "name": "stdout",
     "output_type": "stream",
     "text": [
      "Scraping CIK 0000811808\n"
     ]
    },
    {
     "name": "stderr",
     "output_type": "stream",
     "text": [
      " 82%|████████▏ | 3978/4854 [15:13<1:26:57,  5.96s/it]"
     ]
    },
    {
     "name": "stdout",
     "output_type": "stream",
     "text": [
      "Scraping CIK 0001599298\n",
      "Scraping CIK 0000093389\n"
     ]
    },
    {
     "name": "stderr",
     "output_type": "stream",
     "text": [
      " 82%|████████▏ | 3979/4854 [15:25<1:55:57,  7.95s/it]"
     ]
    },
    {
     "name": "stdout",
     "output_type": "stream",
     "text": [
      "Scraping CIK 0001702744\n"
     ]
    },
    {
     "name": "stderr",
     "output_type": "stream",
     "text": [
      " 82%|████████▏ | 3980/4854 [15:27<1:29:52,  6.17s/it]"
     ]
    },
    {
     "name": "stdout",
     "output_type": "stream",
     "text": [
      "Scraping CIK 0000884940\n"
     ]
    },
    {
     "name": "stderr",
     "output_type": "stream",
     "text": [
      " 82%|████████▏ | 3981/4854 [15:40<1:55:44,  7.95s/it]"
     ]
    },
    {
     "name": "stdout",
     "output_type": "stream",
     "text": [
      "Scraping CIK 0000948708\n"
     ]
    },
    {
     "name": "stderr",
     "output_type": "stream",
     "text": [
      " 82%|████████▏ | 3982/4854 [15:51<2:12:29,  9.12s/it]"
     ]
    },
    {
     "name": "stdout",
     "output_type": "stream",
     "text": [
      "Scraping CIK 0000088941\n"
     ]
    },
    {
     "name": "stderr",
     "output_type": "stream",
     "text": [
      " 82%|████████▏ | 3983/4854 [16:04<2:29:02, 10.27s/it]"
     ]
    },
    {
     "name": "stdout",
     "output_type": "stream",
     "text": [
      "Scraping CIK 0001705259\n"
     ]
    },
    {
     "name": "stderr",
     "output_type": "stream",
     "text": [
      " 82%|████████▏ | 3984/4854 [16:05<1:45:21,  7.27s/it]"
     ]
    },
    {
     "name": "stdout",
     "output_type": "stream",
     "text": [
      "Scraping CIK 0001108320\n"
     ]
    },
    {
     "name": "stderr",
     "output_type": "stream",
     "text": [
      " 82%|████████▏ | 3985/4854 [16:16<2:01:36,  8.40s/it]"
     ]
    },
    {
     "name": "stdout",
     "output_type": "stream",
     "text": [
      "Scraping CIK 0000091440\n"
     ]
    },
    {
     "name": "stderr",
     "output_type": "stream",
     "text": [
      " 82%|████████▏ | 3986/4854 [16:28<2:20:43,  9.73s/it]"
     ]
    },
    {
     "name": "stdout",
     "output_type": "stream",
     "text": [
      "Scraping CIK 0001564408\n"
     ]
    },
    {
     "name": "stderr",
     "output_type": "stream",
     "text": [
      " 82%|████████▏ | 3987/4854 [16:30<1:46:17,  7.36s/it]"
     ]
    },
    {
     "name": "stdout",
     "output_type": "stream",
     "text": [
      "Scraping CIK 0000827187\n"
     ]
    },
    {
     "name": "stderr",
     "output_type": "stream",
     "text": [
      " 82%|████████▏ | 3988/4854 [16:42<2:05:01,  8.66s/it]"
     ]
    },
    {
     "name": "stdout",
     "output_type": "stream",
     "text": [
      "Scraping CIK 0001357459\n"
     ]
    },
    {
     "name": "stderr",
     "output_type": "stream",
     "text": [
      " 82%|████████▏ | 3989/4854 [16:48<1:54:44,  7.96s/it]"
     ]
    },
    {
     "name": "stdout",
     "output_type": "stream",
     "text": [
      "Scraping CIK 0001131554\n"
     ]
    },
    {
     "name": "stderr",
     "output_type": "stream",
     "text": [
      " 82%|████████▏ | 3990/4854 [16:57<1:57:40,  8.17s/it]"
     ]
    },
    {
     "name": "stdout",
     "output_type": "stream",
     "text": [
      "Scraping CIK 0001529628\n"
     ]
    },
    {
     "name": "stderr",
     "output_type": "stream",
     "text": [
      " 82%|████████▏ | 3991/4854 [16:59<1:32:28,  6.43s/it]"
     ]
    },
    {
     "name": "stdout",
     "output_type": "stream",
     "text": [
      "Scraping CIK 0001326089\n"
     ]
    },
    {
     "name": "stderr",
     "output_type": "stream",
     "text": [
      " 82%|████████▏ | 3993/4854 [17:00<47:54,  3.34s/it]  "
     ]
    },
    {
     "name": "stdout",
     "output_type": "stream",
     "text": [
      "Scraping CIK 0001766600\n",
      "Scraping CIK 0001692063\n"
     ]
    },
    {
     "name": "stderr",
     "output_type": "stream",
     "text": [
      " 82%|████████▏ | 3994/4854 [17:02<40:15,  2.81s/it]"
     ]
    },
    {
     "name": "stdout",
     "output_type": "stream",
     "text": [
      "Scraping CIK 0001395937\n"
     ]
    },
    {
     "name": "stderr",
     "output_type": "stream",
     "text": [
      " 82%|████████▏ | 3996/4854 [17:05<30:52,  2.16s/it]"
     ]
    },
    {
     "name": "stdout",
     "output_type": "stream",
     "text": [
      "Scraping CIK 0000313838\n",
      "Scraping CIK 0001680378\n"
     ]
    },
    {
     "name": "stderr",
     "output_type": "stream",
     "text": [
      " 82%|████████▏ | 3997/4854 [17:15<1:03:20,  4.43s/it]"
     ]
    },
    {
     "name": "stdout",
     "output_type": "stream",
     "text": [
      "Scraping CIK 0000318673\n"
     ]
    },
    {
     "name": "stderr",
     "output_type": "stream",
     "text": [
      " 82%|████████▏ | 3998/4854 [17:29<1:42:11,  7.16s/it]"
     ]
    },
    {
     "name": "stdout",
     "output_type": "stream",
     "text": [
      "Scraping CIK 0000812796\n"
     ]
    },
    {
     "name": "stderr",
     "output_type": "stream",
     "text": [
      " 82%|████████▏ | 3999/4854 [17:35<1:39:33,  6.99s/it]"
     ]
    },
    {
     "name": "stdout",
     "output_type": "stream",
     "text": [
      "Scraping CIK 0001362705\n"
     ]
    },
    {
     "name": "stderr",
     "output_type": "stream",
     "text": [
      " 82%|████████▏ | 4001/4854 [17:44<1:15:13,  5.29s/it]"
     ]
    },
    {
     "name": "stdout",
     "output_type": "stream",
     "text": [
      "Scraping CIK 0000845982\n",
      "Scraping CIK 0001367083\n"
     ]
    },
    {
     "name": "stderr",
     "output_type": "stream",
     "text": [
      " 82%|████████▏ | 4003/4854 [17:51<56:55,  4.01s/it]  "
     ]
    },
    {
     "name": "stdout",
     "output_type": "stream",
     "text": [
      "Scraping CIK 0001123658\n",
      "Scraping CIK 0000883241\n"
     ]
    },
    {
     "name": "stderr",
     "output_type": "stream",
     "text": [
      " 82%|████████▏ | 4004/4854 [18:02<1:27:00,  6.14s/it]"
     ]
    },
    {
     "name": "stdout",
     "output_type": "stream",
     "text": [
      "Scraping CIK 0001610114\n"
     ]
    },
    {
     "name": "stderr",
     "output_type": "stream",
     "text": [
      " 83%|████████▎ | 4005/4854 [18:06<1:18:03,  5.52s/it]"
     ]
    },
    {
     "name": "stdout",
     "output_type": "stream",
     "text": [
      "Scraping CIK 0001061027\n"
     ]
    },
    {
     "name": "stderr",
     "output_type": "stream",
     "text": [
      " 83%|████████▎ | 4006/4854 [18:14<1:29:54,  6.36s/it]"
     ]
    },
    {
     "name": "stdout",
     "output_type": "stream",
     "text": [
      "Scraping CIK 0000018349\n"
     ]
    },
    {
     "name": "stderr",
     "output_type": "stream",
     "text": [
      " 83%|████████▎ | 4007/4854 [18:28<2:00:11,  8.51s/it]"
     ]
    },
    {
     "name": "stdout",
     "output_type": "stream",
     "text": [
      "Scraping CIK 0001177394\n"
     ]
    },
    {
     "name": "stderr",
     "output_type": "stream",
     "text": [
      " 83%|████████▎ | 4009/4854 [18:39<1:31:45,  6.52s/it]"
     ]
    },
    {
     "name": "stdout",
     "output_type": "stream",
     "text": [
      "Scraping CIK 0001121404\n",
      "Scraping CIK 0000092122\n"
     ]
    },
    {
     "name": "stderr",
     "output_type": "stream",
     "text": [
      " 83%|████████▎ | 4011/4854 [19:01<1:50:10,  7.84s/it]"
     ]
    },
    {
     "name": "stdout",
     "output_type": "stream",
     "text": [
      "Scraping CIK 0001713947\n",
      "Scraping CIK 0001301236\n"
     ]
    },
    {
     "name": "stderr",
     "output_type": "stream",
     "text": [
      " 83%|████████▎ | 4013/4854 [19:11<1:22:47,  5.91s/it]"
     ]
    },
    {
     "name": "stdout",
     "output_type": "stream",
     "text": [
      "Scraping CIK 0001734107\n",
      "Scraping CIK 0001697500\n"
     ]
    },
    {
     "name": "stderr",
     "output_type": "stream",
     "text": [
      " 83%|████████▎ | 4015/4854 [19:13<47:04,  3.37s/it]  "
     ]
    },
    {
     "name": "stdout",
     "output_type": "stream",
     "text": [
      "Scraping CIK 0001417892\n",
      "Scraping CIK 0001637736\n"
     ]
    },
    {
     "name": "stderr",
     "output_type": "stream",
     "text": [
      " 83%|████████▎ | 4016/4854 [19:13<33:27,  2.40s/it]"
     ]
    },
    {
     "name": "stdout",
     "output_type": "stream",
     "text": [
      "Scraping CIK 0001548187\n"
     ]
    },
    {
     "name": "stderr",
     "output_type": "stream",
     "text": [
      " 83%|████████▎ | 4017/4854 [19:14<27:38,  1.98s/it]"
     ]
    },
    {
     "name": "stdout",
     "output_type": "stream",
     "text": [
      "Scraping CIK 0000091767\n"
     ]
    },
    {
     "name": "stderr",
     "output_type": "stream",
     "text": [
      " 83%|████████▎ | 4018/4854 [19:26<1:10:29,  5.06s/it]"
     ]
    },
    {
     "name": "stdout",
     "output_type": "stream",
     "text": [
      "Scraping CIK 0001325670\n"
     ]
    },
    {
     "name": "stderr",
     "output_type": "stream",
     "text": [
      " 83%|████████▎ | 4019/4854 [19:35<1:26:05,  6.19s/it]"
     ]
    },
    {
     "name": "stdout",
     "output_type": "stream",
     "text": [
      "Scraping CIK 0001178697\n"
     ]
    },
    {
     "name": "stderr",
     "output_type": "stream",
     "text": [
      " 83%|████████▎ | 4020/4854 [19:36<1:03:44,  4.59s/it]"
     ]
    },
    {
     "name": "stdout",
     "output_type": "stream",
     "text": [
      "Scraping CIK 0001106838\n"
     ]
    },
    {
     "name": "stderr",
     "output_type": "stream",
     "text": [
      " 83%|████████▎ | 4021/4854 [19:44<1:18:18,  5.64s/it]"
     ]
    },
    {
     "name": "stdout",
     "output_type": "stream",
     "text": [
      "Scraping CIK 0001314727\n"
     ]
    },
    {
     "name": "stderr",
     "output_type": "stream",
     "text": [
      " 83%|████████▎ | 4022/4854 [19:46<1:01:04,  4.40s/it]"
     ]
    },
    {
     "name": "stdout",
     "output_type": "stream",
     "text": [
      "Scraping CIK 0001059262\n"
     ]
    },
    {
     "name": "stderr",
     "output_type": "stream",
     "text": [
      " 83%|████████▎ | 4023/4854 [19:59<1:37:08,  7.01s/it]"
     ]
    },
    {
     "name": "stdout",
     "output_type": "stream",
     "text": [
      "Scraping CIK 0001720990\n"
     ]
    },
    {
     "name": "stderr",
     "output_type": "stream",
     "text": [
      " 83%|████████▎ | 4024/4854 [20:00<1:12:48,  5.26s/it]"
     ]
    },
    {
     "name": "stdout",
     "output_type": "stream",
     "text": [
      "Scraping CIK 0000109177\n"
     ]
    },
    {
     "name": "stderr",
     "output_type": "stream",
     "text": [
      " 83%|████████▎ | 4026/4854 [20:14<1:16:25,  5.54s/it]"
     ]
    },
    {
     "name": "stdout",
     "output_type": "stream",
     "text": [
      "Scraping CIK 0001291855\n",
      "Scraping CIK 0001706946\n"
     ]
    },
    {
     "name": "stderr",
     "output_type": "stream",
     "text": [
      " 83%|████████▎ | 4027/4854 [20:16<59:49,  4.34s/it]  "
     ]
    },
    {
     "name": "stdout",
     "output_type": "stream",
     "text": [
      "Scraping CIK 0001163668\n"
     ]
    },
    {
     "name": "stderr",
     "output_type": "stream",
     "text": [
      " 83%|████████▎ | 4028/4854 [20:16<45:00,  3.27s/it]"
     ]
    },
    {
     "name": "stdout",
     "output_type": "stream",
     "text": [
      "Scraping CIK 0001063761\n"
     ]
    },
    {
     "name": "stderr",
     "output_type": "stream",
     "text": [
      " 83%|████████▎ | 4029/4854 [20:28<1:20:12,  5.83s/it]"
     ]
    },
    {
     "name": "stdout",
     "output_type": "stream",
     "text": [
      "Scraping CIK 0000064040\n"
     ]
    },
    {
     "name": "stderr",
     "output_type": "stream",
     "text": [
      " 83%|████████▎ | 4030/4854 [20:40<1:43:54,  7.57s/it]"
     ]
    },
    {
     "name": "stdout",
     "output_type": "stream",
     "text": [
      "Scraping CIK 0001005210\n"
     ]
    },
    {
     "name": "stderr",
     "output_type": "stream",
     "text": [
      " 83%|████████▎ | 4031/4854 [20:52<2:03:51,  9.03s/it]"
     ]
    },
    {
     "name": "stdout",
     "output_type": "stream",
     "text": [
      "Scraping CIK 0001210618\n"
     ]
    },
    {
     "name": "stderr",
     "output_type": "stream",
     "text": [
      " 83%|████████▎ | 4032/4854 [20:56<1:42:10,  7.46s/it]"
     ]
    },
    {
     "name": "stdout",
     "output_type": "stream",
     "text": [
      "Scraping CIK 0001606268\n"
     ]
    },
    {
     "name": "stderr",
     "output_type": "stream",
     "text": [
      " 83%|████████▎ | 4033/4854 [20:59<1:25:46,  6.27s/it]"
     ]
    },
    {
     "name": "stdout",
     "output_type": "stream",
     "text": [
      "Scraping CIK 0001353283\n"
     ]
    },
    {
     "name": "stderr",
     "output_type": "stream",
     "text": [
      " 83%|████████▎ | 4034/4854 [21:04<1:19:28,  5.82s/it]"
     ]
    },
    {
     "name": "stdout",
     "output_type": "stream",
     "text": [
      "Scraping CIK 0001452857\n"
     ]
    },
    {
     "name": "stderr",
     "output_type": "stream",
     "text": [
      " 83%|████████▎ | 4035/4854 [21:10<1:19:43,  5.84s/it]"
     ]
    },
    {
     "name": "stdout",
     "output_type": "stream",
     "text": [
      "Scraping CIK 0000886835\n"
     ]
    },
    {
     "name": "stderr",
     "output_type": "stream",
     "text": [
      " 83%|████████▎ | 4036/4854 [21:22<1:43:53,  7.62s/it]"
     ]
    },
    {
     "name": "stdout",
     "output_type": "stream",
     "text": [
      "Scraping CIK 0001637761\n"
     ]
    },
    {
     "name": "stderr",
     "output_type": "stream",
     "text": [
      " 83%|████████▎ | 4038/4854 [21:25<1:00:22,  4.44s/it]"
     ]
    },
    {
     "name": "stdout",
     "output_type": "stream",
     "text": [
      "Scraping CIK 0000885740\n",
      "Scraping CIK 0001289945\n"
     ]
    },
    {
     "name": "stderr",
     "output_type": "stream",
     "text": [
      " 83%|████████▎ | 4040/4854 [21:34<54:24,  4.01s/it]  "
     ]
    },
    {
     "name": "stdout",
     "output_type": "stream",
     "text": [
      "Scraping CIK 0001639920\n",
      "Scraping CIK 0000831547\n"
     ]
    },
    {
     "name": "stderr",
     "output_type": "stream",
     "text": [
      " 83%|████████▎ | 4041/4854 [21:45<1:24:21,  6.23s/it]"
     ]
    },
    {
     "name": "stdout",
     "output_type": "stream",
     "text": [
      "Scraping CIK 0001364885\n"
     ]
    },
    {
     "name": "stderr",
     "output_type": "stream",
     "text": [
      " 83%|████████▎ | 4042/4854 [21:54<1:35:47,  7.08s/it]"
     ]
    },
    {
     "name": "stdout",
     "output_type": "stream",
     "text": [
      "Scraping CIK 0001701108\n"
     ]
    },
    {
     "name": "stderr",
     "output_type": "stream",
     "text": [
      " 83%|████████▎ | 4043/4854 [21:56<1:14:29,  5.51s/it]"
     ]
    },
    {
     "name": "stdout",
     "output_type": "stream",
     "text": [
      "Scraping CIK 0001104855\n"
     ]
    },
    {
     "name": "stderr",
     "output_type": "stream",
     "text": [
      " 83%|████████▎ | 4044/4854 [22:07<1:34:29,  7.00s/it]"
     ]
    },
    {
     "name": "stdout",
     "output_type": "stream",
     "text": [
      "Scraping CIK 0001092699\n"
     ]
    },
    {
     "name": "stderr",
     "output_type": "stream",
     "text": [
      " 83%|████████▎ | 4045/4854 [22:12<1:26:54,  6.45s/it]"
     ]
    },
    {
     "name": "stdout",
     "output_type": "stream",
     "text": [
      "Scraping CIK 0001517375\n"
     ]
    },
    {
     "name": "stderr",
     "output_type": "stream",
     "text": [
      " 83%|████████▎ | 4046/4854 [22:12<1:03:08,  4.69s/it]"
     ]
    },
    {
     "name": "stdout",
     "output_type": "stream",
     "text": [
      "Scraping CIK 0000877422\n"
     ]
    },
    {
     "name": "stderr",
     "output_type": "stream",
     "text": [
      " 83%|████████▎ | 4047/4854 [22:24<1:31:13,  6.78s/it]"
     ]
    },
    {
     "name": "stdout",
     "output_type": "stream",
     "text": [
      "Scraping CIK 0001132105\n"
     ]
    },
    {
     "name": "stderr",
     "output_type": "stream",
     "text": [
      " 83%|████████▎ | 4048/4854 [22:27<1:17:39,  5.78s/it]"
     ]
    },
    {
     "name": "stdout",
     "output_type": "stream",
     "text": [
      "Scraping CIK 0000867773\n"
     ]
    },
    {
     "name": "stderr",
     "output_type": "stream",
     "text": [
      " 83%|████████▎ | 4049/4854 [22:36<1:30:29,  6.74s/it]"
     ]
    },
    {
     "name": "stdout",
     "output_type": "stream",
     "text": [
      "Scraping CIK 0000088205\n"
     ]
    },
    {
     "name": "stderr",
     "output_type": "stream",
     "text": [
      " 83%|████████▎ | 4050/4854 [22:49<1:52:28,  8.39s/it]"
     ]
    },
    {
     "name": "stdout",
     "output_type": "stream",
     "text": [
      "Scraping CIK 0001512673\n"
     ]
    },
    {
     "name": "stderr",
     "output_type": "stream",
     "text": [
      " 83%|████████▎ | 4051/4854 [22:52<1:32:45,  6.93s/it]"
     ]
    },
    {
     "name": "stdout",
     "output_type": "stream",
     "text": [
      "Scraping CIK 0001648428\n"
     ]
    },
    {
     "name": "stderr",
     "output_type": "stream",
     "text": [
      " 83%|████████▎ | 4053/4854 [22:56<55:31,  4.16s/it]  "
     ]
    },
    {
     "name": "stdout",
     "output_type": "stream",
     "text": [
      "Scraping CIK 0000909037\n",
      "Scraping CIK 0001383395\n"
     ]
    },
    {
     "name": "stderr",
     "output_type": "stream",
     "text": [
      " 84%|████████▎ | 4054/4854 [22:56<39:21,  2.95s/it]"
     ]
    },
    {
     "name": "stdout",
     "output_type": "stream",
     "text": [
      "Scraping CIK 0001126956\n"
     ]
    },
    {
     "name": "stderr",
     "output_type": "stream",
     "text": [
      " 84%|████████▎ | 4055/4854 [23:09<1:17:40,  5.83s/it]"
     ]
    },
    {
     "name": "stdout",
     "output_type": "stream",
     "text": [
      "Scraping CIK 0001781162\n"
     ]
    },
    {
     "name": "stderr",
     "output_type": "stream",
     "text": [
      " 84%|████████▎ | 4056/4854 [23:10<1:00:16,  4.53s/it]"
     ]
    },
    {
     "name": "stdout",
     "output_type": "stream",
     "text": [
      "Scraping CIK 0001538217\n"
     ]
    },
    {
     "name": "stderr",
     "output_type": "stream",
     "text": [
      " 84%|████████▎ | 4057/4854 [23:16<1:04:20,  4.84s/it]"
     ]
    },
    {
     "name": "stdout",
     "output_type": "stream",
     "text": [
      "Scraping CIK 0001308606\n"
     ]
    },
    {
     "name": "stderr",
     "output_type": "stream",
     "text": [
      " 84%|████████▎ | 4058/4854 [23:28<1:35:06,  7.17s/it]"
     ]
    },
    {
     "name": "stdout",
     "output_type": "stream",
     "text": [
      "Scraping CIK 0000034782\n"
     ]
    },
    {
     "name": "stderr",
     "output_type": "stream",
     "text": [
      " 84%|████████▎ | 4059/4854 [23:42<2:03:16,  9.30s/it]"
     ]
    },
    {
     "name": "stdout",
     "output_type": "stream",
     "text": [
      "Scraping CIK 0000861878\n"
     ]
    },
    {
     "name": "stderr",
     "output_type": "stream",
     "text": [
      " 84%|████████▎ | 4060/4854 [23:57<2:24:59, 10.96s/it]"
     ]
    },
    {
     "name": "stdout",
     "output_type": "stream",
     "text": [
      "Scraping CIK 0000924717\n"
     ]
    },
    {
     "name": "stderr",
     "output_type": "stream",
     "text": [
      " 84%|████████▎ | 4061/4854 [24:09<2:27:29, 11.16s/it]"
     ]
    },
    {
     "name": "stdout",
     "output_type": "stream",
     "text": [
      "Scraping CIK 0001032208\n"
     ]
    },
    {
     "name": "stderr",
     "output_type": "stream",
     "text": [
      " 84%|████████▎ | 4062/4854 [24:22<2:34:08, 11.68s/it]"
     ]
    },
    {
     "name": "stdout",
     "output_type": "stream",
     "text": [
      "Scraping CIK 0001310114\n"
     ]
    },
    {
     "name": "stderr",
     "output_type": "stream",
     "text": [
      " 84%|████████▎ | 4063/4854 [24:27<2:08:32,  9.75s/it]"
     ]
    },
    {
     "name": "stdout",
     "output_type": "stream",
     "text": [
      "Scraping CIK 0001628063\n"
     ]
    },
    {
     "name": "stderr",
     "output_type": "stream",
     "text": [
      " 84%|████████▎ | 4064/4854 [24:44<2:34:53, 11.76s/it]"
     ]
    },
    {
     "name": "stdout",
     "output_type": "stream",
     "text": [
      "Scraping CIK 0001043337\n"
     ]
    },
    {
     "name": "stderr",
     "output_type": "stream",
     "text": [
      " 84%|████████▎ | 4065/4854 [24:56<2:36:12, 11.88s/it]"
     ]
    },
    {
     "name": "stdout",
     "output_type": "stream",
     "text": [
      "Scraping CIK 0000016859\n"
     ]
    },
    {
     "name": "stderr",
     "output_type": "stream",
     "text": [
      " 84%|████████▍ | 4066/4854 [24:56<1:50:12,  8.39s/it]"
     ]
    },
    {
     "name": "stdout",
     "output_type": "stream",
     "text": [
      "Scraping CIK 0001525287\n"
     ]
    },
    {
     "name": "stderr",
     "output_type": "stream",
     "text": [
      " 84%|████████▍ | 4067/4854 [25:01<1:35:28,  7.28s/it]"
     ]
    },
    {
     "name": "stdout",
     "output_type": "stream",
     "text": [
      "Scraping CIK 0000850261\n"
     ]
    },
    {
     "name": "stderr",
     "output_type": "stream",
     "text": [
      " 84%|████████▍ | 4068/4854 [25:08<1:35:13,  7.27s/it]"
     ]
    },
    {
     "name": "stdout",
     "output_type": "stream",
     "text": [
      "Scraping CIK 0000873303\n"
     ]
    },
    {
     "name": "stderr",
     "output_type": "stream",
     "text": [
      " 84%|████████▍ | 4069/4854 [25:21<1:57:49,  9.01s/it]"
     ]
    },
    {
     "name": "stdout",
     "output_type": "stream",
     "text": [
      "Scraping CIK 0001290149\n"
     ]
    },
    {
     "name": "stderr",
     "output_type": "stream",
     "text": [
      " 84%|████████▍ | 4070/4854 [25:24<1:34:07,  7.20s/it]"
     ]
    },
    {
     "name": "stdout",
     "output_type": "stream",
     "text": [
      "Scraping CIK 0001727196\n"
     ]
    },
    {
     "name": "stderr",
     "output_type": "stream",
     "text": [
      " 84%|████████▍ | 4071/4854 [25:25<1:12:04,  5.52s/it]"
     ]
    },
    {
     "name": "stdout",
     "output_type": "stream",
     "text": [
      "Scraping CIK 0001031029\n"
     ]
    },
    {
     "name": "stderr",
     "output_type": "stream",
     "text": [
      " 84%|████████▍ | 4072/4854 [25:37<1:36:52,  7.43s/it]"
     ]
    },
    {
     "name": "stdout",
     "output_type": "stream",
     "text": [
      "Scraping CIK 0001494891\n"
     ]
    },
    {
     "name": "stderr",
     "output_type": "stream",
     "text": [
      " 84%|████████▍ | 4073/4854 [25:41<1:19:54,  6.14s/it]"
     ]
    },
    {
     "name": "stdout",
     "output_type": "stream",
     "text": [
      "Scraping CIK 0000764038\n"
     ]
    },
    {
     "name": "stderr",
     "output_type": "stream",
     "text": [
      " 84%|████████▍ | 4074/4854 [25:55<1:50:54,  8.53s/it]"
     ]
    },
    {
     "name": "stdout",
     "output_type": "stream",
     "text": [
      "Scraping CIK 0000920371\n"
     ]
    },
    {
     "name": "stderr",
     "output_type": "stream",
     "text": [
      " 84%|████████▍ | 4075/4854 [26:08<2:08:31,  9.90s/it]"
     ]
    },
    {
     "name": "stdout",
     "output_type": "stream",
     "text": [
      "Scraping CIK 0001051514\n"
     ]
    },
    {
     "name": "stderr",
     "output_type": "stream",
     "text": [
      " 84%|████████▍ | 4076/4854 [26:16<2:03:44,  9.54s/it]"
     ]
    },
    {
     "name": "stdout",
     "output_type": "stream",
     "text": [
      "Scraping CIK 0000314590\n"
     ]
    },
    {
     "name": "stderr",
     "output_type": "stream",
     "text": [
      " 84%|████████▍ | 4077/4854 [26:17<1:27:23,  6.75s/it]"
     ]
    },
    {
     "name": "stdout",
     "output_type": "stream",
     "text": [
      "Scraping CIK 0001402436\n"
     ]
    },
    {
     "name": "stderr",
     "output_type": "stream",
     "text": [
      " 84%|████████▍ | 4078/4854 [26:24<1:28:37,  6.85s/it]"
     ]
    },
    {
     "name": "stdout",
     "output_type": "stream",
     "text": [
      "Scraping CIK 0001236275\n"
     ]
    },
    {
     "name": "stderr",
     "output_type": "stream",
     "text": [
      " 84%|████████▍ | 4079/4854 [26:30<1:27:37,  6.78s/it]"
     ]
    },
    {
     "name": "stdout",
     "output_type": "stream",
     "text": [
      "Scraping CIK 0000832428\n"
     ]
    },
    {
     "name": "stderr",
     "output_type": "stream",
     "text": [
      " 84%|████████▍ | 4080/4854 [26:44<1:55:46,  8.97s/it]"
     ]
    },
    {
     "name": "stdout",
     "output_type": "stream",
     "text": [
      "Scraping CIK 0001779474\n"
     ]
    },
    {
     "name": "stderr",
     "output_type": "stream",
     "text": [
      " 84%|████████▍ | 4082/4854 [26:45<59:24,  4.62s/it]  "
     ]
    },
    {
     "name": "stdout",
     "output_type": "stream",
     "text": [
      "Scraping CIK 0000921638\n",
      "Scraping CIK 0001509470\n"
     ]
    },
    {
     "name": "stderr",
     "output_type": "stream",
     "text": [
      " 84%|████████▍ | 4083/4854 [26:51<1:04:40,  5.03s/it]"
     ]
    },
    {
     "name": "stdout",
     "output_type": "stream",
     "text": [
      "Scraping CIK 0001351636\n"
     ]
    },
    {
     "name": "stderr",
     "output_type": "stream",
     "text": [
      " 84%|████████▍ | 4084/4854 [26:54<55:04,  4.29s/it]  "
     ]
    },
    {
     "name": "stdout",
     "output_type": "stream",
     "text": [
      "Scraping CIK 0001549346\n"
     ]
    },
    {
     "name": "stderr",
     "output_type": "stream",
     "text": [
      " 84%|████████▍ | 4085/4854 [26:59<56:15,  4.39s/it]"
     ]
    },
    {
     "name": "stdout",
     "output_type": "stream",
     "text": [
      "Scraping CIK 0000096793\n"
     ]
    },
    {
     "name": "stderr",
     "output_type": "stream",
     "text": [
      " 84%|████████▍ | 4086/4854 [27:12<1:29:41,  7.01s/it]"
     ]
    },
    {
     "name": "stdout",
     "output_type": "stream",
     "text": [
      "Scraping CIK 0001517396\n"
     ]
    },
    {
     "name": "stderr",
     "output_type": "stream",
     "text": [
      " 84%|████████▍ | 4087/4854 [27:12<1:03:41,  4.98s/it]"
     ]
    },
    {
     "name": "stdout",
     "output_type": "stream",
     "text": [
      "Scraping CIK 0001477294\n"
     ]
    },
    {
     "name": "stderr",
     "output_type": "stream",
     "text": [
      " 84%|████████▍ | 4088/4854 [27:19<1:10:23,  5.51s/it]"
     ]
    },
    {
     "name": "stdout",
     "output_type": "stream",
     "text": [
      "Scraping CIK 0000718937\n"
     ]
    },
    {
     "name": "stderr",
     "output_type": "stream",
     "text": [
      " 84%|████████▍ | 4089/4854 [27:32<1:40:46,  7.90s/it]"
     ]
    },
    {
     "name": "stdout",
     "output_type": "stream",
     "text": [
      "Scraping CIK 0001499717\n"
     ]
    },
    {
     "name": "stderr",
     "output_type": "stream",
     "text": [
      " 84%|████████▍ | 4090/4854 [27:38<1:31:22,  7.18s/it]"
     ]
    },
    {
     "name": "stdout",
     "output_type": "stream",
     "text": [
      "Scraping CIK 0001479094\n"
     ]
    },
    {
     "name": "stderr",
     "output_type": "stream",
     "text": [
      " 84%|████████▍ | 4091/4854 [27:44<1:28:16,  6.94s/it]"
     ]
    },
    {
     "name": "stdout",
     "output_type": "stream",
     "text": [
      "Scraping CIK 0001095651\n"
     ]
    },
    {
     "name": "stderr",
     "output_type": "stream",
     "text": [
      " 84%|████████▍ | 4092/4854 [27:57<1:50:45,  8.72s/it]"
     ]
    },
    {
     "name": "stdout",
     "output_type": "stream",
     "text": [
      "Scraping CIK 0001581164\n"
     ]
    },
    {
     "name": "stderr",
     "output_type": "stream",
     "text": [
      " 84%|████████▍ | 4093/4854 [28:02<1:36:45,  7.63s/it]"
     ]
    },
    {
     "name": "stdout",
     "output_type": "stream",
     "text": [
      "Scraping CIK 0000719220\n"
     ]
    },
    {
     "name": "stderr",
     "output_type": "stream",
     "text": [
      " 84%|████████▍ | 4094/4854 [28:15<1:55:05,  9.09s/it]"
     ]
    },
    {
     "name": "stdout",
     "output_type": "stream",
     "text": [
      "Scraping CIK 0000094344\n"
     ]
    },
    {
     "name": "stderr",
     "output_type": "stream",
     "text": [
      " 84%|████████▍ | 4095/4854 [28:26<2:03:48,  9.79s/it]"
     ]
    },
    {
     "name": "stdout",
     "output_type": "stream",
     "text": [
      "Scraping CIK 0000914712\n"
     ]
    },
    {
     "name": "stderr",
     "output_type": "stream",
     "text": [
      " 84%|████████▍ | 4096/4854 [28:39<2:16:54, 10.84s/it]"
     ]
    },
    {
     "name": "stdout",
     "output_type": "stream",
     "text": [
      "Scraping CIK 0001757898\n"
     ]
    },
    {
     "name": "stderr",
     "output_type": "stream",
     "text": [
      " 84%|████████▍ | 4097/4854 [28:40<1:39:09,  7.86s/it]"
     ]
    },
    {
     "name": "stdout",
     "output_type": "stream",
     "text": [
      "Scraping CIK 0000874977\n"
     ]
    },
    {
     "name": "stderr",
     "output_type": "stream",
     "text": [
      " 84%|████████▍ | 4099/4854 [28:53<1:22:53,  6.59s/it]"
     ]
    },
    {
     "name": "stdout",
     "output_type": "stream",
     "text": [
      "Scraping CIK 0001723935\n",
      "Scraping CIK 0001227636\n"
     ]
    },
    {
     "name": "stderr",
     "output_type": "stream",
     "text": [
      " 84%|████████▍ | 4100/4854 [28:55<1:06:38,  5.30s/it]"
     ]
    },
    {
     "name": "stdout",
     "output_type": "stream",
     "text": [
      "Scraping CIK 0000351834\n"
     ]
    },
    {
     "name": "stderr",
     "output_type": "stream",
     "text": [
      " 84%|████████▍ | 4101/4854 [29:06<1:28:12,  7.03s/it]"
     ]
    },
    {
     "name": "stdout",
     "output_type": "stream",
     "text": [
      "Scraping CIK 0001399520\n"
     ]
    },
    {
     "name": "stderr",
     "output_type": "stream",
     "text": [
      " 85%|████████▍ | 4102/4854 [29:13<1:26:40,  6.92s/it]"
     ]
    },
    {
     "name": "stdout",
     "output_type": "stream",
     "text": [
      "Scraping CIK 0001070154\n"
     ]
    },
    {
     "name": "stderr",
     "output_type": "stream",
     "text": [
      " 85%|████████▍ | 4103/4854 [29:25<1:46:28,  8.51s/it]"
     ]
    },
    {
     "name": "stdout",
     "output_type": "stream",
     "text": [
      "Scraping CIK 0001022671\n"
     ]
    },
    {
     "name": "stderr",
     "output_type": "stream",
     "text": [
      " 85%|████████▍ | 4105/4854 [29:38<1:25:29,  6.85s/it]"
     ]
    },
    {
     "name": "stdout",
     "output_type": "stream",
     "text": [
      "Scraping CIK 0000932787\n",
      "Scraping CIK 0001082923\n"
     ]
    },
    {
     "name": "stderr",
     "output_type": "stream",
     "text": [
      " 85%|████████▍ | 4107/4854 [29:49<1:10:56,  5.70s/it]"
     ]
    },
    {
     "name": "stdout",
     "output_type": "stream",
     "text": [
      "Scraping CIK 0001131383\n",
      "Scraping CIK 0001492915\n"
     ]
    },
    {
     "name": "stderr",
     "output_type": "stream",
     "text": [
      " 85%|████████▍ | 4109/4854 [29:54<47:08,  3.80s/it]  "
     ]
    },
    {
     "name": "stdout",
     "output_type": "stream",
     "text": [
      "Scraping CIK 0001745431\n",
      "Scraping CIK 0001623526\n"
     ]
    },
    {
     "name": "stderr",
     "output_type": "stream",
     "text": [
      " 85%|████████▍ | 4110/4854 [29:55<35:37,  2.87s/it]"
     ]
    },
    {
     "name": "stdout",
     "output_type": "stream",
     "text": [
      "Scraping CIK 0001753886\n"
     ]
    },
    {
     "name": "stderr",
     "output_type": "stream",
     "text": [
      " 85%|████████▍ | 4111/4854 [29:56<28:19,  2.29s/it]"
     ]
    },
    {
     "name": "stdout",
     "output_type": "stream",
     "text": [
      "Scraping CIK 0001538990\n"
     ]
    },
    {
     "name": "stderr",
     "output_type": "stream",
     "text": [
      " 85%|████████▍ | 4112/4854 [30:02<43:58,  3.56s/it]"
     ]
    },
    {
     "name": "stdout",
     "output_type": "stream",
     "text": [
      "Scraping CIK 0001013934\n"
     ]
    },
    {
     "name": "stderr",
     "output_type": "stream",
     "text": [
      " 85%|████████▍ | 4113/4854 [30:15<1:18:46,  6.38s/it]"
     ]
    },
    {
     "name": "stdout",
     "output_type": "stream",
     "text": [
      "Scraping CIK 0000874238\n"
     ]
    },
    {
     "name": "stderr",
     "output_type": "stream",
     "text": [
      " 85%|████████▍ | 4114/4854 [30:28<1:44:43,  8.49s/it]"
     ]
    },
    {
     "name": "stdout",
     "output_type": "stream",
     "text": [
      "Scraping CIK 0001008586\n"
     ]
    },
    {
     "name": "stderr",
     "output_type": "stream",
     "text": [
      " 85%|████████▍ | 4115/4854 [30:40<1:56:06,  9.43s/it]"
     ]
    },
    {
     "name": "stdout",
     "output_type": "stream",
     "text": [
      "Scraping CIK 0001382101\n"
     ]
    },
    {
     "name": "stderr",
     "output_type": "stream",
     "text": [
      " 85%|████████▍ | 4116/4854 [30:41<1:25:28,  6.95s/it]"
     ]
    },
    {
     "name": "stdout",
     "output_type": "stream",
     "text": [
      "Scraping CIK 0000885508\n"
     ]
    },
    {
     "name": "stderr",
     "output_type": "stream",
     "text": [
      " 85%|████████▍ | 4117/4854 [30:53<1:44:32,  8.51s/it]"
     ]
    },
    {
     "name": "stdout",
     "output_type": "stream",
     "text": [
      "Scraping CIK 0000933034\n"
     ]
    },
    {
     "name": "stderr",
     "output_type": "stream",
     "text": [
      " 85%|████████▍ | 4118/4854 [31:03<1:47:44,  8.78s/it]"
     ]
    },
    {
     "name": "stdout",
     "output_type": "stream",
     "text": [
      "Scraping CIK 0001692830\n"
     ]
    },
    {
     "name": "stderr",
     "output_type": "stream",
     "text": [
      " 85%|████████▍ | 4119/4854 [31:03<1:17:53,  6.36s/it]"
     ]
    },
    {
     "name": "stdout",
     "output_type": "stream",
     "text": [
      "Scraping CIK 0000093751\n"
     ]
    },
    {
     "name": "stderr",
     "output_type": "stream",
     "text": [
      " 85%|████████▍ | 4120/4854 [31:18<1:49:11,  8.93s/it]"
     ]
    },
    {
     "name": "stdout",
     "output_type": "stream",
     "text": [
      "Scraping CIK 0001465128\n"
     ]
    },
    {
     "name": "stderr",
     "output_type": "stream",
     "text": [
      " 85%|████████▍ | 4121/4854 [31:26<1:43:39,  8.48s/it]"
     ]
    },
    {
     "name": "stdout",
     "output_type": "stream",
     "text": [
      "Scraping CIK 0001137789\n"
     ]
    },
    {
     "name": "stderr",
     "output_type": "stream",
     "text": [
      " 85%|████████▍ | 4122/4854 [31:36<1:50:57,  9.09s/it]"
     ]
    },
    {
     "name": "stdout",
     "output_type": "stream",
     "text": [
      "Scraping CIK 0001499453\n"
     ]
    },
    {
     "name": "stderr",
     "output_type": "stream",
     "text": [
      " 85%|████████▍ | 4123/4854 [31:38<1:22:45,  6.79s/it]"
     ]
    },
    {
     "name": "stdout",
     "output_type": "stream",
     "text": [
      "Scraping CIK 0001289340\n"
     ]
    },
    {
     "name": "stderr",
     "output_type": "stream",
     "text": [
      " 85%|████████▍ | 4124/4854 [31:46<1:29:41,  7.37s/it]"
     ]
    },
    {
     "name": "stdout",
     "output_type": "stream",
     "text": [
      "Scraping CIK 0000016918\n"
     ]
    },
    {
     "name": "stderr",
     "output_type": "stream",
     "text": [
      " 85%|████████▌ | 4126/4854 [32:00<1:18:20,  6.46s/it]"
     ]
    },
    {
     "name": "stdout",
     "output_type": "stream",
     "text": [
      "Scraping CIK 0000311337\n",
      "Scraping CIK 0000912593\n"
     ]
    },
    {
     "name": "stderr",
     "output_type": "stream",
     "text": [
      " 85%|████████▌ | 4127/4854 [32:14<1:47:21,  8.86s/it]"
     ]
    },
    {
     "name": "stdout",
     "output_type": "stream",
     "text": [
      "Scraping CIK 0001621563\n"
     ]
    },
    {
     "name": "stderr",
     "output_type": "stream",
     "text": [
      " 85%|████████▌ | 4128/4854 [32:18<1:27:56,  7.27s/it]"
     ]
    },
    {
     "name": "stdout",
     "output_type": "stream",
     "text": [
      "Scraping CIK 0001314772\n"
     ]
    },
    {
     "name": "stderr",
     "output_type": "stream",
     "text": [
      " 85%|████████▌ | 4129/4854 [32:25<1:25:48,  7.10s/it]"
     ]
    },
    {
     "name": "stdout",
     "output_type": "stream",
     "text": [
      "Scraping CIK 0001552275\n"
     ]
    },
    {
     "name": "stderr",
     "output_type": "stream",
     "text": [
      " 85%|████████▌ | 4130/4854 [32:30<1:17:32,  6.43s/it]"
     ]
    },
    {
     "name": "stdout",
     "output_type": "stream",
     "text": [
      "Scraping CIK 0001508171\n"
     ]
    },
    {
     "name": "stderr",
     "output_type": "stream",
     "text": [
      " 85%|████████▌ | 4131/4854 [32:35<1:12:40,  6.03s/it]"
     ]
    },
    {
     "name": "stdout",
     "output_type": "stream",
     "text": [
      "Scraping CIK 0001172631\n"
     ]
    },
    {
     "name": "stderr",
     "output_type": "stream",
     "text": [
      " 85%|████████▌ | 4132/4854 [32:41<1:13:50,  6.14s/it]"
     ]
    },
    {
     "name": "stdout",
     "output_type": "stream",
     "text": [
      "Scraping CIK 0000095552\n"
     ]
    },
    {
     "name": "stderr",
     "output_type": "stream",
     "text": [
      " 85%|████████▌ | 4133/4854 [32:53<1:33:29,  7.78s/it]"
     ]
    },
    {
     "name": "stdout",
     "output_type": "stream",
     "text": [
      "Scraping CIK 0001356576\n"
     ]
    },
    {
     "name": "stderr",
     "output_type": "stream",
     "text": [
      " 85%|████████▌ | 4135/4854 [32:58<58:37,  4.89s/it]  "
     ]
    },
    {
     "name": "stdout",
     "output_type": "stream",
     "text": [
      "Scraping CIK 0001517399\n",
      "Scraping CIK 0001718108\n"
     ]
    },
    {
     "name": "stderr",
     "output_type": "stream",
     "text": [
      " 85%|████████▌ | 4137/4854 [32:59<32:53,  2.75s/it]"
     ]
    },
    {
     "name": "stdout",
     "output_type": "stream",
     "text": [
      "Scraping CIK 0000909327\n",
      "Scraping CIK 0001084201\n"
     ]
    },
    {
     "name": "stderr",
     "output_type": "stream",
     "text": [
      " 85%|████████▌ | 4138/4854 [33:00<23:27,  1.97s/it]"
     ]
    },
    {
     "name": "stdout",
     "output_type": "stream",
     "text": [
      "Scraping CIK 0000868271\n"
     ]
    },
    {
     "name": "stderr",
     "output_type": "stream",
     "text": [
      " 85%|████████▌ | 4139/4854 [33:11<56:48,  4.77s/it]"
     ]
    },
    {
     "name": "stdout",
     "output_type": "stream",
     "text": [
      "Scraping CIK 0000945394\n"
     ]
    },
    {
     "name": "stderr",
     "output_type": "stream",
     "text": [
      " 85%|████████▌ | 4141/4854 [33:24<1:01:08,  5.14s/it]"
     ]
    },
    {
     "name": "stdout",
     "output_type": "stream",
     "text": [
      "Scraping CIK 0001340677\n",
      "Scraping CIK 0001739936\n"
     ]
    },
    {
     "name": "stderr",
     "output_type": "stream",
     "text": [
      " 85%|████████▌ | 4142/4854 [33:25<46:44,  3.94s/it]  "
     ]
    },
    {
     "name": "stdout",
     "output_type": "stream",
     "text": [
      "Scraping CIK 0001160308\n"
     ]
    },
    {
     "name": "stderr",
     "output_type": "stream",
     "text": [
      " 85%|████████▌ | 4143/4854 [33:34<1:03:06,  5.33s/it]"
     ]
    },
    {
     "name": "stdout",
     "output_type": "stream",
     "text": [
      "Scraping CIK 0000089140\n"
     ]
    },
    {
     "name": "stderr",
     "output_type": "stream",
     "text": [
      " 85%|████████▌ | 4144/4854 [33:41<1:08:02,  5.75s/it]"
     ]
    },
    {
     "name": "stdout",
     "output_type": "stream",
     "text": [
      "Scraping CIK 0001642545\n"
     ]
    },
    {
     "name": "stderr",
     "output_type": "stream",
     "text": [
      " 85%|████████▌ | 4145/4854 [33:41<50:08,  4.24s/it]  "
     ]
    },
    {
     "name": "stdout",
     "output_type": "stream",
     "text": [
      "Scraping CIK 0001092796\n"
     ]
    },
    {
     "name": "stderr",
     "output_type": "stream",
     "text": [
      " 85%|████████▌ | 4146/4854 [33:51<1:09:50,  5.92s/it]"
     ]
    },
    {
     "name": "stdout",
     "output_type": "stream",
     "text": [
      "Scraping CIK 0001710583\n"
     ]
    },
    {
     "name": "stderr",
     "output_type": "stream",
     "text": [
      " 85%|████████▌ | 4147/4854 [33:53<56:10,  4.77s/it]  "
     ]
    },
    {
     "name": "stdout",
     "output_type": "stream",
     "text": [
      "Scraping CIK 0001739942\n"
     ]
    },
    {
     "name": "stderr",
     "output_type": "stream",
     "text": [
      " 85%|████████▌ | 4148/4854 [33:55<44:43,  3.80s/it]"
     ]
    },
    {
     "name": "stdout",
     "output_type": "stream",
     "text": [
      "Scraping CIK 0001111863\n"
     ]
    },
    {
     "name": "stderr",
     "output_type": "stream",
     "text": [
      " 85%|████████▌ | 4149/4854 [33:55<32:28,  2.76s/it]"
     ]
    },
    {
     "name": "stdout",
     "output_type": "stream",
     "text": [
      "Scraping CIK 0000093556\n"
     ]
    },
    {
     "name": "stderr",
     "output_type": "stream",
     "text": [
      " 85%|████████▌ | 4150/4854 [34:10<1:16:21,  6.51s/it]"
     ]
    },
    {
     "name": "stdout",
     "output_type": "stream",
     "text": [
      "Scraping CIK 0001089907\n"
     ]
    },
    {
     "name": "stderr",
     "output_type": "stream",
     "text": [
      " 86%|████████▌ | 4151/4854 [34:21<1:32:41,  7.91s/it]"
     ]
    },
    {
     "name": "stdout",
     "output_type": "stream",
     "text": [
      "Scraping CIK 0000004127\n"
     ]
    },
    {
     "name": "stderr",
     "output_type": "stream",
     "text": [
      " 86%|████████▌ | 4152/4854 [34:35<1:51:10,  9.50s/it]"
     ]
    },
    {
     "name": "stdout",
     "output_type": "stream",
     "text": [
      "Scraping CIK 0001000623\n"
     ]
    },
    {
     "name": "stderr",
     "output_type": "stream",
     "text": [
      " 86%|████████▌ | 4153/4854 [34:48<2:02:53, 10.52s/it]"
     ]
    },
    {
     "name": "stdout",
     "output_type": "stream",
     "text": [
      "Scraping CIK 0000007332\n"
     ]
    },
    {
     "name": "stderr",
     "output_type": "stream",
     "text": [
      " 86%|████████▌ | 4154/4854 [35:01<2:14:29, 11.53s/it]"
     ]
    },
    {
     "name": "stdout",
     "output_type": "stream",
     "text": [
      "Scraping CIK 0001773427\n"
     ]
    },
    {
     "name": "stderr",
     "output_type": "stream",
     "text": [
      " 86%|████████▌ | 4155/4854 [35:02<1:36:57,  8.32s/it]"
     ]
    },
    {
     "name": "stdout",
     "output_type": "stream",
     "text": [
      "Scraping CIK 0001692115\n"
     ]
    },
    {
     "name": "stderr",
     "output_type": "stream",
     "text": [
      " 86%|████████▌ | 4156/4854 [35:05<1:18:07,  6.72s/it]"
     ]
    },
    {
     "name": "stdout",
     "output_type": "stream",
     "text": [
      "Scraping CIK 0001514705\n"
     ]
    },
    {
     "name": "stderr",
     "output_type": "stream",
     "text": [
      " 86%|████████▌ | 4157/4854 [35:12<1:16:24,  6.58s/it]"
     ]
    },
    {
     "name": "stdout",
     "output_type": "stream",
     "text": [
      "Scraping CIK 0000310354\n"
     ]
    },
    {
     "name": "stderr",
     "output_type": "stream",
     "text": [
      " 86%|████████▌ | 4158/4854 [35:25<1:39:42,  8.60s/it]"
     ]
    },
    {
     "name": "stdout",
     "output_type": "stream",
     "text": [
      "Scraping CIK 0000310142\n"
     ]
    },
    {
     "name": "stderr",
     "output_type": "stream",
     "text": [
      " 86%|████████▌ | 4160/4854 [35:37<1:19:00,  6.83s/it]"
     ]
    },
    {
     "name": "stdout",
     "output_type": "stream",
     "text": [
      "Scraping CIK 0001723980\n",
      "Scraping CIK 0001758530\n"
     ]
    },
    {
     "name": "stderr",
     "output_type": "stream",
     "text": [
      " 86%|████████▌ | 4161/4854 [35:37<55:51,  4.84s/it]  "
     ]
    },
    {
     "name": "stdout",
     "output_type": "stream",
     "text": [
      "Scraping CIK 0000835324\n"
     ]
    },
    {
     "name": "stderr",
     "output_type": "stream",
     "text": [
      " 86%|████████▌ | 4162/4854 [35:52<1:28:08,  7.64s/it]"
     ]
    },
    {
     "name": "stdout",
     "output_type": "stream",
     "text": [
      "Scraping CIK 0001527599\n"
     ]
    },
    {
     "name": "stderr",
     "output_type": "stream",
     "text": [
      " 86%|████████▌ | 4163/4854 [35:54<1:11:10,  6.18s/it]"
     ]
    },
    {
     "name": "stdout",
     "output_type": "stream",
     "text": [
      "Scraping CIK 0001601712\n"
     ]
    },
    {
     "name": "stderr",
     "output_type": "stream",
     "text": [
      " 86%|████████▌ | 4164/4854 [35:58<1:02:37,  5.45s/it]"
     ]
    },
    {
     "name": "stdout",
     "output_type": "stream",
     "text": [
      "Scraping CIK 0000310764\n"
     ]
    },
    {
     "name": "stderr",
     "output_type": "stream",
     "text": [
      " 86%|████████▌ | 4165/4854 [36:23<2:09:08, 11.25s/it]"
     ]
    },
    {
     "name": "stdout",
     "output_type": "stream",
     "text": [
      "Scraping CIK 0001010612\n"
     ]
    },
    {
     "name": "stderr",
     "output_type": "stream",
     "text": [
      " 86%|████████▌ | 4166/4854 [36:34<2:10:00, 11.34s/it]"
     ]
    },
    {
     "name": "stdout",
     "output_type": "stream",
     "text": [
      "Scraping CIK 0000894158\n"
     ]
    },
    {
     "name": "stderr",
     "output_type": "stream",
     "text": [
      " 86%|████████▌ | 4167/4854 [36:44<2:02:20, 10.68s/it]"
     ]
    },
    {
     "name": "stdout",
     "output_type": "stream",
     "text": [
      "Scraping CIK 0000817720\n"
     ]
    },
    {
     "name": "stderr",
     "output_type": "stream",
     "text": [
      " 86%|████████▌ | 4168/4854 [36:54<2:00:10, 10.51s/it]"
     ]
    },
    {
     "name": "stdout",
     "output_type": "stream",
     "text": [
      "Scraping CIK 0001408278\n"
     ]
    },
    {
     "name": "stderr",
     "output_type": "stream",
     "text": [
      " 86%|████████▌ | 4169/4854 [36:59<1:42:55,  9.02s/it]"
     ]
    },
    {
     "name": "stdout",
     "output_type": "stream",
     "text": [
      "Scraping CIK 0001610950\n"
     ]
    },
    {
     "name": "stderr",
     "output_type": "stream",
     "text": [
      " 86%|████████▌ | 4170/4854 [37:03<1:24:11,  7.38s/it]"
     ]
    },
    {
     "name": "stdout",
     "output_type": "stream",
     "text": [
      "Scraping CIK 0000095953\n"
     ]
    },
    {
     "name": "stderr",
     "output_type": "stream",
     "text": [
      " 86%|████████▌ | 4171/4854 [37:16<1:45:02,  9.23s/it]"
     ]
    },
    {
     "name": "stdout",
     "output_type": "stream",
     "text": [
      "Scraping CIK 0000864240\n"
     ]
    },
    {
     "name": "stderr",
     "output_type": "stream",
     "text": [
      " 86%|████████▌ | 4172/4854 [37:27<1:51:04,  9.77s/it]"
     ]
    },
    {
     "name": "stdout",
     "output_type": "stream",
     "text": [
      "Scraping CIK 0001556263\n"
     ]
    },
    {
     "name": "stderr",
     "output_type": "stream",
     "text": [
      " 86%|████████▌ | 4173/4854 [37:30<1:24:47,  7.47s/it]"
     ]
    },
    {
     "name": "stdout",
     "output_type": "stream",
     "text": [
      "Scraping CIK 0000945114\n"
     ]
    },
    {
     "name": "stderr",
     "output_type": "stream",
     "text": [
      " 86%|████████▌ | 4174/4854 [37:41<1:36:40,  8.53s/it]"
     ]
    },
    {
     "name": "stdout",
     "output_type": "stream",
     "text": [
      "Scraping CIK 0000096021\n"
     ]
    },
    {
     "name": "stderr",
     "output_type": "stream",
     "text": [
      " 86%|████████▌ | 4175/4854 [37:52<1:48:00,  9.54s/it]"
     ]
    },
    {
     "name": "stdout",
     "output_type": "stream",
     "text": [
      "Scraping CIK 0000732717\n"
     ]
    },
    {
     "name": "stderr",
     "output_type": "stream",
     "text": [
      " 86%|████████▌ | 4176/4854 [38:03<1:52:25,  9.95s/it]"
     ]
    },
    {
     "name": "stdout",
     "output_type": "stream",
     "text": [
      "Scraping CIK 0001378453\n"
     ]
    },
    {
     "name": "stderr",
     "output_type": "stream",
     "text": [
      " 86%|████████▌ | 4178/4854 [38:12<1:14:31,  6.62s/it]"
     ]
    },
    {
     "name": "stdout",
     "output_type": "stream",
     "text": [
      "Scraping CIK 0001144800\n",
      "Scraping CIK 0001585583\n"
     ]
    },
    {
     "name": "stderr",
     "output_type": "stream",
     "text": [
      " 86%|████████▌ | 4179/4854 [38:16<1:07:56,  6.04s/it]"
     ]
    },
    {
     "name": "stdout",
     "output_type": "stream",
     "text": [
      "Scraping CIK 0001017303\n"
     ]
    },
    {
     "name": "stderr",
     "output_type": "stream",
     "text": [
      " 86%|████████▌ | 4180/4854 [38:27<1:25:16,  7.59s/it]"
     ]
    },
    {
     "name": "stdout",
     "output_type": "stream",
     "text": [
      "Scraping CIK 0000942126\n"
     ]
    },
    {
     "name": "stderr",
     "output_type": "stream",
     "text": [
      " 86%|████████▌ | 4182/4854 [38:36<1:01:19,  5.48s/it]"
     ]
    },
    {
     "name": "stdout",
     "output_type": "stream",
     "text": [
      "Scraping CIK 0001395064\n",
      "Scraping CIK 0001499620\n"
     ]
    },
    {
     "name": "stderr",
     "output_type": "stream",
     "text": [
      " 86%|████████▌ | 4183/4854 [38:36<43:17,  3.87s/it]  "
     ]
    },
    {
     "name": "stdout",
     "output_type": "stream",
     "text": [
      "Scraping CIK 0001724965\n"
     ]
    },
    {
     "name": "stderr",
     "output_type": "stream",
     "text": [
      " 86%|████████▌ | 4185/4854 [38:37<24:30,  2.20s/it]"
     ]
    },
    {
     "name": "stdout",
     "output_type": "stream",
     "text": [
      "Scraping CIK 0001588084\n",
      "Scraping CIK 0001552670\n"
     ]
    },
    {
     "name": "stderr",
     "output_type": "stream",
     "text": [
      " 86%|████████▌ | 4186/4854 [38:37<17:36,  1.58s/it]"
     ]
    },
    {
     "name": "stdout",
     "output_type": "stream",
     "text": [
      "Scraping CIK 0000024545\n"
     ]
    },
    {
     "name": "stderr",
     "output_type": "stream",
     "text": [
      " 86%|████████▋ | 4187/4854 [38:51<56:28,  5.08s/it]"
     ]
    },
    {
     "name": "stdout",
     "output_type": "stream",
     "text": [
      "Scraping CIK 0001647170\n"
     ]
    },
    {
     "name": "stderr",
     "output_type": "stream",
     "text": [
      " 86%|████████▋ | 4188/4854 [38:51<41:37,  3.75s/it]"
     ]
    },
    {
     "name": "stdout",
     "output_type": "stream",
     "text": [
      "Scraping CIK 0001359931\n"
     ]
    },
    {
     "name": "stderr",
     "output_type": "stream",
     "text": [
      " 86%|████████▋ | 4190/4854 [38:55<29:46,  2.69s/it]"
     ]
    },
    {
     "name": "stdout",
     "output_type": "stream",
     "text": [
      "Scraping CIK 0000906338\n",
      "Scraping CIK 0000809248\n"
     ]
    },
    {
     "name": "stderr",
     "output_type": "stream",
     "text": [
      " 86%|████████▋ | 4191/4854 [39:05<52:23,  4.74s/it]"
     ]
    },
    {
     "name": "stdout",
     "output_type": "stream",
     "text": [
      "Scraping CIK 0001092289\n"
     ]
    },
    {
     "name": "stderr",
     "output_type": "stream",
     "text": [
      " 86%|████████▋ | 4193/4854 [39:12<43:36,  3.96s/it]  "
     ]
    },
    {
     "name": "stdout",
     "output_type": "stream",
     "text": [
      "Scraping CIK 0000808439\n",
      "Scraping CIK 0000096536\n"
     ]
    },
    {
     "name": "stderr",
     "output_type": "stream",
     "text": [
      " 86%|████████▋ | 4194/4854 [39:18<47:08,  4.29s/it]"
     ]
    },
    {
     "name": "stdout",
     "output_type": "stream",
     "text": [
      "Scraping CIK 0001295401\n"
     ]
    },
    {
     "name": "stderr",
     "output_type": "stream",
     "text": [
      " 86%|████████▋ | 4195/4854 [39:30<1:14:48,  6.81s/it]"
     ]
    },
    {
     "name": "stdout",
     "output_type": "stream",
     "text": [
      "Scraping CIK 0000768899\n"
     ]
    },
    {
     "name": "stderr",
     "output_type": "stream",
     "text": [
      " 86%|████████▋ | 4196/4854 [39:42<1:32:19,  8.42s/it]"
     ]
    },
    {
     "name": "stdout",
     "output_type": "stream",
     "text": [
      "Scraping CIK 0001693415\n"
     ]
    },
    {
     "name": "stderr",
     "output_type": "stream",
     "text": [
      " 86%|████████▋ | 4197/4854 [39:44<1:09:20,  6.33s/it]"
     ]
    },
    {
     "name": "stdout",
     "output_type": "stream",
     "text": [
      "Scraping CIK 0001539638\n"
     ]
    },
    {
     "name": "stderr",
     "output_type": "stream",
     "text": [
      " 86%|████████▋ | 4198/4854 [39:49<1:06:31,  6.08s/it]"
     ]
    },
    {
     "name": "stdout",
     "output_type": "stream",
     "text": [
      "Scraping CIK 0001668370\n"
     ]
    },
    {
     "name": "stderr",
     "output_type": "stream",
     "text": [
      " 87%|████████▋ | 4199/4854 [39:51<50:46,  4.65s/it]  "
     ]
    },
    {
     "name": "stdout",
     "output_type": "stream",
     "text": [
      "Scraping CIK 0001447051\n"
     ]
    },
    {
     "name": "stderr",
     "output_type": "stream",
     "text": [
      " 87%|████████▋ | 4200/4854 [40:00<1:04:23,  5.91s/it]"
     ]
    },
    {
     "name": "stdout",
     "output_type": "stream",
     "text": [
      "Scraping CIK 0001583107\n"
     ]
    },
    {
     "name": "stderr",
     "output_type": "stream",
     "text": [
      " 87%|████████▋ | 4202/4854 [40:03<38:49,  3.57s/it]  "
     ]
    },
    {
     "name": "stdout",
     "output_type": "stream",
     "text": [
      "Scraping CIK 0001743340\n",
      "Scraping CIK 0001077428\n"
     ]
    },
    {
     "name": "stderr",
     "output_type": "stream",
     "text": [
      " 87%|████████▋ | 4203/4854 [40:14<1:03:56,  5.89s/it]"
     ]
    },
    {
     "name": "stdout",
     "output_type": "stream",
     "text": [
      "Scraping CIK 0000356171\n"
     ]
    },
    {
     "name": "stderr",
     "output_type": "stream",
     "text": [
      " 87%|████████▋ | 4204/4854 [40:27<1:26:50,  8.02s/it]"
     ]
    },
    {
     "name": "stdout",
     "output_type": "stream",
     "text": [
      "Scraping CIK 0000096699\n"
     ]
    },
    {
     "name": "stderr",
     "output_type": "stream",
     "text": [
      " 87%|████████▋ | 4205/4854 [40:36<1:28:34,  8.19s/it]"
     ]
    },
    {
     "name": "stdout",
     "output_type": "stream",
     "text": [
      "Scraping CIK 0001595585\n"
     ]
    },
    {
     "name": "stderr",
     "output_type": "stream",
     "text": [
      " 87%|████████▋ | 4206/4854 [40:37<1:06:24,  6.15s/it]"
     ]
    },
    {
     "name": "stdout",
     "output_type": "stream",
     "text": [
      "Scraping CIK 0000019612\n"
     ]
    },
    {
     "name": "stderr",
     "output_type": "stream",
     "text": [
      " 87%|████████▋ | 4207/4854 [40:51<1:32:45,  8.60s/it]"
     ]
    },
    {
     "name": "stdout",
     "output_type": "stream",
     "text": [
      "Scraping CIK 0000855874\n"
     ]
    },
    {
     "name": "stderr",
     "output_type": "stream",
     "text": [
      " 87%|████████▋ | 4208/4854 [41:04<1:46:35,  9.90s/it]"
     ]
    },
    {
     "name": "stdout",
     "output_type": "stream",
     "text": [
      "Scraping CIK 0000733590\n"
     ]
    },
    {
     "name": "stderr",
     "output_type": "stream",
     "text": [
      " 87%|████████▋ | 4209/4854 [41:17<1:56:42, 10.86s/it]"
     ]
    },
    {
     "name": "stdout",
     "output_type": "stream",
     "text": [
      "Scraping CIK 0001027838\n"
     ]
    },
    {
     "name": "stderr",
     "output_type": "stream",
     "text": [
      " 87%|████████▋ | 4210/4854 [41:20<1:29:34,  8.35s/it]"
     ]
    },
    {
     "name": "stdout",
     "output_type": "stream",
     "text": [
      "Scraping CIK 0000890319\n"
     ]
    },
    {
     "name": "stderr",
     "output_type": "stream",
     "text": [
      " 87%|████████▋ | 4212/4854 [41:32<1:12:02,  6.73s/it]"
     ]
    },
    {
     "name": "stdout",
     "output_type": "stream",
     "text": [
      "Scraping CIK 0001269238\n",
      "Scraping CIK 0001394319\n"
     ]
    },
    {
     "name": "stderr",
     "output_type": "stream",
     "text": [
      " 87%|████████▋ | 4213/4854 [41:36<1:03:34,  5.95s/it]"
     ]
    },
    {
     "name": "stdout",
     "output_type": "stream",
     "text": [
      "Scraping CIK 0001075607\n"
     ]
    },
    {
     "name": "stderr",
     "output_type": "stream",
     "text": [
      " 87%|████████▋ | 4214/4854 [41:48<1:20:23,  7.54s/it]"
     ]
    },
    {
     "name": "stdout",
     "output_type": "stream",
     "text": [
      "Scraping CIK 0001370755\n"
     ]
    },
    {
     "name": "stderr",
     "output_type": "stream",
     "text": [
      " 87%|████████▋ | 4215/4854 [41:54<1:15:48,  7.12s/it]"
     ]
    },
    {
     "name": "stdout",
     "output_type": "stream",
     "text": [
      "Scraping CIK 0001464963\n"
     ]
    },
    {
     "name": "stderr",
     "output_type": "stream",
     "text": [
      " 87%|████████▋ | 4216/4854 [42:01<1:15:29,  7.10s/it]"
     ]
    },
    {
     "name": "stdout",
     "output_type": "stream",
     "text": [
      "Scraping CIK 0001750019\n"
     ]
    },
    {
     "name": "stderr",
     "output_type": "stream",
     "text": [
      " 87%|████████▋ | 4217/4854 [42:02<55:50,  5.26s/it]  "
     ]
    },
    {
     "name": "stdout",
     "output_type": "stream",
     "text": [
      "Scraping CIK 0001411688\n"
     ]
    },
    {
     "name": "stderr",
     "output_type": "stream",
     "text": [
      " 87%|████████▋ | 4218/4854 [42:08<57:16,  5.40s/it]"
     ]
    },
    {
     "name": "stdout",
     "output_type": "stream",
     "text": [
      "Scraping CIK 0000909494\n"
     ]
    },
    {
     "name": "stderr",
     "output_type": "stream",
     "text": [
      " 87%|████████▋ | 4220/4854 [42:20<54:44,  5.18s/it]  "
     ]
    },
    {
     "name": "stdout",
     "output_type": "stream",
     "text": [
      "Scraping CIK 0000947263\n",
      "Scraping CIK 0001673481\n"
     ]
    },
    {
     "name": "stderr",
     "output_type": "stream",
     "text": [
      " 87%|████████▋ | 4221/4854 [42:21<42:27,  4.03s/it]"
     ]
    },
    {
     "name": "stdout",
     "output_type": "stream",
     "text": [
      "Scraping CIK 0000816761\n"
     ]
    },
    {
     "name": "stderr",
     "output_type": "stream",
     "text": [
      " 87%|████████▋ | 4222/4854 [42:28<52:23,  4.97s/it]"
     ]
    },
    {
     "name": "stdout",
     "output_type": "stream",
     "text": [
      "Scraping CIK 0001260221\n"
     ]
    },
    {
     "name": "stderr",
     "output_type": "stream",
     "text": [
      " 87%|████████▋ | 4223/4854 [42:37<1:03:12,  6.01s/it]"
     ]
    },
    {
     "name": "stdout",
     "output_type": "stream",
     "text": [
      "Scraping CIK 0001477449\n"
     ]
    },
    {
     "name": "stderr",
     "output_type": "stream",
     "text": [
      " 87%|████████▋ | 4224/4854 [42:40<55:32,  5.29s/it]  "
     ]
    },
    {
     "name": "stdout",
     "output_type": "stream",
     "text": [
      "Scraping CIK 0001051512\n"
     ]
    },
    {
     "name": "stderr",
     "output_type": "stream",
     "text": [
      " 87%|████████▋ | 4225/4854 [42:52<1:15:17,  7.18s/it]"
     ]
    },
    {
     "name": "stdout",
     "output_type": "stream",
     "text": [
      "Scraping CIK 0000098222\n"
     ]
    },
    {
     "name": "stderr",
     "output_type": "stream",
     "text": [
      " 87%|████████▋ | 4226/4854 [43:06<1:36:16,  9.20s/it]"
     ]
    },
    {
     "name": "stdout",
     "output_type": "stream",
     "text": [
      "Scraping CIK 0001094285\n"
     ]
    },
    {
     "name": "stderr",
     "output_type": "stream",
     "text": [
      " 87%|████████▋ | 4227/4854 [43:19<1:49:21, 10.47s/it]"
     ]
    },
    {
     "name": "stdout",
     "output_type": "stream",
     "text": [
      "Scraping CIK 0001650372\n"
     ]
    },
    {
     "name": "stderr",
     "output_type": "stream",
     "text": [
      " 87%|████████▋ | 4228/4854 [43:20<1:18:45,  7.55s/it]"
     ]
    },
    {
     "name": "stdout",
     "output_type": "stream",
     "text": [
      "Scraping CIK 0000790703\n"
     ]
    },
    {
     "name": "stderr",
     "output_type": "stream",
     "text": [
      " 87%|████████▋ | 4229/4854 [43:34<1:39:36,  9.56s/it]"
     ]
    },
    {
     "name": "stdout",
     "output_type": "stream",
     "text": [
      "Scraping CIK 0000842023\n"
     ]
    },
    {
     "name": "stderr",
     "output_type": "stream",
     "text": [
      " 87%|████████▋ | 4230/4854 [43:46<1:48:24, 10.42s/it]"
     ]
    },
    {
     "name": "stdout",
     "output_type": "stream",
     "text": [
      "Scraping CIK 0000886986\n"
     ]
    },
    {
     "name": "stderr",
     "output_type": "stream",
     "text": [
      " 87%|████████▋ | 4231/4854 [43:47<1:16:47,  7.40s/it]"
     ]
    },
    {
     "name": "stdout",
     "output_type": "stream",
     "text": [
      "Scraping CIK 0001766526\n"
     ]
    },
    {
     "name": "stderr",
     "output_type": "stream",
     "text": [
      " 87%|████████▋ | 4232/4854 [43:48<56:58,  5.50s/it]  "
     ]
    },
    {
     "name": "stdout",
     "output_type": "stream",
     "text": [
      "Scraping CIK 0001592560\n"
     ]
    },
    {
     "name": "stderr",
     "output_type": "stream",
     "text": [
      " 87%|████████▋ | 4233/4854 [43:48<40:34,  3.92s/it]"
     ]
    },
    {
     "name": "stdout",
     "output_type": "stream",
     "text": [
      "Scraping CIK 0000814052\n"
     ]
    },
    {
     "name": "stderr",
     "output_type": "stream",
     "text": [
      " 87%|████████▋ | 4234/4854 [43:48<29:23,  2.85s/it]"
     ]
    },
    {
     "name": "stdout",
     "output_type": "stream",
     "text": [
      "Scraping CIK 0001385157\n"
     ]
    },
    {
     "name": "stderr",
     "output_type": "stream",
     "text": [
      " 87%|████████▋ | 4235/4854 [43:58<49:47,  4.83s/it]"
     ]
    },
    {
     "name": "stdout",
     "output_type": "stream",
     "text": [
      "Scraping CIK 0001561921\n"
     ]
    },
    {
     "name": "stderr",
     "output_type": "stream",
     "text": [
      " 87%|████████▋ | 4236/4854 [43:59<39:01,  3.79s/it]"
     ]
    },
    {
     "name": "stdout",
     "output_type": "stream",
     "text": [
      "Scraping CIK 0000061398\n"
     ]
    },
    {
     "name": "stderr",
     "output_type": "stream",
     "text": [
      " 87%|████████▋ | 4237/4854 [44:12<1:06:06,  6.43s/it]"
     ]
    },
    {
     "name": "stdout",
     "output_type": "stream",
     "text": [
      "Scraping CIK 0001024725\n"
     ]
    },
    {
     "name": "stderr",
     "output_type": "stream",
     "text": [
      " 87%|████████▋ | 4238/4854 [44:26<1:28:35,  8.63s/it]"
     ]
    },
    {
     "name": "stdout",
     "output_type": "stream",
     "text": [
      "Scraping CIK 0001660280\n"
     ]
    },
    {
     "name": "stderr",
     "output_type": "stream",
     "text": [
      " 87%|████████▋ | 4239/4854 [44:27<1:05:19,  6.37s/it]"
     ]
    },
    {
     "name": "stdout",
     "output_type": "stream",
     "text": [
      "Scraping CIK 0000034956\n"
     ]
    },
    {
     "name": "stderr",
     "output_type": "stream",
     "text": [
      " 87%|████████▋ | 4241/4854 [44:40<59:32,  5.83s/it]  "
     ]
    },
    {
     "name": "stdout",
     "output_type": "stream",
     "text": [
      "Scraping CIK 0000932470\n",
      "Scraping CIK 0000097210\n"
     ]
    },
    {
     "name": "stderr",
     "output_type": "stream",
     "text": [
      " 87%|████████▋ | 4242/4854 [44:52<1:19:37,  7.81s/it]"
     ]
    },
    {
     "name": "stdout",
     "output_type": "stream",
     "text": [
      "Scraping CIK 0001599947\n"
     ]
    },
    {
     "name": "stderr",
     "output_type": "stream",
     "text": [
      " 87%|████████▋ | 4243/4854 [44:56<1:08:23,  6.72s/it]"
     ]
    },
    {
     "name": "stdout",
     "output_type": "stream",
     "text": [
      "Scraping CIK 0000927355\n"
     ]
    },
    {
     "name": "stderr",
     "output_type": "stream",
     "text": [
      " 87%|████████▋ | 4244/4854 [45:10<1:31:06,  8.96s/it]"
     ]
    },
    {
     "name": "stdout",
     "output_type": "stream",
     "text": [
      "Scraping CIK 0001084384\n"
     ]
    },
    {
     "name": "stderr",
     "output_type": "stream",
     "text": [
      " 87%|████████▋ | 4245/4854 [45:18<1:26:07,  8.49s/it]"
     ]
    },
    {
     "name": "stdout",
     "output_type": "stream",
     "text": [
      "Scraping CIK 0000818686\n"
     ]
    },
    {
     "name": "stderr",
     "output_type": "stream",
     "text": [
      " 87%|████████▋ | 4246/4854 [45:19<1:04:38,  6.38s/it]"
     ]
    },
    {
     "name": "stdout",
     "output_type": "stream",
     "text": [
      "Scraping CIK 0000097216\n"
     ]
    },
    {
     "name": "stderr",
     "output_type": "stream",
     "text": [
      " 87%|████████▋ | 4247/4854 [45:33<1:27:24,  8.64s/it]"
     ]
    },
    {
     "name": "stdout",
     "output_type": "stream",
     "text": [
      "Scraping CIK 0000092230\n"
     ]
    },
    {
     "name": "stderr",
     "output_type": "stream",
     "text": [
      " 88%|████████▊ | 4248/4854 [45:48<1:46:24, 10.53s/it]"
     ]
    },
    {
     "name": "stdout",
     "output_type": "stream",
     "text": [
      "Scraping CIK 0001733413\n"
     ]
    },
    {
     "name": "stderr",
     "output_type": "stream",
     "text": [
      " 88%|████████▊ | 4250/4854 [45:49<53:49,  5.35s/it]  "
     ]
    },
    {
     "name": "stdout",
     "output_type": "stream",
     "text": [
      "Scraping CIK 0001588823\n",
      "Scraping CIK 0001381668\n"
     ]
    },
    {
     "name": "stderr",
     "output_type": "stream",
     "text": [
      " 88%|████████▊ | 4251/4854 [46:13<1:50:22, 10.98s/it]"
     ]
    },
    {
     "name": "stdout",
     "output_type": "stream",
     "text": [
      "Scraping CIK 0000096943\n"
     ]
    },
    {
     "name": "stderr",
     "output_type": "stream",
     "text": [
      " 88%|████████▊ | 4252/4854 [46:26<1:55:50, 11.55s/it]"
     ]
    },
    {
     "name": "stdout",
     "output_type": "stream",
     "text": [
      "Scraping CIK 0000850429\n"
     ]
    },
    {
     "name": "stderr",
     "output_type": "stream",
     "text": [
      " 88%|████████▊ | 4254/4854 [46:40<1:25:46,  8.58s/it]"
     ]
    },
    {
     "name": "stdout",
     "output_type": "stream",
     "text": [
      "Scraping CIK 0000736744\n",
      "Scraping CIK 0000878518\n"
     ]
    },
    {
     "name": "stderr",
     "output_type": "stream",
     "text": [
      " 88%|████████▊ | 4255/4854 [46:40<1:00:25,  6.05s/it]"
     ]
    },
    {
     "name": "stdout",
     "output_type": "stream",
     "text": [
      "Scraping CIK 0001001614\n"
     ]
    },
    {
     "name": "stderr",
     "output_type": "stream",
     "text": [
      " 88%|████████▊ | 4257/4854 [46:52<54:35,  5.49s/it]  "
     ]
    },
    {
     "name": "stdout",
     "output_type": "stream",
     "text": [
      "Scraping CIK 0001413159\n",
      "Scraping CIK 0001021162\n"
     ]
    },
    {
     "name": "stderr",
     "output_type": "stream",
     "text": [
      " 88%|████████▊ | 4258/4854 [47:07<1:22:11,  8.27s/it]"
     ]
    },
    {
     "name": "stdout",
     "output_type": "stream",
     "text": [
      "Scraping CIK 0001534675\n"
     ]
    },
    {
     "name": "stderr",
     "output_type": "stream",
     "text": [
      " 88%|████████▊ | 4259/4854 [47:12<1:13:05,  7.37s/it]"
     ]
    },
    {
     "name": "stdout",
     "output_type": "stream",
     "text": [
      "Scraping CIK 0000039899\n"
     ]
    },
    {
     "name": "stderr",
     "output_type": "stream",
     "text": [
      " 88%|████████▊ | 4261/4854 [47:27<1:06:52,  6.77s/it]"
     ]
    },
    {
     "name": "stdout",
     "output_type": "stream",
     "text": [
      "Scraping CIK 0001308106\n",
      "Scraping CIK 0000931427\n"
     ]
    },
    {
     "name": "stderr",
     "output_type": "stream",
     "text": [
      " 88%|████████▊ | 4262/4854 [47:27<47:12,  4.79s/it]  "
     ]
    },
    {
     "name": "stdout",
     "output_type": "stream",
     "text": [
      "Scraping CIK 0000027419\n"
     ]
    },
    {
     "name": "stderr",
     "output_type": "stream",
     "text": [
      " 88%|████████▊ | 4263/4854 [47:39<1:09:12,  7.03s/it]"
     ]
    },
    {
     "name": "stdout",
     "output_type": "stream",
     "text": [
      "Scraping CIK 0001001316\n"
     ]
    },
    {
     "name": "stderr",
     "output_type": "stream",
     "text": [
      " 88%|████████▊ | 4264/4854 [47:46<1:09:09,  7.03s/it]"
     ]
    },
    {
     "name": "stdout",
     "output_type": "stream",
     "text": [
      "Scraping CIK 0001712189\n"
     ]
    },
    {
     "name": "stderr",
     "output_type": "stream",
     "text": [
      " 88%|████████▊ | 4265/4854 [47:48<52:05,  5.31s/it]  "
     ]
    },
    {
     "name": "stdout",
     "output_type": "stream",
     "text": [
      "Scraping CIK 0001769318\n"
     ]
    },
    {
     "name": "stderr",
     "output_type": "stream",
     "text": [
      " 88%|████████▊ | 4266/4854 [47:48<38:20,  3.91s/it]"
     ]
    },
    {
     "name": "stdout",
     "output_type": "stream",
     "text": [
      "Scraping CIK 0000070318\n"
     ]
    },
    {
     "name": "stderr",
     "output_type": "stream",
     "text": [
      " 88%|████████▊ | 4267/4854 [48:01<1:05:52,  6.73s/it]"
     ]
    },
    {
     "name": "stdout",
     "output_type": "stream",
     "text": [
      "Scraping CIK 0001773087\n"
     ]
    },
    {
     "name": "stderr",
     "output_type": "stream",
     "text": [
      " 88%|████████▊ | 4268/4854 [48:02<48:11,  4.93s/it]  "
     ]
    },
    {
     "name": "stdout",
     "output_type": "stream",
     "text": [
      "Scraping CIK 0001760689\n"
     ]
    },
    {
     "name": "stderr",
     "output_type": "stream",
     "text": [
      " 88%|████████▊ | 4269/4854 [48:03<36:48,  3.78s/it]"
     ]
    },
    {
     "name": "stdout",
     "output_type": "stream",
     "text": [
      "Scraping CIK 0000714562\n"
     ]
    },
    {
     "name": "stderr",
     "output_type": "stream",
     "text": [
      " 88%|████████▊ | 4270/4854 [48:15<1:00:46,  6.24s/it]"
     ]
    },
    {
     "name": "stdout",
     "output_type": "stream",
     "text": [
      "Scraping CIK 0000944695\n"
     ]
    },
    {
     "name": "stderr",
     "output_type": "stream",
     "text": [
      " 88%|████████▊ | 4271/4854 [48:30<1:24:22,  8.68s/it]"
     ]
    },
    {
     "name": "stdout",
     "output_type": "stream",
     "text": [
      "Scraping CIK 0001134115\n"
     ]
    },
    {
     "name": "stderr",
     "output_type": "stream",
     "text": [
      " 88%|████████▊ | 4272/4854 [48:34<1:12:11,  7.44s/it]"
     ]
    },
    {
     "name": "stdout",
     "output_type": "stream",
     "text": [
      "Scraping CIK 0000811212\n"
     ]
    },
    {
     "name": "stderr",
     "output_type": "stream",
     "text": [
      " 88%|████████▊ | 4273/4854 [48:44<1:19:44,  8.24s/it]"
     ]
    },
    {
     "name": "stdout",
     "output_type": "stream",
     "text": [
      "Scraping CIK 0000730263\n"
     ]
    },
    {
     "name": "stderr",
     "output_type": "stream",
     "text": [
      " 88%|████████▊ | 4274/4854 [48:56<1:29:26,  9.25s/it]"
     ]
    },
    {
     "name": "stdout",
     "output_type": "stream",
     "text": [
      "Scraping CIK 0001489096\n"
     ]
    },
    {
     "name": "stderr",
     "output_type": "stream",
     "text": [
      " 88%|████████▊ | 4275/4854 [49:04<1:25:50,  8.90s/it]"
     ]
    },
    {
     "name": "stdout",
     "output_type": "stream",
     "text": [
      "Scraping CIK 0000903129\n"
     ]
    },
    {
     "name": "stderr",
     "output_type": "stream",
     "text": [
      " 88%|████████▊ | 4276/4854 [49:16<1:33:36,  9.72s/it]"
     ]
    },
    {
     "name": "stdout",
     "output_type": "stream",
     "text": [
      "Scraping CIK 0001320695\n"
     ]
    },
    {
     "name": "stderr",
     "output_type": "stream",
     "text": [
      " 88%|████████▊ | 4278/4854 [49:24<1:02:02,  6.46s/it]"
     ]
    },
    {
     "name": "stdout",
     "output_type": "stream",
     "text": [
      "Scraping CIK 0001512717\n",
      "Scraping CIK 0000098246\n"
     ]
    },
    {
     "name": "stderr",
     "output_type": "stream",
     "text": [
      " 88%|████████▊ | 4280/4854 [49:36<55:01,  5.75s/it]  "
     ]
    },
    {
     "name": "stdout",
     "output_type": "stream",
     "text": [
      "Scraping CIK 0000912958\n",
      "Scraping CIK 0001756699\n"
     ]
    },
    {
     "name": "stderr",
     "output_type": "stream",
     "text": [
      " 88%|████████▊ | 4281/4854 [49:36<38:52,  4.07s/it]"
     ]
    },
    {
     "name": "stdout",
     "output_type": "stream",
     "text": [
      "Scraping CIK 0000715787\n"
     ]
    },
    {
     "name": "stderr",
     "output_type": "stream",
     "text": [
      " 88%|████████▊ | 4282/4854 [49:50<1:07:05,  7.04s/it]"
     ]
    },
    {
     "name": "stdout",
     "output_type": "stream",
     "text": [
      "Scraping CIK 0001393726\n"
     ]
    },
    {
     "name": "stderr",
     "output_type": "stream",
     "text": [
      " 88%|████████▊ | 4283/4854 [49:57<1:07:59,  7.14s/it]"
     ]
    },
    {
     "name": "stdout",
     "output_type": "stream",
     "text": [
      "Scraping CIK 0000318833\n"
     ]
    },
    {
     "name": "stderr",
     "output_type": "stream",
     "text": [
      " 88%|████████▊ | 4284/4854 [50:09<1:21:01,  8.53s/it]"
     ]
    },
    {
     "name": "stdout",
     "output_type": "stream",
     "text": [
      "Scraping CIK 0001409171\n"
     ]
    },
    {
     "name": "stderr",
     "output_type": "stream",
     "text": [
      " 88%|████████▊ | 4285/4854 [50:17<1:18:44,  8.30s/it]"
     ]
    },
    {
     "name": "stdout",
     "output_type": "stream",
     "text": [
      "Scraping CIK 0000109198\n"
     ]
    },
    {
     "name": "stderr",
     "output_type": "stream",
     "text": [
      " 88%|████████▊ | 4287/4854 [50:30<1:03:33,  6.73s/it]"
     ]
    },
    {
     "name": "stdout",
     "output_type": "stream",
     "text": [
      "Scraping CIK 0000911971\n",
      "Scraping CIK 0001491487\n"
     ]
    },
    {
     "name": "stderr",
     "output_type": "stream",
     "text": [
      " 88%|████████▊ | 4289/4854 [50:44<1:00:03,  6.38s/it]"
     ]
    },
    {
     "name": "stdout",
     "output_type": "stream",
     "text": [
      "Scraping CIK 0001071321\n",
      "Scraping CIK 0000098362\n"
     ]
    },
    {
     "name": "stderr",
     "output_type": "stream",
     "text": [
      " 88%|████████▊ | 4291/4854 [51:07<1:14:41,  7.96s/it]"
     ]
    },
    {
     "name": "stdout",
     "output_type": "stream",
     "text": [
      "Scraping CIK 0001722890\n",
      "Scraping CIK 0000909724\n"
     ]
    },
    {
     "name": "stderr",
     "output_type": "stream",
     "text": [
      " 88%|████████▊ | 4292/4854 [51:18<1:23:01,  8.86s/it]"
     ]
    },
    {
     "name": "stdout",
     "output_type": "stream",
     "text": [
      "Scraping CIK 0000352998\n"
     ]
    },
    {
     "name": "stderr",
     "output_type": "stream",
     "text": [
      " 88%|████████▊ | 4294/4854 [51:27<58:37,  6.28s/it]  "
     ]
    },
    {
     "name": "stdout",
     "output_type": "stream",
     "text": [
      "Scraping CIK 0001001807\n",
      "Scraping CIK 0001668105\n"
     ]
    },
    {
     "name": "stderr",
     "output_type": "stream",
     "text": [
      " 88%|████████▊ | 4295/4854 [51:29<44:53,  4.82s/it]"
     ]
    },
    {
     "name": "stdout",
     "output_type": "stream",
     "text": [
      "Scraping CIK 0000884217\n"
     ]
    },
    {
     "name": "stderr",
     "output_type": "stream",
     "text": [
      " 89%|████████▊ | 4296/4854 [51:41<1:06:12,  7.12s/it]"
     ]
    },
    {
     "name": "stdout",
     "output_type": "stream",
     "text": [
      "Scraping CIK 0001731348\n"
     ]
    },
    {
     "name": "stderr",
     "output_type": "stream",
     "text": [
      " 89%|████████▊ | 4297/4854 [51:43<50:08,  5.40s/it]  "
     ]
    },
    {
     "name": "stdout",
     "output_type": "stream",
     "text": [
      "Scraping CIK 0001723069\n"
     ]
    },
    {
     "name": "stderr",
     "output_type": "stream",
     "text": [
      " 89%|████████▊ | 4298/4854 [51:43<36:16,  3.91s/it]"
     ]
    },
    {
     "name": "stdout",
     "output_type": "stream",
     "text": [
      "Scraping CIK 0001524025\n"
     ]
    },
    {
     "name": "stderr",
     "output_type": "stream",
     "text": [
      " 89%|████████▊ | 4300/4854 [51:48<27:55,  3.02s/it]"
     ]
    },
    {
     "name": "stdout",
     "output_type": "stream",
     "text": [
      "Scraping CIK 0001094517\n",
      "Scraping CIK 0001504167\n"
     ]
    },
    {
     "name": "stderr",
     "output_type": "stream",
     "text": [
      " 89%|████████▊ | 4302/4854 [51:53<23:18,  2.53s/it]"
     ]
    },
    {
     "name": "stdout",
     "output_type": "stream",
     "text": [
      "Scraping CIK 0000840551\n",
      "Scraping CIK 0001756262\n"
     ]
    },
    {
     "name": "stderr",
     "output_type": "stream",
     "text": [
      " 89%|████████▊ | 4304/4854 [51:54<13:40,  1.49s/it]"
     ]
    },
    {
     "name": "stdout",
     "output_type": "stream",
     "text": [
      "Scraping CIK 0001744676\n",
      "Scraping CIK 0001562476\n"
     ]
    },
    {
     "name": "stderr",
     "output_type": "stream",
     "text": [
      " 89%|████████▊ | 4305/4854 [51:59<21:24,  2.34s/it]"
     ]
    },
    {
     "name": "stdout",
     "output_type": "stream",
     "text": [
      "Scraping CIK 0000097745\n"
     ]
    },
    {
     "name": "stderr",
     "output_type": "stream",
     "text": [
      " 89%|████████▊ | 4306/4854 [52:27<1:32:52, 10.17s/it]"
     ]
    },
    {
     "name": "stdout",
     "output_type": "stream",
     "text": [
      "Scraping CIK 0001005817\n"
     ]
    },
    {
     "name": "stderr",
     "output_type": "stream",
     "text": [
      " 89%|████████▊ | 4307/4854 [52:39<1:38:11, 10.77s/it]"
     ]
    },
    {
     "name": "stdout",
     "output_type": "stream",
     "text": [
      "Scraping CIK 0001543418\n"
     ]
    },
    {
     "name": "stderr",
     "output_type": "stream",
     "text": [
      " 89%|████████▉ | 4308/4854 [52:44<1:21:19,  8.94s/it]"
     ]
    },
    {
     "name": "stdout",
     "output_type": "stream",
     "text": [
      "Scraping CIK 0001598428\n"
     ]
    },
    {
     "name": "stderr",
     "output_type": "stream",
     "text": [
      " 89%|████████▉ | 4309/4854 [52:47<1:05:39,  7.23s/it]"
     ]
    },
    {
     "name": "stdout",
     "output_type": "stream",
     "text": [
      "Scraping CIK 0001283699\n"
     ]
    },
    {
     "name": "stderr",
     "output_type": "stream",
     "text": [
      " 89%|████████▉ | 4310/4854 [52:56<1:11:02,  7.84s/it]"
     ]
    },
    {
     "name": "stdout",
     "output_type": "stream",
     "text": [
      "Scraping CIK 0001474439\n"
     ]
    },
    {
     "name": "stderr",
     "output_type": "stream",
     "text": [
      " 89%|████████▉ | 4311/4854 [53:02<1:05:26,  7.23s/it]"
     ]
    },
    {
     "name": "stdout",
     "output_type": "stream",
     "text": [
      "Scraping CIK 0000097134\n"
     ]
    },
    {
     "name": "stderr",
     "output_type": "stream",
     "text": [
      " 89%|████████▉ | 4312/4854 [53:16<1:22:02,  9.08s/it]"
     ]
    },
    {
     "name": "stdout",
     "output_type": "stream",
     "text": [
      "Scraping CIK 0001438133\n"
     ]
    },
    {
     "name": "stderr",
     "output_type": "stream",
     "text": [
      " 89%|████████▉ | 4313/4854 [53:20<1:10:28,  7.82s/it]"
     ]
    },
    {
     "name": "stdout",
     "output_type": "stream",
     "text": [
      "Scraping CIK 0000937098\n"
     ]
    },
    {
     "name": "stderr",
     "output_type": "stream",
     "text": [
      " 89%|████████▉ | 4315/4854 [53:25<43:27,  4.84s/it]  "
     ]
    },
    {
     "name": "stdout",
     "output_type": "stream",
     "text": [
      "Scraping CIK 0001419945\n",
      "Scraping CIK 0001166663\n"
     ]
    },
    {
     "name": "stderr",
     "output_type": "stream",
     "text": [
      " 89%|████████▉ | 4316/4854 [53:25<30:50,  3.44s/it]"
     ]
    },
    {
     "name": "stdout",
     "output_type": "stream",
     "text": [
      "Scraping CIK 0001430306\n"
     ]
    },
    {
     "name": "stderr",
     "output_type": "stream",
     "text": [
      " 89%|████████▉ | 4317/4854 [53:32<38:24,  4.29s/it]"
     ]
    },
    {
     "name": "stdout",
     "output_type": "stream",
     "text": [
      "Scraping CIK 0000794170\n"
     ]
    },
    {
     "name": "stderr",
     "output_type": "stream",
     "text": [
      " 89%|████████▉ | 4319/4854 [53:44<42:11,  4.73s/it]"
     ]
    },
    {
     "name": "stdout",
     "output_type": "stream",
     "text": [
      "Scraping CIK 0001296484\n",
      "Scraping CIK 0001720580\n"
     ]
    },
    {
     "name": "stderr",
     "output_type": "stream",
     "text": [
      " 89%|████████▉ | 4321/4854 [53:46<24:11,  2.72s/it]"
     ]
    },
    {
     "name": "stdout",
     "output_type": "stream",
     "text": [
      "Scraping CIK 0000879764\n",
      "Scraping CIK 0001731176\n"
     ]
    },
    {
     "name": "stderr",
     "output_type": "stream",
     "text": [
      " 89%|████████▉ | 4323/4854 [53:47<14:43,  1.66s/it]"
     ]
    },
    {
     "name": "stdout",
     "output_type": "stream",
     "text": [
      "Scraping CIK 0001597095\n",
      "Scraping CIK 0001290677\n"
     ]
    },
    {
     "name": "stderr",
     "output_type": "stream",
     "text": [
      " 89%|████████▉ | 4324/4854 [53:52<22:37,  2.56s/it]"
     ]
    },
    {
     "name": "stdout",
     "output_type": "stream",
     "text": [
      "Scraping CIK 0000077543\n"
     ]
    },
    {
     "name": "stderr",
     "output_type": "stream",
     "text": [
      " 89%|████████▉ | 4325/4854 [54:07<55:10,  6.26s/it]"
     ]
    },
    {
     "name": "stdout",
     "output_type": "stream",
     "text": [
      "Scraping CIK 0001593195\n"
     ]
    },
    {
     "name": "stderr",
     "output_type": "stream",
     "text": [
      " 89%|████████▉ | 4326/4854 [54:11<49:40,  5.64s/it]"
     ]
    },
    {
     "name": "stdout",
     "output_type": "stream",
     "text": [
      "Scraping CIK 0001561680\n"
     ]
    },
    {
     "name": "stderr",
     "output_type": "stream",
     "text": [
      " 89%|████████▉ | 4327/4854 [54:16<48:03,  5.47s/it]"
     ]
    },
    {
     "name": "stdout",
     "output_type": "stream",
     "text": [
      "Scraping CIK 0000724742\n"
     ]
    },
    {
     "name": "stderr",
     "output_type": "stream",
     "text": [
      " 89%|████████▉ | 4328/4854 [54:29<1:06:05,  7.54s/it]"
     ]
    },
    {
     "name": "stdout",
     "output_type": "stream",
     "text": [
      "Scraping CIK 0001455684\n"
     ]
    },
    {
     "name": "stderr",
     "output_type": "stream",
     "text": [
      " 89%|████████▉ | 4329/4854 [54:31<53:46,  6.15s/it]  "
     ]
    },
    {
     "name": "stdout",
     "output_type": "stream",
     "text": [
      "Scraping CIK 0000097517\n"
     ]
    },
    {
     "name": "stderr",
     "output_type": "stream",
     "text": [
      " 89%|████████▉ | 4330/4854 [54:44<1:09:40,  7.98s/it]"
     ]
    },
    {
     "name": "stdout",
     "output_type": "stream",
     "text": [
      "Scraping CIK 0001116132\n"
     ]
    },
    {
     "name": "stderr",
     "output_type": "stream",
     "text": [
      " 89%|████████▉ | 4331/4854 [54:55<1:17:22,  8.88s/it]"
     ]
    },
    {
     "name": "stdout",
     "output_type": "stream",
     "text": [
      "Scraping CIK 0001576018\n"
     ]
    },
    {
     "name": "stderr",
     "output_type": "stream",
     "text": [
      " 89%|████████▉ | 4332/4854 [55:00<1:08:03,  7.82s/it]"
     ]
    },
    {
     "name": "stdout",
     "output_type": "stream",
     "text": [
      "Scraping CIK 0001595893\n"
     ]
    },
    {
     "name": "stderr",
     "output_type": "stream",
     "text": [
      " 89%|████████▉ | 4333/4854 [55:01<49:38,  5.72s/it]  "
     ]
    },
    {
     "name": "stdout",
     "output_type": "stream",
     "text": [
      "Scraping CIK 0001580345\n"
     ]
    },
    {
     "name": "stderr",
     "output_type": "stream",
     "text": [
      " 89%|████████▉ | 4334/4854 [55:06<47:57,  5.53s/it]"
     ]
    },
    {
     "name": "stdout",
     "output_type": "stream",
     "text": [
      "Scraping CIK 0001206264\n"
     ]
    },
    {
     "name": "stderr",
     "output_type": "stream",
     "text": [
      " 89%|████████▉ | 4335/4854 [55:17<1:01:50,  7.15s/it]"
     ]
    },
    {
     "name": "stdout",
     "output_type": "stream",
     "text": [
      "Scraping CIK 0000098677\n"
     ]
    },
    {
     "name": "stderr",
     "output_type": "stream",
     "text": [
      " 89%|████████▉ | 4336/4854 [55:29<1:14:43,  8.65s/it]"
     ]
    },
    {
     "name": "stdout",
     "output_type": "stream",
     "text": [
      "Scraping CIK 0000096869\n"
     ]
    },
    {
     "name": "stderr",
     "output_type": "stream",
     "text": [
      " 89%|████████▉ | 4337/4854 [55:43<1:29:01, 10.33s/it]"
     ]
    },
    {
     "name": "stdout",
     "output_type": "stream",
     "text": [
      "Scraping CIK 0001431959\n"
     ]
    },
    {
     "name": "stderr",
     "output_type": "stream",
     "text": [
      " 89%|████████▉ | 4338/4854 [55:50<1:20:09,  9.32s/it]"
     ]
    },
    {
     "name": "stdout",
     "output_type": "stream",
     "text": [
      "Scraping CIK 0000007039\n"
     ]
    },
    {
     "name": "stderr",
     "output_type": "stream",
     "text": [
      " 89%|████████▉ | 4339/4854 [56:03<1:28:44, 10.34s/it]"
     ]
    },
    {
     "name": "stdout",
     "output_type": "stream",
     "text": [
      "Scraping CIK 0001434621\n"
     ]
    },
    {
     "name": "stderr",
     "output_type": "stream",
     "text": [
      " 89%|████████▉ | 4340/4854 [56:10<1:21:18,  9.49s/it]"
     ]
    },
    {
     "name": "stdout",
     "output_type": "stream",
     "text": [
      "Scraping CIK 0001069878\n"
     ]
    },
    {
     "name": "stderr",
     "output_type": "stream",
     "text": [
      " 89%|████████▉ | 4341/4854 [56:22<1:25:32, 10.00s/it]"
     ]
    },
    {
     "name": "stdout",
     "output_type": "stream",
     "text": [
      "Scraping CIK 0001389170\n"
     ]
    },
    {
     "name": "stderr",
     "output_type": "stream",
     "text": [
      " 89%|████████▉ | 4342/4854 [56:30<1:19:57,  9.37s/it]"
     ]
    },
    {
     "name": "stdout",
     "output_type": "stream",
     "text": [
      "Scraping CIK 0001651561\n"
     ]
    },
    {
     "name": "stderr",
     "output_type": "stream",
     "text": [
      " 89%|████████▉ | 4344/4854 [56:32<44:02,  5.18s/it]  "
     ]
    },
    {
     "name": "stdout",
     "output_type": "stream",
     "text": [
      "Scraping CIK 0001075124\n",
      "Scraping CIK 0000888721\n"
     ]
    },
    {
     "name": "stderr",
     "output_type": "stream",
     "text": [
      " 90%|████████▉ | 4345/4854 [56:32<31:08,  3.67s/it]"
     ]
    },
    {
     "name": "stdout",
     "output_type": "stream",
     "text": [
      "Scraping CIK 0001616212\n"
     ]
    },
    {
     "name": "stderr",
     "output_type": "stream",
     "text": [
      " 90%|████████▉ | 4346/4854 [56:33<22:23,  2.64s/it]"
     ]
    },
    {
     "name": "stdout",
     "output_type": "stream",
     "text": [
      "Scraping CIK 0001526520\n"
     ]
    },
    {
     "name": "stderr",
     "output_type": "stream",
     "text": [
      " 90%|████████▉ | 4347/4854 [56:39<31:45,  3.76s/it]"
     ]
    },
    {
     "name": "stdout",
     "output_type": "stream",
     "text": [
      "Scraping CIK 0000864749\n"
     ]
    },
    {
     "name": "stderr",
     "output_type": "stream",
     "text": [
      " 90%|████████▉ | 4349/4854 [56:58<49:55,  5.93s/it]  "
     ]
    },
    {
     "name": "stdout",
     "output_type": "stream",
     "text": [
      "Scraping CIK 0001655891\n",
      "Scraping CIK 0000036146\n"
     ]
    },
    {
     "name": "stderr",
     "output_type": "stream",
     "text": [
      " 90%|████████▉ | 4350/4854 [57:14<1:13:58,  8.81s/it]"
     ]
    },
    {
     "name": "stdout",
     "output_type": "stream",
     "text": [
      "Scraping CIK 0001708405\n"
     ]
    },
    {
     "name": "stderr",
     "output_type": "stream",
     "text": [
      " 90%|████████▉ | 4351/4854 [57:16<55:59,  6.68s/it]  "
     ]
    },
    {
     "name": "stdout",
     "output_type": "stream",
     "text": [
      "Scraping CIK 0000099780\n"
     ]
    },
    {
     "name": "stderr",
     "output_type": "stream",
     "text": [
      " 90%|████████▉ | 4352/4854 [57:29<1:11:39,  8.56s/it]"
     ]
    },
    {
     "name": "stdout",
     "output_type": "stream",
     "text": [
      "Scraping CIK 0001476150\n"
     ]
    },
    {
     "name": "stderr",
     "output_type": "stream",
     "text": [
      " 90%|████████▉ | 4353/4854 [57:35<1:06:50,  8.01s/it]"
     ]
    },
    {
     "name": "stdout",
     "output_type": "stream",
     "text": [
      "Scraping CIK 0000099302\n"
     ]
    },
    {
     "name": "stderr",
     "output_type": "stream",
     "text": [
      " 90%|████████▉ | 4354/4854 [57:48<1:17:15,  9.27s/it]"
     ]
    },
    {
     "name": "stdout",
     "output_type": "stream",
     "text": [
      "Scraping CIK 0001113169\n"
     ]
    },
    {
     "name": "stderr",
     "output_type": "stream",
     "text": [
      " 90%|████████▉ | 4355/4854 [57:58<1:21:05,  9.75s/it]"
     ]
    },
    {
     "name": "stdout",
     "output_type": "stream",
     "text": [
      "Scraping CIK 0001530804\n"
     ]
    },
    {
     "name": "stderr",
     "output_type": "stream",
     "text": [
      " 90%|████████▉ | 4357/4854 [58:04<50:00,  6.04s/it]  "
     ]
    },
    {
     "name": "stdout",
     "output_type": "stream",
     "text": [
      "Scraping CIK 0001232384\n",
      "Scraping CIK 0001611746\n"
     ]
    },
    {
     "name": "stderr",
     "output_type": "stream",
     "text": [
      " 90%|████████▉ | 4358/4854 [58:05<35:24,  4.28s/it]"
     ]
    },
    {
     "name": "stdout",
     "output_type": "stream",
     "text": [
      "Scraping CIK 0001158041\n"
     ]
    },
    {
     "name": "stderr",
     "output_type": "stream",
     "text": [
      " 90%|████████▉ | 4359/4854 [58:05<25:23,  3.08s/it]"
     ]
    },
    {
     "name": "stdout",
     "output_type": "stream",
     "text": [
      "Scraping CIK 0000842633\n"
     ]
    },
    {
     "name": "stderr",
     "output_type": "stream",
     "text": [
      " 90%|████████▉ | 4360/4854 [58:18<49:20,  5.99s/it]"
     ]
    },
    {
     "name": "stdout",
     "output_type": "stream",
     "text": [
      "Scraping CIK 0000357301\n"
     ]
    },
    {
     "name": "stderr",
     "output_type": "stream",
     "text": [
      " 90%|████████▉ | 4361/4854 [58:30<1:05:13,  7.94s/it]"
     ]
    },
    {
     "name": "stdout",
     "output_type": "stream",
     "text": [
      "Scraping CIK 0000732026\n"
     ]
    },
    {
     "name": "stderr",
     "output_type": "stream",
     "text": [
      " 90%|████████▉ | 4362/4854 [58:42<1:15:46,  9.24s/it]"
     ]
    },
    {
     "name": "stdout",
     "output_type": "stream",
     "text": [
      "Scraping CIK 0001660734\n"
     ]
    },
    {
     "name": "stderr",
     "output_type": "stream",
     "text": [
      " 90%|████████▉ | 4363/4854 [58:45<58:45,  7.18s/it]  "
     ]
    },
    {
     "name": "stdout",
     "output_type": "stream",
     "text": [
      "Scraping CIK 0001630472\n"
     ]
    },
    {
     "name": "stderr",
     "output_type": "stream",
     "text": [
      " 90%|████████▉ | 4364/4854 [58:47<45:33,  5.58s/it]"
     ]
    },
    {
     "name": "stdout",
     "output_type": "stream",
     "text": [
      "Scraping CIK 0001552033\n"
     ]
    },
    {
     "name": "stderr",
     "output_type": "stream",
     "text": [
      " 90%|████████▉ | 4365/4854 [58:52<44:17,  5.44s/it]"
     ]
    },
    {
     "name": "stdout",
     "output_type": "stream",
     "text": [
      "Scraping CIK 0001327318\n"
     ]
    },
    {
     "name": "stderr",
     "output_type": "stream",
     "text": [
      " 90%|████████▉ | 4366/4854 [58:55<39:50,  4.90s/it]"
     ]
    },
    {
     "name": "stdout",
     "output_type": "stream",
     "text": [
      "Scraping CIK 0001371285\n"
     ]
    },
    {
     "name": "stderr",
     "output_type": "stream",
     "text": [
      " 90%|████████▉ | 4367/4854 [59:01<40:44,  5.02s/it]"
     ]
    },
    {
     "name": "stdout",
     "output_type": "stream",
     "text": [
      "Scraping CIK 0000086312\n"
     ]
    },
    {
     "name": "stderr",
     "output_type": "stream",
     "text": [
      " 90%|█████████ | 4369/4854 [59:16<45:41,  5.65s/it]  "
     ]
    },
    {
     "name": "stdout",
     "output_type": "stream",
     "text": [
      "Scraping CIK 0001683825\n",
      "Scraping CIK 0001563880\n"
     ]
    },
    {
     "name": "stderr",
     "output_type": "stream",
     "text": [
      " 90%|█████████ | 4370/4854 [59:16<33:33,  4.16s/it]"
     ]
    },
    {
     "name": "stdout",
     "output_type": "stream",
     "text": [
      "Scraping CIK 0001429560\n"
     ]
    },
    {
     "name": "stderr",
     "output_type": "stream",
     "text": [
      " 90%|█████████ | 4371/4854 [59:20<31:39,  3.93s/it]"
     ]
    },
    {
     "name": "stdout",
     "output_type": "stream",
     "text": [
      "Scraping CIK 0001747079\n"
     ]
    },
    {
     "name": "stderr",
     "output_type": "stream",
     "text": [
      " 90%|█████████ | 4372/4854 [59:21<24:52,  3.10s/it]"
     ]
    },
    {
     "name": "stdout",
     "output_type": "stream",
     "text": [
      "Scraping CIK 0001173643\n"
     ]
    },
    {
     "name": "stderr",
     "output_type": "stream",
     "text": [
      " 90%|█████████ | 4373/4854 [59:21<17:52,  2.23s/it]"
     ]
    },
    {
     "name": "stdout",
     "output_type": "stream",
     "text": [
      "Scraping CIK 0000876378\n"
     ]
    },
    {
     "name": "stderr",
     "output_type": "stream",
     "text": [
      " 90%|█████████ | 4375/4854 [59:30<24:13,  3.03s/it]"
     ]
    },
    {
     "name": "stdout",
     "output_type": "stream",
     "text": [
      "Scraping CIK 0001190723\n",
      "Scraping CIK 0001046050\n"
     ]
    },
    {
     "name": "stderr",
     "output_type": "stream",
     "text": [
      " 90%|█████████ | 4376/4854 [59:45<51:14,  6.43s/it]"
     ]
    },
    {
     "name": "stdout",
     "output_type": "stream",
     "text": [
      "Scraping CIK 0001380846\n"
     ]
    },
    {
     "name": "stderr",
     "output_type": "stream",
     "text": [
      " 90%|█████████ | 4377/4854 [59:50<47:47,  6.01s/it]"
     ]
    },
    {
     "name": "stdout",
     "output_type": "stream",
     "text": [
      "Scraping CIK 0000916365\n"
     ]
    },
    {
     "name": "stderr",
     "output_type": "stream",
     "text": [
      " 90%|█████████ | 4378/4854 [1:00:02<1:01:26,  7.74s/it]"
     ]
    },
    {
     "name": "stdout",
     "output_type": "stream",
     "text": [
      "Scraping CIK 0001519061\n"
     ]
    },
    {
     "name": "stderr",
     "output_type": "stream",
     "text": [
      " 90%|█████████ | 4380/4854 [1:00:06<37:03,  4.69s/it]  "
     ]
    },
    {
     "name": "stdout",
     "output_type": "stream",
     "text": [
      "Scraping CIK 0000928876\n",
      "Scraping CIK 0001318605\n"
     ]
    },
    {
     "name": "stderr",
     "output_type": "stream",
     "text": [
      " 90%|█████████ | 4381/4854 [1:00:12<39:39,  5.03s/it]"
     ]
    },
    {
     "name": "stdout",
     "output_type": "stream",
     "text": [
      "Scraping CIK 0001508655\n"
     ]
    },
    {
     "name": "stderr",
     "output_type": "stream",
     "text": [
      " 90%|█████████ | 4382/4854 [1:00:19<44:26,  5.65s/it]"
     ]
    },
    {
     "name": "stdout",
     "output_type": "stream",
     "text": [
      "Scraping CIK 0001046179\n"
     ]
    },
    {
     "name": "stderr",
     "output_type": "stream",
     "text": [
      " 90%|█████████ | 4383/4854 [1:00:19<31:33,  4.02s/it]"
     ]
    },
    {
     "name": "stdout",
     "output_type": "stream",
     "text": [
      "Scraping CIK 0000100493\n"
     ]
    },
    {
     "name": "stderr",
     "output_type": "stream",
     "text": [
      " 90%|█████████ | 4384/4854 [1:00:33<54:51,  7.00s/it]"
     ]
    },
    {
     "name": "stdout",
     "output_type": "stream",
     "text": [
      "Scraping CIK 0001499832\n"
     ]
    },
    {
     "name": "stderr",
     "output_type": "stream",
     "text": [
      " 90%|█████████ | 4385/4854 [1:00:36<45:07,  5.77s/it]"
     ]
    },
    {
     "name": "stdout",
     "output_type": "stream",
     "text": [
      "Scraping CIK 0000098338\n"
     ]
    },
    {
     "name": "stderr",
     "output_type": "stream",
     "text": [
      " 90%|█████████ | 4386/4854 [1:00:47<56:53,  7.29s/it]"
     ]
    },
    {
     "name": "stdout",
     "output_type": "stream",
     "text": [
      "Scraping CIK 0001066116\n"
     ]
    },
    {
     "name": "stderr",
     "output_type": "stream",
     "text": [
      " 90%|█████████ | 4387/4854 [1:00:47<40:13,  5.17s/it]"
     ]
    },
    {
     "name": "stdout",
     "output_type": "stream",
     "text": [
      "Scraping CIK 0001466258\n"
     ]
    },
    {
     "name": "stderr",
     "output_type": "stream",
     "text": [
      " 90%|█████████ | 4388/4854 [1:00:53<43:08,  5.56s/it]"
     ]
    },
    {
     "name": "stdout",
     "output_type": "stream",
     "text": [
      "Scraping CIK 0000737758\n"
     ]
    },
    {
     "name": "stderr",
     "output_type": "stream",
     "text": [
      " 90%|█████████ | 4389/4854 [1:01:06<58:44,  7.58s/it]"
     ]
    },
    {
     "name": "stdout",
     "output_type": "stream",
     "text": [
      "Scraping CIK 0001671933\n"
     ]
    },
    {
     "name": "stderr",
     "output_type": "stream",
     "text": [
      " 90%|█████████ | 4390/4854 [1:01:09<47:44,  6.17s/it]"
     ]
    },
    {
     "name": "stdout",
     "output_type": "stream",
     "text": [
      "Scraping CIK 0001013880\n"
     ]
    },
    {
     "name": "stderr",
     "output_type": "stream",
     "text": [
      " 90%|█████████ | 4391/4854 [1:01:22<1:03:48,  8.27s/it]"
     ]
    },
    {
     "name": "stdout",
     "output_type": "stream",
     "text": [
      "Scraping CIK 0000831641\n"
     ]
    },
    {
     "name": "stderr",
     "output_type": "stream",
     "text": [
      " 90%|█████████ | 4392/4854 [1:01:34<1:12:40,  9.44s/it]"
     ]
    },
    {
     "name": "stdout",
     "output_type": "stream",
     "text": [
      "Scraping CIK 0001293282\n"
     ]
    },
    {
     "name": "stderr",
     "output_type": "stream",
     "text": [
      " 91%|█████████ | 4393/4854 [1:01:42<1:09:49,  9.09s/it]"
     ]
    },
    {
     "name": "stdout",
     "output_type": "stream",
     "text": [
      "Scraping CIK 0000844965\n"
     ]
    },
    {
     "name": "stderr",
     "output_type": "stream",
     "text": [
      " 91%|█████████ | 4394/4854 [1:01:55<1:19:22, 10.35s/it]"
     ]
    },
    {
     "name": "stdout",
     "output_type": "stream",
     "text": [
      "Scraping CIK 0000926042\n"
     ]
    },
    {
     "name": "stderr",
     "output_type": "stream",
     "text": [
      " 91%|█████████ | 4395/4854 [1:01:56<55:56,  7.31s/it]  "
     ]
    },
    {
     "name": "stdout",
     "output_type": "stream",
     "text": [
      "Scraping CIK 0001116942\n"
     ]
    },
    {
     "name": "stderr",
     "output_type": "stream",
     "text": [
      " 91%|█████████ | 4396/4854 [1:02:07<1:04:32,  8.45s/it]"
     ]
    },
    {
     "name": "stdout",
     "output_type": "stream",
     "text": [
      "Scraping CIK 0000910267\n"
     ]
    },
    {
     "name": "stderr",
     "output_type": "stream",
     "text": [
      " 91%|█████████ | 4397/4854 [1:02:17<1:08:38,  9.01s/it]"
     ]
    },
    {
     "name": "stdout",
     "output_type": "stream",
     "text": [
      "Scraping CIK 0001492674\n"
     ]
    },
    {
     "name": "stderr",
     "output_type": "stream",
     "text": [
      " 91%|█████████ | 4398/4854 [1:02:21<57:21,  7.55s/it]  "
     ]
    },
    {
     "name": "stdout",
     "output_type": "stream",
     "text": [
      "Scraping CIK 0001373707\n"
     ]
    },
    {
     "name": "stderr",
     "output_type": "stream",
     "text": [
      " 91%|█████████ | 4399/4854 [1:02:25<48:26,  6.39s/it]"
     ]
    },
    {
     "name": "stdout",
     "output_type": "stream",
     "text": [
      "Scraping CIK 0000946581\n"
     ]
    },
    {
     "name": "stderr",
     "output_type": "stream",
     "text": [
      " 91%|█████████ | 4400/4854 [1:02:36<59:36,  7.88s/it]"
     ]
    },
    {
     "name": "stdout",
     "output_type": "stream",
     "text": [
      "Scraping CIK 0000868675\n"
     ]
    },
    {
     "name": "stderr",
     "output_type": "stream",
     "text": [
      " 91%|█████████ | 4402/4854 [1:02:37<29:43,  3.95s/it]"
     ]
    },
    {
     "name": "stdout",
     "output_type": "stream",
     "text": [
      "Scraping CIK 0001757399\n",
      "Scraping CIK 0001008654\n"
     ]
    },
    {
     "name": "stderr",
     "output_type": "stream",
     "text": [
      " 91%|█████████ | 4403/4854 [1:02:48<46:51,  6.23s/it]"
     ]
    },
    {
     "name": "stdout",
     "output_type": "stream",
     "text": [
      "Scraping CIK 0001679268\n"
     ]
    },
    {
     "name": "stderr",
     "output_type": "stream",
     "text": [
      " 91%|█████████ | 4405/4854 [1:02:51<27:52,  3.72s/it]"
     ]
    },
    {
     "name": "stdout",
     "output_type": "stream",
     "text": [
      "Scraping CIK 0000912892\n",
      "Scraping CIK 0001376986\n"
     ]
    },
    {
     "name": "stderr",
     "output_type": "stream",
     "text": [
      " 91%|█████████ | 4406/4854 [1:03:01<41:36,  5.57s/it]"
     ]
    },
    {
     "name": "stdout",
     "output_type": "stream",
     "text": [
      "Scraping CIK 0000704415\n"
     ]
    },
    {
     "name": "stderr",
     "output_type": "stream",
     "text": [
      " 91%|█████████ | 4407/4854 [1:03:15<59:19,  7.96s/it]"
     ]
    },
    {
     "name": "stdout",
     "output_type": "stream",
     "text": [
      "Scraping CIK 0001758730\n"
     ]
    },
    {
     "name": "stderr",
     "output_type": "stream",
     "text": [
      " 91%|█████████ | 4408/4854 [1:03:16<43:38,  5.87s/it]"
     ]
    },
    {
     "name": "stdout",
     "output_type": "stream",
     "text": [
      "Scraping CIK 0000899751\n"
     ]
    },
    {
     "name": "stderr",
     "output_type": "stream",
     "text": [
      " 91%|█████████ | 4409/4854 [1:03:28<57:13,  7.72s/it]"
     ]
    },
    {
     "name": "stdout",
     "output_type": "stream",
     "text": [
      "Scraping CIK 0000100378\n"
     ]
    },
    {
     "name": "stderr",
     "output_type": "stream",
     "text": [
      " 91%|█████████ | 4410/4854 [1:03:39<1:06:08,  8.94s/it]"
     ]
    },
    {
     "name": "stdout",
     "output_type": "stream",
     "text": [
      "Scraping CIK 0001447669\n"
     ]
    },
    {
     "name": "stderr",
     "output_type": "stream",
     "text": [
      " 91%|█████████ | 4411/4854 [1:03:42<51:09,  6.93s/it]  "
     ]
    },
    {
     "name": "stdout",
     "output_type": "stream",
     "text": [
      "Scraping CIK 0000795212\n"
     ]
    },
    {
     "name": "stderr",
     "output_type": "stream",
     "text": [
      " 91%|█████████ | 4412/4854 [1:03:54<1:03:18,  8.59s/it]"
     ]
    },
    {
     "name": "stdout",
     "output_type": "stream",
     "text": [
      "Scraping CIK 0001644406\n"
     ]
    },
    {
     "name": "stderr",
     "output_type": "stream",
     "text": [
      " 91%|█████████ | 4413/4854 [1:03:58<53:06,  7.23s/it]  "
     ]
    },
    {
     "name": "stdout",
     "output_type": "stream",
     "text": [
      "Scraping CIK 0001465740\n"
     ]
    },
    {
     "name": "stderr",
     "output_type": "stream",
     "text": [
      " 91%|█████████ | 4414/4854 [1:04:06<54:33,  7.44s/it]"
     ]
    },
    {
     "name": "stdout",
     "output_type": "stream",
     "text": [
      "Scraping CIK 0001459417\n"
     ]
    },
    {
     "name": "stderr",
     "output_type": "stream",
     "text": [
      " 91%|█████████ | 4415/4854 [1:04:10<46:51,  6.40s/it]"
     ]
    },
    {
     "name": "stdout",
     "output_type": "stream",
     "text": [
      "Scraping CIK 0001581280\n"
     ]
    },
    {
     "name": "stderr",
     "output_type": "stream",
     "text": [
      " 91%|█████████ | 4416/4854 [1:04:12<35:44,  4.90s/it]"
     ]
    },
    {
     "name": "stdout",
     "output_type": "stream",
     "text": [
      "Scraping CIK 0001418091\n"
     ]
    },
    {
     "name": "stderr",
     "output_type": "stream",
     "text": [
      " 91%|█████████ | 4418/4854 [1:04:16<24:39,  3.39s/it]"
     ]
    },
    {
     "name": "stdout",
     "output_type": "stream",
     "text": [
      "Scraping CIK 0001342874\n",
      "Scraping CIK 0001770787\n"
     ]
    },
    {
     "name": "stderr",
     "output_type": "stream",
     "text": [
      " 91%|█████████ | 4419/4854 [1:04:17<18:46,  2.59s/it]"
     ]
    },
    {
     "name": "stdout",
     "output_type": "stream",
     "text": [
      "Scraping CIK 0000025743\n"
     ]
    },
    {
     "name": "stderr",
     "output_type": "stream",
     "text": [
      " 91%|█████████ | 4420/4854 [1:04:26<32:35,  4.51s/it]"
     ]
    },
    {
     "name": "stdout",
     "output_type": "stream",
     "text": [
      "Scraping CIK 0000097476\n"
     ]
    },
    {
     "name": "stderr",
     "output_type": "stream",
     "text": [
      " 91%|█████████ | 4421/4854 [1:04:38<47:54,  6.64s/it]"
     ]
    },
    {
     "name": "stdout",
     "output_type": "stream",
     "text": [
      "Scraping CIK 0001289460\n"
     ]
    },
    {
     "name": "stderr",
     "output_type": "stream",
     "text": [
      " 91%|█████████ | 4422/4854 [1:04:46<52:18,  7.27s/it]"
     ]
    },
    {
     "name": "stdout",
     "output_type": "stream",
     "text": [
      "Scraping CIK 0000217346\n"
     ]
    },
    {
     "name": "stderr",
     "output_type": "stream",
     "text": [
      " 91%|█████████ | 4423/4854 [1:05:00<1:05:41,  9.14s/it]"
     ]
    },
    {
     "name": "stdout",
     "output_type": "stream",
     "text": [
      "Scraping CIK 0001300734\n"
     ]
    },
    {
     "name": "stderr",
     "output_type": "stream",
     "text": [
      " 91%|█████████ | 4424/4854 [1:05:02<50:30,  7.05s/it]  "
     ]
    },
    {
     "name": "stdout",
     "output_type": "stream",
     "text": [
      "Scraping CIK 0000860731\n"
     ]
    },
    {
     "name": "stderr",
     "output_type": "stream",
     "text": [
      " 91%|█████████ | 4425/4854 [1:05:13<59:49,  8.37s/it]"
     ]
    },
    {
     "name": "stdout",
     "output_type": "stream",
     "text": [
      "Scraping CIK 0001537917\n"
     ]
    },
    {
     "name": "stderr",
     "output_type": "stream",
     "text": [
      " 91%|█████████ | 4426/4854 [1:05:18<51:14,  7.18s/it]"
     ]
    },
    {
     "name": "stdout",
     "output_type": "stream",
     "text": [
      "Scraping CIK 0001742927\n"
     ]
    },
    {
     "name": "stderr",
     "output_type": "stream",
     "text": [
      " 91%|█████████ | 4427/4854 [1:05:19<38:25,  5.40s/it]"
     ]
    },
    {
     "name": "stdout",
     "output_type": "stream",
     "text": [
      "Scraping CIK 0001133311\n"
     ]
    },
    {
     "name": "stderr",
     "output_type": "stream",
     "text": [
      " 91%|█████████ | 4428/4854 [1:05:29<48:34,  6.84s/it]"
     ]
    },
    {
     "name": "stdout",
     "output_type": "stream",
     "text": [
      "Scraping CIK 0001336917\n"
     ]
    },
    {
     "name": "stderr",
     "output_type": "stream",
     "text": [
      " 91%|█████████ | 4429/4854 [1:05:37<51:16,  7.24s/it]"
     ]
    },
    {
     "name": "stdout",
     "output_type": "stream",
     "text": [
      "Scraping CIK 0000100517\n"
     ]
    },
    {
     "name": "stderr",
     "output_type": "stream",
     "text": [
      " 91%|█████████▏| 4430/4854 [1:05:50<1:01:44,  8.74s/it]"
     ]
    },
    {
     "name": "stdout",
     "output_type": "stream",
     "text": [
      "Scraping CIK 0000101538\n"
     ]
    },
    {
     "name": "stderr",
     "output_type": "stream",
     "text": [
      " 91%|█████████▏| 4431/4854 [1:05:56<55:53,  7.93s/it]  "
     ]
    },
    {
     "name": "stdout",
     "output_type": "stream",
     "text": [
      "Scraping CIK 0001425292\n"
     ]
    },
    {
     "name": "stderr",
     "output_type": "stream",
     "text": [
      " 91%|█████████▏| 4432/4854 [1:06:01<50:04,  7.12s/it]"
     ]
    },
    {
     "name": "stdout",
     "output_type": "stream",
     "text": [
      "Scraping CIK 0000008504\n"
     ]
    },
    {
     "name": "stderr",
     "output_type": "stream",
     "text": [
      " 91%|█████████▏| 4433/4854 [1:06:07<48:03,  6.85s/it]"
     ]
    },
    {
     "name": "stdout",
     "output_type": "stream",
     "text": [
      "Scraping CIK 0001029800\n"
     ]
    },
    {
     "name": "stderr",
     "output_type": "stream",
     "text": [
      " 91%|█████████▏| 4434/4854 [1:06:18<56:13,  8.03s/it]"
     ]
    },
    {
     "name": "stdout",
     "output_type": "stream",
     "text": [
      "Scraping CIK 0000731653\n"
     ]
    },
    {
     "name": "stderr",
     "output_type": "stream",
     "text": [
      " 91%|█████████▏| 4435/4854 [1:06:29<1:01:32,  8.81s/it]"
     ]
    },
    {
     "name": "stdout",
     "output_type": "stream",
     "text": [
      "Scraping CIK 0001543151\n"
     ]
    },
    {
     "name": "stderr",
     "output_type": "stream",
     "text": [
      " 91%|█████████▏| 4436/4854 [1:06:29<44:40,  6.41s/it]  "
     ]
    },
    {
     "name": "stdout",
     "output_type": "stream",
     "text": [
      "Scraping CIK 0001137547\n"
     ]
    },
    {
     "name": "stderr",
     "output_type": "stream",
     "text": [
      " 91%|█████████▏| 4437/4854 [1:06:42<57:07,  8.22s/it]"
     ]
    },
    {
     "name": "stdout",
     "output_type": "stream",
     "text": [
      "Scraping CIK 0001087456\n"
     ]
    },
    {
     "name": "stderr",
     "output_type": "stream",
     "text": [
      " 91%|█████████▏| 4439/4854 [1:06:53<44:03,  6.37s/it]  "
     ]
    },
    {
     "name": "stdout",
     "output_type": "stream",
     "text": [
      "Scraping CIK 0001610520\n",
      "Scraping CIK 0000729986\n"
     ]
    },
    {
     "name": "stderr",
     "output_type": "stream",
     "text": [
      " 91%|█████████▏| 4440/4854 [1:07:06<57:33,  8.34s/it]"
     ]
    },
    {
     "name": "stdout",
     "output_type": "stream",
     "text": [
      "Scraping CIK 0001463361\n"
     ]
    },
    {
     "name": "stderr",
     "output_type": "stream",
     "text": [
      " 91%|█████████▏| 4441/4854 [1:07:07<43:00,  6.25s/it]"
     ]
    },
    {
     "name": "stdout",
     "output_type": "stream",
     "text": [
      "Scraping CIK 0000857855\n"
     ]
    },
    {
     "name": "stderr",
     "output_type": "stream",
     "text": [
      " 92%|█████████▏| 4443/4854 [1:07:21<41:32,  6.06s/it]"
     ]
    },
    {
     "name": "stdout",
     "output_type": "stream",
     "text": [
      "Scraping CIK 0001775898\n",
      "Scraping CIK 0001275014\n"
     ]
    },
    {
     "name": "stderr",
     "output_type": "stream",
     "text": [
      " 92%|█████████▏| 4444/4854 [1:07:31<47:41,  6.98s/it]"
     ]
    },
    {
     "name": "stdout",
     "output_type": "stream",
     "text": [
      "Scraping CIK 0000074208\n"
     ]
    },
    {
     "name": "stderr",
     "output_type": "stream",
     "text": [
      " 92%|█████████▏| 4445/4854 [1:07:44<1:01:23,  9.01s/it]"
     ]
    },
    {
     "name": "stdout",
     "output_type": "stream",
     "text": [
      "Scraping CIK 0001611547\n"
     ]
    },
    {
     "name": "stderr",
     "output_type": "stream",
     "text": [
      " 92%|█████████▏| 4446/4854 [1:07:48<49:47,  7.32s/it]  "
     ]
    },
    {
     "name": "stdout",
     "output_type": "stream",
     "text": [
      "Scraping CIK 0001334933\n"
     ]
    },
    {
     "name": "stderr",
     "output_type": "stream",
     "text": [
      " 92%|█████████▏| 4447/4854 [1:07:55<49:57,  7.37s/it]"
     ]
    },
    {
     "name": "stdout",
     "output_type": "stream",
     "text": [
      "Scraping CIK 0000101984\n"
     ]
    },
    {
     "name": "stderr",
     "output_type": "stream",
     "text": [
      " 92%|█████████▏| 4448/4854 [1:08:06<57:31,  8.50s/it]"
     ]
    },
    {
     "name": "stdout",
     "output_type": "stream",
     "text": [
      "Scraping CIK 0001041514\n"
     ]
    },
    {
     "name": "stderr",
     "output_type": "stream",
     "text": [
      " 92%|█████████▏| 4449/4854 [1:08:17<1:00:59,  9.04s/it]"
     ]
    },
    {
     "name": "stdout",
     "output_type": "stream",
     "text": [
      "Scraping CIK 0001617669\n"
     ]
    },
    {
     "name": "stderr",
     "output_type": "stream",
     "text": [
      " 92%|█████████▏| 4450/4854 [1:08:21<50:36,  7.52s/it]  "
     ]
    },
    {
     "name": "stdout",
     "output_type": "stream",
     "text": [
      "Scraping CIK 0000101199\n"
     ]
    },
    {
     "name": "stderr",
     "output_type": "stream",
     "text": [
      " 92%|█████████▏| 4451/4854 [1:08:34<1:01:35,  9.17s/it]"
     ]
    },
    {
     "name": "stdout",
     "output_type": "stream",
     "text": [
      "Scraping CIK 0000100726\n"
     ]
    },
    {
     "name": "stderr",
     "output_type": "stream",
     "text": [
      " 92%|█████████▏| 4452/4854 [1:08:46<1:08:44, 10.26s/it]"
     ]
    },
    {
     "name": "stdout",
     "output_type": "stream",
     "text": [
      "Scraping CIK 0000912767\n"
     ]
    },
    {
     "name": "stderr",
     "output_type": "stream",
     "text": [
      " 92%|█████████▏| 4453/4854 [1:08:56<1:06:59, 10.02s/it]"
     ]
    },
    {
     "name": "stdout",
     "output_type": "stream",
     "text": [
      "Scraping CIK 0000914156\n"
     ]
    },
    {
     "name": "stderr",
     "output_type": "stream",
     "text": [
      " 92%|█████████▏| 4454/4854 [1:09:09<1:13:16, 10.99s/it]"
     ]
    },
    {
     "name": "stdout",
     "output_type": "stream",
     "text": [
      "Scraping CIK 0001381531\n"
     ]
    },
    {
     "name": "stderr",
     "output_type": "stream",
     "text": [
      " 92%|█████████▏| 4455/4854 [1:09:18<1:09:13, 10.41s/it]"
     ]
    },
    {
     "name": "stdout",
     "output_type": "stream",
     "text": [
      "Scraping CIK 0000101295\n"
     ]
    },
    {
     "name": "stderr",
     "output_type": "stream",
     "text": [
      " 92%|█████████▏| 4456/4854 [1:09:25<1:02:03,  9.36s/it]"
     ]
    },
    {
     "name": "stdout",
     "output_type": "stream",
     "text": [
      "Scraping CIK 0000884614\n"
     ]
    },
    {
     "name": "stderr",
     "output_type": "stream",
     "text": [
      " 92%|█████████▏| 4457/4854 [1:09:37<1:06:47, 10.09s/it]"
     ]
    },
    {
     "name": "stdout",
     "output_type": "stream",
     "text": [
      "Scraping CIK 0001094972\n"
     ]
    },
    {
     "name": "stderr",
     "output_type": "stream",
     "text": [
      " 92%|█████████▏| 4458/4854 [1:09:37<47:07,  7.14s/it]  "
     ]
    },
    {
     "name": "stdout",
     "output_type": "stream",
     "text": [
      "Scraping CIK 0000004457\n"
     ]
    },
    {
     "name": "stderr",
     "output_type": "stream",
     "text": [
      " 92%|█████████▏| 4459/4854 [1:09:52<1:03:06,  9.59s/it]"
     ]
    },
    {
     "name": "stdout",
     "output_type": "stream",
     "text": [
      "Scraping CIK 0000352915\n"
     ]
    },
    {
     "name": "stderr",
     "output_type": "stream",
     "text": [
      " 92%|█████████▏| 4460/4854 [1:10:06<1:10:55, 10.80s/it]"
     ]
    },
    {
     "name": "stdout",
     "output_type": "stream",
     "text": [
      "Scraping CIK 0000798783\n"
     ]
    },
    {
     "name": "stderr",
     "output_type": "stream",
     "text": [
      " 92%|█████████▏| 4461/4854 [1:10:20<1:15:58, 11.60s/it]"
     ]
    },
    {
     "name": "stdout",
     "output_type": "stream",
     "text": [
      "Scraping CIK 0001511737\n"
     ]
    },
    {
     "name": "stderr",
     "output_type": "stream",
     "text": [
      " 92%|█████████▏| 4462/4854 [1:10:25<1:04:18,  9.84s/it]"
     ]
    },
    {
     "name": "stdout",
     "output_type": "stream",
     "text": [
      "Scraping CIK 0001401521\n"
     ]
    },
    {
     "name": "stderr",
     "output_type": "stream",
     "text": [
      " 92%|█████████▏| 4463/4854 [1:10:33<1:00:26,  9.27s/it]"
     ]
    },
    {
     "name": "stdout",
     "output_type": "stream",
     "text": [
      "Scraping CIK 0000746838\n"
     ]
    },
    {
     "name": "stderr",
     "output_type": "stream",
     "text": [
      " 92%|█████████▏| 4464/4854 [1:10:46<1:07:45, 10.42s/it]"
     ]
    },
    {
     "name": "stdout",
     "output_type": "stream",
     "text": [
      "Scraping CIK 0000217410\n"
     ]
    },
    {
     "name": "stderr",
     "output_type": "stream",
     "text": [
      " 92%|█████████▏| 4465/4854 [1:10:47<47:49,  7.38s/it]  "
     ]
    },
    {
     "name": "stdout",
     "output_type": "stream",
     "text": [
      "Scraping CIK 0000875657\n"
     ]
    },
    {
     "name": "stderr",
     "output_type": "stream",
     "text": [
      " 92%|█████████▏| 4466/4854 [1:10:59<56:39,  8.76s/it]"
     ]
    },
    {
     "name": "stdout",
     "output_type": "stream",
     "text": [
      "Scraping CIK 0001308208\n"
     ]
    },
    {
     "name": "stderr",
     "output_type": "stream",
     "text": [
      " 92%|█████████▏| 4467/4854 [1:11:07<56:02,  8.69s/it]"
     ]
    },
    {
     "name": "stdout",
     "output_type": "stream",
     "text": [
      "Scraping CIK 0001403568\n"
     ]
    },
    {
     "name": "stderr",
     "output_type": "stream",
     "text": [
      " 92%|█████████▏| 4468/4854 [1:11:14<52:22,  8.14s/it]"
     ]
    },
    {
     "name": "stdout",
     "output_type": "stream",
     "text": [
      "Scraping CIK 0000101382\n"
     ]
    },
    {
     "name": "stderr",
     "output_type": "stream",
     "text": [
      " 92%|█████████▏| 4470/4854 [1:11:27<43:33,  6.81s/it]  "
     ]
    },
    {
     "name": "stdout",
     "output_type": "stream",
     "text": [
      "Scraping CIK 0001033767\n",
      "Scraping CIK 0000752642\n"
     ]
    },
    {
     "name": "stderr",
     "output_type": "stream",
     "text": [
      " 92%|█████████▏| 4471/4854 [1:11:40<55:09,  8.64s/it]"
     ]
    },
    {
     "name": "stdout",
     "output_type": "stream",
     "text": [
      "Scraping CIK 0001077771\n"
     ]
    },
    {
     "name": "stderr",
     "output_type": "stream",
     "text": [
      " 92%|█████████▏| 4472/4854 [1:11:53<1:02:44,  9.85s/it]"
     ]
    },
    {
     "name": "stdout",
     "output_type": "stream",
     "text": [
      "Scraping CIK 0001622229\n"
     ]
    },
    {
     "name": "stderr",
     "output_type": "stream",
     "text": [
      " 92%|█████████▏| 4474/4854 [1:11:54<32:18,  5.10s/it]  "
     ]
    },
    {
     "name": "stdout",
     "output_type": "stream",
     "text": [
      "Scraping CIK 0000110390\n",
      "Scraping CIK 0000100716\n"
     ]
    },
    {
     "name": "stderr",
     "output_type": "stream",
     "text": [
      " 92%|█████████▏| 4475/4854 [1:12:05<43:46,  6.93s/it]"
     ]
    },
    {
     "name": "stdout",
     "output_type": "stream",
     "text": [
      "Scraping CIK 0000706863\n"
     ]
    },
    {
     "name": "stderr",
     "output_type": "stream",
     "text": [
      " 92%|█████████▏| 4476/4854 [1:12:17<52:10,  8.28s/it]"
     ]
    },
    {
     "name": "stdout",
     "output_type": "stream",
     "text": [
      "Scraping CIK 0000717954\n"
     ]
    },
    {
     "name": "stderr",
     "output_type": "stream",
     "text": [
      " 92%|█████████▏| 4477/4854 [1:12:30<1:01:39,  9.81s/it]"
     ]
    },
    {
     "name": "stdout",
     "output_type": "stream",
     "text": [
      "Scraping CIK 0001020859\n"
     ]
    },
    {
     "name": "stderr",
     "output_type": "stream",
     "text": [
      " 92%|█████████▏| 4478/4854 [1:12:42<1:06:05, 10.55s/it]"
     ]
    },
    {
     "name": "stdout",
     "output_type": "stream",
     "text": [
      "Scraping CIK 0000731766\n"
     ]
    },
    {
     "name": "stderr",
     "output_type": "stream",
     "text": [
      " 92%|█████████▏| 4479/4854 [1:12:54<1:08:17, 10.93s/it]"
     ]
    },
    {
     "name": "stdout",
     "output_type": "stream",
     "text": [
      "Scraping CIK 0001620280\n"
     ]
    },
    {
     "name": "stderr",
     "output_type": "stream",
     "text": [
      " 92%|█████████▏| 4480/4854 [1:12:57<53:25,  8.57s/it]  "
     ]
    },
    {
     "name": "stdout",
     "output_type": "stream",
     "text": [
      "Scraping CIK 0000005513\n"
     ]
    },
    {
     "name": "stderr",
     "output_type": "stream",
     "text": [
      " 92%|█████████▏| 4481/4854 [1:13:11<1:01:58,  9.97s/it]"
     ]
    },
    {
     "name": "stdout",
     "output_type": "stream",
     "text": [
      "Scraping CIK 0000100885\n"
     ]
    },
    {
     "name": "stderr",
     "output_type": "stream",
     "text": [
      " 92%|█████████▏| 4482/4854 [1:13:23<1:05:36, 10.58s/it]"
     ]
    },
    {
     "name": "stdout",
     "output_type": "stream",
     "text": [
      "Scraping CIK 0000920427\n"
     ]
    },
    {
     "name": "stderr",
     "output_type": "stream",
     "text": [
      " 92%|█████████▏| 4483/4854 [1:13:33<1:04:39, 10.46s/it]"
     ]
    },
    {
     "name": "stdout",
     "output_type": "stream",
     "text": [
      "Scraping CIK 0001494319\n"
     ]
    },
    {
     "name": "stderr",
     "output_type": "stream",
     "text": [
      " 92%|█████████▏| 4484/4854 [1:13:36<51:00,  8.27s/it]  "
     ]
    },
    {
     "name": "stdout",
     "output_type": "stream",
     "text": [
      "Scraping CIK 0001041657\n"
     ]
    },
    {
     "name": "stderr",
     "output_type": "stream",
     "text": [
      " 92%|█████████▏| 4485/4854 [1:13:49<59:43,  9.71s/it]"
     ]
    },
    {
     "name": "stdout",
     "output_type": "stream",
     "text": [
      "Scraping CIK 0001505155\n"
     ]
    },
    {
     "name": "stderr",
     "output_type": "stream",
     "text": [
      " 92%|█████████▏| 4486/4854 [1:13:53<48:25,  7.90s/it]"
     ]
    },
    {
     "name": "stdout",
     "output_type": "stream",
     "text": [
      "Scraping CIK 0001090727\n"
     ]
    },
    {
     "name": "stderr",
     "output_type": "stream",
     "text": [
      " 92%|█████████▏| 4487/4854 [1:14:06<58:34,  9.58s/it]"
     ]
    },
    {
     "name": "stdout",
     "output_type": "stream",
     "text": [
      "Scraping CIK 0001627475\n"
     ]
    },
    {
     "name": "stderr",
     "output_type": "stream",
     "text": [
      " 92%|█████████▏| 4488/4854 [1:14:07<42:50,  7.02s/it]"
     ]
    },
    {
     "name": "stdout",
     "output_type": "stream",
     "text": [
      "Scraping CIK 0000912615\n"
     ]
    },
    {
     "name": "stderr",
     "output_type": "stream",
     "text": [
      " 92%|█████████▏| 4489/4854 [1:14:20<52:55,  8.70s/it]"
     ]
    },
    {
     "name": "stdout",
     "output_type": "stream",
     "text": [
      "Scraping CIK 0001375205\n"
     ]
    },
    {
     "name": "stderr",
     "output_type": "stream",
     "text": [
      " 93%|█████████▎| 4490/4854 [1:14:24<45:24,  7.49s/it]"
     ]
    },
    {
     "name": "stdout",
     "output_type": "stream",
     "text": [
      "Scraping CIK 0001668243\n"
     ]
    },
    {
     "name": "stderr",
     "output_type": "stream",
     "text": [
      " 93%|█████████▎| 4491/4854 [1:14:25<33:32,  5.54s/it]"
     ]
    },
    {
     "name": "stdout",
     "output_type": "stream",
     "text": [
      "Scraping CIK 0001067701\n"
     ]
    },
    {
     "name": "stderr",
     "output_type": "stream",
     "text": [
      " 93%|█████████▎| 4492/4854 [1:14:38<46:02,  7.63s/it]"
     ]
    },
    {
     "name": "stdout",
     "output_type": "stream",
     "text": [
      "Scraping CIK 0001740547\n"
     ]
    },
    {
     "name": "stderr",
     "output_type": "stream",
     "text": [
      " 93%|█████████▎| 4493/4854 [1:14:39<34:30,  5.74s/it]"
     ]
    },
    {
     "name": "stdout",
     "output_type": "stream",
     "text": [
      "Scraping CIK 0001522727\n"
     ]
    },
    {
     "name": "stderr",
     "output_type": "stream",
     "text": [
      " 93%|█████████▎| 4494/4854 [1:14:44<33:05,  5.52s/it]"
     ]
    },
    {
     "name": "stdout",
     "output_type": "stream",
     "text": [
      "Scraping CIK 0000883945\n"
     ]
    },
    {
     "name": "stderr",
     "output_type": "stream",
     "text": [
      " 93%|█████████▎| 4495/4854 [1:14:55<41:35,  6.95s/it]"
     ]
    },
    {
     "name": "stdout",
     "output_type": "stream",
     "text": [
      "Scraping CIK 0000931584\n"
     ]
    },
    {
     "name": "stderr",
     "output_type": "stream",
     "text": [
      " 93%|█████████▎| 4496/4854 [1:15:06<49:58,  8.38s/it]"
     ]
    },
    {
     "name": "stdout",
     "output_type": "stream",
     "text": [
      "Scraping CIK 0001286973\n"
     ]
    },
    {
     "name": "stderr",
     "output_type": "stream",
     "text": [
      " 93%|█████████▎| 4497/4854 [1:15:07<35:28,  5.96s/it]"
     ]
    },
    {
     "name": "stdout",
     "output_type": "stream",
     "text": [
      "Scraping CIK 0000027093\n"
     ]
    },
    {
     "name": "stderr",
     "output_type": "stream",
     "text": [
      " 93%|█████████▎| 4498/4854 [1:15:16<41:25,  6.98s/it]"
     ]
    },
    {
     "name": "stdout",
     "output_type": "stream",
     "text": [
      "Scraping CIK 0000036104\n"
     ]
    },
    {
     "name": "stderr",
     "output_type": "stream",
     "text": [
      " 93%|█████████▎| 4499/4854 [1:15:27<49:11,  8.31s/it]"
     ]
    },
    {
     "name": "stdout",
     "output_type": "stream",
     "text": [
      "Scraping CIK 0001073429\n"
     ]
    },
    {
     "name": "stderr",
     "output_type": "stream",
     "text": [
      " 93%|█████████▎| 4500/4854 [1:15:38<53:20,  9.04s/it]"
     ]
    },
    {
     "name": "stdout",
     "output_type": "stream",
     "text": [
      "Scraping CIK 0001610682\n"
     ]
    },
    {
     "name": "stderr",
     "output_type": "stream",
     "text": [
      " 93%|█████████▎| 4501/4854 [1:15:42<44:23,  7.55s/it]"
     ]
    },
    {
     "name": "stdout",
     "output_type": "stream",
     "text": [
      "Scraping CIK 0000101594\n"
     ]
    },
    {
     "name": "stderr",
     "output_type": "stream",
     "text": [
      " 93%|█████████▎| 4502/4854 [1:15:55<54:18,  9.26s/it]"
     ]
    },
    {
     "name": "stdout",
     "output_type": "stream",
     "text": [
      "Scraping CIK 0001665918\n"
     ]
    },
    {
     "name": "stderr",
     "output_type": "stream",
     "text": [
      " 93%|█████████▎| 4503/4854 [1:15:58<42:21,  7.24s/it]"
     ]
    },
    {
     "name": "stdout",
     "output_type": "stream",
     "text": [
      "Scraping CIK 0001088034\n"
     ]
    },
    {
     "name": "stderr",
     "output_type": "stream",
     "text": [
      " 93%|█████████▎| 4504/4854 [1:16:07<45:01,  7.72s/it]"
     ]
    },
    {
     "name": "stdout",
     "output_type": "stream",
     "text": [
      "Scraping CIK 0000082020\n"
     ]
    },
    {
     "name": "stderr",
     "output_type": "stream",
     "text": [
      " 93%|█████████▎| 4505/4854 [1:16:19<51:51,  8.91s/it]"
     ]
    },
    {
     "name": "stdout",
     "output_type": "stream",
     "text": [
      "Scraping CIK 0000821130\n"
     ]
    },
    {
     "name": "stderr",
     "output_type": "stream",
     "text": [
      " 93%|█████████▎| 4506/4854 [1:16:30<55:40,  9.60s/it]"
     ]
    },
    {
     "name": "stdout",
     "output_type": "stream",
     "text": [
      "Scraping CIK 0000896264\n"
     ]
    },
    {
     "name": "stderr",
     "output_type": "stream",
     "text": [
      " 93%|█████████▎| 4507/4854 [1:16:41<58:35, 10.13s/it]"
     ]
    },
    {
     "name": "stdout",
     "output_type": "stream",
     "text": [
      "Scraping CIK 0000885978\n"
     ]
    },
    {
     "name": "stderr",
     "output_type": "stream",
     "text": [
      " 93%|█████████▎| 4508/4854 [1:16:52<1:00:29, 10.49s/it]"
     ]
    },
    {
     "name": "stdout",
     "output_type": "stream",
     "text": [
      "Scraping CIK 0001670349\n"
     ]
    },
    {
     "name": "stderr",
     "output_type": "stream",
     "text": [
      " 93%|█████████▎| 4509/4854 [1:16:54<45:18,  7.88s/it]  "
     ]
    },
    {
     "name": "stdout",
     "output_type": "stream",
     "text": [
      "Scraping CIK 0000923571\n"
     ]
    },
    {
     "name": "stderr",
     "output_type": "stream",
     "text": [
      " 93%|█████████▎| 4510/4854 [1:17:00<41:00,  7.15s/it]"
     ]
    },
    {
     "name": "stdout",
     "output_type": "stream",
     "text": [
      "Scraping CIK 0001082554\n"
     ]
    },
    {
     "name": "stderr",
     "output_type": "stream",
     "text": [
      " 93%|█████████▎| 4511/4854 [1:17:11<47:50,  8.37s/it]"
     ]
    },
    {
     "name": "stdout",
     "output_type": "stream",
     "text": [
      "Scraping CIK 0001261654\n"
     ]
    },
    {
     "name": "stderr",
     "output_type": "stream",
     "text": [
      " 93%|█████████▎| 4512/4854 [1:17:21<50:12,  8.81s/it]"
     ]
    },
    {
     "name": "stdout",
     "output_type": "stream",
     "text": [
      "Scraping CIK 0000755001\n"
     ]
    },
    {
     "name": "stderr",
     "output_type": "stream",
     "text": [
      " 93%|█████████▎| 4513/4854 [1:17:32<55:07,  9.70s/it]"
     ]
    },
    {
     "name": "stdout",
     "output_type": "stream",
     "text": [
      "Scraping CIK 0000706698\n"
     ]
    },
    {
     "name": "stderr",
     "output_type": "stream",
     "text": [
      " 93%|█████████▎| 4514/4854 [1:17:44<58:53, 10.39s/it]"
     ]
    },
    {
     "name": "stdout",
     "output_type": "stream",
     "text": [
      "Scraping CIK 0001030471\n"
     ]
    },
    {
     "name": "stderr",
     "output_type": "stream",
     "text": [
      " 93%|█████████▎| 4515/4854 [1:17:51<52:46,  9.34s/it]"
     ]
    },
    {
     "name": "stdout",
     "output_type": "stream",
     "text": [
      "Scraping CIK 0000102109\n"
     ]
    },
    {
     "name": "stderr",
     "output_type": "stream",
     "text": [
      " 93%|█████████▎| 4516/4854 [1:18:02<54:19,  9.64s/it]"
     ]
    },
    {
     "name": "stdout",
     "output_type": "stream",
     "text": [
      "Scraping CIK 0001385849\n"
     ]
    },
    {
     "name": "stderr",
     "output_type": "stream",
     "text": [
      " 93%|█████████▎| 4517/4854 [1:18:05<43:04,  7.67s/it]"
     ]
    },
    {
     "name": "stdout",
     "output_type": "stream",
     "text": [
      "Scraping CIK 0000891166\n"
     ]
    },
    {
     "name": "stderr",
     "output_type": "stream",
     "text": [
      " 93%|█████████▎| 4518/4854 [1:18:12<42:26,  7.58s/it]"
     ]
    },
    {
     "name": "stdout",
     "output_type": "stream",
     "text": [
      "Scraping CIK 0000102212\n"
     ]
    },
    {
     "name": "stderr",
     "output_type": "stream",
     "text": [
      " 93%|█████████▎| 4519/4854 [1:18:25<51:24,  9.21s/it]"
     ]
    },
    {
     "name": "stdout",
     "output_type": "stream",
     "text": [
      "Scraping CIK 0000102037\n"
     ]
    },
    {
     "name": "stderr",
     "output_type": "stream",
     "text": [
      " 93%|█████████▎| 4521/4854 [1:18:39<40:44,  7.34s/it]"
     ]
    },
    {
     "name": "stdout",
     "output_type": "stream",
     "text": [
      "Scraping CIK 0001729173\n",
      "Scraping CIK 0001403161\n"
     ]
    },
    {
     "name": "stderr",
     "output_type": "stream",
     "text": [
      " 93%|█████████▎| 4522/4854 [1:18:47<42:06,  7.61s/it]"
     ]
    },
    {
     "name": "stdout",
     "output_type": "stream",
     "text": [
      "Scraping CIK 0001524358\n"
     ]
    },
    {
     "name": "stderr",
     "output_type": "stream",
     "text": [
      " 93%|█████████▎| 4523/4854 [1:18:52<37:45,  6.84s/it]"
     ]
    },
    {
     "name": "stdout",
     "output_type": "stream",
     "text": [
      "Scraping CIK 0000314808\n"
     ]
    },
    {
     "name": "stderr",
     "output_type": "stream",
     "text": [
      " 93%|█████████▎| 4525/4854 [1:19:08<37:25,  6.83s/it]"
     ]
    },
    {
     "name": "stdout",
     "output_type": "stream",
     "text": [
      "Scraping CIK 0000917851\n",
      "Scraping CIK 0000717720\n"
     ]
    },
    {
     "name": "stderr",
     "output_type": "stream",
     "text": [
      " 93%|█████████▎| 4526/4854 [1:19:20<45:16,  8.28s/it]"
     ]
    },
    {
     "name": "stdout",
     "output_type": "stream",
     "text": [
      "Scraping CIK 0001253176\n"
     ]
    },
    {
     "name": "stderr",
     "output_type": "stream",
     "text": [
      " 93%|█████████▎| 4527/4854 [1:19:21<33:53,  6.22s/it]"
     ]
    },
    {
     "name": "stdout",
     "output_type": "stream",
     "text": [
      "Scraping CIK 0000203527\n"
     ]
    },
    {
     "name": "stderr",
     "output_type": "stream",
     "text": [
      " 93%|█████████▎| 4528/4854 [1:19:34<44:44,  8.23s/it]"
     ]
    },
    {
     "name": "stdout",
     "output_type": "stream",
     "text": [
      "Scraping CIK 0001290476\n"
     ]
    },
    {
     "name": "stderr",
     "output_type": "stream",
     "text": [
      " 93%|█████████▎| 4529/4854 [1:19:44<46:40,  8.62s/it]"
     ]
    },
    {
     "name": "stdout",
     "output_type": "stream",
     "text": [
      "Scraping CIK 0000764195\n"
     ]
    },
    {
     "name": "stderr",
     "output_type": "stream",
     "text": [
      " 93%|█████████▎| 4531/4854 [1:19:46<25:18,  4.70s/it]"
     ]
    },
    {
     "name": "stdout",
     "output_type": "stream",
     "text": [
      "Scraping CIK 0001603207\n",
      "Scraping CIK 0001501570\n"
     ]
    },
    {
     "name": "stderr",
     "output_type": "stream",
     "text": [
      " 93%|█████████▎| 4532/4854 [1:19:50<23:41,  4.42s/it]"
     ]
    },
    {
     "name": "stdout",
     "output_type": "stream",
     "text": [
      "Scraping CIK 0001111335\n"
     ]
    },
    {
     "name": "stderr",
     "output_type": "stream",
     "text": [
      " 93%|█████████▎| 4533/4854 [1:20:01<35:15,  6.59s/it]"
     ]
    },
    {
     "name": "stdout",
     "output_type": "stream",
     "text": [
      "Scraping CIK 0000887359\n"
     ]
    },
    {
     "name": "stderr",
     "output_type": "stream",
     "text": [
      " 93%|█████████▎| 4534/4854 [1:20:13<42:32,  7.98s/it]"
     ]
    },
    {
     "name": "stdout",
     "output_type": "stream",
     "text": [
      "Scraping CIK 0001205922\n"
     ]
    },
    {
     "name": "stderr",
     "output_type": "stream",
     "text": [
      " 93%|█████████▎| 4535/4854 [1:20:14<31:47,  5.98s/it]"
     ]
    },
    {
     "name": "stdout",
     "output_type": "stream",
     "text": [
      "Scraping CIK 0001129260\n"
     ]
    },
    {
     "name": "stderr",
     "output_type": "stream",
     "text": [
      " 93%|█████████▎| 4536/4854 [1:20:19<29:25,  5.55s/it]"
     ]
    },
    {
     "name": "stdout",
     "output_type": "stream",
     "text": [
      "Scraping CIK 0001570827\n"
     ]
    },
    {
     "name": "stderr",
     "output_type": "stream",
     "text": [
      " 93%|█████████▎| 4537/4854 [1:20:21<23:58,  4.54s/it]"
     ]
    },
    {
     "name": "stdout",
     "output_type": "stream",
     "text": [
      "Scraping CIK 0001384101\n"
     ]
    },
    {
     "name": "stderr",
     "output_type": "stream",
     "text": [
      " 93%|█████████▎| 4538/4854 [1:20:25<23:34,  4.48s/it]"
     ]
    },
    {
     "name": "stdout",
     "output_type": "stream",
     "text": [
      "Scraping CIK 0001601548\n"
     ]
    },
    {
     "name": "stderr",
     "output_type": "stream",
     "text": [
      " 94%|█████████▎| 4539/4854 [1:20:29<21:52,  4.17s/it]"
     ]
    },
    {
     "name": "stdout",
     "output_type": "stream",
     "text": [
      "Scraping CIK 0000103145\n"
     ]
    },
    {
     "name": "stderr",
     "output_type": "stream",
     "text": [
      " 94%|█████████▎| 4541/4854 [1:20:40<23:19,  4.47s/it]"
     ]
    },
    {
     "name": "stdout",
     "output_type": "stream",
     "text": [
      "Scraping CIK 0001370431\n",
      "Scraping CIK 0001393052\n"
     ]
    },
    {
     "name": "stderr",
     "output_type": "stream",
     "text": [
      " 94%|█████████▎| 4542/4854 [1:20:45<24:40,  4.74s/it]"
     ]
    },
    {
     "name": "stdout",
     "output_type": "stream",
     "text": [
      "Scraping CIK 0001692376\n"
     ]
    },
    {
     "name": "stderr",
     "output_type": "stream",
     "text": [
      " 94%|█████████▎| 4543/4854 [1:20:47<18:56,  3.66s/it]"
     ]
    },
    {
     "name": "stdout",
     "output_type": "stream",
     "text": [
      "Scraping CIK 0001468091\n"
     ]
    },
    {
     "name": "stderr",
     "output_type": "stream",
     "text": [
      " 94%|█████████▎| 4544/4854 [1:20:47<13:35,  2.63s/it]"
     ]
    },
    {
     "name": "stdout",
     "output_type": "stream",
     "text": [
      "Scraping CIK 0001507385\n"
     ]
    },
    {
     "name": "stderr",
     "output_type": "stream",
     "text": [
      " 94%|█████████▎| 4545/4854 [1:20:57<24:39,  4.79s/it]"
     ]
    },
    {
     "name": "stdout",
     "output_type": "stream",
     "text": [
      "Scraping CIK 0001566610\n"
     ]
    },
    {
     "name": "stderr",
     "output_type": "stream",
     "text": [
      " 94%|█████████▎| 4546/4854 [1:21:01<23:16,  4.53s/it]"
     ]
    },
    {
     "name": "stdout",
     "output_type": "stream",
     "text": [
      "Scraping CIK 0001615165\n"
     ]
    },
    {
     "name": "stderr",
     "output_type": "stream",
     "text": [
      " 94%|█████████▎| 4547/4854 [1:21:03<19:30,  3.81s/it]"
     ]
    },
    {
     "name": "stdout",
     "output_type": "stream",
     "text": [
      "Scraping CIK 0001409269\n"
     ]
    },
    {
     "name": "stderr",
     "output_type": "stream",
     "text": [
      " 94%|█████████▎| 4548/4854 [1:21:05<17:06,  3.35s/it]"
     ]
    },
    {
     "name": "stdout",
     "output_type": "stream",
     "text": [
      "Scraping CIK 0000863894\n"
     ]
    },
    {
     "name": "stderr",
     "output_type": "stream",
     "text": [
      " 94%|█████████▎| 4549/4854 [1:21:12<22:44,  4.47s/it]"
     ]
    },
    {
     "name": "stdout",
     "output_type": "stream",
     "text": [
      "Scraping CIK 0001575434\n"
     ]
    },
    {
     "name": "stderr",
     "output_type": "stream",
     "text": [
      " 94%|█████████▍| 4551/4854 [1:21:13<12:11,  2.42s/it]"
     ]
    },
    {
     "name": "stdout",
     "output_type": "stream",
     "text": [
      "Scraping CIK 0001293135\n",
      "Scraping CIK 0000103379\n"
     ]
    },
    {
     "name": "stderr",
     "output_type": "stream",
     "text": [
      " 94%|█████████▍| 4552/4854 [1:21:26<27:55,  5.55s/it]"
     ]
    },
    {
     "name": "stdout",
     "output_type": "stream",
     "text": [
      "Scraping CIK 0001584549\n"
     ]
    },
    {
     "name": "stderr",
     "output_type": "stream",
     "text": [
      " 94%|█████████▍| 4553/4854 [1:21:27<20:32,  4.10s/it]"
     ]
    },
    {
     "name": "stdout",
     "output_type": "stream",
     "text": [
      "Scraping CIK 0001272830\n"
     ]
    },
    {
     "name": "stderr",
     "output_type": "stream",
     "text": [
      " 94%|█████████▍| 4554/4854 [1:21:35<27:08,  5.43s/it]"
     ]
    },
    {
     "name": "stdout",
     "output_type": "stream",
     "text": [
      "Scraping CIK 0000059440\n"
     ]
    },
    {
     "name": "stderr",
     "output_type": "stream",
     "text": [
      " 94%|█████████▍| 4555/4854 [1:21:47<37:04,  7.44s/it]"
     ]
    },
    {
     "name": "stdout",
     "output_type": "stream",
     "text": [
      "Scraping CIK 0000783324\n"
     ]
    },
    {
     "name": "stderr",
     "output_type": "stream",
     "text": [
      " 94%|█████████▍| 4556/4854 [1:21:59<43:24,  8.74s/it]"
     ]
    },
    {
     "name": "stdout",
     "output_type": "stream",
     "text": [
      "Scraping CIK 0001082324\n"
     ]
    },
    {
     "name": "stderr",
     "output_type": "stream",
     "text": [
      " 94%|█████████▍| 4557/4854 [1:22:06<40:49,  8.25s/it]"
     ]
    },
    {
     "name": "stdout",
     "output_type": "stream",
     "text": [
      "Scraping CIK 0000059255\n"
     ]
    },
    {
     "name": "stderr",
     "output_type": "stream",
     "text": [
      " 94%|█████████▍| 4558/4854 [1:22:19<47:59,  9.73s/it]"
     ]
    },
    {
     "name": "stdout",
     "output_type": "stream",
     "text": [
      "Scraping CIK 0000813828\n"
     ]
    },
    {
     "name": "stderr",
     "output_type": "stream",
     "text": [
      " 94%|█████████▍| 4559/4854 [1:22:33<52:59, 10.78s/it]"
     ]
    },
    {
     "name": "stdout",
     "output_type": "stream",
     "text": [
      "Scraping CIK 0000912093\n"
     ]
    },
    {
     "name": "stderr",
     "output_type": "stream",
     "text": [
      " 94%|█████████▍| 4560/4854 [1:22:44<54:20, 11.09s/it]"
     ]
    },
    {
     "name": "stdout",
     "output_type": "stream",
     "text": [
      "Scraping CIK 0001705696\n"
     ]
    },
    {
     "name": "stderr",
     "output_type": "stream",
     "text": [
      " 94%|█████████▍| 4561/4854 [1:22:46<39:52,  8.16s/it]"
     ]
    },
    {
     "name": "stdout",
     "output_type": "stream",
     "text": [
      "Scraping CIK 0000751978\n"
     ]
    },
    {
     "name": "stderr",
     "output_type": "stream",
     "text": [
      " 94%|█████████▍| 4562/4854 [1:22:58<45:40,  9.39s/it]"
     ]
    },
    {
     "name": "stdout",
     "output_type": "stream",
     "text": [
      "Scraping CIK 0001734517\n"
     ]
    },
    {
     "name": "stderr",
     "output_type": "stream",
     "text": [
      " 94%|█████████▍| 4564/4854 [1:22:59<23:37,  4.89s/it]"
     ]
    },
    {
     "name": "stdout",
     "output_type": "stream",
     "text": [
      "Scraping CIK 0001742770\n",
      "Scraping CIK 0001529192\n"
     ]
    },
    {
     "name": "stderr",
     "output_type": "stream",
     "text": [
      " 94%|█████████▍| 4565/4854 [1:22:59<16:41,  3.46s/it]"
     ]
    },
    {
     "name": "stdout",
     "output_type": "stream",
     "text": [
      "Scraping CIK 0001706431\n"
     ]
    },
    {
     "name": "stderr",
     "output_type": "stream",
     "text": [
      " 94%|█████████▍| 4566/4854 [1:23:00<12:55,  2.69s/it]"
     ]
    },
    {
     "name": "stdout",
     "output_type": "stream",
     "text": [
      "Scraping CIK 0000751365\n"
     ]
    },
    {
     "name": "stderr",
     "output_type": "stream",
     "text": [
      " 94%|█████████▍| 4567/4854 [1:23:11<25:07,  5.25s/it]"
     ]
    },
    {
     "name": "stdout",
     "output_type": "stream",
     "text": [
      "Scraping CIK 0001592386\n"
     ]
    },
    {
     "name": "stderr",
     "output_type": "stream",
     "text": [
      " 94%|█████████▍| 4568/4854 [1:23:15<23:14,  4.88s/it]"
     ]
    },
    {
     "name": "stdout",
     "output_type": "stream",
     "text": [
      "Scraping CIK 0001565228\n"
     ]
    },
    {
     "name": "stderr",
     "output_type": "stream",
     "text": [
      " 94%|█████████▍| 4570/4854 [1:23:20<15:36,  3.30s/it]"
     ]
    },
    {
     "name": "stdout",
     "output_type": "stream",
     "text": [
      "Scraping CIK 0001762506\n",
      "Scraping CIK 0001066119\n"
     ]
    },
    {
     "name": "stderr",
     "output_type": "stream",
     "text": [
      " 94%|█████████▍| 4571/4854 [1:23:20<11:11,  2.37s/it]"
     ]
    },
    {
     "name": "stdout",
     "output_type": "stream",
     "text": [
      "Scraping CIK 0000879682\n"
     ]
    },
    {
     "name": "stderr",
     "output_type": "stream",
     "text": [
      " 94%|█████████▍| 4572/4854 [1:23:32<24:31,  5.22s/it]"
     ]
    },
    {
     "name": "stdout",
     "output_type": "stream",
     "text": [
      "Scraping CIK 0000794172\n"
     ]
    },
    {
     "name": "stderr",
     "output_type": "stream",
     "text": [
      " 94%|█████████▍| 4574/4854 [1:23:43<22:50,  4.90s/it]"
     ]
    },
    {
     "name": "stdout",
     "output_type": "stream",
     "text": [
      "Scraping CIK 0001582581\n",
      "Scraping CIK 0001607678\n"
     ]
    },
    {
     "name": "stderr",
     "output_type": "stream",
     "text": [
      " 94%|█████████▍| 4575/4854 [1:23:46<19:43,  4.24s/it]"
     ]
    },
    {
     "name": "stdout",
     "output_type": "stream",
     "text": [
      "Scraping CIK 0000103595\n"
     ]
    },
    {
     "name": "stderr",
     "output_type": "stream",
     "text": [
      " 94%|█████████▍| 4576/4854 [1:23:59<31:49,  6.87s/it]"
     ]
    },
    {
     "name": "stdout",
     "output_type": "stream",
     "text": [
      "Scraping CIK 0001035002\n"
     ]
    },
    {
     "name": "stderr",
     "output_type": "stream",
     "text": [
      " 94%|█████████▍| 4577/4854 [1:24:14<43:36,  9.44s/it]"
     ]
    },
    {
     "name": "stdout",
     "output_type": "stream",
     "text": [
      "Scraping CIK 0001520504\n"
     ]
    },
    {
     "name": "stderr",
     "output_type": "stream",
     "text": [
      " 94%|█████████▍| 4578/4854 [1:24:14<30:55,  6.72s/it]"
     ]
    },
    {
     "name": "stdout",
     "output_type": "stream",
     "text": [
      "Scraping CIK 0000714310\n"
     ]
    },
    {
     "name": "stderr",
     "output_type": "stream",
     "text": [
      " 94%|█████████▍| 4579/4854 [1:24:28<40:25,  8.82s/it]"
     ]
    },
    {
     "name": "stdout",
     "output_type": "stream",
     "text": [
      "Scraping CIK 0001396009\n"
     ]
    },
    {
     "name": "stderr",
     "output_type": "stream",
     "text": [
      " 94%|█████████▍| 4580/4854 [1:24:39<42:23,  9.28s/it]"
     ]
    },
    {
     "name": "stdout",
     "output_type": "stream",
     "text": [
      "Scraping CIK 0001729149\n"
     ]
    },
    {
     "name": "stderr",
     "output_type": "stream",
     "text": [
      " 94%|█████████▍| 4581/4854 [1:24:42<34:17,  7.54s/it]"
     ]
    },
    {
     "name": "stdout",
     "output_type": "stream",
     "text": [
      "Scraping CIK 0000102729\n"
     ]
    },
    {
     "name": "stderr",
     "output_type": "stream",
     "text": [
      " 94%|█████████▍| 4582/4854 [1:24:56<43:35,  9.61s/it]"
     ]
    },
    {
     "name": "stdout",
     "output_type": "stream",
     "text": [
      "Scraping CIK 0001124610\n"
     ]
    },
    {
     "name": "stderr",
     "output_type": "stream",
     "text": [
      " 94%|█████████▍| 4583/4854 [1:25:05<41:32,  9.20s/it]"
     ]
    },
    {
     "name": "stdout",
     "output_type": "stream",
     "text": [
      "Scraping CIK 0001579157\n"
     ]
    },
    {
     "name": "stderr",
     "output_type": "stream",
     "text": [
      " 94%|█████████▍| 4584/4854 [1:25:10<35:57,  7.99s/it]"
     ]
    },
    {
     "name": "stdout",
     "output_type": "stream",
     "text": [
      "Scraping CIK 0001347178\n"
     ]
    },
    {
     "name": "stderr",
     "output_type": "stream",
     "text": [
      " 94%|█████████▍| 4585/4854 [1:25:18<36:01,  8.03s/it]"
     ]
    },
    {
     "name": "stdout",
     "output_type": "stream",
     "text": [
      "Scraping CIK 0001733186\n"
     ]
    },
    {
     "name": "stderr",
     "output_type": "stream",
     "text": [
      " 94%|█████████▍| 4587/4854 [1:25:20<19:38,  4.41s/it]"
     ]
    },
    {
     "name": "stdout",
     "output_type": "stream",
     "text": [
      "Scraping CIK 0001508475\n",
      "Scraping CIK 0000899689\n"
     ]
    },
    {
     "name": "stderr",
     "output_type": "stream",
     "text": [
      " 95%|█████████▍| 4588/4854 [1:25:43<43:57,  9.91s/it]"
     ]
    },
    {
     "name": "stdout",
     "output_type": "stream",
     "text": [
      "Scraping CIK 0001602065\n"
     ]
    },
    {
     "name": "stderr",
     "output_type": "stream",
     "text": [
      " 95%|█████████▍| 4589/4854 [1:25:47<35:34,  8.05s/it]"
     ]
    },
    {
     "name": "stdout",
     "output_type": "stream",
     "text": [
      "Scraping CIK 0000093314\n"
     ]
    },
    {
     "name": "stderr",
     "output_type": "stream",
     "text": [
      " 95%|█████████▍| 4590/4854 [1:25:54<33:54,  7.71s/it]"
     ]
    },
    {
     "name": "stdout",
     "output_type": "stream",
     "text": [
      "Scraping CIK 0001705682\n"
     ]
    },
    {
     "name": "stderr",
     "output_type": "stream",
     "text": [
      " 95%|█████████▍| 4591/4854 [1:25:55<26:14,  5.99s/it]"
     ]
    },
    {
     "name": "stdout",
     "output_type": "stream",
     "text": [
      "Scraping CIK 0001505413\n"
     ]
    },
    {
     "name": "stderr",
     "output_type": "stream",
     "text": [
      " 95%|█████████▍| 4593/4854 [1:26:01<17:49,  4.10s/it]"
     ]
    },
    {
     "name": "stdout",
     "output_type": "stream",
     "text": [
      "Scraping CIK 0000839923\n",
      "Scraping CIK 0000103872\n"
     ]
    },
    {
     "name": "stderr",
     "output_type": "stream",
     "text": [
      " 95%|█████████▍| 4594/4854 [1:26:12<27:04,  6.25s/it]"
     ]
    },
    {
     "name": "stdout",
     "output_type": "stream",
     "text": [
      "Scraping CIK 0000807707\n"
     ]
    },
    {
     "name": "stderr",
     "output_type": "stream",
     "text": [
      " 95%|█████████▍| 4595/4854 [1:26:25<35:47,  8.29s/it]"
     ]
    },
    {
     "name": "stdout",
     "output_type": "stream",
     "text": [
      "Scraping CIK 0001535929\n"
     ]
    },
    {
     "name": "stderr",
     "output_type": "stream",
     "text": [
      " 95%|█████████▍| 4596/4854 [1:26:31<31:49,  7.40s/it]"
     ]
    },
    {
     "name": "stdout",
     "output_type": "stream",
     "text": [
      "Scraping CIK 0001487952\n"
     ]
    },
    {
     "name": "stderr",
     "output_type": "stream",
     "text": [
      " 95%|█████████▍| 4597/4854 [1:26:36<29:36,  6.91s/it]"
     ]
    },
    {
     "name": "stdout",
     "output_type": "stream",
     "text": [
      "Scraping CIK 0001495320\n"
     ]
    },
    {
     "name": "stderr",
     "output_type": "stream",
     "text": [
      " 95%|█████████▍| 4598/4854 [1:26:42<27:45,  6.51s/it]"
     ]
    },
    {
     "name": "stdout",
     "output_type": "stream",
     "text": [
      "Scraping CIK 0001597313\n"
     ]
    },
    {
     "name": "stderr",
     "output_type": "stream",
     "text": [
      " 95%|█████████▍| 4599/4854 [1:26:46<24:48,  5.84s/it]"
     ]
    },
    {
     "name": "stdout",
     "output_type": "stream",
     "text": [
      "Scraping CIK 0001660334\n"
     ]
    },
    {
     "name": "stderr",
     "output_type": "stream",
     "text": [
      " 95%|█████████▍| 4600/4854 [1:26:47<18:46,  4.43s/it]"
     ]
    },
    {
     "name": "stdout",
     "output_type": "stream",
     "text": [
      "Scraping CIK 0001681622\n"
     ]
    },
    {
     "name": "stderr",
     "output_type": "stream",
     "text": [
      " 95%|█████████▍| 4602/4854 [1:26:49<10:38,  2.53s/it]"
     ]
    },
    {
     "name": "stdout",
     "output_type": "stream",
     "text": [
      "Scraping CIK 0001580864\n",
      "Scraping CIK 0001104038\n"
     ]
    },
    {
     "name": "stderr",
     "output_type": "stream",
     "text": [
      " 95%|█████████▍| 4604/4854 [1:26:54<09:22,  2.25s/it]"
     ]
    },
    {
     "name": "stdout",
     "output_type": "stream",
     "text": [
      "Scraping CIK 0001657312\n",
      "Scraping CIK 0001361113\n"
     ]
    },
    {
     "name": "stderr",
     "output_type": "stream",
     "text": [
      " 95%|█████████▍| 4605/4854 [1:26:57<10:15,  2.47s/it]"
     ]
    },
    {
     "name": "stdout",
     "output_type": "stream",
     "text": [
      "Scraping CIK 0001166388\n"
     ]
    },
    {
     "name": "stderr",
     "output_type": "stream",
     "text": [
      " 95%|█████████▍| 4606/4854 [1:27:09<22:04,  5.34s/it]"
     ]
    },
    {
     "name": "stdout",
     "output_type": "stream",
     "text": [
      "Scraping CIK 0001682745\n"
     ]
    },
    {
     "name": "stderr",
     "output_type": "stream",
     "text": [
      " 95%|█████████▍| 4607/4854 [1:27:11<18:21,  4.46s/it]"
     ]
    },
    {
     "name": "stdout",
     "output_type": "stream",
     "text": [
      "Scraping CIK 0001421182\n"
     ]
    },
    {
     "name": "stderr",
     "output_type": "stream",
     "text": [
      " 95%|█████████▍| 4608/4854 [1:27:19<22:40,  5.53s/it]"
     ]
    },
    {
     "name": "stdout",
     "output_type": "stream",
     "text": [
      "Scraping CIK 0001442145\n"
     ]
    },
    {
     "name": "stderr",
     "output_type": "stream",
     "text": [
      " 95%|█████████▍| 4609/4854 [1:27:26<24:01,  5.88s/it]"
     ]
    },
    {
     "name": "stdout",
     "output_type": "stream",
     "text": [
      "Scraping CIK 0001014473\n"
     ]
    },
    {
     "name": "stderr",
     "output_type": "stream",
     "text": [
      " 95%|█████████▍| 4610/4854 [1:27:38<31:14,  7.68s/it]"
     ]
    },
    {
     "name": "stdout",
     "output_type": "stream",
     "text": [
      "Scraping CIK 0001674101\n"
     ]
    },
    {
     "name": "stderr",
     "output_type": "stream",
     "text": [
      " 95%|█████████▍| 4611/4854 [1:27:39<23:14,  5.74s/it]"
     ]
    },
    {
     "name": "stdout",
     "output_type": "stream",
     "text": [
      "Scraping CIK 0000883237\n"
     ]
    },
    {
     "name": "stderr",
     "output_type": "stream",
     "text": [
      " 95%|█████████▌| 4612/4854 [1:27:46<25:03,  6.21s/it]"
     ]
    },
    {
     "name": "stdout",
     "output_type": "stream",
     "text": [
      "Scraping CIK 0001207074\n"
     ]
    },
    {
     "name": "stderr",
     "output_type": "stream",
     "text": [
      " 95%|█████████▌| 4613/4854 [1:27:54<26:18,  6.55s/it]"
     ]
    },
    {
     "name": "stdout",
     "output_type": "stream",
     "text": [
      "Scraping CIK 0001599489\n"
     ]
    },
    {
     "name": "stderr",
     "output_type": "stream",
     "text": [
      " 95%|█████████▌| 4614/4854 [1:27:57<22:21,  5.59s/it]"
     ]
    },
    {
     "name": "stdout",
     "output_type": "stream",
     "text": [
      "Scraping CIK 0000875320\n"
     ]
    },
    {
     "name": "stderr",
     "output_type": "stream",
     "text": [
      " 95%|█████████▌| 4615/4854 [1:28:09<29:46,  7.48s/it]"
     ]
    },
    {
     "name": "stdout",
     "output_type": "stream",
     "text": [
      "Scraping CIK 0000797721\n"
     ]
    },
    {
     "name": "stderr",
     "output_type": "stream",
     "text": [
      " 95%|█████████▌| 4616/4854 [1:28:20<34:30,  8.70s/it]"
     ]
    },
    {
     "name": "stdout",
     "output_type": "stream",
     "text": [
      "Scraping CIK 0000102752\n"
     ]
    },
    {
     "name": "stderr",
     "output_type": "stream",
     "text": [
      " 95%|█████████▌| 4617/4854 [1:28:32<37:34,  9.51s/it]"
     ]
    },
    {
     "name": "stdout",
     "output_type": "stream",
     "text": [
      "Scraping CIK 0000103730\n"
     ]
    },
    {
     "name": "stderr",
     "output_type": "stream",
     "text": [
      " 95%|█████████▌| 4618/4854 [1:28:46<42:44, 10.87s/it]"
     ]
    },
    {
     "name": "stdout",
     "output_type": "stream",
     "text": [
      "Scraping CIK 0001607716\n"
     ]
    },
    {
     "name": "stderr",
     "output_type": "stream",
     "text": [
      " 95%|█████████▌| 4619/4854 [1:28:50<34:29,  8.80s/it]"
     ]
    },
    {
     "name": "stdout",
     "output_type": "stream",
     "text": [
      "Scraping CIK 0001692819\n"
     ]
    },
    {
     "name": "stderr",
     "output_type": "stream",
     "text": [
      " 95%|█████████▌| 4620/4854 [1:28:52<26:27,  6.78s/it]"
     ]
    },
    {
     "name": "stdout",
     "output_type": "stream",
     "text": [
      "Scraping CIK 0001526119\n"
     ]
    },
    {
     "name": "stderr",
     "output_type": "stream",
     "text": [
      " 95%|█████████▌| 4621/4854 [1:28:57<23:49,  6.13s/it]"
     ]
    },
    {
     "name": "stdout",
     "output_type": "stream",
     "text": [
      "Scraping CIK 0001616318\n"
     ]
    },
    {
     "name": "stderr",
     "output_type": "stream",
     "text": [
      " 95%|█████████▌| 4622/4854 [1:29:01<22:01,  5.70s/it]"
     ]
    },
    {
     "name": "stdout",
     "output_type": "stream",
     "text": [
      "Scraping CIK 0001172088\n"
     ]
    },
    {
     "name": "stderr",
     "output_type": "stream",
     "text": [
      " 95%|█████████▌| 4623/4854 [1:29:02<15:44,  4.09s/it]"
     ]
    },
    {
     "name": "stdout",
     "output_type": "stream",
     "text": [
      "Scraping CIK 0001411685\n"
     ]
    },
    {
     "name": "stderr",
     "output_type": "stream",
     "text": [
      " 95%|█████████▌| 4624/4854 [1:29:09<19:07,  4.99s/it]"
     ]
    },
    {
     "name": "stdout",
     "output_type": "stream",
     "text": [
      "Scraping CIK 0000890447\n"
     ]
    },
    {
     "name": "stderr",
     "output_type": "stream",
     "text": [
      " 95%|█████████▌| 4625/4854 [1:29:17<22:59,  6.03s/it]"
     ]
    },
    {
     "name": "stdout",
     "output_type": "stream",
     "text": [
      "Scraping CIK 0001525221\n"
     ]
    },
    {
     "name": "stderr",
     "output_type": "stream",
     "text": [
      " 95%|█████████▌| 4626/4854 [1:29:23<22:13,  5.85s/it]"
     ]
    },
    {
     "name": "stdout",
     "output_type": "stream",
     "text": [
      "Scraping CIK 0000740260\n"
     ]
    },
    {
     "name": "stderr",
     "output_type": "stream",
     "text": [
      " 95%|█████████▌| 4627/4854 [1:29:37<31:51,  8.42s/it]"
     ]
    },
    {
     "name": "stdout",
     "output_type": "stream",
     "text": [
      "Scraping CIK 0001085243\n"
     ]
    },
    {
     "name": "stderr",
     "output_type": "stream",
     "text": [
      " 95%|█████████▌| 4628/4854 [1:29:39<24:12,  6.43s/it]"
     ]
    },
    {
     "name": "stdout",
     "output_type": "stream",
     "text": [
      "Scraping CIK 0001641489\n"
     ]
    },
    {
     "name": "stderr",
     "output_type": "stream",
     "text": [
      " 95%|█████████▌| 4629/4854 [1:29:42<20:21,  5.43s/it]"
     ]
    },
    {
     "name": "stdout",
     "output_type": "stream",
     "text": [
      "Scraping CIK 0001463972\n"
     ]
    },
    {
     "name": "stderr",
     "output_type": "stream",
     "text": [
      " 95%|█████████▌| 4630/4854 [1:29:48<21:31,  5.77s/it]"
     ]
    },
    {
     "name": "stdout",
     "output_type": "stream",
     "text": [
      "Scraping CIK 0000884219\n"
     ]
    },
    {
     "name": "stderr",
     "output_type": "stream",
     "text": [
      " 95%|█████████▌| 4631/4854 [1:30:03<30:49,  8.29s/it]"
     ]
    },
    {
     "name": "stdout",
     "output_type": "stream",
     "text": [
      "Scraping CIK 0001713952\n"
     ]
    },
    {
     "name": "stderr",
     "output_type": "stream",
     "text": [
      " 95%|█████████▌| 4633/4854 [1:30:05<16:33,  4.49s/it]"
     ]
    },
    {
     "name": "stdout",
     "output_type": "stream",
     "text": [
      "Scraping CIK 0001681348\n",
      "Scraping CIK 0000881524\n"
     ]
    },
    {
     "name": "stderr",
     "output_type": "stream",
     "text": [
      " 95%|█████████▌| 4634/4854 [1:30:16<23:57,  6.53s/it]"
     ]
    },
    {
     "name": "stdout",
     "output_type": "stream",
     "text": [
      "Scraping CIK 0001674910\n"
     ]
    },
    {
     "name": "stderr",
     "output_type": "stream",
     "text": [
      " 95%|█████████▌| 4635/4854 [1:30:18<19:13,  5.27s/it]"
     ]
    },
    {
     "name": "stdout",
     "output_type": "stream",
     "text": [
      "Scraping CIK 0000072444\n"
     ]
    },
    {
     "name": "stderr",
     "output_type": "stream",
     "text": [
      " 96%|█████████▌| 4636/4854 [1:30:31<27:08,  7.47s/it]"
     ]
    },
    {
     "name": "stdout",
     "output_type": "stream",
     "text": [
      "Scraping CIK 0001640266\n"
     ]
    },
    {
     "name": "stderr",
     "output_type": "stream",
     "text": [
      " 96%|█████████▌| 4637/4854 [1:30:34<22:23,  6.19s/it]"
     ]
    },
    {
     "name": "stdout",
     "output_type": "stream",
     "text": [
      "Scraping CIK 0000732712\n"
     ]
    },
    {
     "name": "stderr",
     "output_type": "stream",
     "text": [
      " 96%|█████████▌| 4638/4854 [1:30:46<28:21,  7.88s/it]"
     ]
    },
    {
     "name": "stdout",
     "output_type": "stream",
     "text": [
      "Scraping CIK 0001616707\n"
     ]
    },
    {
     "name": "stderr",
     "output_type": "stream",
     "text": [
      " 96%|█████████▌| 4639/4854 [1:30:49<23:24,  6.53s/it]"
     ]
    },
    {
     "name": "stdout",
     "output_type": "stream",
     "text": [
      "Scraping CIK 0000943452\n"
     ]
    },
    {
     "name": "stderr",
     "output_type": "stream",
     "text": [
      " 96%|█████████▌| 4640/4854 [1:31:02<29:50,  8.37s/it]"
     ]
    },
    {
     "name": "stdout",
     "output_type": "stream",
     "text": [
      "Scraping CIK 0000311094\n"
     ]
    },
    {
     "name": "stderr",
     "output_type": "stream",
     "text": [
      " 96%|█████████▌| 4641/4854 [1:31:15<34:52,  9.83s/it]"
     ]
    },
    {
     "name": "stdout",
     "output_type": "stream",
     "text": [
      "Scraping CIK 0000936528\n"
     ]
    },
    {
     "name": "stderr",
     "output_type": "stream",
     "text": [
      " 96%|█████████▌| 4643/4854 [1:31:27<25:43,  7.31s/it]"
     ]
    },
    {
     "name": "stdout",
     "output_type": "stream",
     "text": [
      "Scraping CIK 0001716770\n",
      "Scraping CIK 0001212545\n"
     ]
    },
    {
     "name": "stderr",
     "output_type": "stream",
     "text": [
      " 96%|█████████▌| 4644/4854 [1:31:37<27:59,  8.00s/it]"
     ]
    },
    {
     "name": "stdout",
     "output_type": "stream",
     "text": [
      "Scraping CIK 0000737468\n"
     ]
    },
    {
     "name": "stderr",
     "output_type": "stream",
     "text": [
      " 96%|█████████▌| 4645/4854 [1:31:50<33:31,  9.63s/it]"
     ]
    },
    {
     "name": "stdout",
     "output_type": "stream",
     "text": [
      "Scraping CIK 0001000697\n"
     ]
    },
    {
     "name": "stderr",
     "output_type": "stream",
     "text": [
      " 96%|█████████▌| 4646/4854 [1:32:01<35:11, 10.15s/it]"
     ]
    },
    {
     "name": "stdout",
     "output_type": "stream",
     "text": [
      "Scraping CIK 0001575793\n"
     ]
    },
    {
     "name": "stderr",
     "output_type": "stream",
     "text": [
      " 96%|█████████▌| 4648/4854 [1:32:05<19:30,  5.68s/it]"
     ]
    },
    {
     "name": "stdout",
     "output_type": "stream",
     "text": [
      "Scraping CIK 0001595761\n",
      "Scraping CIK 0001618921\n"
     ]
    },
    {
     "name": "stderr",
     "output_type": "stream",
     "text": [
      " 96%|█████████▌| 4650/4854 [1:32:09<12:14,  3.60s/it]"
     ]
    },
    {
     "name": "stdout",
     "output_type": "stream",
     "text": [
      "Scraping CIK 0001517496\n",
      "Scraping CIK 0000719245\n"
     ]
    },
    {
     "name": "stderr",
     "output_type": "stream",
     "text": [
      " 96%|█████████▌| 4651/4854 [1:32:09<08:41,  2.57s/it]"
     ]
    },
    {
     "name": "stdout",
     "output_type": "stream",
     "text": [
      "Scraping CIK 0000801337\n"
     ]
    },
    {
     "name": "stderr",
     "output_type": "stream",
     "text": [
      " 96%|█████████▌| 4652/4854 [1:32:21<18:08,  5.39s/it]"
     ]
    },
    {
     "name": "stdout",
     "output_type": "stream",
     "text": [
      "Scraping CIK 0001650962\n"
     ]
    },
    {
     "name": "stderr",
     "output_type": "stream",
     "text": [
      " 96%|█████████▌| 4653/4854 [1:32:24<16:16,  4.86s/it]"
     ]
    },
    {
     "name": "stdout",
     "output_type": "stream",
     "text": [
      "Scraping CIK 0000929008\n"
     ]
    },
    {
     "name": "stderr",
     "output_type": "stream",
     "text": [
      " 96%|█████████▌| 4654/4854 [1:32:35<22:29,  6.75s/it]"
     ]
    },
    {
     "name": "stdout",
     "output_type": "stream",
     "text": [
      "Scraping CIK 0001318220\n"
     ]
    },
    {
     "name": "stderr",
     "output_type": "stream",
     "text": [
      " 96%|█████████▌| 4655/4854 [1:32:38<17:56,  5.41s/it]"
     ]
    },
    {
     "name": "stdout",
     "output_type": "stream",
     "text": [
      "Scraping CIK 0001497770\n"
     ]
    },
    {
     "name": "stderr",
     "output_type": "stream",
     "text": [
      " 96%|█████████▌| 4656/4854 [1:32:44<18:55,  5.74s/it]"
     ]
    },
    {
     "name": "stdout",
     "output_type": "stream",
     "text": [
      "Scraping CIK 0001327811\n"
     ]
    },
    {
     "name": "stderr",
     "output_type": "stream",
     "text": [
      " 96%|█████████▌| 4657/4854 [1:32:48<17:18,  5.27s/it]"
     ]
    },
    {
     "name": "stdout",
     "output_type": "stream",
     "text": [
      "Scraping CIK 0000106040\n"
     ]
    },
    {
     "name": "stderr",
     "output_type": "stream",
     "text": [
      " 96%|█████████▌| 4658/4854 [1:33:01<24:05,  7.37s/it]"
     ]
    },
    {
     "name": "stdout",
     "output_type": "stream",
     "text": [
      "Scraping CIK 0000105132\n"
     ]
    },
    {
     "name": "stderr",
     "output_type": "stream",
     "text": [
      " 96%|█████████▌| 4659/4854 [1:33:13<28:57,  8.91s/it]"
     ]
    },
    {
     "name": "stdout",
     "output_type": "stream",
     "text": [
      "Scraping CIK 0001052100\n"
     ]
    },
    {
     "name": "stderr",
     "output_type": "stream",
     "text": [
      " 96%|█████████▌| 4660/4854 [1:33:25<31:11,  9.64s/it]"
     ]
    },
    {
     "name": "stdout",
     "output_type": "stream",
     "text": [
      "Scraping CIK 0000783325\n"
     ]
    },
    {
     "name": "stderr",
     "output_type": "stream",
     "text": [
      " 96%|█████████▌| 4662/4854 [1:33:38<24:19,  7.60s/it]"
     ]
    },
    {
     "name": "stdout",
     "output_type": "stream",
     "text": [
      "Scraping CIK 0001734902\n",
      "Scraping CIK 0000766704\n"
     ]
    },
    {
     "name": "stderr",
     "output_type": "stream",
     "text": [
      " 96%|█████████▌| 4663/4854 [1:33:54<32:03, 10.07s/it]"
     ]
    },
    {
     "name": "stdout",
     "output_type": "stream",
     "text": [
      "Scraping CIK 0000030697\n"
     ]
    },
    {
     "name": "stderr",
     "output_type": "stream",
     "text": [
      " 96%|█████████▌| 4664/4854 [1:34:09<36:39, 11.58s/it]"
     ]
    },
    {
     "name": "stdout",
     "output_type": "stream",
     "text": [
      "Scraping CIK 0000793074\n"
     ]
    },
    {
     "name": "stderr",
     "output_type": "stream",
     "text": [
      " 96%|█████████▌| 4665/4854 [1:34:21<36:42, 11.66s/it]"
     ]
    },
    {
     "name": "stdout",
     "output_type": "stream",
     "text": [
      "Scraping CIK 0001423902\n"
     ]
    },
    {
     "name": "stderr",
     "output_type": "stream",
     "text": [
      " 96%|█████████▌| 4666/4854 [1:34:26<30:28,  9.73s/it]"
     ]
    },
    {
     "name": "stdout",
     "output_type": "stream",
     "text": [
      "Scraping CIK 0000880631\n"
     ]
    },
    {
     "name": "stderr",
     "output_type": "stream",
     "text": [
      " 96%|█████████▌| 4667/4854 [1:34:32<26:39,  8.55s/it]"
     ]
    },
    {
     "name": "stdout",
     "output_type": "stream",
     "text": [
      "Scraping CIK 0001309108\n"
     ]
    },
    {
     "name": "stderr",
     "output_type": "stream",
     "text": [
      " 96%|█████████▌| 4668/4854 [1:34:42<27:27,  8.86s/it]"
     ]
    },
    {
     "name": "stdout",
     "output_type": "stream",
     "text": [
      "Scraping CIK 0000106532\n"
     ]
    },
    {
     "name": "stderr",
     "output_type": "stream",
     "text": [
      " 96%|█████████▌| 4670/4854 [1:34:54<21:09,  6.90s/it]"
     ]
    },
    {
     "name": "stdout",
     "output_type": "stream",
     "text": [
      "Scraping CIK 0001264136\n",
      "Scraping CIK 0000072971\n"
     ]
    },
    {
     "name": "stderr",
     "output_type": "stream",
     "text": [
      " 96%|█████████▌| 4671/4854 [1:35:05<25:29,  8.36s/it]"
     ]
    },
    {
     "name": "stdout",
     "output_type": "stream",
     "text": [
      "Scraping CIK 0000107687\n"
     ]
    },
    {
     "name": "stderr",
     "output_type": "stream",
     "text": [
      " 96%|█████████▋| 4672/4854 [1:35:17<28:12,  9.30s/it]"
     ]
    },
    {
     "name": "stdout",
     "output_type": "stream",
     "text": [
      "Scraping CIK 0001722684\n"
     ]
    },
    {
     "name": "stderr",
     "output_type": "stream",
     "text": [
      " 96%|█████████▋| 4673/4854 [1:35:18<20:42,  6.86s/it]"
     ]
    },
    {
     "name": "stdout",
     "output_type": "stream",
     "text": [
      "Scraping CIK 0001699136\n"
     ]
    },
    {
     "name": "stderr",
     "output_type": "stream",
     "text": [
      " 96%|█████████▋| 4674/4854 [1:35:20<16:29,  5.50s/it]"
     ]
    },
    {
     "name": "stdout",
     "output_type": "stream",
     "text": [
      "Scraping CIK 0001165002\n"
     ]
    },
    {
     "name": "stderr",
     "output_type": "stream",
     "text": [
      " 96%|█████████▋| 4675/4854 [1:35:30<19:50,  6.65s/it]"
     ]
    },
    {
     "name": "stdout",
     "output_type": "stream",
     "text": [
      "Scraping CIK 0001013706\n"
     ]
    },
    {
     "name": "stderr",
     "output_type": "stream",
     "text": [
      " 96%|█████████▋| 4676/4854 [1:35:40<23:14,  7.83s/it]"
     ]
    },
    {
     "name": "stdout",
     "output_type": "stream",
     "text": [
      "Scraping CIK 0001527541\n"
     ]
    },
    {
     "name": "stderr",
     "output_type": "stream",
     "text": [
      " 96%|█████████▋| 4677/4854 [1:35:46<20:46,  7.04s/it]"
     ]
    },
    {
     "name": "stdout",
     "output_type": "stream",
     "text": [
      "Scraping CIK 0000106640\n"
     ]
    },
    {
     "name": "stderr",
     "output_type": "stream",
     "text": [
      " 96%|█████████▋| 4678/4854 [1:35:59<26:00,  8.87s/it]"
     ]
    },
    {
     "name": "stdout",
     "output_type": "stream",
     "text": [
      "Scraping CIK 0001169988\n"
     ]
    },
    {
     "name": "stderr",
     "output_type": "stream",
     "text": [
      " 96%|█████████▋| 4680/4854 [1:36:04<15:39,  5.40s/it]"
     ]
    },
    {
     "name": "stdout",
     "output_type": "stream",
     "text": [
      "Scraping CIK 0001030997\n",
      "Scraping CIK 0001770088\n"
     ]
    },
    {
     "name": "stderr",
     "output_type": "stream",
     "text": [
      " 96%|█████████▋| 4681/4854 [1:36:04<11:03,  3.83s/it]"
     ]
    },
    {
     "name": "stdout",
     "output_type": "stream",
     "text": [
      "Scraping CIK 0000908315\n"
     ]
    },
    {
     "name": "stderr",
     "output_type": "stream",
     "text": [
      " 96%|█████████▋| 4682/4854 [1:36:16<18:16,  6.37s/it]"
     ]
    },
    {
     "name": "stdout",
     "output_type": "stream",
     "text": [
      "Scraping CIK 0001636222\n"
     ]
    },
    {
     "name": "stderr",
     "output_type": "stream",
     "text": [
      " 96%|█████████▋| 4683/4854 [1:36:19<15:24,  5.41s/it]"
     ]
    },
    {
     "name": "stdout",
     "output_type": "stream",
     "text": [
      "Scraping CIK 0001640251\n"
     ]
    },
    {
     "name": "stderr",
     "output_type": "stream",
     "text": [
      " 96%|█████████▋| 4684/4854 [1:36:20<11:04,  3.91s/it]"
     ]
    },
    {
     "name": "stdout",
     "output_type": "stream",
     "text": [
      "Scraping CIK 0000946486\n"
     ]
    },
    {
     "name": "stderr",
     "output_type": "stream",
     "text": [
      " 97%|█████████▋| 4685/4854 [1:36:30<16:22,  5.82s/it]"
     ]
    },
    {
     "name": "stdout",
     "output_type": "stream",
     "text": [
      "Scraping CIK 0000850460\n"
     ]
    },
    {
     "name": "stderr",
     "output_type": "stream",
     "text": [
      " 97%|█████████▋| 4686/4854 [1:36:42<21:10,  7.56s/it]"
     ]
    },
    {
     "name": "stdout",
     "output_type": "stream",
     "text": [
      "Scraping CIK 0001682149\n"
     ]
    },
    {
     "name": "stderr",
     "output_type": "stream",
     "text": [
      " 97%|█████████▋| 4688/4854 [1:36:43<11:10,  4.04s/it]"
     ]
    },
    {
     "name": "stdout",
     "output_type": "stream",
     "text": [
      "Scraping CIK 0001123799\n",
      "Scraping CIK 0001576789\n"
     ]
    },
    {
     "name": "stderr",
     "output_type": "stream",
     "text": [
      " 97%|█████████▋| 4689/4854 [1:36:43<07:53,  2.87s/it]"
     ]
    },
    {
     "name": "stdout",
     "output_type": "stream",
     "text": [
      "Scraping CIK 0001445305\n"
     ]
    },
    {
     "name": "stderr",
     "output_type": "stream",
     "text": [
      " 97%|█████████▋| 4691/4854 [1:36:46<05:26,  2.00s/it]"
     ]
    },
    {
     "name": "stdout",
     "output_type": "stream",
     "text": [
      "Scraping CIK 0001738699\n",
      "Scraping CIK 0001425287\n"
     ]
    },
    {
     "name": "stderr",
     "output_type": "stream",
     "text": [
      " 97%|█████████▋| 4692/4854 [1:36:52<08:42,  3.23s/it]"
     ]
    },
    {
     "name": "stdout",
     "output_type": "stream",
     "text": [
      "Scraping CIK 0001370450\n"
     ]
    },
    {
     "name": "stderr",
     "output_type": "stream",
     "text": [
      " 97%|█████████▋| 4693/4854 [1:37:00<12:45,  4.75s/it]"
     ]
    },
    {
     "name": "stdout",
     "output_type": "stream",
     "text": [
      "Scraping CIK 0001018164\n"
     ]
    },
    {
     "name": "stderr",
     "output_type": "stream",
     "text": [
      " 97%|█████████▋| 4694/4854 [1:37:13<18:40,  7.00s/it]"
     ]
    },
    {
     "name": "stdout",
     "output_type": "stream",
     "text": [
      "Scraping CIK 0001262823\n"
     ]
    },
    {
     "name": "stderr",
     "output_type": "stream",
     "text": [
      " 97%|█████████▋| 4695/4854 [1:37:22<20:45,  7.83s/it]"
     ]
    },
    {
     "name": "stdout",
     "output_type": "stream",
     "text": [
      "Scraping CIK 0001604665\n"
     ]
    },
    {
     "name": "stderr",
     "output_type": "stream",
     "text": [
      " 97%|█████████▋| 4696/4854 [1:37:26<17:07,  6.50s/it]"
     ]
    },
    {
     "name": "stdout",
     "output_type": "stream",
     "text": [
      "Scraping CIK 0001255474\n"
     ]
    },
    {
     "name": "stderr",
     "output_type": "stream",
     "text": [
      " 97%|█████████▋| 4697/4854 [1:37:36<19:36,  7.50s/it]"
     ]
    },
    {
     "name": "stdout",
     "output_type": "stream",
     "text": [
      "Scraping CIK 0001140536\n"
     ]
    },
    {
     "name": "stderr",
     "output_type": "stream",
     "text": [
      " 97%|█████████▋| 4698/4854 [1:37:47<22:17,  8.58s/it]"
     ]
    },
    {
     "name": "stdout",
     "output_type": "stream",
     "text": [
      "Scraping CIK 0000823768\n"
     ]
    },
    {
     "name": "stderr",
     "output_type": "stream",
     "text": [
      " 97%|█████████▋| 4699/4854 [1:38:01<26:20, 10.20s/it]"
     ]
    },
    {
     "name": "stdout",
     "output_type": "stream",
     "text": [
      "Scraping CIK 0000107263\n"
     ]
    },
    {
     "name": "stderr",
     "output_type": "stream",
     "text": [
      " 97%|█████████▋| 4700/4854 [1:38:15<29:20, 11.43s/it]"
     ]
    },
    {
     "name": "stdout",
     "output_type": "stream",
     "text": [
      "Scraping CIK 0001465885\n"
     ]
    },
    {
     "name": "stderr",
     "output_type": "stream",
     "text": [
      " 97%|█████████▋| 4701/4854 [1:38:20<24:33,  9.63s/it]"
     ]
    },
    {
     "name": "stdout",
     "output_type": "stream",
     "text": [
      "Scraping CIK 0001319161\n"
     ]
    },
    {
     "name": "stderr",
     "output_type": "stream",
     "text": [
      " 97%|█████████▋| 4702/4854 [1:38:30<24:26,  9.65s/it]"
     ]
    },
    {
     "name": "stdout",
     "output_type": "stream",
     "text": [
      "Scraping CIK 0001492658\n"
     ]
    },
    {
     "name": "stderr",
     "output_type": "stream",
     "text": [
      " 97%|█████████▋| 4703/4854 [1:38:36<21:31,  8.55s/it]"
     ]
    },
    {
     "name": "stdout",
     "output_type": "stream",
     "text": [
      "Scraping CIK 0000105418\n"
     ]
    },
    {
     "name": "stderr",
     "output_type": "stream",
     "text": [
      " 97%|█████████▋| 4704/4854 [1:38:48<23:53,  9.55s/it]"
     ]
    },
    {
     "name": "stdout",
     "output_type": "stream",
     "text": [
      "Scraping CIK 0001604028\n"
     ]
    },
    {
     "name": "stderr",
     "output_type": "stream",
     "text": [
      " 97%|█████████▋| 4705/4854 [1:38:52<19:31,  7.86s/it]"
     ]
    },
    {
     "name": "stdout",
     "output_type": "stream",
     "text": [
      "Scraping CIK 0000104169\n"
     ]
    },
    {
     "name": "stderr",
     "output_type": "stream",
     "text": [
      " 97%|█████████▋| 4706/4854 [1:39:15<30:28, 12.35s/it]"
     ]
    },
    {
     "name": "stdout",
     "output_type": "stream",
     "text": [
      "Scraping CIK 0000879526\n"
     ]
    },
    {
     "name": "stderr",
     "output_type": "stream",
     "text": [
      " 97%|█████████▋| 4707/4854 [1:39:27<29:58, 12.24s/it]"
     ]
    },
    {
     "name": "stdout",
     "output_type": "stream",
     "text": [
      "Scraping CIK 0001157647\n"
     ]
    },
    {
     "name": "stderr",
     "output_type": "stream",
     "text": [
      " 97%|█████████▋| 4709/4854 [1:39:39<20:33,  8.50s/it]"
     ]
    },
    {
     "name": "stdout",
     "output_type": "stream",
     "text": [
      "Scraping CIK 0001356570\n",
      "Scraping CIK 0000108516\n"
     ]
    },
    {
     "name": "stderr",
     "output_type": "stream",
     "text": [
      " 97%|█████████▋| 4710/4854 [1:39:50<22:41,  9.45s/it]"
     ]
    },
    {
     "name": "stdout",
     "output_type": "stream",
     "text": [
      "Scraping CIK 0001764925\n"
     ]
    },
    {
     "name": "stderr",
     "output_type": "stream",
     "text": [
      " 97%|█████████▋| 4711/4854 [1:39:51<16:04,  6.75s/it]"
     ]
    },
    {
     "name": "stdout",
     "output_type": "stream",
     "text": [
      "Scraping CIK 0001674227\n"
     ]
    },
    {
     "name": "stderr",
     "output_type": "stream",
     "text": [
      " 97%|█████████▋| 4712/4854 [1:39:53<12:44,  5.38s/it]"
     ]
    },
    {
     "name": "stdout",
     "output_type": "stream",
     "text": [
      "Scraping CIK 0001701051\n"
     ]
    },
    {
     "name": "stderr",
     "output_type": "stream",
     "text": [
      " 97%|█████████▋| 4713/4854 [1:39:55<10:08,  4.32s/it]"
     ]
    },
    {
     "name": "stdout",
     "output_type": "stream",
     "text": [
      "Scraping CIK 0001025378\n"
     ]
    },
    {
     "name": "stderr",
     "output_type": "stream",
     "text": [
      " 97%|█████████▋| 4714/4854 [1:40:09<16:42,  7.16s/it]"
     ]
    },
    {
     "name": "stdout",
     "output_type": "stream",
     "text": [
      "Scraping CIK 0001594686\n"
     ]
    },
    {
     "name": "stderr",
     "output_type": "stream",
     "text": [
      " 97%|█████████▋| 4716/4854 [1:40:12<09:58,  4.34s/it]"
     ]
    },
    {
     "name": "stdout",
     "output_type": "stream",
     "text": [
      "Scraping CIK 0001323404\n",
      "Scraping CIK 0000806968\n"
     ]
    },
    {
     "name": "stderr",
     "output_type": "stream",
     "text": [
      " 97%|█████████▋| 4718/4854 [1:40:13<04:58,  2.20s/it]"
     ]
    },
    {
     "name": "stdout",
     "output_type": "stream",
     "text": [
      "Scraping CIK 0001370416\n",
      "Scraping CIK 0001518832\n"
     ]
    },
    {
     "name": "stderr",
     "output_type": "stream",
     "text": [
      " 97%|█████████▋| 4719/4854 [1:40:18<06:51,  3.05s/it]"
     ]
    },
    {
     "name": "stdout",
     "output_type": "stream",
     "text": [
      "Scraping CIK 0000011544\n"
     ]
    },
    {
     "name": "stderr",
     "output_type": "stream",
     "text": [
      " 97%|█████████▋| 4720/4854 [1:40:31<13:22,  5.99s/it]"
     ]
    },
    {
     "name": "stdout",
     "output_type": "stream",
     "text": [
      "Scraping CIK 0000104894\n"
     ]
    },
    {
     "name": "stderr",
     "output_type": "stream",
     "text": [
      " 97%|█████████▋| 4721/4854 [1:40:44<18:24,  8.31s/it]"
     ]
    },
    {
     "name": "stdout",
     "output_type": "stream",
     "text": [
      "Scraping CIK 0000828916\n"
     ]
    },
    {
     "name": "stderr",
     "output_type": "stream",
     "text": [
      " 97%|█████████▋| 4722/4854 [1:40:59<22:24, 10.19s/it]"
     ]
    },
    {
     "name": "stdout",
     "output_type": "stream",
     "text": [
      "Scraping CIK 0001732845\n"
     ]
    },
    {
     "name": "stderr",
     "output_type": "stream",
     "text": [
      " 97%|█████████▋| 4723/4854 [1:41:00<16:26,  7.53s/it]"
     ]
    },
    {
     "name": "stdout",
     "output_type": "stream",
     "text": [
      "Scraping CIK 0000108385\n"
     ]
    },
    {
     "name": "stderr",
     "output_type": "stream",
     "text": [
      " 97%|█████████▋| 4725/4854 [1:41:13<13:34,  6.32s/it]"
     ]
    },
    {
     "name": "stdout",
     "output_type": "stream",
     "text": [
      "Scraping CIK 0001364125\n",
      "Scraping CIK 0000203596\n"
     ]
    },
    {
     "name": "stderr",
     "output_type": "stream",
     "text": [
      " 97%|█████████▋| 4726/4854 [1:41:26<17:45,  8.32s/it]"
     ]
    },
    {
     "name": "stdout",
     "output_type": "stream",
     "text": [
      "Scraping CIK 0001569994\n"
     ]
    },
    {
     "name": "stderr",
     "output_type": "stream",
     "text": [
      " 97%|█████████▋| 4727/4854 [1:41:31<15:32,  7.34s/it]"
     ]
    },
    {
     "name": "stdout",
     "output_type": "stream",
     "text": [
      "Scraping CIK 0001647088\n"
     ]
    },
    {
     "name": "stderr",
     "output_type": "stream",
     "text": [
      " 97%|█████████▋| 4728/4854 [1:41:34<12:37,  6.01s/it]"
     ]
    },
    {
     "name": "stdout",
     "output_type": "stream",
     "text": [
      "Scraping CIK 0000828944\n"
     ]
    },
    {
     "name": "stderr",
     "output_type": "stream",
     "text": [
      " 97%|█████████▋| 4730/4854 [1:41:46<11:40,  5.65s/it]"
     ]
    },
    {
     "name": "stdout",
     "output_type": "stream",
     "text": [
      "Scraping CIK 0001771279\n",
      "Scraping CIK 0000719955\n"
     ]
    },
    {
     "name": "stderr",
     "output_type": "stream",
     "text": [
      " 97%|█████████▋| 4731/4854 [1:41:58<15:05,  7.36s/it]"
     ]
    },
    {
     "name": "stdout",
     "output_type": "stream",
     "text": [
      "Scraping CIK 0000105016\n"
     ]
    },
    {
     "name": "stderr",
     "output_type": "stream",
     "text": [
      " 97%|█████████▋| 4732/4854 [1:42:09<17:10,  8.45s/it]"
     ]
    },
    {
     "name": "stdout",
     "output_type": "stream",
     "text": [
      "Scraping CIK 0001175535\n"
     ]
    },
    {
     "name": "stderr",
     "output_type": "stream",
     "text": [
      " 98%|█████████▊| 4733/4854 [1:42:20<18:49,  9.33s/it]"
     ]
    },
    {
     "name": "stdout",
     "output_type": "stream",
     "text": [
      "Scraping CIK 0000105770\n"
     ]
    },
    {
     "name": "stderr",
     "output_type": "stream",
     "text": [
      " 98%|█████████▊| 4734/4854 [1:42:33<20:35, 10.30s/it]"
     ]
    },
    {
     "name": "stdout",
     "output_type": "stream",
     "text": [
      "Scraping CIK 0000945983\n"
     ]
    },
    {
     "name": "stderr",
     "output_type": "stream",
     "text": [
      " 98%|█████████▊| 4735/4854 [1:42:45<21:24, 10.79s/it]"
     ]
    },
    {
     "name": "stdout",
     "output_type": "stream",
     "text": [
      "Scraping CIK 0001002135\n"
     ]
    },
    {
     "name": "stderr",
     "output_type": "stream",
     "text": [
      " 98%|█████████▊| 4736/4854 [1:42:57<21:58, 11.18s/it]"
     ]
    },
    {
     "name": "stdout",
     "output_type": "stream",
     "text": [
      "Scraping CIK 0001166928\n"
     ]
    },
    {
     "name": "stderr",
     "output_type": "stream",
     "text": [
      " 98%|█████████▊| 4737/4854 [1:43:07<21:17, 10.92s/it]"
     ]
    },
    {
     "name": "stdout",
     "output_type": "stream",
     "text": [
      "Scraping CIK 0001532390\n"
     ]
    },
    {
     "name": "stderr",
     "output_type": "stream",
     "text": [
      " 98%|█████████▊| 4738/4854 [1:43:12<17:24,  9.01s/it]"
     ]
    },
    {
     "name": "stdout",
     "output_type": "stream",
     "text": [
      "Scraping CIK 0001015328\n"
     ]
    },
    {
     "name": "stderr",
     "output_type": "stream",
     "text": [
      " 98%|█████████▊| 4739/4854 [1:43:32<23:49, 12.43s/it]"
     ]
    },
    {
     "name": "stdout",
     "output_type": "stream",
     "text": [
      "Scraping CIK 0001288403\n"
     ]
    },
    {
     "name": "stderr",
     "output_type": "stream",
     "text": [
      " 98%|█████████▊| 4740/4854 [1:43:43<22:40, 11.93s/it]"
     ]
    },
    {
     "name": "stdout",
     "output_type": "stream",
     "text": [
      "Scraping CIK 0000776867\n"
     ]
    },
    {
     "name": "stderr",
     "output_type": "stream",
     "text": [
      " 98%|█████████▊| 4741/4854 [1:43:58<24:12, 12.85s/it]"
     ]
    },
    {
     "name": "stdout",
     "output_type": "stream",
     "text": [
      "Scraping CIK 0001601669\n"
     ]
    },
    {
     "name": "stderr",
     "output_type": "stream",
     "text": [
      " 98%|█████████▊| 4742/4854 [1:43:59<17:22,  9.31s/it]"
     ]
    },
    {
     "name": "stdout",
     "output_type": "stream",
     "text": [
      "Scraping CIK 0000078128\n"
     ]
    },
    {
     "name": "stderr",
     "output_type": "stream",
     "text": [
      " 98%|█████████▊| 4743/4854 [1:44:13<19:52, 10.74s/it]"
     ]
    },
    {
     "name": "stdout",
     "output_type": "stream",
     "text": [
      "Scraping CIK 0001653247\n"
     ]
    },
    {
     "name": "stderr",
     "output_type": "stream",
     "text": [
      " 98%|█████████▊| 4744/4854 [1:44:16<15:24,  8.41s/it]"
     ]
    },
    {
     "name": "stdout",
     "output_type": "stream",
     "text": [
      "Scraping CIK 0000795403\n"
     ]
    },
    {
     "name": "stderr",
     "output_type": "stream",
     "text": [
      " 98%|█████████▊| 4745/4854 [1:44:30<18:10, 10.00s/it]"
     ]
    },
    {
     "name": "stdout",
     "output_type": "stream",
     "text": [
      "Scraping CIK 0000878828\n"
     ]
    },
    {
     "name": "stderr",
     "output_type": "stream",
     "text": [
      " 98%|█████████▊| 4746/4854 [1:44:40<18:16, 10.15s/it]"
     ]
    },
    {
     "name": "stdout",
     "output_type": "stream",
     "text": [
      "Scraping CIK 0001693256\n"
     ]
    },
    {
     "name": "stderr",
     "output_type": "stream",
     "text": [
      " 98%|█████████▊| 4747/4854 [1:44:42<13:43,  7.70s/it]"
     ]
    },
    {
     "name": "stdout",
     "output_type": "stream",
     "text": [
      "Scraping CIK 0001365135\n"
     ]
    },
    {
     "name": "stderr",
     "output_type": "stream",
     "text": [
      " 98%|█████████▊| 4749/4854 [1:44:50<09:34,  5.47s/it]"
     ]
    },
    {
     "name": "stdout",
     "output_type": "stream",
     "text": [
      "Scraping CIK 0001525494\n",
      "Scraping CIK 0001631574\n"
     ]
    },
    {
     "name": "stderr",
     "output_type": "stream",
     "text": [
      " 98%|█████████▊| 4750/4854 [1:44:52<07:50,  4.53s/it]"
     ]
    },
    {
     "name": "stdout",
     "output_type": "stream",
     "text": [
      "Scraping CIK 0000910679\n"
     ]
    },
    {
     "name": "stderr",
     "output_type": "stream",
     "text": [
      " 98%|█████████▊| 4751/4854 [1:45:02<10:29,  6.11s/it]"
     ]
    },
    {
     "name": "stdout",
     "output_type": "stream",
     "text": [
      "Scraping CIK 0000838875\n"
     ]
    },
    {
     "name": "stderr",
     "output_type": "stream",
     "text": [
      " 98%|█████████▊| 4752/4854 [1:45:08<10:25,  6.13s/it]"
     ]
    },
    {
     "name": "stdout",
     "output_type": "stream",
     "text": [
      "Scraping CIK 0000105319\n"
     ]
    },
    {
     "name": "stderr",
     "output_type": "stream",
     "text": [
      " 98%|█████████▊| 4753/4854 [1:45:19<12:39,  7.52s/it]"
     ]
    },
    {
     "name": "stdout",
     "output_type": "stream",
     "text": [
      "Scraping CIK 0000108312\n"
     ]
    },
    {
     "name": "stderr",
     "output_type": "stream",
     "text": [
      " 98%|█████████▊| 4754/4854 [1:45:32<15:00,  9.00s/it]"
     ]
    },
    {
     "name": "stdout",
     "output_type": "stream",
     "text": [
      "Scraping CIK 0001091907\n"
     ]
    },
    {
     "name": "stderr",
     "output_type": "stream",
     "text": [
      " 98%|█████████▊| 4755/4854 [1:45:44<16:24,  9.95s/it]"
     ]
    },
    {
     "name": "stdout",
     "output_type": "stream",
     "text": [
      "Scraping CIK 0000839470\n"
     ]
    },
    {
     "name": "stderr",
     "output_type": "stream",
     "text": [
      " 98%|█████████▊| 4756/4854 [1:45:53<15:56,  9.76s/it]"
     ]
    },
    {
     "name": "stdout",
     "output_type": "stream",
     "text": [
      "Scraping CIK 0000110471\n"
     ]
    },
    {
     "name": "stderr",
     "output_type": "stream",
     "text": [
      " 98%|█████████▊| 4757/4854 [1:46:06<17:04, 10.56s/it]"
     ]
    },
    {
     "name": "stdout",
     "output_type": "stream",
     "text": [
      "Scraping CIK 0000106535\n"
     ]
    },
    {
     "name": "stderr",
     "output_type": "stream",
     "text": [
      " 98%|█████████▊| 4758/4854 [1:46:19<18:03, 11.28s/it]"
     ]
    },
    {
     "name": "stdout",
     "output_type": "stream",
     "text": [
      "Scraping CIK 0001361658\n"
     ]
    },
    {
     "name": "stderr",
     "output_type": "stream",
     "text": [
      " 98%|█████████▊| 4759/4854 [1:46:27<16:23, 10.35s/it]"
     ]
    },
    {
     "name": "stdout",
     "output_type": "stream",
     "text": [
      "Scraping CIK 0001174922\n"
     ]
    },
    {
     "name": "stderr",
     "output_type": "stream",
     "text": [
      " 98%|█████████▊| 4760/4854 [1:46:37<16:01, 10.23s/it]"
     ]
    },
    {
     "name": "stdout",
     "output_type": "stream",
     "text": [
      "Scraping CIK 0001034760\n"
     ]
    },
    {
     "name": "stderr",
     "output_type": "stream",
     "text": [
      " 98%|█████████▊| 4761/4854 [1:46:48<16:08, 10.42s/it]"
     ]
    },
    {
     "name": "stdout",
     "output_type": "stream",
     "text": [
      "Scraping CIK 0001163302\n"
     ]
    },
    {
     "name": "stderr",
     "output_type": "stream",
     "text": [
      " 98%|█████████▊| 4762/4854 [1:47:00<16:43, 10.90s/it]"
     ]
    },
    {
     "name": "stdout",
     "output_type": "stream",
     "text": [
      "Scraping CIK 0001641631\n"
     ]
    },
    {
     "name": "stderr",
     "output_type": "stream",
     "text": [
      " 98%|█████████▊| 4763/4854 [1:47:02<12:37,  8.32s/it]"
     ]
    },
    {
     "name": "stdout",
     "output_type": "stream",
     "text": [
      "Scraping CIK 0001332551\n"
     ]
    },
    {
     "name": "stderr",
     "output_type": "stream",
     "text": [
      " 98%|█████████▊| 4764/4854 [1:47:13<13:34,  9.05s/it]"
     ]
    },
    {
     "name": "stdout",
     "output_type": "stream",
     "text": [
      "Scraping CIK 0001534525\n"
     ]
    },
    {
     "name": "stderr",
     "output_type": "stream",
     "text": [
      " 98%|█████████▊| 4765/4854 [1:47:17<11:10,  7.53s/it]"
     ]
    },
    {
     "name": "stdout",
     "output_type": "stream",
     "text": [
      "Scraping CIK 0001626878\n"
     ]
    },
    {
     "name": "stderr",
     "output_type": "stream",
     "text": [
      " 98%|█████████▊| 4766/4854 [1:47:19<08:53,  6.06s/it]"
     ]
    },
    {
     "name": "stdout",
     "output_type": "stream",
     "text": [
      "Scraping CIK 0001698530\n"
     ]
    },
    {
     "name": "stderr",
     "output_type": "stream",
     "text": [
      " 98%|█████████▊| 4767/4854 [1:47:21<06:53,  4.75s/it]"
     ]
    },
    {
     "name": "stdout",
     "output_type": "stream",
     "text": [
      "Scraping CIK 0001168054\n"
     ]
    },
    {
     "name": "stderr",
     "output_type": "stream",
     "text": [
      " 98%|█████████▊| 4768/4854 [1:47:31<09:06,  6.35s/it]"
     ]
    },
    {
     "name": "stdout",
     "output_type": "stream",
     "text": [
      "Scraping CIK 0000072903\n"
     ]
    },
    {
     "name": "stderr",
     "output_type": "stream",
     "text": [
      " 98%|█████████▊| 4769/4854 [1:47:45<12:21,  8.72s/it]"
     ]
    },
    {
     "name": "stdout",
     "output_type": "stream",
     "text": [
      "Scraping CIK 0001620179\n"
     ]
    },
    {
     "name": "stderr",
     "output_type": "stream",
     "text": [
      " 98%|█████████▊| 4770/4854 [1:47:49<10:02,  7.18s/it]"
     ]
    },
    {
     "name": "stdout",
     "output_type": "stream",
     "text": [
      "Scraping CIK 0001083220\n"
     ]
    },
    {
     "name": "stderr",
     "output_type": "stream",
     "text": [
      " 98%|█████████▊| 4771/4854 [1:47:56<09:45,  7.05s/it]"
     ]
    },
    {
     "name": "stdout",
     "output_type": "stream",
     "text": [
      "Scraping CIK 0001582313\n"
     ]
    },
    {
     "name": "stderr",
     "output_type": "stream",
     "text": [
      " 98%|█████████▊| 4772/4854 [1:47:59<07:57,  5.83s/it]"
     ]
    },
    {
     "name": "stdout",
     "output_type": "stream",
     "text": [
      "Scraping CIK 0001271214\n"
     ]
    },
    {
     "name": "stderr",
     "output_type": "stream",
     "text": [
      " 98%|█████████▊| 4773/4854 [1:48:02<06:53,  5.10s/it]"
     ]
    },
    {
     "name": "stdout",
     "output_type": "stream",
     "text": [
      "Scraping CIK 0001346302\n"
     ]
    },
    {
     "name": "stderr",
     "output_type": "stream",
     "text": [
      " 98%|█████████▊| 4774/4854 [1:48:03<05:09,  3.87s/it]"
     ]
    },
    {
     "name": "stdout",
     "output_type": "stream",
     "text": [
      "Scraping CIK 0001501697\n"
     ]
    },
    {
     "name": "stderr",
     "output_type": "stream",
     "text": [
      " 98%|█████████▊| 4775/4854 [1:48:05<04:15,  3.23s/it]"
     ]
    },
    {
     "name": "stdout",
     "output_type": "stream",
     "text": [
      "Scraping CIK 0001274737\n"
     ]
    },
    {
     "name": "stderr",
     "output_type": "stream",
     "text": [
      " 98%|█████████▊| 4776/4854 [1:48:05<03:08,  2.42s/it]"
     ]
    },
    {
     "name": "stdout",
     "output_type": "stream",
     "text": [
      "Scraping CIK 0001616000\n"
     ]
    },
    {
     "name": "stderr",
     "output_type": "stream",
     "text": [
      " 98%|█████████▊| 4778/4854 [1:48:09<02:35,  2.05s/it]"
     ]
    },
    {
     "name": "stdout",
     "output_type": "stream",
     "text": [
      "Scraping CIK 0001398453\n",
      "Scraping CIK 0000743988\n"
     ]
    },
    {
     "name": "stderr",
     "output_type": "stream",
     "text": [
      " 98%|█████████▊| 4779/4854 [1:48:21<06:15,  5.01s/it]"
     ]
    },
    {
     "name": "stdout",
     "output_type": "stream",
     "text": [
      "Scraping CIK 0001280600\n"
     ]
    },
    {
     "name": "stderr",
     "output_type": "stream",
     "text": [
      " 98%|█████████▊| 4780/4854 [1:48:25<05:45,  4.67s/it]"
     ]
    },
    {
     "name": "stdout",
     "output_type": "stream",
     "text": [
      "Scraping CIK 0001326732\n"
     ]
    },
    {
     "name": "stderr",
     "output_type": "stream",
     "text": [
      " 99%|█████████▊| 4782/4854 [1:48:28<03:36,  3.00s/it]"
     ]
    },
    {
     "name": "stdout",
     "output_type": "stream",
     "text": [
      "Scraping CIK 0001510593\n",
      "Scraping CIK 0001655020\n"
     ]
    },
    {
     "name": "stderr",
     "output_type": "stream",
     "text": [
      " 99%|█████████▊| 4783/4854 [1:48:31<03:27,  2.93s/it]"
     ]
    },
    {
     "name": "stdout",
     "output_type": "stream",
     "text": [
      "Scraping CIK 0000034088\n"
     ]
    },
    {
     "name": "stderr",
     "output_type": "stream",
     "text": [
      " 99%|█████████▊| 4784/4854 [1:48:46<07:37,  6.53s/it]"
     ]
    },
    {
     "name": "stdout",
     "output_type": "stream",
     "text": [
      "Scraping CIK 0000791908\n"
     ]
    },
    {
     "name": "stderr",
     "output_type": "stream",
     "text": [
      " 99%|█████████▊| 4785/4854 [1:48:56<08:49,  7.67s/it]"
     ]
    },
    {
     "name": "stdout",
     "output_type": "stream",
     "text": [
      "Scraping CIK 0001561627\n"
     ]
    },
    {
     "name": "stderr",
     "output_type": "stream",
     "text": [
      " 99%|█████████▊| 4787/4854 [1:49:02<05:33,  4.97s/it]"
     ]
    },
    {
     "name": "stdout",
     "output_type": "stream",
     "text": [
      "Scraping CIK 0001787425\n",
      "Scraping CIK 0001767258\n"
     ]
    },
    {
     "name": "stderr",
     "output_type": "stream",
     "text": [
      " 99%|█████████▊| 4789/4854 [1:49:03<02:53,  2.67s/it]"
     ]
    },
    {
     "name": "stdout",
     "output_type": "stream",
     "text": [
      "Scraping CIK 0001803696\n",
      "Scraping CIK 0000917225\n"
     ]
    },
    {
     "name": "stderr",
     "output_type": "stream",
     "text": [
      " 99%|█████████▊| 4790/4854 [1:49:14<05:29,  5.14s/it]"
     ]
    },
    {
     "name": "stdout",
     "output_type": "stream",
     "text": [
      "Scraping CIK 0001166003\n"
     ]
    },
    {
     "name": "stderr",
     "output_type": "stream",
     "text": [
      " 99%|█████████▊| 4791/4854 [1:49:23<06:26,  6.13s/it]"
     ]
    },
    {
     "name": "stdout",
     "output_type": "stream",
     "text": [
      "Scraping CIK 0000818479\n"
     ]
    },
    {
     "name": "stderr",
     "output_type": "stream",
     "text": [
      " 99%|█████████▊| 4792/4854 [1:49:35<08:20,  8.08s/it]"
     ]
    },
    {
     "name": "stdout",
     "output_type": "stream",
     "text": [
      "Scraping CIK 0001346610\n"
     ]
    },
    {
     "name": "stderr",
     "output_type": "stream",
     "text": [
      " 99%|█████████▊| 4793/4854 [1:49:35<05:48,  5.71s/it]"
     ]
    },
    {
     "name": "stdout",
     "output_type": "stream",
     "text": [
      "Scraping CIK 0001770450\n"
     ]
    },
    {
     "name": "stderr",
     "output_type": "stream",
     "text": [
      " 99%|█████████▉| 4794/4854 [1:49:36<04:11,  4.19s/it]"
     ]
    },
    {
     "name": "stdout",
     "output_type": "stream",
     "text": [
      "Scraping CIK 0001410428\n"
     ]
    },
    {
     "name": "stderr",
     "output_type": "stream",
     "text": [
      " 99%|█████████▉| 4796/4854 [1:49:43<03:30,  3.64s/it]"
     ]
    },
    {
     "name": "stdout",
     "output_type": "stream",
     "text": [
      "Scraping CIK 0001023549\n",
      "Scraping CIK 0001453593\n"
     ]
    },
    {
     "name": "stderr",
     "output_type": "stream",
     "text": [
      " 99%|█████████▉| 4797/4854 [1:49:50<04:10,  4.40s/it]"
     ]
    },
    {
     "name": "stdout",
     "output_type": "stream",
     "text": [
      "Scraping CIK 0001347858\n"
     ]
    },
    {
     "name": "stderr",
     "output_type": "stream",
     "text": [
      " 99%|█████████▉| 4799/4854 [1:49:56<03:12,  3.49s/it]"
     ]
    },
    {
     "name": "stdout",
     "output_type": "stream",
     "text": [
      "Scraping CIK 0001725033\n",
      "Scraping CIK 0001524472\n"
     ]
    },
    {
     "name": "stderr",
     "output_type": "stream",
     "text": [
      " 99%|█████████▉| 4800/4854 [1:50:01<03:32,  3.93s/it]"
     ]
    },
    {
     "name": "stdout",
     "output_type": "stream",
     "text": [
      "Scraping CIK 0000775368\n"
     ]
    },
    {
     "name": "stderr",
     "output_type": "stream",
     "text": [
      " 99%|█████████▉| 4801/4854 [1:50:13<05:40,  6.43s/it]"
     ]
    },
    {
     "name": "stdout",
     "output_type": "stream",
     "text": [
      "Scraping CIK 0001644903\n"
     ]
    },
    {
     "name": "stderr",
     "output_type": "stream",
     "text": [
      " 99%|█████████▉| 4802/4854 [1:50:15<04:30,  5.21s/it]"
     ]
    },
    {
     "name": "stdout",
     "output_type": "stream",
     "text": [
      "Scraping CIK 0001345016\n"
     ]
    },
    {
     "name": "stderr",
     "output_type": "stream",
     "text": [
      " 99%|█████████▉| 4803/4854 [1:50:22<04:49,  5.67s/it]"
     ]
    },
    {
     "name": "stdout",
     "output_type": "stream",
     "text": [
      "Scraping CIK 0001670592\n"
     ]
    },
    {
     "name": "stderr",
     "output_type": "stream",
     "text": [
      " 99%|█████████▉| 4804/4854 [1:50:23<03:36,  4.33s/it]"
     ]
    },
    {
     "name": "stdout",
     "output_type": "stream",
     "text": [
      "Scraping CIK 0001614178\n"
     ]
    },
    {
     "name": "stderr",
     "output_type": "stream",
     "text": [
      " 99%|█████████▉| 4805/4854 [1:50:25<02:49,  3.46s/it]"
     ]
    },
    {
     "name": "stdout",
     "output_type": "stream",
     "text": [
      "Scraping CIK 0001569329\n"
     ]
    },
    {
     "name": "stderr",
     "output_type": "stream",
     "text": [
      " 99%|█████████▉| 4807/4854 [1:50:29<01:59,  2.54s/it]"
     ]
    },
    {
     "name": "stdout",
     "output_type": "stream",
     "text": [
      "Scraping CIK 0001738906\n",
      "Scraping CIK 0001661125\n"
     ]
    },
    {
     "name": "stderr",
     "output_type": "stream",
     "text": [
      " 99%|█████████▉| 4809/4854 [1:50:29<00:59,  1.32s/it]"
     ]
    },
    {
     "name": "stdout",
     "output_type": "stream",
     "text": [
      "Scraping CIK 0001759614\n",
      "Scraping CIK 0001722964\n"
     ]
    },
    {
     "name": "stderr",
     "output_type": "stream",
     "text": [
      " 99%|█████████▉| 4811/4854 [1:50:31<00:41,  1.03it/s]"
     ]
    },
    {
     "name": "stdout",
     "output_type": "stream",
     "text": [
      "Scraping CIK 0001513845\n",
      "Scraping CIK 0000108985\n"
     ]
    },
    {
     "name": "stderr",
     "output_type": "stream",
     "text": [
      " 99%|█████████▉| 4813/4854 [1:50:42<01:57,  2.87s/it]"
     ]
    },
    {
     "name": "stdout",
     "output_type": "stream",
     "text": [
      "Scraping CIK 0000904851\n",
      "Scraping CIK 0000716006\n"
     ]
    },
    {
     "name": "stderr",
     "output_type": "stream",
     "text": [
      " 99%|█████████▉| 4815/4854 [1:50:55<02:43,  4.19s/it]"
     ]
    },
    {
     "name": "stdout",
     "output_type": "stream",
     "text": [
      "Scraping CIK 0001631761\n",
      "Scraping CIK 0001121702\n"
     ]
    },
    {
     "name": "stderr",
     "output_type": "stream",
     "text": [
      " 99%|█████████▉| 4817/4854 [1:51:03<02:16,  3.68s/it]"
     ]
    },
    {
     "name": "stdout",
     "output_type": "stream",
     "text": [
      "Scraping CIK 0001516899\n",
      "Scraping CIK 0001041061\n"
     ]
    },
    {
     "name": "stderr",
     "output_type": "stream",
     "text": [
      " 99%|█████████▉| 4818/4854 [1:51:14<03:37,  6.04s/it]"
     ]
    },
    {
     "name": "stdout",
     "output_type": "stream",
     "text": [
      "Scraping CIK 0001673358\n"
     ]
    },
    {
     "name": "stderr",
     "output_type": "stream",
     "text": [
      " 99%|█████████▉| 4820/4854 [1:51:17<02:00,  3.54s/it]"
     ]
    },
    {
     "name": "stdout",
     "output_type": "stream",
     "text": [
      "Scraping CIK 0000884247\n",
      "Scraping CIK 0001530238\n"
     ]
    },
    {
     "name": "stderr",
     "output_type": "stream",
     "text": [
      " 99%|█████████▉| 4821/4854 [1:51:17<01:23,  2.53s/it]"
     ]
    },
    {
     "name": "stdout",
     "output_type": "stream",
     "text": [
      "Scraping CIK 0001617640\n"
     ]
    },
    {
     "name": "stderr",
     "output_type": "stream",
     "text": [
      " 99%|█████████▉| 4822/4854 [1:51:20<01:20,  2.50s/it]"
     ]
    },
    {
     "name": "stdout",
     "output_type": "stream",
     "text": [
      "Scraping CIK 0001296205\n"
     ]
    },
    {
     "name": "stderr",
     "output_type": "stream",
     "text": [
      " 99%|█████████▉| 4823/4854 [1:51:27<01:58,  3.81s/it]"
     ]
    },
    {
     "name": "stdout",
     "output_type": "stream",
     "text": [
      "Scraping CIK 0001136869\n"
     ]
    },
    {
     "name": "stderr",
     "output_type": "stream",
     "text": [
      " 99%|█████████▉| 4824/4854 [1:51:38<03:01,  6.04s/it]"
     ]
    },
    {
     "name": "stdout",
     "output_type": "stream",
     "text": [
      "Scraping CIK 0000877212\n"
     ]
    },
    {
     "name": "stderr",
     "output_type": "stream",
     "text": [
      " 99%|█████████▉| 4826/4854 [1:51:51<02:39,  5.70s/it]"
     ]
    },
    {
     "name": "stdout",
     "output_type": "stream",
     "text": [
      "Scraping CIK 0001785566\n",
      "Scraping CIK 0001667313\n"
     ]
    },
    {
     "name": "stderr",
     "output_type": "stream",
     "text": [
      " 99%|█████████▉| 4828/4854 [1:51:53<01:26,  3.33s/it]"
     ]
    },
    {
     "name": "stdout",
     "output_type": "stream",
     "text": [
      "Scraping CIK 0001674988\n",
      "Scraping CIK 0001463172\n"
     ]
    },
    {
     "name": "stderr",
     "output_type": "stream",
     "text": [
      " 99%|█████████▉| 4829/4854 [1:51:57<01:25,  3.43s/it]"
     ]
    },
    {
     "name": "stdout",
     "output_type": "stream",
     "text": [
      "Scraping CIK 0000917470\n"
     ]
    },
    {
     "name": "stderr",
     "output_type": "stream",
     "text": [
      "100%|█████████▉| 4830/4854 [1:52:09<02:23,  5.96s/it]"
     ]
    },
    {
     "name": "stdout",
     "output_type": "stream",
     "text": [
      "Scraping CIK 0001375151\n"
     ]
    },
    {
     "name": "stderr",
     "output_type": "stream",
     "text": [
      "100%|█████████▉| 4832/4854 [1:52:15<01:32,  4.20s/it]"
     ]
    },
    {
     "name": "stdout",
     "output_type": "stream",
     "text": [
      "Scraping CIK 0001773086\n",
      "Scraping CIK 0001794515\n"
     ]
    },
    {
     "name": "stderr",
     "output_type": "stream",
     "text": [
      "100%|█████████▉| 4833/4854 [1:52:15<01:02,  2.98s/it]"
     ]
    },
    {
     "name": "stdout",
     "output_type": "stream",
     "text": [
      "Scraping CIK 0000109380\n"
     ]
    },
    {
     "name": "stderr",
     "output_type": "stream",
     "text": [
      "100%|█████████▉| 4834/4854 [1:52:28<02:01,  6.06s/it]"
     ]
    },
    {
     "name": "stdout",
     "output_type": "stream",
     "text": [
      "Scraping CIK 0001107421\n"
     ]
    },
    {
     "name": "stderr",
     "output_type": "stream",
     "text": [
      "100%|█████████▉| 4835/4854 [1:52:34<01:52,  5.91s/it]"
     ]
    },
    {
     "name": "stdout",
     "output_type": "stream",
     "text": [
      "Scraping CIK 0000855612\n"
     ]
    },
    {
     "name": "stderr",
     "output_type": "stream",
     "text": [
      "100%|█████████▉| 4837/4854 [1:52:45<01:30,  5.34s/it]"
     ]
    },
    {
     "name": "stdout",
     "output_type": "stream",
     "text": [
      "Scraping CIK 0001687451\n",
      "Scraping CIK 0001704292\n"
     ]
    },
    {
     "name": "stderr",
     "output_type": "stream",
     "text": [
      "100%|█████████▉| 4838/4854 [1:52:45<01:00,  3.78s/it]"
     ]
    },
    {
     "name": "stdout",
     "output_type": "stream",
     "text": [
      "Scraping CIK 0001585521\n"
     ]
    },
    {
     "name": "stderr",
     "output_type": "stream",
     "text": [
      "100%|█████████▉| 4839/4854 [1:52:46<00:42,  2.83s/it]"
     ]
    },
    {
     "name": "stdout",
     "output_type": "stream",
     "text": [
      "Scraping CIK 0001131312\n"
     ]
    },
    {
     "name": "stderr",
     "output_type": "stream",
     "text": [
      "100%|█████████▉| 4840/4854 [1:52:54<01:00,  4.35s/it]"
     ]
    },
    {
     "name": "stdout",
     "output_type": "stream",
     "text": [
      "Scraping CIK 0001439404\n"
     ]
    },
    {
     "name": "stderr",
     "output_type": "stream",
     "text": [
      "100%|█████████▉| 4842/4854 [1:52:59<00:39,  3.25s/it]"
     ]
    },
    {
     "name": "stdout",
     "output_type": "stream",
     "text": [
      "Scraping CIK 0001041668\n",
      "Scraping CIK 0001725160\n"
     ]
    },
    {
     "name": "stderr",
     "output_type": "stream",
     "text": [
      "100%|█████████▉| 4843/4854 [1:52:59<00:25,  2.32s/it]"
     ]
    },
    {
     "name": "stdout",
     "output_type": "stream",
     "text": [
      "Scraping CIK 0001684144\n"
     ]
    },
    {
     "name": "stderr",
     "output_type": "stream",
     "text": [
      "100%|█████████▉| 4844/4854 [1:53:01<00:20,  2.06s/it]"
     ]
    },
    {
     "name": "stdout",
     "output_type": "stream",
     "text": [
      "Scraping CIK 0001713683\n"
     ]
    },
    {
     "name": "stderr",
     "output_type": "stream",
     "text": [
      "100%|█████████▉| 4845/4854 [1:53:02<00:17,  1.92s/it]"
     ]
    },
    {
     "name": "stdout",
     "output_type": "stream",
     "text": [
      "Scraping CIK 0001587221\n"
     ]
    },
    {
     "name": "stderr",
     "output_type": "stream",
     "text": [
      "100%|█████████▉| 4847/4854 [1:53:07<00:13,  1.94s/it]"
     ]
    },
    {
     "name": "stdout",
     "output_type": "stream",
     "text": [
      "Scraping CIK 0001677250\n",
      "Scraping CIK 0001555280\n"
     ]
    },
    {
     "name": "stderr",
     "output_type": "stream",
     "text": [
      "100%|█████████▉| 4848/4854 [1:53:12<00:16,  2.71s/it]"
     ]
    },
    {
     "name": "stdout",
     "output_type": "stream",
     "text": [
      "Scraping CIK 0001318008\n"
     ]
    },
    {
     "name": "stderr",
     "output_type": "stream",
     "text": [
      "100%|█████████▉| 4849/4854 [1:53:20<00:22,  4.52s/it]"
     ]
    },
    {
     "name": "stdout",
     "output_type": "stream",
     "text": [
      "Scraping CIK 0001423774\n"
     ]
    },
    {
     "name": "stderr",
     "output_type": "stream",
     "text": [
      "100%|█████████▉| 4850/4854 [1:53:22<00:14,  3.53s/it]"
     ]
    },
    {
     "name": "stdout",
     "output_type": "stream",
     "text": [
      "Scraping CIK 0001305323\n"
     ]
    },
    {
     "name": "stderr",
     "output_type": "stream",
     "text": [
      "100%|█████████▉| 4851/4854 [1:53:28<00:13,  4.41s/it]"
     ]
    },
    {
     "name": "stdout",
     "output_type": "stream",
     "text": [
      "Scraping CIK 0001403752\n"
     ]
    },
    {
     "name": "stderr",
     "output_type": "stream",
     "text": [
      "100%|█████████▉| 4852/4854 [1:53:30<00:07,  3.65s/it]"
     ]
    },
    {
     "name": "stdout",
     "output_type": "stream",
     "text": [
      "Scraping CIK 0001621443\n"
     ]
    },
    {
     "name": "stderr",
     "output_type": "stream",
     "text": [
      "100%|█████████▉| 4853/4854 [1:53:33<00:03,  3.59s/it]"
     ]
    },
    {
     "name": "stdout",
     "output_type": "stream",
     "text": [
      "Scraping CIK 0000846475\n"
     ]
    },
    {
     "name": "stderr",
     "output_type": "stream",
     "text": [
      "100%|██████████| 4854/4854 [1:53:40<00:00,  1.41s/it]\n"
     ]
    }
   ],
   "source": [
    "%%capture\n",
    "# Run the function to scrape 10-Ks\n",
    "\n",
    "# Define parameters\n",
    "browse_url_base_10k = 'https://www.sec.gov/cgi-bin/browse-edgar?action=getcompany&CIK=%s&type=10-K'\n",
    "filing_url_base_10k = 'http://www.sec.gov/Archives/edgar/data/%s/%s-index.html'\n",
    "doc_url_base_10k = 'http://www.sec.gov/Archives/edgar/data/%s/%s/%s'\n",
    "\n",
    "# Set correct directory\n",
    "os.chdir(pathname_10k)\n",
    "\n",
    "# Initialize log file\n",
    "# (log file name = the time we initiate scraping session)\n",
    "time = strftime(\"%Y-%m-%d %Hh%Mm%Ss\", gmtime())\n",
    "log_file_name = 'log '+time+'.txt'\n",
    "with open(log_file_name, 'a') as log_file:\n",
    "    log_file.close()\n",
    "\n",
    "# Iterate over CIKs and scrape 10-Ks\n",
    "for cik in tqdm(ticker_cik_df['cik']):\n",
    "    Scrape10K(browse_url_base=browse_url_base_10k, filing_url_base=filing_url_base_10k, doc_url_base=doc_url_base_10k, cik=cik, log_file_name=log_file_name)"
   ]
  },
  {
   "cell_type": "code",
   "execution_count": 39,
   "metadata": {
    "pycharm": {
     "is_executing": false
    }
   },
   "outputs": [],
   "source": [
    "%%capture\n",
    "# Run the function to scrape 10-Qs\n",
    "\n",
    "# Define parameters\n",
    "browse_url_base_10q = 'https://www.sec.gov/cgi-bin/browse-edgar?action=getcompany&CIK=%s&type=10-Q&count=1000'\n",
    "filing_url_base_10q = 'http://www.sec.gov/Archives/edgar/data/%s/%s-index.html'\n",
    "doc_url_base_10q = 'http://www.sec.gov/Archives/edgar/data/%s/%s/%s'\n",
    "\n",
    "# Set correct directory (fill this out yourself!)\n",
    "os.chdir(pathname_10q)\n",
    "\n",
    "# Initialize log file\n",
    "# (log file name = the time we initiate scraping session)\n",
    "time = strftime(\"%Y-%m-%d %Hh%Mm%Ss\", gmtime())\n",
    "log_file_name = 'log '+time+'.txt'\n",
    "log_file = open(log_file_name, 'a')\n",
    "log_file.close()\n",
    "\n",
    "# Iterate over CIKs and scrape 10-Ks\n",
    "for cik in tqdm(ticker_cik_df['cik']):\n",
    "    Scrape10Q(browse_url_base=browse_url_base_10q, filing_url_base=filing_url_base_10q, doc_url_base=doc_url_base_10q, cik=cik, log_file_name=log_file_name)"
   ]
  },
  {
   "cell_type": "markdown",
   "metadata": {},
   "source": [
    "We now have 10-Ks and 10-Qs in HTML or plaintext (.txt) format for each CIK. Before computing our similarity scores, however, we need to clean the files up a bit.\n",
    "\n",
    "As outlined in the paper, we will:\n",
    "\n",
    "> ... remove all tables (if their numeric character content is \n",
    ">     greater than 15%), HTML tags, XBRL tables, exhibits, \n",
    ">     ASCII-encoded PDFs, graphics, XLS, and other binary files."
   ]
  },
  {
   "cell_type": "code",
   "execution_count": null,
   "metadata": {
    "pycharm": {
     "is_executing": false
    }
   },
   "outputs": [],
   "source": [
    "def RemoveNumericalTables(soup):\n",
    "    \n",
    "    '''\n",
    "    Removes tables with >15% numerical characters.\n",
    "    \n",
    "    Parameters\n",
    "    ----------\n",
    "    soup : BeautifulSoup object\n",
    "        Parsed result from BeautifulSoup.\n",
    "        \n",
    "    Returns\n",
    "    -------\n",
    "    soup : BeautifulSoup object\n",
    "        Parsed result from BeautifulSoup\n",
    "        with numerical tables removed.\n",
    "        \n",
    "    '''\n",
    "    \n",
    "    # Determines percentage of numerical characters\n",
    "    # in a table\n",
    "    def GetDigitPercentage(tablestring):\n",
    "        if len(tablestring)>0.0:\n",
    "            numbers = sum([char.isdigit() for char in tablestring])\n",
    "            length = len(tablestring)\n",
    "            return numbers/length\n",
    "        else:\n",
    "            return 1\n",
    "    \n",
    "    # Evaluates numerical character % for each table\n",
    "    # and removes the table if the percentage is > 15%\n",
    "    [x.extract() for x in soup.find_all('table') if GetDigitPercentage(x.get_text())>0.15]\n",
    "    \n",
    "    return soup"
   ]
  },
  {
   "cell_type": "code",
   "execution_count": null,
   "metadata": {
    "pycharm": {
     "is_executing": false
    }
   },
   "outputs": [],
   "source": [
    "def RemoveTags(soup):\n",
    "    \n",
    "    '''\n",
    "    Drops HTML tags, newlines and unicode text from\n",
    "    filing text.\n",
    "    \n",
    "    Parameters\n",
    "    ----------\n",
    "    soup : BeautifulSoup object\n",
    "        Parsed result from BeautifulSoup.\n",
    "        \n",
    "    Returns\n",
    "    -------\n",
    "    text : str\n",
    "        Filing text.\n",
    "        \n",
    "    '''\n",
    "    \n",
    "    # Remove HTML tags with get_text\n",
    "    text = soup.get_text()\n",
    "    \n",
    "    # Remove newline characters\n",
    "    text = text.replace('\\n', ' ')\n",
    "    \n",
    "    # Replace unicode characters with their\n",
    "    # \"normal\" representations\n",
    "    text = unicodedata.normalize('NFKD', text)\n",
    "    \n",
    "    return text"
   ]
  },
  {
   "cell_type": "code",
   "execution_count": null,
   "metadata": {
    "pycharm": {
     "is_executing": false
    }
   },
   "outputs": [],
   "source": [
    "def ConvertHTML(cik):\n",
    "    \n",
    "    '''\n",
    "    Removes numerical tables, HTML tags,\n",
    "    newlines, unicode text, and XBRL tables.\n",
    "    \n",
    "    Parameters\n",
    "    ----------\n",
    "    cik : str\n",
    "        Central Index Key used to scrape files.\n",
    "    \n",
    "    Returns\n",
    "    -------\n",
    "    None.\n",
    "    \n",
    "    '''\n",
    "    \n",
    "    # Look for files scraped for that CIK\n",
    "    try: \n",
    "        os.chdir(cik)\n",
    "    # ...if we didn't scrape any files for that CIK, exit\n",
    "    except FileNotFoundError:\n",
    "        print(\"Could not find directory for CIK\", cik)\n",
    "        return\n",
    "        \n",
    "    print(\"Parsing CIK %s...\" % cik)\n",
    "    parsed = False # flag to tell if we've parsed anything\n",
    "    \n",
    "    # Try to make a new directory within the CIK directory\n",
    "    # to store the text representations of the filings\n",
    "    try:\n",
    "        os.mkdir('rawtext')\n",
    "    # If it already exists, continue\n",
    "    # We can't exit at this point because we might be\n",
    "    # partially through parsing text files, so we need to continue\n",
    "    except OSError:\n",
    "        pass\n",
    "    \n",
    "    # Get list of scraped files\n",
    "    # excluding hidden files and directories\n",
    "    file_list = [fname for fname in os.listdir() if not (fname.startswith('.') | os.path.isdir(fname))]\n",
    "    \n",
    "    # Iterate over scraped files and clean\n",
    "    for filename in file_list:\n",
    "            \n",
    "        # Check if file has already been cleaned\n",
    "        new_filename = filename.replace('.html', '.txt')\n",
    "        text_file_list = os.listdir('rawtext')\n",
    "        if new_filename in text_file_list:\n",
    "            continue\n",
    "        \n",
    "        # If it hasn't been cleaned already, keep going...\n",
    "        \n",
    "        # Clean file\n",
    "        with open(filename, 'r') as file:\n",
    "            parsed = True\n",
    "            soup = bs.BeautifulSoup(file.read(), \"lxml\")\n",
    "            soup = RemoveNumericalTables(soup)\n",
    "            text = RemoveTags(soup)\n",
    "            with open('rawtext/'+new_filename, 'w') as newfile:\n",
    "                newfile.write(text)\n",
    "    \n",
    "    # If all files in the CIK directory have been parsed\n",
    "    # then log that\n",
    "    if parsed==False:\n",
    "        print(\"Already parsed CIK\", cik)\n",
    "    \n",
    "    os.chdir('..')\n",
    "    return"
   ]
  },
  {
   "cell_type": "markdown",
   "metadata": {},
   "source": [
    "We can now apply this function to each of our 10-K and 10-Q files."
   ]
  },
  {
   "cell_type": "code",
   "execution_count": 50,
   "metadata": {
    "pycharm": {
     "is_executing": false
    }
   },
   "outputs": [],
   "source": [
    "%%capture\n",
    "# For 10-Ks...\n",
    "\n",
    "os.chdir(pathname_10k)\n",
    "\n",
    "# Iterate over CIKs and clean HTML filings\n",
    "for cik in tqdm(ticker_cik_df['cik']):\n",
    "    ConvertHTML(cik)"
   ]
  },
  {
   "cell_type": "code",
   "execution_count": 53,
   "metadata": {
    "pycharm": {
     "is_executing": false
    }
   },
   "outputs": [],
   "source": [
    "%%capture\n",
    "# For 10-Qs...\n",
    "\n",
    "os.chdir(pathname_10q)\n",
    "\n",
    "# Iterate over CIKs and clean HTML filings\n",
    "for cik in tqdm(ticker_cik_df['cik']):\n",
    "    ConvertHTML(cik)"
   ]
  },
  {
   "cell_type": "markdown",
   "metadata": {},
   "source": [
    "After running the two cells above, we have cleaned plaintext 10-K and 10-Q filings for each CIK. At this point, our file structure looks like this:\n",
    "\n",
    "\n",
    "```\n",
    "- 10Ks\n",
    "    - CIK1\n",
    "        - 10K #1\n",
    "        - 10K #2\n",
    "        ...\n",
    "        - rawtext\n",
    "    - CIK2\n",
    "        - 10K #1\n",
    "        - 10K #2\n",
    "        ...\n",
    "        - rawtext\n",
    "    - CIK3\n",
    "        - 10K #1\n",
    "        - 10K #2\n",
    "        ...\n",
    "        - rawtext\n",
    "    ...\n",
    "- 10Qs\n",
    "    - CIK1\n",
    "        - 10Q #1\n",
    "        - 10Q #2\n",
    "        ...\n",
    "        - rawtext\n",
    "    - CIK2\n",
    "        - 10Q #1\n",
    "        - 10Q #2\n",
    "        ...\n",
    "        - rawtext\n",
    "    - CIK3\n",
    "        - 10Q #1\n",
    "        - 10Q #2\n",
    "        ...\n",
    "        - rawtext\n",
    "    ...\n",
    "```\n",
    "\n",
    "We can now begin computing our alpha factor (similarity scores)."
   ]
  },
  {
   "cell_type": "markdown",
   "metadata": {},
   "source": [
    "## 2. Computing Similarity Scores"
   ]
  },
  {
   "cell_type": "markdown",
   "metadata": {},
   "source": [
    "We'll use [cosine similarity](http://scikit-learn.org/stable/modules/metrics.html#cosine-similarity) and [Jaccard similarity](http://scikit-learn.org/stable/modules/model_evaluation.html#jaccard-similarity-score) to compare documents.\n",
    "\n",
    "(The original paper also uses two other, simpler similarity measures, but cosine and Jaccard appeared to result in the best alpha factor performance -- and are much less computationally intensive to compute.)"
   ]
  },
  {
   "cell_type": "code",
   "execution_count": null,
   "metadata": {
    "pycharm": {
     "is_executing": false
    }
   },
   "outputs": [],
   "source": [
    "def ComputeCosineSimilarity(words_A, words_B):\n",
    "    \n",
    "    '''\n",
    "    Compute cosine similarity between document A and\n",
    "    document B.\n",
    "    \n",
    "    Parameters\n",
    "    ----------\n",
    "    words_A : set\n",
    "        Words in document A.\n",
    "    words_B : set\n",
    "        Words in document B\n",
    "        \n",
    "    Returns\n",
    "    -------\n",
    "    cosine_score : float\n",
    "        Cosine similarity between document\n",
    "        A and document B.\n",
    "        \n",
    "    '''\n",
    "    \n",
    "    # Compile complete set of words in A or B\n",
    "    words = list(words_A.union(words_B))\n",
    "    \n",
    "    # Determine which words are in A\n",
    "    vector_A = [1 if x in words_A else 0 for x in words]\n",
    "    \n",
    "    # Determine which words are in B\n",
    "    vector_B = [1 if x in words_B else 0 for x in words]\n",
    "    \n",
    "    # Compute cosine score using scikit-learn\n",
    "    array_A = np.array(vector_A).reshape(1, -1)\n",
    "    array_B = np.array(vector_B).reshape(1, -1)\n",
    "    cosine_score = cosine_similarity(array_A, array_B)[0,0]\n",
    "    \n",
    "    return cosine_score"
   ]
  },
  {
   "cell_type": "code",
   "execution_count": null,
   "metadata": {
    "pycharm": {
     "is_executing": false
    }
   },
   "outputs": [],
   "source": [
    "def ComputeJaccardSimilarity(words_A, words_B):\n",
    "    \n",
    "    '''\n",
    "    Compute Jaccard similarity between document A and\n",
    "    document B.\n",
    "    \n",
    "    Parameters\n",
    "    ----------\n",
    "    words_A : set\n",
    "        Words in document A.\n",
    "    words_B : set\n",
    "        Words in document B\n",
    "        \n",
    "    Returns\n",
    "    -------\n",
    "    jaccard_score : float\n",
    "        Jaccard similarity between document\n",
    "        A and document B.\n",
    "        \n",
    "    '''\n",
    "    \n",
    "    # Count number of words in both A and B\n",
    "    words_intersect = len(words_A.intersection(words_B))\n",
    "    \n",
    "    # Count number of words in A or B\n",
    "    words_union = len(words_A.union(words_B))\n",
    "    \n",
    "    # Compute Jaccard similarity score\n",
    "    jaccard_score = words_intersect / words_union\n",
    "    \n",
    "    return jaccard_score"
   ]
  },
  {
   "cell_type": "markdown",
   "metadata": {},
   "source": [
    "Before continuing, let's double-check that these functions are working properly.\n",
    "\n",
    "The paper gives the following sample sentences to compare:\n",
    "\n",
    "> $D_A$: We expect demand to increase.\n",
    "> $D_B$: We expect worldwide demand to increase.\n",
    "> $D_C$: We expect weakness in sales.\n",
    "\n",
    "As noted in the paper, the cosine similarity between $D_A$ and $D_B$ should be $0.91$, and the cosine similarity between $D_A$ and $D_C$ should be $0.40$.\n",
    "\n",
    "Meanwhile, the Jaccard similarity between $D_A$ and $D_B$ should be $0.83$, and the Jaccard similarity between $D_A$ and $D_C$ should be $0.25$.\n",
    "\n",
    "Let's double-check that our functions return the correct results."
   ]
  },
  {
   "cell_type": "code",
   "execution_count": null,
   "metadata": {
    "pycharm": {
     "is_executing": false
    }
   },
   "outputs": [],
   "source": [
    "d_a = set(['we', 'expect', 'demand', 'to', 'increase'])\n",
    "d_b = set(['we', 'expect', 'worldwide', 'demand', 'to', 'increase'])\n",
    "d_c = set(['we', 'expect', 'weakness', 'in', 'sales'])\n",
    "\n",
    "print(\"Cosine similarity between A and B:\", ComputeCosineSimilarity(d_a, d_b))\n",
    "print(\"Cosine similarity between A and C:\", ComputeCosineSimilarity(d_a, d_c))\n",
    "print(\"Jaccard similarity between A and B:\", ComputeJaccardSimilarity(d_a, d_b))\n",
    "print(\"Jaccard similarity between A and C:\", ComputeJaccardSimilarity(d_a, d_c))"
   ]
  },
  {
   "cell_type": "markdown",
   "metadata": {},
   "source": [
    "Everything looks good! Now, let's begin applying these similarity computations to the scraped 10-Ks and 10-Qs.\n",
    "\n",
    "We'll start with 10-Qs. This is slightly difficult, because we want to compare each 10-Q to the 10-Q from the *same quarter of the previous year*.\n",
    "\n",
    "Keep in mind that 10-Qs are filed three times per year, and 10-Ks are filed once per year. Thus, we should simply be able to order the 10-Qs by filing date, then compare each 10-Q to the third-to-last file. For example, if our sorted list of 10-Q files was: `[10Q-1, 10Q-2, 10Q-3, 10Q-4, 10Q-5, 10Q-6...]` then we would iterate over the list and compare `10Q-4` to `10Q-1`, `10Q-5` to `10Q-2`, and so on.\n",
    "\n",
    "Unfortunately, filings aren't so clean in the real world. Sometimes, companies don't file 10-Qs for a quarter (or more) for a variety of reasons. We don't want to compare 10-Qs from different quarters; quarter-on-quarter differences will create misleading noise in our ultimate factor values. [why don't companies file 10Ks? why are 10Qs different per quarter?]\n",
    "\n",
    "As such, we'll take each 10-Q and look for 10-Qs that are dated between 345 and 385 days earlier. If one exists, we'll compute the similarity; if no such file exists, we'll report the scores as `NaN`."
   ]
  },
  {
   "cell_type": "code",
   "execution_count": null,
   "metadata": {
    "pycharm": {
     "is_executing": false
    }
   },
   "outputs": [],
   "source": [
    "def ComputeSimilarityScores10Q(cik):\n",
    "    \n",
    "    '''\n",
    "    Computes cosine and Jaccard similarity scores\n",
    "    over 10-Qs for a particular CIK.\n",
    "    \n",
    "    Compares each 10-Q to the 10-Q from the same\n",
    "    quarter of the previous year.\n",
    "    \n",
    "    Parameters\n",
    "    ----------\n",
    "    cik: str\n",
    "        Central Index Key used to scrape and name\n",
    "        files.\n",
    "        \n",
    "    Returns\n",
    "    -------\n",
    "    None.\n",
    "    \n",
    "    '''\n",
    "    \n",
    "    # Define how stringent we want to be about \n",
    "    # \"previous year\"\n",
    "    year_short = timedelta(345)\n",
    "    year_long = timedelta(385)\n",
    "    \n",
    "    # Open directory that holds plain 10-Q textfiles\n",
    "    # for the CIK\n",
    "    os.chdir(cik+'/rawtext')\n",
    "    print(\"Parsing CIK %s...\" % cik)\n",
    "    \n",
    "    # Get list of files to compare\n",
    "    file_list = [fname for fname in os.listdir() if not \n",
    "                 (fname.startswith('.') | os.path.isdir(fname))]\n",
    "    file_list.sort()\n",
    "    \n",
    "    # Check if scores have already been calculated\n",
    "    try:\n",
    "        os.mkdir('../metrics')\n",
    "    # ... if they have already been calculated, exit\n",
    "    except OSError:\n",
    "        print(\"Already parsed CIK %s...\" % cik)\n",
    "        os.chdir('../..')\n",
    "        return\n",
    "    \n",
    "    # Check if enough files exist to compare\n",
    "    # ... if there aren't enough files, exit\n",
    "    if len(file_list) < 4:\n",
    "        print(\"No files to compare for CIK\", cik)\n",
    "        os.chdir('../..')\n",
    "        return\n",
    "    \n",
    "    # Initialize dataframe to hold similarity scores\n",
    "    dates = [x[-14:-4] for x in file_list]\n",
    "    cosine_score = [0]*len(dates)\n",
    "    jaccard_score = [0]*len(dates)\n",
    "    data = pd.DataFrame(columns={'cosine_score': cosine_score, \n",
    "                                 'jaccard_score': jaccard_score},\n",
    "                       index=dates)\n",
    "    \n",
    "    # Iterate over each quarter...\n",
    "    for j in range(3):\n",
    "        \n",
    "        # Get text and date of earliest filing from that quarter\n",
    "        file_name_A = file_list[j]\n",
    "        with open(file_name_A, 'r') as file:\n",
    "            file_text_A = file.read()\n",
    "        date_A = datetime.strptime(file_name_A[-14:-4], '%Y-%m-%d')\n",
    "        \n",
    "        # Iterate over the rest of the filings from that quarter...\n",
    "        for i in range(j+3, len(file_list), 3):\n",
    "\n",
    "            # Get name and date of the later file\n",
    "            file_name_B = file_list[i]\n",
    "            date_B = datetime.strptime(file_name_B[-14:-4], '%Y-%m-%d')\n",
    "            \n",
    "            # If B was not filed within ~1 year after A...\n",
    "            if (date_B > (date_A + year_long)) or (date_B < (date_A + year_short)):\n",
    "                \n",
    "                print(date_B.strftime('%Y-%m-%d'), \"is not within a year of\", date_A.strftime('%Y-%m-%d'))\n",
    "                \n",
    "                # Record values as NaN\n",
    "                data.at[date_B.strftime('%Y-%m-%d'), 'cosine_score'] = 'NaN'\n",
    "                data.at[date_B.strftime('%Y-%m-%d'), 'jaccard_score'] = 'NaN'\n",
    "                \n",
    "                # Pretend as if we found new date_A in the next year\n",
    "                date_A = date_A.replace(year=date_B.year)\n",
    "                \n",
    "                # Move to next filing\n",
    "                continue\n",
    "                \n",
    "            # If B was filed within ~1 year of A...\n",
    "            \n",
    "            # Get file text\n",
    "            with open(file_name_B, 'r') as file:\n",
    "                file_text_B = file.read()\n",
    "\n",
    "            # Get sets of words in A, B\n",
    "            words_A = set(re.findall(r\"[\\w']+\", file_text_A))\n",
    "            words_B = set(re.findall(r\"[\\w']+\", file_text_B))\n",
    "\n",
    "            # Calculate similarity score\n",
    "            cosine_score = ComputeCosineSimilarity(words_A, words_B)\n",
    "            jaccard_score = ComputeJaccardSimilarity(words_A, words_B)\n",
    "\n",
    "            # Store value (indexing by the date of document B)\n",
    "            data.at[date_B.strftime('%Y-%m-%d'), 'cosine_score'] = cosine_score\n",
    "            data.at[date_B.strftime('%Y-%m-%d'), 'jaccard_score'] = jaccard_score\n",
    "\n",
    "            # Reset value for next loop\n",
    "            # Don't re-read files, for efficiency\n",
    "            file_text_A = file_text_B\n",
    "            date_A = date_B\n",
    "\n",
    "    # Save scores\n",
    "    os.chdir('../metrics')\n",
    "    data.to_csv(cik+'_sim_scores.csv', index=True)\n",
    "    os.chdir('../..')"
   ]
  },
  {
   "cell_type": "markdown",
   "metadata": {},
   "source": [
    "Fortunately, 10-Ks are easier. Though there can still be time-jumps in 10-K filings, we don't mind as much if we're comparing a 10-K from 2006 to a 10-K from 2002. This is because we don't have to worry about non-substantive quarter-on-quarter differences as we would with 10-Qs. In fact, it might actually be better if our data reflects textual changes in 10-Ks across \"absent\" years."
   ]
  },
  {
   "cell_type": "code",
   "execution_count": null,
   "metadata": {
    "pycharm": {
     "is_executing": false
    }
   },
   "outputs": [],
   "source": [
    "def ComputeSimilarityScores10K(cik):\n",
    "    \n",
    "    '''\n",
    "    Computes cosine and Jaccard similarity scores\n",
    "    over 10-Ks for a particular CIK.\n",
    "    \n",
    "    Parameters\n",
    "    ----------\n",
    "    cik: str\n",
    "        Central Index Key used to scrape and name\n",
    "        files.\n",
    "        \n",
    "    Returns\n",
    "    -------\n",
    "    None.\n",
    "    \n",
    "    '''\n",
    "    \n",
    "    # Open the directory that holds plaintext\n",
    "    # filings for the CIK\n",
    "    os.chdir(cik+'/rawtext')\n",
    "    print(\"Parsing CIK %s...\" % cik)\n",
    "    \n",
    "    # Get list of files to over which to compute scores\n",
    "    # excluding hidden files and directories\n",
    "    file_list = [fname for fname in os.listdir() if not \n",
    "                 (fname.startswith('.') | os.path.isdir(fname))]\n",
    "    file_list.sort()\n",
    "    \n",
    "    # Check if scores have already been calculated...\n",
    "    try:\n",
    "        os.mkdir('../metrics')\n",
    "    # ... if they have been, exit\n",
    "    except OSError:\n",
    "        print(\"Already parsed CIK %s...\" % cik)\n",
    "        os.chdir('../..')\n",
    "        return\n",
    "    \n",
    "    # Check if enough files exist to compute sim scores...\n",
    "    # If not, exit\n",
    "    if len(file_list) < 2:\n",
    "        print(\"No files to compare for CIK\", cik)\n",
    "        os.chdir('../..')\n",
    "        return\n",
    "    \n",
    "    # Initialize dataframe to store sim scores\n",
    "    dates = [x[-14:-4] for x in file_list]\n",
    "    cosine_score = [0]*len(dates)\n",
    "    jaccard_score = [0]*len(dates)\n",
    "    data = pd.DataFrame(columns={'cosine_score': cosine_score, \n",
    "                                 'jaccard_score': jaccard_score},\n",
    "                       index=dates)\n",
    "        \n",
    "    # Open first file\n",
    "    file_name_A = file_list[0]\n",
    "    with open(file_name_A, 'r') as file:\n",
    "        file_text_A = file.read()\n",
    "        \n",
    "    # Iterate over each 10-K file...\n",
    "    for i in range(1, len(file_list)):\n",
    "\n",
    "        file_name_B = file_list[i]\n",
    "\n",
    "        # Get file text B\n",
    "        with open(file_name_B, 'r') as file:\n",
    "            file_text_B = file.read()\n",
    "\n",
    "        # Get set of words in A, B\n",
    "        words_A = set(re.findall(r\"[\\w']+\", file_text_A))\n",
    "        words_B = set(re.findall(r\"[\\w']+\", file_text_B))\n",
    "\n",
    "        # Calculate similarity scores\n",
    "        cosine_score = ComputeCosineSimilarity(words_A, words_B)\n",
    "        jaccard_score = ComputeJaccardSimilarity(words_A, words_B)\n",
    "\n",
    "        # Store score values\n",
    "        date_B = file_name_B[-14:-4]\n",
    "        data.at[date_B, 'cosine_score'] = cosine_score\n",
    "        data.at[date_B, 'jaccard_score'] = jaccard_score\n",
    "\n",
    "        # Reset value for next loop\n",
    "        # (We don't open the file again, for efficiency)\n",
    "        file_text_A = file_text_B\n",
    "\n",
    "    # Save scores\n",
    "    os.chdir('../metrics')\n",
    "    data.to_csv(cik+'_sim_scores.csv', index=False)\n",
    "    os.chdir('../..')"
   ]
  },
  {
   "cell_type": "markdown",
   "metadata": {},
   "source": [
    "Note that we store factor values according to the date of the later document (document B). This is because we want our data to be point-in-time; we want to store the factor values according to the date that *we would have known about them in the past*.\n",
    "\n",
    "In this case, our values (similarity scores) depend on two things: the content of document A, and the content of document B. We would have become aware of the text of document A at `date_A`, and we would have become aware of the text of document B at `date_B`.\n",
    "\n",
    "Remember that A is stipulated to be the earlier document. Since A precedes B, we wouldn't know about the factor values at `date_A`; the content of B would not yet be available. However, we would know about the factor values at `date_B` -- at that point, both the content of A and the content of B would be available. As such, we'll store our values according to `date_B`.\n",
    "\n",
    "(The above applies to both 10-Qs and 10-Ks.)"
   ]
  },
  {
   "cell_type": "markdown",
   "metadata": {},
   "source": [
    "Let's go ahead and apply these functions to our stored 10-Qs and 10-Ks."
   ]
  },
  {
   "cell_type": "code",
   "execution_count": null,
   "metadata": {
    "pycharm": {
     "is_executing": false
    }
   },
   "outputs": [],
   "source": [
    "# Computing scores for 10-Qs...\n",
    "\n",
    "os.chdir(pathname_10q)\n",
    "\n",
    "for cik in tqdm(ticker_cik_df['cik']):\n",
    "    ComputeSimilarityScores10Q(cik)"
   ]
  },
  {
   "cell_type": "code",
   "execution_count": null,
   "metadata": {
    "pycharm": {
     "is_executing": false
    }
   },
   "outputs": [],
   "source": [
    "# Computing scores for 10-Ks...\n",
    "\n",
    "os.chdir(pathname_10k)\n",
    "\n",
    "for cik in tqdm(ticker_cik_df['cik']):\n",
    "    ComputeSimilarityScores10K(cik)"
   ]
  },
  {
   "cell_type": "markdown",
   "metadata": {},
   "source": [
    "After computing the similarity scores, our file structure looks like this:\n",
    "\n",
    "\n",
    "```\n",
    "- 10Ks\n",
    "    - CIK1\n",
    "        - 10K #1\n",
    "        - 10K #2\n",
    "        ...\n",
    "        - rawtext\n",
    "        - metrics\n",
    "    - CIK2\n",
    "        - 10K #1\n",
    "        - 10K #2\n",
    "        ...\n",
    "        - rawtext\n",
    "        - metrics\n",
    "    - CIK3\n",
    "        - 10K #1\n",
    "        - 10K #2\n",
    "        ...\n",
    "        - rawtext\n",
    "        - metrics\n",
    "    ...\n",
    "- 10Qs\n",
    "    - CIK1\n",
    "        - 10Q #1\n",
    "        - 10Q #2\n",
    "        ...\n",
    "        - rawtext\n",
    "        - metrics\n",
    "    - CIK2\n",
    "        - 10Q #1\n",
    "        - 10Q #2\n",
    "        ...\n",
    "        - rawtext\n",
    "        - metrics\n",
    "    - CIK3\n",
    "        - 10Q #1\n",
    "        - 10Q #2\n",
    "        ...\n",
    "        - rawtext\n",
    "        - metrics\n",
    "    ...\n",
    "```\n",
    "\n",
    "The similarity scores for each CIK are stored in the `metrics` directory as a .csv file."
   ]
  },
  {
   "cell_type": "markdown",
   "metadata": {},
   "source": [
    "## 3. Compiling the Dataset"
   ]
  },
  {
   "cell_type": "markdown",
   "metadata": {},
   "source": [
    "Now that we've scraped the data and computed the similarity scores, we're almost done. The final step is to format our data properly for upload to [Self-Serve Data](https://www.quantopian.com/posts/upload-your-custom-datasets-and-signals-with-self-serve-data).\n",
    "\n",
    "We'll begin by consolidating the .csv files in the 10-K and 10-Q directories into a single DataFrame for each CIK."
   ]
  },
  {
   "cell_type": "code",
   "execution_count": null,
   "metadata": {
    "pycharm": {
     "is_executing": false
    }
   },
   "outputs": [],
   "source": [
    "def GetData(cik, pathname_10k, pathname_10q, pathname_data):\n",
    "    \n",
    "    '''\n",
    "    Consolidate 10-K and 10-Q data into a single dataframe\n",
    "    for a CIK.\n",
    "    \n",
    "    Parameters\n",
    "    ----------\n",
    "    cik : str\n",
    "        Central Index Key used to scrape and\n",
    "        store data.\n",
    "    pathname_10k : str\n",
    "        Path to directory holding 10-K files.\n",
    "    pathname_10q : str\n",
    "        Path to directory holding 10-Q files.\n",
    "    pathname_data : str\n",
    "        Path to directory holding newly\n",
    "        generated data files.\n",
    "        \n",
    "    Returns\n",
    "    -------\n",
    "    None.\n",
    "    \n",
    "    '''\n",
    "    \n",
    "    # Flags to determine what data we have\n",
    "    data_10k = True\n",
    "    data_10q = True\n",
    "    \n",
    "    print(\"Gathering data for CIK %s...\" % cik)\n",
    "    file_name = ('%s_sim_scores_full.csv' % cik)\n",
    "    \n",
    "    # Check if data has already been gathered...\n",
    "    os.chdir(pathname_data)\n",
    "    file_list = [fname for fname in os.listdir() if not fname.startswith('.')]\n",
    "    \n",
    "    # ... if it has been, exit\n",
    "    if file_name in file_list:\n",
    "        print(\"Already gathered data for CIK\", cik)\n",
    "        return\n",
    "    \n",
    "    # Try to get 10-K data...\n",
    "    os.chdir(pathname_10k+'/%s/metrics' % cik)\n",
    "    try:\n",
    "        sim_scores_10k = pd.read_csv(cik+'_sim_scores.csv')\n",
    "    # ... if it doesn't exist, set 10-K flag to False\n",
    "    except FileNotFoundError:\n",
    "        print(\"No data to gather.\")\n",
    "        data_10k = False\n",
    "    \n",
    "    # Try to get 10-Q data...\n",
    "    os.chdir(pathname_10q+'/%s/metrics' % cik)\n",
    "    try:\n",
    "        sim_scores_10q = pd.read_csv(cik+'_sim_scores.csv')\n",
    "    # ... if it doesn't exist, set 10-Q flag to False\n",
    "    except FileNotFoundError:\n",
    "        print(\"No data to gather.\")\n",
    "        data_10q = False\n",
    "    \n",
    "    # Merge depending on available data...\n",
    "    # ... if there's no 10-K or 10-Q data, exit\n",
    "    if not (data_10k and data_10q):\n",
    "        return\n",
    "    \n",
    "    # ... if there's no 10-Q data (but there is 10-K data),\n",
    "    # only use the 10-K data\n",
    "    if not data_10q:\n",
    "        sim_scores = sim_scores_10k\n",
    "    # ... if the opposite is true, only use 10-Q data\n",
    "    elif not data_10k:\n",
    "        sim_scores = sim_scores_10q\n",
    "    # ... if there's both 10-K and 10-Q data, merge\n",
    "    elif (data_10q and data_10k):\n",
    "        sim_scores = pd.concat([sim_scores_10k, sim_scores_10q], \n",
    "                           axis='index')\n",
    "    \n",
    "    # Rename date column\n",
    "    sim_scores.rename(columns={'Unnamed: 0': 'date'}, inplace=True)\n",
    "\n",
    "    # Set CIK column\n",
    "    sim_scores['cik'] = cik\n",
    "    \n",
    "    # Save file in the data dir\n",
    "    os.chdir(pathname_data)\n",
    "    sim_scores.to_csv('%s_sim_scores_full.csv' % cik, index=False)\n",
    "    \n",
    "    return"
   ]
  },
  {
   "cell_type": "code",
   "execution_count": null,
   "metadata": {
    "pycharm": {
     "is_executing": false
    }
   },
   "outputs": [],
   "source": [
    "pathname_data = '< YOUR DATA PATHNAME HERE >' # Fill this out"
   ]
  },
  {
   "cell_type": "code",
   "execution_count": null,
   "metadata": {
    "pycharm": {
     "is_executing": false
    }
   },
   "outputs": [],
   "source": [
    "for cik in tqdm(ticker_cik_df['cik']):\n",
    "    GetData(cik, pathname_10k, pathname_10q, pathname_data)"
   ]
  },
  {
   "cell_type": "markdown",
   "metadata": {},
   "source": [
    "Now, we have a \"data\" directory that looks like this:\n",
    "\n",
    "\n",
    "```\n",
    "- data\n",
    "    - CIK1_sim_scores_full.csv\n",
    "    - CIK2_sim_scores_full.csv\n",
    "    ...\n",
    "```"
   ]
  },
  {
   "cell_type": "markdown",
   "metadata": {},
   "source": [
    "Of course, we need to consolidate each CIK's data into a single dataset."
   ]
  },
  {
   "cell_type": "code",
   "execution_count": null,
   "metadata": {
    "pycharm": {
     "is_executing": false
    }
   },
   "outputs": [],
   "source": [
    "def MakeDataset(file_list, pathname_full_data):\n",
    "    \n",
    "    '''\n",
    "    Consolidates CIK datasets into a\n",
    "    single dataset.\n",
    "    \n",
    "    Parameters\n",
    "    ----------\n",
    "    file_list : list\n",
    "        List of .csv files to merge.\n",
    "    pathname_full_data : str\n",
    "        Path to directory to store\n",
    "        full dataset.\n",
    "        \n",
    "    Returns\n",
    "    -------\n",
    "    None.\n",
    "    \n",
    "    '''\n",
    "    \n",
    "    # Initialize dataframe to store results\n",
    "    data = pd.DataFrame(columns=['date', 'cosine_score', 'jaccard_score', 'cik'])\n",
    "    \n",
    "    # Iterate over files and merge all together\n",
    "    for file_name in tqdm(file_list):\n",
    "        new_data = pd.read_csv(file_name)\n",
    "        data = data.append(new_data, sort=True)\n",
    "    \n",
    "    # Store result\n",
    "    os.chdir(pathname_full_data)\n",
    "    data.to_csv('all_sim_scores.csv', index=False)\n",
    "    \n",
    "    return"
   ]
  },
  {
   "cell_type": "code",
   "execution_count": null,
   "metadata": {
    "pycharm": {
     "is_executing": false
    }
   },
   "outputs": [],
   "source": [
    "pathname_full_data = '< YOUR FULL DATA PATHNAME HERE >'"
   ]
  },
  {
   "cell_type": "code",
   "execution_count": null,
   "metadata": {
    "pycharm": {
     "is_executing": false
    }
   },
   "outputs": [],
   "source": [
    "os.chdir(pathname_data)\n",
    "file_list = [fname for fname in os.listdir() if not fname.startswith('.')]\n",
    "\n",
    "MakeDataset(file_list, pathname_full_data)"
   ]
  },
  {
   "cell_type": "markdown",
   "metadata": {},
   "source": [
    "The final step is to transform the data into a format appropriate for Self-Serve Data. This means that we want a dataset with one set of factor values per ticker per day. In other words, each day-ticker pair should have a `cosine_score` and a `jaccard_score` value.\n",
    "\n",
    "In this step, we'll need to:\n",
    "\n",
    "1. Map CIKs back to tickers. To do this, we'll simply merge our full dataset with `ticker_cik_df`.\n",
    "2. Forward-fill values for 60 calendar days (time limit per the original paper).\n",
    "3. Construct a dataset with one set of factor values per ticker per day (with `NaN`s for missing values)."
   ]
  },
  {
   "cell_type": "code",
   "execution_count": null,
   "metadata": {
    "pycharm": {
     "is_executing": false
    }
   },
   "outputs": [],
   "source": [
    "sim_scores_full = pd.read_csv('all_sim_scores.csv')\n",
    "\n",
    "# Cast CIKs as strings\n",
    "sim_scores_full['cik'] = [str(x) for x in sim_scores_full['cik']]\n",
    "\n",
    "# Merge to map tickers to CIKs\n",
    "sim_scores_ticker = sim_scores_full.merge(ticker_cik_df, how='left', on='cik')\n",
    "\n",
    "# Drop CIK column\n",
    "sim_scores_ticker.drop(labels=['cik'], axis='columns', inplace=True)\n",
    "\n",
    "# Drop NaN values\n",
    "sim_scores_ticker.dropna(axis='index', how='any', subset=['jaccard_score', 'cosine_score'], inplace=True)"
   ]
  },
  {
   "cell_type": "markdown",
   "metadata": {},
   "source": [
    "The `sim_scores_ticker` data has one row for each filing, listing the set of factor values, ticker, and date. However, some day-ticker pairs have no associated factor values. We need to manipulate this data so that we have one row per ticker per day.\n",
    "\n",
    "To do this, we'll begin with an empty dataframe that contains one row per ticker per day. We'll then [join](https://pandas.pydata.org/pandas-docs/stable/generated/pandas.DataFrame.join.html) this formatted empty dataframe (`empty_data`) with our actual data (`sim_scores_ticker`) in such a way that preserves all the rows of `empty_data`. We'll end up with a dataframe that contains all the data from `sim_scores_ticker`, with `NaN`s inserted for day-ticker pairs where we're missing values."
   ]
  },
  {
   "cell_type": "code",
   "execution_count": null,
   "metadata": {
    "pycharm": {
     "is_executing": false
    }
   },
   "outputs": [],
   "source": [
    "def InitializeEmptyDataframe(start_date, end_date, tickers):\n",
    "    \n",
    "    '''\n",
    "    Initializes an empty DataFrame with all correct indices \n",
    "    (1 entry/ticker/day)\n",
    "    \n",
    "    Parameters\n",
    "    ----------\n",
    "    start_date : datetime.datetime\n",
    "        Start date of dataframe.\n",
    "    end_date : datetime.datetime\n",
    "        End date of dataframe.\n",
    "    tickers : list\n",
    "        List of tickers.\n",
    "    '''\n",
    "    \n",
    "    window_length_days = int((end_date - start_date).days)\n",
    "    date_list = [start_date+timedelta(days=x) for x in range(0, window_length_days)]\n",
    "    long_date_list = date_list * len(tickers)\n",
    "    long_date_list = [x.strftime('%Y-%m-%d') for x in long_date_list]\n",
    "    list.sort(long_date_list)\n",
    "    empty = pd.DataFrame(data={'date': long_date_list, \n",
    "                                     'ticker': tickers*len(date_list),\n",
    "                                'jaccard_score': [np.nan]*len(tickers)*len(date_list),\n",
    "                              'cosine_score': [np.nan]*len(tickers)*len(date_list)})\n",
    "    empty = empty.groupby(['date', 'ticker']).sum()\n",
    "    \n",
    "    empty['jaccard_score'] = np.nan\n",
    "    empty['cosine_score'] = np.nan\n",
    "    \n",
    "    return empty"
   ]
  },
  {
   "cell_type": "code",
   "execution_count": null,
   "metadata": {
    "pycharm": {
     "is_executing": false
    }
   },
   "outputs": [],
   "source": [
    "# Initialize empty dataframe\n",
    "start_date = datetime(2015, 1, 1)\n",
    "end_date = datetime(2018, 1, 1)\n",
    "tickers = list(set(sim_scores_ticker['ticker']))\n",
    "\n",
    "empty_data = InitializeEmptyDataframe(start_date, end_date, tickers)"
   ]
  },
  {
   "cell_type": "markdown",
   "metadata": {},
   "source": [
    "(Note that we set `start_date = datetime(2013, 1, 1)`. This is because Self-Serve Data has a maximum file size of 300 MB; too large of a date range will exceed that maximum. The dataset spanning 2013-2018 is 250 MB.)"
   ]
  },
  {
   "cell_type": "code",
   "execution_count": null,
   "metadata": {
    "pycharm": {
     "is_executing": false
    }
   },
   "outputs": [],
   "source": [
    "empty_data.head()"
   ]
  },
  {
   "cell_type": "code",
   "execution_count": null,
   "metadata": {
    "pycharm": {
     "is_executing": false
    }
   },
   "outputs": [],
   "source": [
    "# Format sim_scores data for merging\n",
    "sim_scores_formatted = sim_scores_ticker.dropna(axis='index', how='any', subset=['jaccard_score', 'cosine_score'])\n",
    "\n",
    "sim_scores_formatted = sim_scores_formatted.groupby(['date', 'ticker']).agg('mean')"
   ]
  },
  {
   "cell_type": "markdown",
   "metadata": {},
   "source": [
    "Note that we use the `.agg('mean')` aggregator. This means that we'll take any rows that match each ticker-day pair and average the factor values.\n",
    "\n",
    "In most cases, there should only be one row per ticker-day pair; however, there are some cases where 10-Ks and 10-Qs are filed on the same day, thus creating the need for `.agg('mean')`."
   ]
  },
  {
   "cell_type": "code",
   "execution_count": null,
   "metadata": {
    "pycharm": {
     "is_executing": false
    }
   },
   "outputs": [],
   "source": [
    "sim_scores_formatted.head()"
   ]
  },
  {
   "cell_type": "code",
   "execution_count": null,
   "metadata": {
    "pycharm": {
     "is_executing": false
    }
   },
   "outputs": [],
   "source": [
    "formatted_data = empty_data.join(sim_scores_formatted,\n",
    "                                 how='left', \n",
    "                                 on=['date', 'ticker'], \n",
    "                                 lsuffix='_empty')\n",
    "\n",
    "formatted_data.drop(labels=['cosine_score_empty', 'jaccard_score_empty'], axis='columns', inplace=True)"
   ]
  },
  {
   "cell_type": "code",
   "execution_count": null,
   "metadata": {
    "pycharm": {
     "is_executing": false
    }
   },
   "outputs": [],
   "source": [
    "formatted_data.head()"
   ]
  },
  {
   "cell_type": "markdown",
   "metadata": {},
   "source": [
    "Our final step is to forward-fill the values by one quarter (approximately 90 calendar days). First, let's sort the data by ticker, then by calendar day:"
   ]
  },
  {
   "cell_type": "code",
   "execution_count": null,
   "metadata": {
    "pycharm": {
     "is_executing": false
    }
   },
   "outputs": [],
   "source": [
    "forward_filled_data = formatted_data.reset_index().sort_values(by=['ticker', 'date'])"
   ]
  },
  {
   "cell_type": "code",
   "execution_count": null,
   "metadata": {
    "pycharm": {
     "is_executing": false
    }
   },
   "outputs": [],
   "source": [
    "forward_filled_data.head()"
   ]
  },
  {
   "cell_type": "code",
   "execution_count": null,
   "metadata": {
    "pycharm": {
     "is_executing": false
    }
   },
   "outputs": [],
   "source": [
    "forward_filled_data.fillna(method='ffill', limit=90, inplace=True)"
   ]
  },
  {
   "cell_type": "code",
   "execution_count": null,
   "metadata": {
    "pycharm": {
     "is_executing": false
    }
   },
   "outputs": [],
   "source": [
    "forward_filled_data.head()"
   ]
  },
  {
   "cell_type": "markdown",
   "metadata": {},
   "source": [
    "We've have one row per ticker per day and we've forward-filled the values by 60 days, so we're ready to save our data as a .csv file and upload it to Self-Serve."
   ]
  },
  {
   "cell_type": "code",
   "execution_count": null,
   "metadata": {
    "pycharm": {
     "is_executing": false
    }
   },
   "outputs": [],
   "source": [
    "forward_filled_data.to_csv('lazy_prices_data.csv', index=False)"
   ]
  },
  {
   "cell_type": "markdown",
   "metadata": {},
   "source": []
  }
 ],
 "metadata": {
  "kernelspec": {
   "display_name": "Python 3",
   "language": "python",
   "name": "python3"
  },
  "language_info": {
   "codemirror_mode": {
    "name": "ipython",
    "version": 3
   },
   "file_extension": ".py",
   "mimetype": "text/x-python",
   "name": "python",
   "nbconvert_exporter": "python",
   "pygments_lexer": "ipython3",
   "version": "3.8.3"
  }
 },
 "nbformat": 4,
 "nbformat_minor": 4
}
